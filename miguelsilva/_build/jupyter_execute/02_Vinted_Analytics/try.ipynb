{
 "cells": [
  {
   "cell_type": "code",
   "execution_count": 8,
   "metadata": {},
   "outputs": [
    {
     "name": "stdout",
     "output_type": "stream",
     "text": [
      "    table_schema     table_name  ... is_nullable column_default\n",
      "0     dbt_msilva       city_dim  ...         YES           None\n",
      "1     dbt_msilva       city_dim  ...         YES           None\n",
      "2     dbt_msilva       city_dim  ...         YES           None\n",
      "3     dbt_msilva      color_dim  ...         YES           None\n",
      "4     dbt_msilva      color_dim  ...         YES           None\n",
      "..           ...            ...  ...         ...            ...\n",
      "173       public  users_staging  ...         YES           None\n",
      "174       public  users_staging  ...         YES           None\n",
      "175       public  users_staging  ...         YES           None\n",
      "176       public  users_staging  ...          NO           None\n",
      "177       public  users_staging  ...         YES           None\n",
      "\n",
      "[178 rows x 6 columns]\n"
     ]
    }
   ],
   "source": [
    "import pandas as pd\n",
    "from sqlalchemy import create_engine\n",
    "import os\n",
    "import json\n",
    "import ipywidgets as widgets\n",
    "from IPython.display import display\n",
    "import plotly.express as px\n",
    "\n",
    "\n",
    "def load_credentials(path = \"aws_rds_credentials.json\"):\n",
    "     with open(path, 'r') as file:\n",
    "          config = json.load(file)\n",
    "\n",
    "     # set up credentials\n",
    "     for key in config.keys():\n",
    "          os.environ[key] = config[key]\n",
    "\n",
    "     return\n",
    "\n",
    "\n",
    "load_credentials()\n",
    "\n",
    "aws_rds_url = f\"postgresql://{os.environ['user']}:{os.environ['password']}@{os.environ['host']}:{os.environ['port']}/{os.environ['database']}?sslmode=require\"\n",
    "\n",
    "# Load a sample dataset\n",
    "def load_data():\n",
    "    engine = create_engine(aws_rds_url)\n",
    "    sql_query = f\"\"\"SELECT \n",
    "    table_schema, \n",
    "    table_name, \n",
    "    column_name, \n",
    "    data_type, \n",
    "    is_nullable, \n",
    "    column_default\n",
    "FROM \n",
    "    information_schema.columns\n",
    "WHERE \n",
    "    table_schema NOT IN ('information_schema', 'pg_catalog')\n",
    "ORDER BY \n",
    "    table_schema, \n",
    "    table_name, \n",
    "    ordinal_position;\n",
    "                    \"\"\"\n",
    "    df = pd.read_sql(sql_query, engine)\n",
    "    return (df)\n",
    "\n",
    "data = load_data()\n",
    "data"
   ]
  }
 ],
 "metadata": {
  "language_info": {
   "name": "python"
  }
 },
 "nbformat": 4,
 "nbformat_minor": 2
}