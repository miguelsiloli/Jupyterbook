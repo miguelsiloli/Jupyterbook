{
 "cells": [
  {
   "cell_type": "markdown",
   "metadata": {},
   "source": [
    "# Clustering of product catalogs with Agglomerative Clustering and t-SNE\n",
    "\n",
    "In this notebook, we will introduce our first approach product clustering using hierarchical clustering of catalogs and size titles as labels. This notebook will discuss:\n",
    "- Problem statement and relevance\n",
    "- Definition and Formulation of Agglomerative Clustering\n",
    "- Flattening of hierarchical clusters and visualization\n",
    "- Comparison of t-SNE (manifold learning) and PCA (dimensionality reduction) for data visualization in lower dimensional space\n",
    "- Analysis of the results\n",
    "\n",
    "**Keywords**: Agglomerative Clustering, Hierarchical Clustering, t-SNE, Vinted\n",
    "\n"
   ]
  },
  {
   "cell_type": "code",
   "execution_count": 1,
   "metadata": {},
   "outputs": [],
   "source": [
    "# importing base packages\n",
    "import pandas as pd\n",
    "from sqlalchemy import create_engine\n",
    "import os\n",
    "import json\n",
    "import numpy as np\n",
    "\n",
    "# clustering packages\n",
    "from sklearn.preprocessing import MinMaxScaler\n",
    "from scipy.cluster.hierarchy import linkage, fcluster, dendrogram\n",
    "import numpy as np\n",
    "\n",
    "# visualization\n",
    "import matplotlib.pyplot as plt\n",
    "import plotly.graph_objects as go\n",
    "#import plotly.figure_factory as ff\n",
    "import plotly.express as px\n",
    "from sklearn.manifold import TSNE\n",
    "\n",
    "from sklearn.decomposition import TruncatedSVD\n",
    "import pandas as pd"
   ]
  },
  {
   "cell_type": "markdown",
   "metadata": {},
   "source": [
    "The problem we aim to solve here is to cluster product catalogs into higher levels of catalogs. By nature, Vinted already has an hierarchical sequence of natural catalogs. For instance, the primary labels are: Woman, Men, Children, House, Animals, Others\n",
    "\n",
    "- Woman -> Bras, dresses, leggings, pantyhoses, as well as common clothes (trousers, shirts, shoes, etc)\n",
    "- Men -> Shoes, shorts, t shirts, shirts, etc\n",
    "- Children -> same as above\n",
    "- House -> blankets, towels, pillows, decoration, etc\n",
    "- Animals -> Toys, grooming, training, etc\n",
    "- Entertainment -> ...\n",
    "\n",
    "In addition, this hierarchies have 4 to 5 layers of depth.\n",
    "\n",
    "- Men -> Shoes -> Sneakers -> Sports sneakers\n",
    "- Men -> Clothing -> T shirts and tops -> T shirts -> Simple T shirts\n",
    "\n",
    "### Product catalogs and title sizes\n",
    "\n",
    "After skimming through the data, I realized the best segmentation feature here is the title sizes. Each category is often linked to a specific size title. Sometimes its very obvious (shoes vs clothing), specially in higher level segmentation; sometimes it can be trickier (women shoes vs men shoes).\n",
    "\n",
    "As an example:\n",
    "- M, XL, S, etc which are the standard clothing sizes \n",
    "    - But sizes differ between men and women\n",
    "- no_size for the products which do not have size labels\n",
    "    - Impossible to distinguish no_size title based on sizing alone\n",
    "- numeric sizes (40, 41) which refers to footwear\n",
    "- kids sizes (8 anos, 12 anos, etc)\n",
    "- cup sizes (95D, 80B)\n",
    "- jewelry (which im assuming 30 mm diameter refers to)\n",
    "- volume units (40 x 45 cm)\n",
    "- weight units (9-18kgs)\n",
    "- jeans sizes (waist measurements W33)\n",
    "    - But sizes differ between men and women"
   ]
  },
  {
   "cell_type": "markdown",
   "metadata": {},
   "source": [
    "### Loading the data and required packages"
   ]
  },
  {
   "cell_type": "code",
   "execution_count": 2,
   "metadata": {},
   "outputs": [
    {
     "ename": "FileNotFoundError",
     "evalue": "[Errno 2] No such file or directory: 'aws_rds_credentials.json'",
     "output_type": "error",
     "traceback": [
      "\u001b[1;31m---------------------------------------------------------------------------\u001b[0m",
      "\u001b[1;31mFileNotFoundError\u001b[0m                         Traceback (most recent call last)",
      "Cell \u001b[1;32mIn[2], line 13\u001b[0m\n\u001b[0;32m      9\u001b[0m      \u001b[38;5;28;01mreturn\u001b[39;00m\n\u001b[0;32m     11\u001b[0m time_interval \u001b[38;5;241m=\u001b[39m \u001b[38;5;241m90\u001b[39m \u001b[38;5;66;03m#days\u001b[39;00m\n\u001b[1;32m---> 13\u001b[0m \u001b[43mload_credentials\u001b[49m\u001b[43m(\u001b[49m\u001b[43m)\u001b[49m\n\u001b[0;32m     15\u001b[0m aws_rds_url \u001b[38;5;241m=\u001b[39m \u001b[38;5;124mf\u001b[39m\u001b[38;5;124m\"\u001b[39m\u001b[38;5;124mpostgresql://\u001b[39m\u001b[38;5;132;01m{\u001b[39;00mos\u001b[38;5;241m.\u001b[39menviron[\u001b[38;5;124m'\u001b[39m\u001b[38;5;124muser\u001b[39m\u001b[38;5;124m'\u001b[39m]\u001b[38;5;132;01m}\u001b[39;00m\u001b[38;5;124m:\u001b[39m\u001b[38;5;132;01m{\u001b[39;00mos\u001b[38;5;241m.\u001b[39menviron[\u001b[38;5;124m'\u001b[39m\u001b[38;5;124mpassword\u001b[39m\u001b[38;5;124m'\u001b[39m]\u001b[38;5;132;01m}\u001b[39;00m\u001b[38;5;124m@\u001b[39m\u001b[38;5;132;01m{\u001b[39;00mos\u001b[38;5;241m.\u001b[39menviron[\u001b[38;5;124m'\u001b[39m\u001b[38;5;124mhost\u001b[39m\u001b[38;5;124m'\u001b[39m]\u001b[38;5;132;01m}\u001b[39;00m\u001b[38;5;124m:\u001b[39m\u001b[38;5;132;01m{\u001b[39;00mos\u001b[38;5;241m.\u001b[39menviron[\u001b[38;5;124m'\u001b[39m\u001b[38;5;124mport\u001b[39m\u001b[38;5;124m'\u001b[39m]\u001b[38;5;132;01m}\u001b[39;00m\u001b[38;5;124m/\u001b[39m\u001b[38;5;132;01m{\u001b[39;00mos\u001b[38;5;241m.\u001b[39menviron[\u001b[38;5;124m'\u001b[39m\u001b[38;5;124mdatabase\u001b[39m\u001b[38;5;124m'\u001b[39m]\u001b[38;5;132;01m}\u001b[39;00m\u001b[38;5;124m?sslmode=require\u001b[39m\u001b[38;5;124m\"\u001b[39m\n\u001b[0;32m     17\u001b[0m engine \u001b[38;5;241m=\u001b[39m create_engine(aws_rds_url)\n",
      "Cell \u001b[1;32mIn[2], line 2\u001b[0m, in \u001b[0;36mload_credentials\u001b[1;34m(path)\u001b[0m\n\u001b[0;32m      1\u001b[0m \u001b[38;5;28;01mdef\u001b[39;00m \u001b[38;5;21mload_credentials\u001b[39m(path \u001b[38;5;241m=\u001b[39m \u001b[38;5;124m\"\u001b[39m\u001b[38;5;124maws_rds_credentials.json\u001b[39m\u001b[38;5;124m\"\u001b[39m):\n\u001b[1;32m----> 2\u001b[0m      \u001b[38;5;28;01mwith\u001b[39;00m \u001b[38;5;28;43mopen\u001b[39;49m\u001b[43m(\u001b[49m\u001b[43mpath\u001b[49m\u001b[43m,\u001b[49m\u001b[43m \u001b[49m\u001b[38;5;124;43m'\u001b[39;49m\u001b[38;5;124;43mr\u001b[39;49m\u001b[38;5;124;43m'\u001b[39;49m\u001b[43m)\u001b[49m \u001b[38;5;28;01mas\u001b[39;00m file:\n\u001b[0;32m      3\u001b[0m           config \u001b[38;5;241m=\u001b[39m json\u001b[38;5;241m.\u001b[39mload(file)\n\u001b[0;32m      5\u001b[0m      \u001b[38;5;66;03m# set up credentials\u001b[39;00m\n",
      "File \u001b[1;32m~\\AppData\\Local\\Programs\\Python\\Python310\\lib\\site-packages\\IPython\\core\\interactiveshell.py:284\u001b[0m, in \u001b[0;36m_modified_open\u001b[1;34m(file, *args, **kwargs)\u001b[0m\n\u001b[0;32m    277\u001b[0m \u001b[38;5;28;01mif\u001b[39;00m file \u001b[38;5;129;01min\u001b[39;00m {\u001b[38;5;241m0\u001b[39m, \u001b[38;5;241m1\u001b[39m, \u001b[38;5;241m2\u001b[39m}:\n\u001b[0;32m    278\u001b[0m     \u001b[38;5;28;01mraise\u001b[39;00m \u001b[38;5;167;01mValueError\u001b[39;00m(\n\u001b[0;32m    279\u001b[0m         \u001b[38;5;124mf\u001b[39m\u001b[38;5;124m\"\u001b[39m\u001b[38;5;124mIPython won\u001b[39m\u001b[38;5;124m'\u001b[39m\u001b[38;5;124mt let you open fd=\u001b[39m\u001b[38;5;132;01m{\u001b[39;00mfile\u001b[38;5;132;01m}\u001b[39;00m\u001b[38;5;124m by default \u001b[39m\u001b[38;5;124m\"\u001b[39m\n\u001b[0;32m    280\u001b[0m         \u001b[38;5;124m\"\u001b[39m\u001b[38;5;124mas it is likely to crash IPython. If you know what you are doing, \u001b[39m\u001b[38;5;124m\"\u001b[39m\n\u001b[0;32m    281\u001b[0m         \u001b[38;5;124m\"\u001b[39m\u001b[38;5;124myou can use builtins\u001b[39m\u001b[38;5;124m'\u001b[39m\u001b[38;5;124m open.\u001b[39m\u001b[38;5;124m\"\u001b[39m\n\u001b[0;32m    282\u001b[0m     )\n\u001b[1;32m--> 284\u001b[0m \u001b[38;5;28;01mreturn\u001b[39;00m io_open(file, \u001b[38;5;241m*\u001b[39margs, \u001b[38;5;241m*\u001b[39m\u001b[38;5;241m*\u001b[39mkwargs)\n",
      "\u001b[1;31mFileNotFoundError\u001b[0m: [Errno 2] No such file or directory: 'aws_rds_credentials.json'"
     ]
    }
   ],
   "source": [
    "def load_credentials(path = \"aws_rds_credentials.json\"):\n",
    "     with open(path, 'r') as file:\n",
    "          config = json.load(file)\n",
    "\n",
    "     # set up credentials\n",
    "     for key in config.keys():\n",
    "          os.environ[key] = config[key]\n",
    "\n",
    "     return\n",
    "\n",
    "time_interval = 90 #days\n",
    "\n",
    "load_credentials()\n",
    "\n",
    "aws_rds_url = f\"postgresql://{os.environ['user']}:{os.environ['password']}@{os.environ['host']}:{os.environ['port']}/{os.environ['database']}?sslmode=require\"\n",
    "\n",
    "engine = create_engine(aws_rds_url)\n",
    "sql_query = f\"\"\"SELECT brand_title, price_numeric, catalog_id, size_title\n",
    "               FROM public.tracking_staging \n",
    "               WHERE date >= CURRENT_DATE - INTERVAL '{time_interval} days'\n",
    "               LIMIT 500000\n",
    "               \"\"\"\n",
    "data = pd.read_sql(sql_query, engine)\n",
    "data"
   ]
  },
  {
   "cell_type": "markdown",
   "metadata": {},
   "source": [
    "### Dataset\n",
    "\n",
    "The dataset used is the Vinted dataset. For this purpose, we are selecting only these variables.\n",
    "\n",
    "| Variable           | Description       | Range/Unit            |\n",
    "|--------------------|-------------------|-----------------------|\n",
    "| brand_title        | Brand           | Char (category)      |\n",
    "| price_numeric      | Base price           | Numeric    |\n",
    "| catalog_id         | Catalog       | Numeric (category) |\n",
    "| size_title         | Size        | Char (category)                 |"
   ]
  },
  {
   "cell_type": "code",
   "execution_count": 4,
   "metadata": {},
   "outputs": [
    {
     "data": {
      "text/plain": [
       "brand_title      24\n",
       "price_numeric    24\n",
       "catalog_id       24\n",
       "size_title       24\n",
       "dtype: int64"
      ]
     },
     "execution_count": 4,
     "metadata": {},
     "output_type": "execute_result"
    }
   ],
   "source": [
    "data.isna().sum()"
   ]
  },
  {
   "cell_type": "code",
   "execution_count": 5,
   "metadata": {},
   "outputs": [
    {
     "data": {
      "text/plain": [
       "brand_title    9462\n",
       "size_title      313\n",
       "dtype: int64"
      ]
     },
     "execution_count": 5,
     "metadata": {},
     "output_type": "execute_result"
    }
   ],
   "source": [
    "data[[\"brand_title\", \"size_title\"]].nunique()"
   ]
  },
  {
   "cell_type": "markdown",
   "metadata": {},
   "source": [
    "### Data preparation\n",
    "\n",
    "Before we start, we need to clean and reshape the data to a preferred format. For this purpose we are using only the sizes as clustering dimensions, because we understand different sizing plays a huge role in product catalogs and reflects other latent variables such as gender, age and type.\n",
    "\n",
    "\n",
    "The most reasonable metric here is count of each product per size title since price is subjective and affected by other factors. If we were to chose median price or volume, it could be more easily affected by exegenous variables."
   ]
  },
  {
   "cell_type": "code",
   "execution_count": 6,
   "metadata": {},
   "outputs": [
    {
     "data": {
      "text/html": [
       "<div>\n",
       "<style scoped>\n",
       "    .dataframe tbody tr th:only-of-type {\n",
       "        vertical-align: middle;\n",
       "    }\n",
       "\n",
       "    .dataframe tbody tr th {\n",
       "        vertical-align: top;\n",
       "    }\n",
       "\n",
       "    .dataframe thead th {\n",
       "        text-align: right;\n",
       "    }\n",
       "</style>\n",
       "<table border=\"1\" class=\"dataframe\">\n",
       "  <thead>\n",
       "    <tr style=\"text-align: right;\">\n",
       "      <th></th>\n",
       "      <th>brand_title</th>\n",
       "      <th>price_numeric</th>\n",
       "      <th>catalog_id</th>\n",
       "      <th>size_title</th>\n",
       "    </tr>\n",
       "  </thead>\n",
       "  <tbody>\n",
       "    <tr>\n",
       "      <th>0</th>\n",
       "      <td>Organic Basics</td>\n",
       "      <td>15.0</td>\n",
       "      <td>1813.0</td>\n",
       "      <td>M</td>\n",
       "    </tr>\n",
       "    <tr>\n",
       "      <th>1</th>\n",
       "      <td>adidas</td>\n",
       "      <td>10.0</td>\n",
       "      <td>583.0</td>\n",
       "      <td>M</td>\n",
       "    </tr>\n",
       "    <tr>\n",
       "      <th>2</th>\n",
       "      <td>Local</td>\n",
       "      <td>20.0</td>\n",
       "      <td>1868.0</td>\n",
       "      <td>M</td>\n",
       "    </tr>\n",
       "    <tr>\n",
       "      <th>3</th>\n",
       "      <td>Springfield</td>\n",
       "      <td>6.0</td>\n",
       "      <td>529.0</td>\n",
       "      <td>M / 38 / 10</td>\n",
       "    </tr>\n",
       "    <tr>\n",
       "      <th>4</th>\n",
       "      <td>Giovanni Galli</td>\n",
       "      <td>6.0</td>\n",
       "      <td>265.0</td>\n",
       "      <td>M</td>\n",
       "    </tr>\n",
       "    <tr>\n",
       "      <th>...</th>\n",
       "      <td>...</td>\n",
       "      <td>...</td>\n",
       "      <td>...</td>\n",
       "      <td>...</td>\n",
       "    </tr>\n",
       "    <tr>\n",
       "      <th>766537</th>\n",
       "      <td>oobe brand</td>\n",
       "      <td>20.0</td>\n",
       "      <td>1803.0</td>\n",
       "      <td>M</td>\n",
       "    </tr>\n",
       "    <tr>\n",
       "      <th>766538</th>\n",
       "      <td>Moose Knuckles</td>\n",
       "      <td>60.0</td>\n",
       "      <td>1812.0</td>\n",
       "      <td>M</td>\n",
       "    </tr>\n",
       "    <tr>\n",
       "      <th>766539</th>\n",
       "      <td>Sweet Pants</td>\n",
       "      <td>20.0</td>\n",
       "      <td>1811.0</td>\n",
       "      <td>S</td>\n",
       "    </tr>\n",
       "    <tr>\n",
       "      <th>766540</th>\n",
       "      <td>Levi's</td>\n",
       "      <td>22.0</td>\n",
       "      <td>1809.0</td>\n",
       "      <td>L</td>\n",
       "    </tr>\n",
       "    <tr>\n",
       "      <th>766541</th>\n",
       "      <td>Mignon</td>\n",
       "      <td>10.0</td>\n",
       "      <td>1937.0</td>\n",
       "      <td></td>\n",
       "    </tr>\n",
       "  </tbody>\n",
       "</table>\n",
       "<p>766518 rows × 4 columns</p>\n",
       "</div>"
      ],
      "text/plain": [
       "           brand_title  price_numeric  catalog_id   size_title\n",
       "0       Organic Basics           15.0      1813.0            M\n",
       "1               adidas           10.0       583.0            M\n",
       "2                Local           20.0      1868.0            M\n",
       "3          Springfield            6.0       529.0  M / 38 / 10\n",
       "4       Giovanni Galli            6.0       265.0            M\n",
       "...                ...            ...         ...          ...\n",
       "766537      oobe brand           20.0      1803.0            M\n",
       "766538  Moose Knuckles           60.0      1812.0            M\n",
       "766539     Sweet Pants           20.0      1811.0            S\n",
       "766540          Levi's           22.0      1809.0            L\n",
       "766541          Mignon           10.0      1937.0             \n",
       "\n",
       "[766518 rows x 4 columns]"
      ]
     },
     "execution_count": 6,
     "metadata": {},
     "output_type": "execute_result"
    }
   ],
   "source": [
    "data.dropna(axis = 0, inplace= True)\n",
    "data"
   ]
  },
  {
   "cell_type": "code",
   "execution_count": 7,
   "metadata": {},
   "outputs": [
    {
     "data": {
      "text/html": [
       "<div>\n",
       "<style scoped>\n",
       "    .dataframe tbody tr th:only-of-type {\n",
       "        vertical-align: middle;\n",
       "    }\n",
       "\n",
       "    .dataframe tbody tr th {\n",
       "        vertical-align: top;\n",
       "    }\n",
       "\n",
       "    .dataframe thead th {\n",
       "        text-align: right;\n",
       "    }\n",
       "</style>\n",
       "<table border=\"1\" class=\"dataframe\">\n",
       "  <thead>\n",
       "    <tr style=\"text-align: right;\">\n",
       "      <th>size_title</th>\n",
       "      <th></th>\n",
       "      <th>0-13 kg</th>\n",
       "      <th>0-3 meses, 30 cm</th>\n",
       "      <th>1-2 anos, 49 cm</th>\n",
       "      <th>1-3 meses / 56 cm</th>\n",
       "      <th>10</th>\n",
       "      <th>10 anos / 140 cm</th>\n",
       "      <th>100 cm</th>\n",
       "      <th>100 x 150 cm</th>\n",
       "      <th>100B</th>\n",
       "      <th>100E</th>\n",
       "      <th>105 cm</th>\n",
       "      <th>11 anos / 146 cm</th>\n",
       "      <th>11-25 kg</th>\n",
       "      <th>110 cm</th>\n",
       "      <th>115 cm</th>\n",
       "      <th>11–25 kg</th>\n",
       "      <th>12</th>\n",
       "      <th>12 anos / 152 cm</th>\n",
       "      <th>12 ou mais &gt; 56 cm</th>\n",
       "      <th>12-18 meses / 80 cm</th>\n",
       "      <th>120 cm</th>\n",
       "      <th>120 x 160 cm</th>\n",
       "      <th>125 cm</th>\n",
       "      <th>125 x 150 cm</th>\n",
       "      <th>13 anos / 158 cm</th>\n",
       "      <th>13-15</th>\n",
       "      <th>130 x 170 cm</th>\n",
       "      <th>14 anos / 164 cm</th>\n",
       "      <th>14,1 mm Ø / 4</th>\n",
       "      <th>14,9 mm Ø / 6,5</th>\n",
       "      <th>15 anos / 170 cm</th>\n",
       "      <th>15 ou inferior</th>\n",
       "      <th>15,3 mm Ø / 8</th>\n",
       "      <th>15,7 mm Ø / 9,5</th>\n",
       "      <th>15-36 kg</th>\n",
       "      <th>150 cm - 199 cm</th>\n",
       "      <th>150 x 200 cm</th>\n",
       "      <th>16</th>\n",
       "      <th>16 anos / 176 cm</th>\n",
       "      <th>...</th>\n",
       "      <th>PT 38 | W29</th>\n",
       "      <th>PT 40 | W30</th>\n",
       "      <th>PT 40 | W31</th>\n",
       "      <th>PT 42 | W32</th>\n",
       "      <th>PT 42 | W33</th>\n",
       "      <th>PT 44 | W34</th>\n",
       "      <th>PT 44 | W35</th>\n",
       "      <th>PT 46 | W36</th>\n",
       "      <th>PT 48 | W38</th>\n",
       "      <th>PT 50 | W40</th>\n",
       "      <th>PT 52 | W42</th>\n",
       "      <th>PT 54 | W44</th>\n",
       "      <th>PT 56 | W46</th>\n",
       "      <th>PT 58 | W48</th>\n",
       "      <th>PT 60 | W50</th>\n",
       "      <th>PT 62 | W52</th>\n",
       "      <th>PT 64 | W54</th>\n",
       "      <th>Prematuro, até 44 cm</th>\n",
       "      <th>Prematuros, 30 cm</th>\n",
       "      <th>Qualquer</th>\n",
       "      <th>Recém-nascidos, 44 cm</th>\n",
       "      <th>S</th>\n",
       "      <th>S / 36 / 8</th>\n",
       "      <th>S | 35-38</th>\n",
       "      <th>S | 38-42</th>\n",
       "      <th>S | 38–42</th>\n",
       "      <th>Solteiro (135-150 cm x 200-220 cm)</th>\n",
       "      <th>Tamanho único</th>\n",
       "      <th>XL</th>\n",
       "      <th>XL / 42 / 14</th>\n",
       "      <th>XS</th>\n",
       "      <th>XS / 34 / 6</th>\n",
       "      <th>XS | 36-37</th>\n",
       "      <th>XXL</th>\n",
       "      <th>XXL / 44 / 16</th>\n",
       "      <th>XXS</th>\n",
       "      <th>XXS / 32 / 4</th>\n",
       "      <th>XXXL</th>\n",
       "      <th>XXXL / 46 / 18</th>\n",
       "      <th>XXXS / 30 / 2</th>\n",
       "    </tr>\n",
       "    <tr>\n",
       "      <th>catalog_id</th>\n",
       "      <th></th>\n",
       "      <th></th>\n",
       "      <th></th>\n",
       "      <th></th>\n",
       "      <th></th>\n",
       "      <th></th>\n",
       "      <th></th>\n",
       "      <th></th>\n",
       "      <th></th>\n",
       "      <th></th>\n",
       "      <th></th>\n",
       "      <th></th>\n",
       "      <th></th>\n",
       "      <th></th>\n",
       "      <th></th>\n",
       "      <th></th>\n",
       "      <th></th>\n",
       "      <th></th>\n",
       "      <th></th>\n",
       "      <th></th>\n",
       "      <th></th>\n",
       "      <th></th>\n",
       "      <th></th>\n",
       "      <th></th>\n",
       "      <th></th>\n",
       "      <th></th>\n",
       "      <th></th>\n",
       "      <th></th>\n",
       "      <th></th>\n",
       "      <th></th>\n",
       "      <th></th>\n",
       "      <th></th>\n",
       "      <th></th>\n",
       "      <th></th>\n",
       "      <th></th>\n",
       "      <th></th>\n",
       "      <th></th>\n",
       "      <th></th>\n",
       "      <th></th>\n",
       "      <th></th>\n",
       "      <th></th>\n",
       "      <th></th>\n",
       "      <th></th>\n",
       "      <th></th>\n",
       "      <th></th>\n",
       "      <th></th>\n",
       "      <th></th>\n",
       "      <th></th>\n",
       "      <th></th>\n",
       "      <th></th>\n",
       "      <th></th>\n",
       "      <th></th>\n",
       "      <th></th>\n",
       "      <th></th>\n",
       "      <th></th>\n",
       "      <th></th>\n",
       "      <th></th>\n",
       "      <th></th>\n",
       "      <th></th>\n",
       "      <th></th>\n",
       "      <th></th>\n",
       "      <th></th>\n",
       "      <th></th>\n",
       "      <th></th>\n",
       "      <th></th>\n",
       "      <th></th>\n",
       "      <th></th>\n",
       "      <th></th>\n",
       "      <th></th>\n",
       "      <th></th>\n",
       "      <th></th>\n",
       "      <th></th>\n",
       "      <th></th>\n",
       "      <th></th>\n",
       "      <th></th>\n",
       "      <th></th>\n",
       "      <th></th>\n",
       "      <th></th>\n",
       "      <th></th>\n",
       "      <th></th>\n",
       "      <th></th>\n",
       "    </tr>\n",
       "  </thead>\n",
       "  <tbody>\n",
       "    <tr>\n",
       "      <th>11.0</th>\n",
       "      <td>NaN</td>\n",
       "      <td>NaN</td>\n",
       "      <td>NaN</td>\n",
       "      <td>NaN</td>\n",
       "      <td>NaN</td>\n",
       "      <td>NaN</td>\n",
       "      <td>NaN</td>\n",
       "      <td>NaN</td>\n",
       "      <td>NaN</td>\n",
       "      <td>NaN</td>\n",
       "      <td>NaN</td>\n",
       "      <td>NaN</td>\n",
       "      <td>NaN</td>\n",
       "      <td>NaN</td>\n",
       "      <td>NaN</td>\n",
       "      <td>NaN</td>\n",
       "      <td>NaN</td>\n",
       "      <td>NaN</td>\n",
       "      <td>NaN</td>\n",
       "      <td>NaN</td>\n",
       "      <td>NaN</td>\n",
       "      <td>NaN</td>\n",
       "      <td>NaN</td>\n",
       "      <td>NaN</td>\n",
       "      <td>NaN</td>\n",
       "      <td>NaN</td>\n",
       "      <td>NaN</td>\n",
       "      <td>NaN</td>\n",
       "      <td>NaN</td>\n",
       "      <td>NaN</td>\n",
       "      <td>NaN</td>\n",
       "      <td>NaN</td>\n",
       "      <td>NaN</td>\n",
       "      <td>NaN</td>\n",
       "      <td>NaN</td>\n",
       "      <td>NaN</td>\n",
       "      <td>NaN</td>\n",
       "      <td>NaN</td>\n",
       "      <td>NaN</td>\n",
       "      <td>NaN</td>\n",
       "      <td>...</td>\n",
       "      <td>NaN</td>\n",
       "      <td>NaN</td>\n",
       "      <td>NaN</td>\n",
       "      <td>NaN</td>\n",
       "      <td>NaN</td>\n",
       "      <td>NaN</td>\n",
       "      <td>NaN</td>\n",
       "      <td>NaN</td>\n",
       "      <td>NaN</td>\n",
       "      <td>NaN</td>\n",
       "      <td>NaN</td>\n",
       "      <td>NaN</td>\n",
       "      <td>NaN</td>\n",
       "      <td>NaN</td>\n",
       "      <td>NaN</td>\n",
       "      <td>NaN</td>\n",
       "      <td>NaN</td>\n",
       "      <td>NaN</td>\n",
       "      <td>NaN</td>\n",
       "      <td>NaN</td>\n",
       "      <td>NaN</td>\n",
       "      <td>NaN</td>\n",
       "      <td>696.0</td>\n",
       "      <td>NaN</td>\n",
       "      <td>NaN</td>\n",
       "      <td>NaN</td>\n",
       "      <td>NaN</td>\n",
       "      <td>48.0</td>\n",
       "      <td>NaN</td>\n",
       "      <td>123.0</td>\n",
       "      <td>NaN</td>\n",
       "      <td>474.0</td>\n",
       "      <td>NaN</td>\n",
       "      <td>NaN</td>\n",
       "      <td>77.0</td>\n",
       "      <td>NaN</td>\n",
       "      <td>21.0</td>\n",
       "      <td>NaN</td>\n",
       "      <td>75.0</td>\n",
       "      <td>50.0</td>\n",
       "    </tr>\n",
       "    <tr>\n",
       "      <th>14.0</th>\n",
       "      <td>NaN</td>\n",
       "      <td>NaN</td>\n",
       "      <td>NaN</td>\n",
       "      <td>NaN</td>\n",
       "      <td>NaN</td>\n",
       "      <td>NaN</td>\n",
       "      <td>NaN</td>\n",
       "      <td>NaN</td>\n",
       "      <td>NaN</td>\n",
       "      <td>NaN</td>\n",
       "      <td>NaN</td>\n",
       "      <td>NaN</td>\n",
       "      <td>NaN</td>\n",
       "      <td>NaN</td>\n",
       "      <td>NaN</td>\n",
       "      <td>NaN</td>\n",
       "      <td>NaN</td>\n",
       "      <td>NaN</td>\n",
       "      <td>NaN</td>\n",
       "      <td>NaN</td>\n",
       "      <td>NaN</td>\n",
       "      <td>NaN</td>\n",
       "      <td>NaN</td>\n",
       "      <td>NaN</td>\n",
       "      <td>NaN</td>\n",
       "      <td>NaN</td>\n",
       "      <td>NaN</td>\n",
       "      <td>NaN</td>\n",
       "      <td>NaN</td>\n",
       "      <td>NaN</td>\n",
       "      <td>NaN</td>\n",
       "      <td>NaN</td>\n",
       "      <td>NaN</td>\n",
       "      <td>NaN</td>\n",
       "      <td>NaN</td>\n",
       "      <td>NaN</td>\n",
       "      <td>NaN</td>\n",
       "      <td>NaN</td>\n",
       "      <td>NaN</td>\n",
       "      <td>NaN</td>\n",
       "      <td>...</td>\n",
       "      <td>NaN</td>\n",
       "      <td>NaN</td>\n",
       "      <td>NaN</td>\n",
       "      <td>NaN</td>\n",
       "      <td>NaN</td>\n",
       "      <td>NaN</td>\n",
       "      <td>NaN</td>\n",
       "      <td>NaN</td>\n",
       "      <td>NaN</td>\n",
       "      <td>NaN</td>\n",
       "      <td>NaN</td>\n",
       "      <td>NaN</td>\n",
       "      <td>NaN</td>\n",
       "      <td>NaN</td>\n",
       "      <td>NaN</td>\n",
       "      <td>NaN</td>\n",
       "      <td>NaN</td>\n",
       "      <td>NaN</td>\n",
       "      <td>NaN</td>\n",
       "      <td>NaN</td>\n",
       "      <td>NaN</td>\n",
       "      <td>NaN</td>\n",
       "      <td>613.0</td>\n",
       "      <td>NaN</td>\n",
       "      <td>NaN</td>\n",
       "      <td>NaN</td>\n",
       "      <td>NaN</td>\n",
       "      <td>9.0</td>\n",
       "      <td>NaN</td>\n",
       "      <td>232.0</td>\n",
       "      <td>NaN</td>\n",
       "      <td>416.0</td>\n",
       "      <td>NaN</td>\n",
       "      <td>NaN</td>\n",
       "      <td>57.0</td>\n",
       "      <td>NaN</td>\n",
       "      <td>7.0</td>\n",
       "      <td>NaN</td>\n",
       "      <td>11.0</td>\n",
       "      <td>NaN</td>\n",
       "    </tr>\n",
       "    <tr>\n",
       "      <th>16.0</th>\n",
       "      <td>NaN</td>\n",
       "      <td>NaN</td>\n",
       "      <td>NaN</td>\n",
       "      <td>NaN</td>\n",
       "      <td>NaN</td>\n",
       "      <td>NaN</td>\n",
       "      <td>NaN</td>\n",
       "      <td>NaN</td>\n",
       "      <td>NaN</td>\n",
       "      <td>NaN</td>\n",
       "      <td>NaN</td>\n",
       "      <td>NaN</td>\n",
       "      <td>NaN</td>\n",
       "      <td>NaN</td>\n",
       "      <td>NaN</td>\n",
       "      <td>NaN</td>\n",
       "      <td>NaN</td>\n",
       "      <td>NaN</td>\n",
       "      <td>NaN</td>\n",
       "      <td>NaN</td>\n",
       "      <td>NaN</td>\n",
       "      <td>NaN</td>\n",
       "      <td>NaN</td>\n",
       "      <td>NaN</td>\n",
       "      <td>NaN</td>\n",
       "      <td>NaN</td>\n",
       "      <td>NaN</td>\n",
       "      <td>NaN</td>\n",
       "      <td>NaN</td>\n",
       "      <td>NaN</td>\n",
       "      <td>NaN</td>\n",
       "      <td>NaN</td>\n",
       "      <td>NaN</td>\n",
       "      <td>NaN</td>\n",
       "      <td>NaN</td>\n",
       "      <td>NaN</td>\n",
       "      <td>NaN</td>\n",
       "      <td>NaN</td>\n",
       "      <td>NaN</td>\n",
       "      <td>NaN</td>\n",
       "      <td>...</td>\n",
       "      <td>NaN</td>\n",
       "      <td>NaN</td>\n",
       "      <td>NaN</td>\n",
       "      <td>NaN</td>\n",
       "      <td>NaN</td>\n",
       "      <td>NaN</td>\n",
       "      <td>NaN</td>\n",
       "      <td>NaN</td>\n",
       "      <td>NaN</td>\n",
       "      <td>NaN</td>\n",
       "      <td>NaN</td>\n",
       "      <td>NaN</td>\n",
       "      <td>NaN</td>\n",
       "      <td>NaN</td>\n",
       "      <td>NaN</td>\n",
       "      <td>NaN</td>\n",
       "      <td>NaN</td>\n",
       "      <td>NaN</td>\n",
       "      <td>NaN</td>\n",
       "      <td>NaN</td>\n",
       "      <td>NaN</td>\n",
       "      <td>NaN</td>\n",
       "      <td>NaN</td>\n",
       "      <td>NaN</td>\n",
       "      <td>NaN</td>\n",
       "      <td>NaN</td>\n",
       "      <td>NaN</td>\n",
       "      <td>NaN</td>\n",
       "      <td>NaN</td>\n",
       "      <td>NaN</td>\n",
       "      <td>NaN</td>\n",
       "      <td>NaN</td>\n",
       "      <td>NaN</td>\n",
       "      <td>NaN</td>\n",
       "      <td>NaN</td>\n",
       "      <td>NaN</td>\n",
       "      <td>NaN</td>\n",
       "      <td>NaN</td>\n",
       "      <td>NaN</td>\n",
       "      <td>NaN</td>\n",
       "    </tr>\n",
       "    <tr>\n",
       "      <th>18.0</th>\n",
       "      <td>NaN</td>\n",
       "      <td>NaN</td>\n",
       "      <td>NaN</td>\n",
       "      <td>NaN</td>\n",
       "      <td>NaN</td>\n",
       "      <td>NaN</td>\n",
       "      <td>NaN</td>\n",
       "      <td>NaN</td>\n",
       "      <td>NaN</td>\n",
       "      <td>NaN</td>\n",
       "      <td>NaN</td>\n",
       "      <td>NaN</td>\n",
       "      <td>NaN</td>\n",
       "      <td>NaN</td>\n",
       "      <td>NaN</td>\n",
       "      <td>NaN</td>\n",
       "      <td>NaN</td>\n",
       "      <td>NaN</td>\n",
       "      <td>NaN</td>\n",
       "      <td>NaN</td>\n",
       "      <td>NaN</td>\n",
       "      <td>NaN</td>\n",
       "      <td>NaN</td>\n",
       "      <td>NaN</td>\n",
       "      <td>NaN</td>\n",
       "      <td>NaN</td>\n",
       "      <td>NaN</td>\n",
       "      <td>NaN</td>\n",
       "      <td>NaN</td>\n",
       "      <td>NaN</td>\n",
       "      <td>NaN</td>\n",
       "      <td>NaN</td>\n",
       "      <td>NaN</td>\n",
       "      <td>NaN</td>\n",
       "      <td>NaN</td>\n",
       "      <td>NaN</td>\n",
       "      <td>NaN</td>\n",
       "      <td>NaN</td>\n",
       "      <td>NaN</td>\n",
       "      <td>NaN</td>\n",
       "      <td>...</td>\n",
       "      <td>NaN</td>\n",
       "      <td>NaN</td>\n",
       "      <td>NaN</td>\n",
       "      <td>NaN</td>\n",
       "      <td>NaN</td>\n",
       "      <td>NaN</td>\n",
       "      <td>NaN</td>\n",
       "      <td>NaN</td>\n",
       "      <td>NaN</td>\n",
       "      <td>NaN</td>\n",
       "      <td>NaN</td>\n",
       "      <td>NaN</td>\n",
       "      <td>NaN</td>\n",
       "      <td>NaN</td>\n",
       "      <td>NaN</td>\n",
       "      <td>NaN</td>\n",
       "      <td>NaN</td>\n",
       "      <td>NaN</td>\n",
       "      <td>NaN</td>\n",
       "      <td>NaN</td>\n",
       "      <td>NaN</td>\n",
       "      <td>NaN</td>\n",
       "      <td>1198.0</td>\n",
       "      <td>NaN</td>\n",
       "      <td>NaN</td>\n",
       "      <td>NaN</td>\n",
       "      <td>NaN</td>\n",
       "      <td>383.0</td>\n",
       "      <td>NaN</td>\n",
       "      <td>331.0</td>\n",
       "      <td>NaN</td>\n",
       "      <td>235.0</td>\n",
       "      <td>NaN</td>\n",
       "      <td>NaN</td>\n",
       "      <td>67.0</td>\n",
       "      <td>NaN</td>\n",
       "      <td>9.0</td>\n",
       "      <td>NaN</td>\n",
       "      <td>5.0</td>\n",
       "      <td>2.0</td>\n",
       "    </tr>\n",
       "    <tr>\n",
       "      <th>19.0</th>\n",
       "      <td>489.0</td>\n",
       "      <td>NaN</td>\n",
       "      <td>NaN</td>\n",
       "      <td>NaN</td>\n",
       "      <td>NaN</td>\n",
       "      <td>NaN</td>\n",
       "      <td>NaN</td>\n",
       "      <td>NaN</td>\n",
       "      <td>NaN</td>\n",
       "      <td>NaN</td>\n",
       "      <td>NaN</td>\n",
       "      <td>NaN</td>\n",
       "      <td>NaN</td>\n",
       "      <td>NaN</td>\n",
       "      <td>NaN</td>\n",
       "      <td>NaN</td>\n",
       "      <td>NaN</td>\n",
       "      <td>NaN</td>\n",
       "      <td>NaN</td>\n",
       "      <td>NaN</td>\n",
       "      <td>NaN</td>\n",
       "      <td>NaN</td>\n",
       "      <td>NaN</td>\n",
       "      <td>NaN</td>\n",
       "      <td>NaN</td>\n",
       "      <td>NaN</td>\n",
       "      <td>NaN</td>\n",
       "      <td>NaN</td>\n",
       "      <td>NaN</td>\n",
       "      <td>NaN</td>\n",
       "      <td>NaN</td>\n",
       "      <td>NaN</td>\n",
       "      <td>NaN</td>\n",
       "      <td>NaN</td>\n",
       "      <td>NaN</td>\n",
       "      <td>NaN</td>\n",
       "      <td>NaN</td>\n",
       "      <td>NaN</td>\n",
       "      <td>NaN</td>\n",
       "      <td>NaN</td>\n",
       "      <td>...</td>\n",
       "      <td>NaN</td>\n",
       "      <td>NaN</td>\n",
       "      <td>NaN</td>\n",
       "      <td>NaN</td>\n",
       "      <td>NaN</td>\n",
       "      <td>NaN</td>\n",
       "      <td>NaN</td>\n",
       "      <td>NaN</td>\n",
       "      <td>NaN</td>\n",
       "      <td>NaN</td>\n",
       "      <td>NaN</td>\n",
       "      <td>NaN</td>\n",
       "      <td>NaN</td>\n",
       "      <td>NaN</td>\n",
       "      <td>NaN</td>\n",
       "      <td>NaN</td>\n",
       "      <td>NaN</td>\n",
       "      <td>NaN</td>\n",
       "      <td>NaN</td>\n",
       "      <td>NaN</td>\n",
       "      <td>NaN</td>\n",
       "      <td>NaN</td>\n",
       "      <td>NaN</td>\n",
       "      <td>NaN</td>\n",
       "      <td>NaN</td>\n",
       "      <td>NaN</td>\n",
       "      <td>NaN</td>\n",
       "      <td>NaN</td>\n",
       "      <td>NaN</td>\n",
       "      <td>NaN</td>\n",
       "      <td>NaN</td>\n",
       "      <td>NaN</td>\n",
       "      <td>NaN</td>\n",
       "      <td>NaN</td>\n",
       "      <td>NaN</td>\n",
       "      <td>NaN</td>\n",
       "      <td>NaN</td>\n",
       "      <td>NaN</td>\n",
       "      <td>NaN</td>\n",
       "      <td>NaN</td>\n",
       "    </tr>\n",
       "    <tr>\n",
       "      <th>...</th>\n",
       "      <td>...</td>\n",
       "      <td>...</td>\n",
       "      <td>...</td>\n",
       "      <td>...</td>\n",
       "      <td>...</td>\n",
       "      <td>...</td>\n",
       "      <td>...</td>\n",
       "      <td>...</td>\n",
       "      <td>...</td>\n",
       "      <td>...</td>\n",
       "      <td>...</td>\n",
       "      <td>...</td>\n",
       "      <td>...</td>\n",
       "      <td>...</td>\n",
       "      <td>...</td>\n",
       "      <td>...</td>\n",
       "      <td>...</td>\n",
       "      <td>...</td>\n",
       "      <td>...</td>\n",
       "      <td>...</td>\n",
       "      <td>...</td>\n",
       "      <td>...</td>\n",
       "      <td>...</td>\n",
       "      <td>...</td>\n",
       "      <td>...</td>\n",
       "      <td>...</td>\n",
       "      <td>...</td>\n",
       "      <td>...</td>\n",
       "      <td>...</td>\n",
       "      <td>...</td>\n",
       "      <td>...</td>\n",
       "      <td>...</td>\n",
       "      <td>...</td>\n",
       "      <td>...</td>\n",
       "      <td>...</td>\n",
       "      <td>...</td>\n",
       "      <td>...</td>\n",
       "      <td>...</td>\n",
       "      <td>...</td>\n",
       "      <td>...</td>\n",
       "      <td>...</td>\n",
       "      <td>...</td>\n",
       "      <td>...</td>\n",
       "      <td>...</td>\n",
       "      <td>...</td>\n",
       "      <td>...</td>\n",
       "      <td>...</td>\n",
       "      <td>...</td>\n",
       "      <td>...</td>\n",
       "      <td>...</td>\n",
       "      <td>...</td>\n",
       "      <td>...</td>\n",
       "      <td>...</td>\n",
       "      <td>...</td>\n",
       "      <td>...</td>\n",
       "      <td>...</td>\n",
       "      <td>...</td>\n",
       "      <td>...</td>\n",
       "      <td>...</td>\n",
       "      <td>...</td>\n",
       "      <td>...</td>\n",
       "      <td>...</td>\n",
       "      <td>...</td>\n",
       "      <td>...</td>\n",
       "      <td>...</td>\n",
       "      <td>...</td>\n",
       "      <td>...</td>\n",
       "      <td>...</td>\n",
       "      <td>...</td>\n",
       "      <td>...</td>\n",
       "      <td>...</td>\n",
       "      <td>...</td>\n",
       "      <td>...</td>\n",
       "      <td>...</td>\n",
       "      <td>...</td>\n",
       "      <td>...</td>\n",
       "      <td>...</td>\n",
       "      <td>...</td>\n",
       "      <td>...</td>\n",
       "      <td>...</td>\n",
       "      <td>...</td>\n",
       "    </tr>\n",
       "    <tr>\n",
       "      <th>2965.0</th>\n",
       "      <td>NaN</td>\n",
       "      <td>NaN</td>\n",
       "      <td>NaN</td>\n",
       "      <td>NaN</td>\n",
       "      <td>NaN</td>\n",
       "      <td>NaN</td>\n",
       "      <td>NaN</td>\n",
       "      <td>NaN</td>\n",
       "      <td>NaN</td>\n",
       "      <td>NaN</td>\n",
       "      <td>NaN</td>\n",
       "      <td>NaN</td>\n",
       "      <td>NaN</td>\n",
       "      <td>NaN</td>\n",
       "      <td>NaN</td>\n",
       "      <td>NaN</td>\n",
       "      <td>NaN</td>\n",
       "      <td>NaN</td>\n",
       "      <td>NaN</td>\n",
       "      <td>NaN</td>\n",
       "      <td>NaN</td>\n",
       "      <td>NaN</td>\n",
       "      <td>NaN</td>\n",
       "      <td>NaN</td>\n",
       "      <td>NaN</td>\n",
       "      <td>NaN</td>\n",
       "      <td>NaN</td>\n",
       "      <td>NaN</td>\n",
       "      <td>NaN</td>\n",
       "      <td>NaN</td>\n",
       "      <td>NaN</td>\n",
       "      <td>NaN</td>\n",
       "      <td>NaN</td>\n",
       "      <td>NaN</td>\n",
       "      <td>NaN</td>\n",
       "      <td>NaN</td>\n",
       "      <td>NaN</td>\n",
       "      <td>NaN</td>\n",
       "      <td>NaN</td>\n",
       "      <td>NaN</td>\n",
       "      <td>...</td>\n",
       "      <td>NaN</td>\n",
       "      <td>NaN</td>\n",
       "      <td>NaN</td>\n",
       "      <td>NaN</td>\n",
       "      <td>NaN</td>\n",
       "      <td>NaN</td>\n",
       "      <td>NaN</td>\n",
       "      <td>NaN</td>\n",
       "      <td>NaN</td>\n",
       "      <td>NaN</td>\n",
       "      <td>NaN</td>\n",
       "      <td>NaN</td>\n",
       "      <td>NaN</td>\n",
       "      <td>NaN</td>\n",
       "      <td>NaN</td>\n",
       "      <td>NaN</td>\n",
       "      <td>NaN</td>\n",
       "      <td>NaN</td>\n",
       "      <td>NaN</td>\n",
       "      <td>NaN</td>\n",
       "      <td>NaN</td>\n",
       "      <td>NaN</td>\n",
       "      <td>NaN</td>\n",
       "      <td>NaN</td>\n",
       "      <td>NaN</td>\n",
       "      <td>NaN</td>\n",
       "      <td>NaN</td>\n",
       "      <td>10.0</td>\n",
       "      <td>NaN</td>\n",
       "      <td>NaN</td>\n",
       "      <td>NaN</td>\n",
       "      <td>NaN</td>\n",
       "      <td>NaN</td>\n",
       "      <td>NaN</td>\n",
       "      <td>NaN</td>\n",
       "      <td>NaN</td>\n",
       "      <td>NaN</td>\n",
       "      <td>NaN</td>\n",
       "      <td>NaN</td>\n",
       "      <td>NaN</td>\n",
       "    </tr>\n",
       "    <tr>\n",
       "      <th>2967.0</th>\n",
       "      <td>5.0</td>\n",
       "      <td>NaN</td>\n",
       "      <td>NaN</td>\n",
       "      <td>NaN</td>\n",
       "      <td>NaN</td>\n",
       "      <td>NaN</td>\n",
       "      <td>NaN</td>\n",
       "      <td>NaN</td>\n",
       "      <td>NaN</td>\n",
       "      <td>NaN</td>\n",
       "      <td>NaN</td>\n",
       "      <td>NaN</td>\n",
       "      <td>NaN</td>\n",
       "      <td>NaN</td>\n",
       "      <td>NaN</td>\n",
       "      <td>NaN</td>\n",
       "      <td>NaN</td>\n",
       "      <td>NaN</td>\n",
       "      <td>NaN</td>\n",
       "      <td>NaN</td>\n",
       "      <td>NaN</td>\n",
       "      <td>NaN</td>\n",
       "      <td>NaN</td>\n",
       "      <td>NaN</td>\n",
       "      <td>NaN</td>\n",
       "      <td>NaN</td>\n",
       "      <td>NaN</td>\n",
       "      <td>NaN</td>\n",
       "      <td>NaN</td>\n",
       "      <td>NaN</td>\n",
       "      <td>NaN</td>\n",
       "      <td>NaN</td>\n",
       "      <td>NaN</td>\n",
       "      <td>NaN</td>\n",
       "      <td>NaN</td>\n",
       "      <td>NaN</td>\n",
       "      <td>NaN</td>\n",
       "      <td>NaN</td>\n",
       "      <td>NaN</td>\n",
       "      <td>NaN</td>\n",
       "      <td>...</td>\n",
       "      <td>NaN</td>\n",
       "      <td>NaN</td>\n",
       "      <td>NaN</td>\n",
       "      <td>NaN</td>\n",
       "      <td>NaN</td>\n",
       "      <td>NaN</td>\n",
       "      <td>NaN</td>\n",
       "      <td>NaN</td>\n",
       "      <td>NaN</td>\n",
       "      <td>NaN</td>\n",
       "      <td>NaN</td>\n",
       "      <td>NaN</td>\n",
       "      <td>NaN</td>\n",
       "      <td>NaN</td>\n",
       "      <td>NaN</td>\n",
       "      <td>NaN</td>\n",
       "      <td>NaN</td>\n",
       "      <td>NaN</td>\n",
       "      <td>NaN</td>\n",
       "      <td>NaN</td>\n",
       "      <td>NaN</td>\n",
       "      <td>NaN</td>\n",
       "      <td>NaN</td>\n",
       "      <td>NaN</td>\n",
       "      <td>NaN</td>\n",
       "      <td>NaN</td>\n",
       "      <td>NaN</td>\n",
       "      <td>NaN</td>\n",
       "      <td>NaN</td>\n",
       "      <td>NaN</td>\n",
       "      <td>NaN</td>\n",
       "      <td>NaN</td>\n",
       "      <td>NaN</td>\n",
       "      <td>NaN</td>\n",
       "      <td>NaN</td>\n",
       "      <td>NaN</td>\n",
       "      <td>NaN</td>\n",
       "      <td>NaN</td>\n",
       "      <td>NaN</td>\n",
       "      <td>NaN</td>\n",
       "    </tr>\n",
       "    <tr>\n",
       "      <th>2968.0</th>\n",
       "      <td>NaN</td>\n",
       "      <td>NaN</td>\n",
       "      <td>NaN</td>\n",
       "      <td>NaN</td>\n",
       "      <td>NaN</td>\n",
       "      <td>NaN</td>\n",
       "      <td>NaN</td>\n",
       "      <td>NaN</td>\n",
       "      <td>NaN</td>\n",
       "      <td>NaN</td>\n",
       "      <td>NaN</td>\n",
       "      <td>NaN</td>\n",
       "      <td>NaN</td>\n",
       "      <td>NaN</td>\n",
       "      <td>NaN</td>\n",
       "      <td>NaN</td>\n",
       "      <td>NaN</td>\n",
       "      <td>NaN</td>\n",
       "      <td>NaN</td>\n",
       "      <td>NaN</td>\n",
       "      <td>NaN</td>\n",
       "      <td>NaN</td>\n",
       "      <td>NaN</td>\n",
       "      <td>NaN</td>\n",
       "      <td>NaN</td>\n",
       "      <td>NaN</td>\n",
       "      <td>NaN</td>\n",
       "      <td>NaN</td>\n",
       "      <td>NaN</td>\n",
       "      <td>NaN</td>\n",
       "      <td>NaN</td>\n",
       "      <td>NaN</td>\n",
       "      <td>NaN</td>\n",
       "      <td>NaN</td>\n",
       "      <td>NaN</td>\n",
       "      <td>NaN</td>\n",
       "      <td>NaN</td>\n",
       "      <td>NaN</td>\n",
       "      <td>NaN</td>\n",
       "      <td>NaN</td>\n",
       "      <td>...</td>\n",
       "      <td>NaN</td>\n",
       "      <td>NaN</td>\n",
       "      <td>NaN</td>\n",
       "      <td>NaN</td>\n",
       "      <td>NaN</td>\n",
       "      <td>NaN</td>\n",
       "      <td>NaN</td>\n",
       "      <td>NaN</td>\n",
       "      <td>NaN</td>\n",
       "      <td>NaN</td>\n",
       "      <td>NaN</td>\n",
       "      <td>NaN</td>\n",
       "      <td>NaN</td>\n",
       "      <td>NaN</td>\n",
       "      <td>NaN</td>\n",
       "      <td>NaN</td>\n",
       "      <td>NaN</td>\n",
       "      <td>NaN</td>\n",
       "      <td>NaN</td>\n",
       "      <td>NaN</td>\n",
       "      <td>NaN</td>\n",
       "      <td>NaN</td>\n",
       "      <td>NaN</td>\n",
       "      <td>NaN</td>\n",
       "      <td>NaN</td>\n",
       "      <td>NaN</td>\n",
       "      <td>NaN</td>\n",
       "      <td>NaN</td>\n",
       "      <td>NaN</td>\n",
       "      <td>NaN</td>\n",
       "      <td>NaN</td>\n",
       "      <td>NaN</td>\n",
       "      <td>NaN</td>\n",
       "      <td>NaN</td>\n",
       "      <td>NaN</td>\n",
       "      <td>NaN</td>\n",
       "      <td>NaN</td>\n",
       "      <td>NaN</td>\n",
       "      <td>NaN</td>\n",
       "      <td>NaN</td>\n",
       "    </tr>\n",
       "    <tr>\n",
       "      <th>2969.0</th>\n",
       "      <td>NaN</td>\n",
       "      <td>NaN</td>\n",
       "      <td>NaN</td>\n",
       "      <td>NaN</td>\n",
       "      <td>NaN</td>\n",
       "      <td>NaN</td>\n",
       "      <td>NaN</td>\n",
       "      <td>NaN</td>\n",
       "      <td>NaN</td>\n",
       "      <td>NaN</td>\n",
       "      <td>NaN</td>\n",
       "      <td>NaN</td>\n",
       "      <td>NaN</td>\n",
       "      <td>NaN</td>\n",
       "      <td>NaN</td>\n",
       "      <td>NaN</td>\n",
       "      <td>NaN</td>\n",
       "      <td>NaN</td>\n",
       "      <td>NaN</td>\n",
       "      <td>NaN</td>\n",
       "      <td>NaN</td>\n",
       "      <td>NaN</td>\n",
       "      <td>NaN</td>\n",
       "      <td>NaN</td>\n",
       "      <td>NaN</td>\n",
       "      <td>NaN</td>\n",
       "      <td>NaN</td>\n",
       "      <td>NaN</td>\n",
       "      <td>NaN</td>\n",
       "      <td>NaN</td>\n",
       "      <td>NaN</td>\n",
       "      <td>NaN</td>\n",
       "      <td>NaN</td>\n",
       "      <td>NaN</td>\n",
       "      <td>NaN</td>\n",
       "      <td>NaN</td>\n",
       "      <td>NaN</td>\n",
       "      <td>NaN</td>\n",
       "      <td>NaN</td>\n",
       "      <td>NaN</td>\n",
       "      <td>...</td>\n",
       "      <td>NaN</td>\n",
       "      <td>NaN</td>\n",
       "      <td>NaN</td>\n",
       "      <td>NaN</td>\n",
       "      <td>NaN</td>\n",
       "      <td>NaN</td>\n",
       "      <td>NaN</td>\n",
       "      <td>NaN</td>\n",
       "      <td>NaN</td>\n",
       "      <td>NaN</td>\n",
       "      <td>NaN</td>\n",
       "      <td>NaN</td>\n",
       "      <td>NaN</td>\n",
       "      <td>NaN</td>\n",
       "      <td>NaN</td>\n",
       "      <td>NaN</td>\n",
       "      <td>NaN</td>\n",
       "      <td>NaN</td>\n",
       "      <td>NaN</td>\n",
       "      <td>NaN</td>\n",
       "      <td>NaN</td>\n",
       "      <td>NaN</td>\n",
       "      <td>NaN</td>\n",
       "      <td>NaN</td>\n",
       "      <td>NaN</td>\n",
       "      <td>NaN</td>\n",
       "      <td>NaN</td>\n",
       "      <td>NaN</td>\n",
       "      <td>NaN</td>\n",
       "      <td>NaN</td>\n",
       "      <td>NaN</td>\n",
       "      <td>NaN</td>\n",
       "      <td>NaN</td>\n",
       "      <td>NaN</td>\n",
       "      <td>NaN</td>\n",
       "      <td>NaN</td>\n",
       "      <td>NaN</td>\n",
       "      <td>NaN</td>\n",
       "      <td>NaN</td>\n",
       "      <td>NaN</td>\n",
       "    </tr>\n",
       "    <tr>\n",
       "      <th>2970.0</th>\n",
       "      <td>NaN</td>\n",
       "      <td>NaN</td>\n",
       "      <td>NaN</td>\n",
       "      <td>NaN</td>\n",
       "      <td>NaN</td>\n",
       "      <td>NaN</td>\n",
       "      <td>NaN</td>\n",
       "      <td>NaN</td>\n",
       "      <td>NaN</td>\n",
       "      <td>NaN</td>\n",
       "      <td>NaN</td>\n",
       "      <td>NaN</td>\n",
       "      <td>NaN</td>\n",
       "      <td>NaN</td>\n",
       "      <td>NaN</td>\n",
       "      <td>NaN</td>\n",
       "      <td>NaN</td>\n",
       "      <td>NaN</td>\n",
       "      <td>NaN</td>\n",
       "      <td>NaN</td>\n",
       "      <td>NaN</td>\n",
       "      <td>NaN</td>\n",
       "      <td>NaN</td>\n",
       "      <td>NaN</td>\n",
       "      <td>NaN</td>\n",
       "      <td>NaN</td>\n",
       "      <td>NaN</td>\n",
       "      <td>NaN</td>\n",
       "      <td>NaN</td>\n",
       "      <td>NaN</td>\n",
       "      <td>NaN</td>\n",
       "      <td>NaN</td>\n",
       "      <td>NaN</td>\n",
       "      <td>NaN</td>\n",
       "      <td>NaN</td>\n",
       "      <td>NaN</td>\n",
       "      <td>NaN</td>\n",
       "      <td>NaN</td>\n",
       "      <td>NaN</td>\n",
       "      <td>NaN</td>\n",
       "      <td>...</td>\n",
       "      <td>NaN</td>\n",
       "      <td>NaN</td>\n",
       "      <td>NaN</td>\n",
       "      <td>NaN</td>\n",
       "      <td>NaN</td>\n",
       "      <td>NaN</td>\n",
       "      <td>NaN</td>\n",
       "      <td>NaN</td>\n",
       "      <td>NaN</td>\n",
       "      <td>NaN</td>\n",
       "      <td>NaN</td>\n",
       "      <td>NaN</td>\n",
       "      <td>NaN</td>\n",
       "      <td>NaN</td>\n",
       "      <td>NaN</td>\n",
       "      <td>NaN</td>\n",
       "      <td>NaN</td>\n",
       "      <td>NaN</td>\n",
       "      <td>NaN</td>\n",
       "      <td>NaN</td>\n",
       "      <td>NaN</td>\n",
       "      <td>NaN</td>\n",
       "      <td>NaN</td>\n",
       "      <td>NaN</td>\n",
       "      <td>NaN</td>\n",
       "      <td>NaN</td>\n",
       "      <td>NaN</td>\n",
       "      <td>NaN</td>\n",
       "      <td>NaN</td>\n",
       "      <td>NaN</td>\n",
       "      <td>NaN</td>\n",
       "      <td>NaN</td>\n",
       "      <td>NaN</td>\n",
       "      <td>NaN</td>\n",
       "      <td>NaN</td>\n",
       "      <td>NaN</td>\n",
       "      <td>NaN</td>\n",
       "      <td>NaN</td>\n",
       "      <td>NaN</td>\n",
       "      <td>NaN</td>\n",
       "    </tr>\n",
       "  </tbody>\n",
       "</table>\n",
       "<p>872 rows × 313 columns</p>\n",
       "</div>"
      ],
      "text/plain": [
       "size_title         0-13 kg  ...  XXXL / 46 / 18  XXXS / 30 / 2\n",
       "catalog_id                  ...                               \n",
       "11.0          NaN      NaN  ...            75.0           50.0\n",
       "14.0          NaN      NaN  ...            11.0            NaN\n",
       "16.0          NaN      NaN  ...             NaN            NaN\n",
       "18.0          NaN      NaN  ...             5.0            2.0\n",
       "19.0        489.0      NaN  ...             NaN            NaN\n",
       "...           ...      ...  ...             ...            ...\n",
       "2965.0        NaN      NaN  ...             NaN            NaN\n",
       "2967.0        5.0      NaN  ...             NaN            NaN\n",
       "2968.0        NaN      NaN  ...             NaN            NaN\n",
       "2969.0        NaN      NaN  ...             NaN            NaN\n",
       "2970.0        NaN      NaN  ...             NaN            NaN\n",
       "\n",
       "[872 rows x 313 columns]"
      ]
     },
     "execution_count": 7,
     "metadata": {},
     "output_type": "execute_result"
    }
   ],
   "source": [
    "# using product count as metric\n",
    "pivot_size = data.pivot_table(values='price_numeric', columns='size_title', index='catalog_id', aggfunc='count')\n",
    "pivot_size"
   ]
  },
  {
   "cell_type": "code",
   "execution_count": 8,
   "metadata": {},
   "outputs": [
    {
     "data": {
      "text/html": [
       "<div>\n",
       "<style scoped>\n",
       "    .dataframe tbody tr th:only-of-type {\n",
       "        vertical-align: middle;\n",
       "    }\n",
       "\n",
       "    .dataframe tbody tr th {\n",
       "        vertical-align: top;\n",
       "    }\n",
       "\n",
       "    .dataframe thead th {\n",
       "        text-align: right;\n",
       "    }\n",
       "</style>\n",
       "<table border=\"1\" class=\"dataframe\">\n",
       "  <thead>\n",
       "    <tr style=\"text-align: right;\">\n",
       "      <th>catalog_id</th>\n",
       "      <th>11.0</th>\n",
       "      <th>14.0</th>\n",
       "      <th>16.0</th>\n",
       "      <th>18.0</th>\n",
       "      <th>19.0</th>\n",
       "      <th>20.0</th>\n",
       "      <th>22.0</th>\n",
       "      <th>26.0</th>\n",
       "      <th>83.0</th>\n",
       "      <th>84.0</th>\n",
       "      <th>86.0</th>\n",
       "      <th>87.0</th>\n",
       "      <th>88.0</th>\n",
       "      <th>89.0</th>\n",
       "      <th>90.0</th>\n",
       "      <th>91.0</th>\n",
       "      <th>92.0</th>\n",
       "      <th>94.0</th>\n",
       "      <th>96.0</th>\n",
       "      <th>97.0</th>\n",
       "      <th>98.0</th>\n",
       "      <th>99.0</th>\n",
       "      <th>119.0</th>\n",
       "      <th>120.0</th>\n",
       "      <th>123.0</th>\n",
       "      <th>124.0</th>\n",
       "      <th>140.0</th>\n",
       "      <th>141.0</th>\n",
       "      <th>143.0</th>\n",
       "      <th>145.0</th>\n",
       "      <th>152.0</th>\n",
       "      <th>153.0</th>\n",
       "      <th>156.0</th>\n",
       "      <th>157.0</th>\n",
       "      <th>158.0</th>\n",
       "      <th>159.0</th>\n",
       "      <th>160.0</th>\n",
       "      <th>161.0</th>\n",
       "      <th>162.0</th>\n",
       "      <th>163.0</th>\n",
       "      <th>...</th>\n",
       "      <th>2920.0</th>\n",
       "      <th>2921.0</th>\n",
       "      <th>2922.0</th>\n",
       "      <th>2923.0</th>\n",
       "      <th>2924.0</th>\n",
       "      <th>2925.0</th>\n",
       "      <th>2927.0</th>\n",
       "      <th>2928.0</th>\n",
       "      <th>2929.0</th>\n",
       "      <th>2931.0</th>\n",
       "      <th>2932.0</th>\n",
       "      <th>2933.0</th>\n",
       "      <th>2934.0</th>\n",
       "      <th>2937.0</th>\n",
       "      <th>2938.0</th>\n",
       "      <th>2939.0</th>\n",
       "      <th>2940.0</th>\n",
       "      <th>2941.0</th>\n",
       "      <th>2942.0</th>\n",
       "      <th>2944.0</th>\n",
       "      <th>2945.0</th>\n",
       "      <th>2949.0</th>\n",
       "      <th>2950.0</th>\n",
       "      <th>2951.0</th>\n",
       "      <th>2952.0</th>\n",
       "      <th>2953.0</th>\n",
       "      <th>2954.0</th>\n",
       "      <th>2955.0</th>\n",
       "      <th>2956.0</th>\n",
       "      <th>2958.0</th>\n",
       "      <th>2959.0</th>\n",
       "      <th>2960.0</th>\n",
       "      <th>2961.0</th>\n",
       "      <th>2962.0</th>\n",
       "      <th>2964.0</th>\n",
       "      <th>2965.0</th>\n",
       "      <th>2967.0</th>\n",
       "      <th>2968.0</th>\n",
       "      <th>2969.0</th>\n",
       "      <th>2970.0</th>\n",
       "    </tr>\n",
       "    <tr>\n",
       "      <th>size_title</th>\n",
       "      <th></th>\n",
       "      <th></th>\n",
       "      <th></th>\n",
       "      <th></th>\n",
       "      <th></th>\n",
       "      <th></th>\n",
       "      <th></th>\n",
       "      <th></th>\n",
       "      <th></th>\n",
       "      <th></th>\n",
       "      <th></th>\n",
       "      <th></th>\n",
       "      <th></th>\n",
       "      <th></th>\n",
       "      <th></th>\n",
       "      <th></th>\n",
       "      <th></th>\n",
       "      <th></th>\n",
       "      <th></th>\n",
       "      <th></th>\n",
       "      <th></th>\n",
       "      <th></th>\n",
       "      <th></th>\n",
       "      <th></th>\n",
       "      <th></th>\n",
       "      <th></th>\n",
       "      <th></th>\n",
       "      <th></th>\n",
       "      <th></th>\n",
       "      <th></th>\n",
       "      <th></th>\n",
       "      <th></th>\n",
       "      <th></th>\n",
       "      <th></th>\n",
       "      <th></th>\n",
       "      <th></th>\n",
       "      <th></th>\n",
       "      <th></th>\n",
       "      <th></th>\n",
       "      <th></th>\n",
       "      <th></th>\n",
       "      <th></th>\n",
       "      <th></th>\n",
       "      <th></th>\n",
       "      <th></th>\n",
       "      <th></th>\n",
       "      <th></th>\n",
       "      <th></th>\n",
       "      <th></th>\n",
       "      <th></th>\n",
       "      <th></th>\n",
       "      <th></th>\n",
       "      <th></th>\n",
       "      <th></th>\n",
       "      <th></th>\n",
       "      <th></th>\n",
       "      <th></th>\n",
       "      <th></th>\n",
       "      <th></th>\n",
       "      <th></th>\n",
       "      <th></th>\n",
       "      <th></th>\n",
       "      <th></th>\n",
       "      <th></th>\n",
       "      <th></th>\n",
       "      <th></th>\n",
       "      <th></th>\n",
       "      <th></th>\n",
       "      <th></th>\n",
       "      <th></th>\n",
       "      <th></th>\n",
       "      <th></th>\n",
       "      <th></th>\n",
       "      <th></th>\n",
       "      <th></th>\n",
       "      <th></th>\n",
       "      <th></th>\n",
       "      <th></th>\n",
       "      <th></th>\n",
       "      <th></th>\n",
       "      <th></th>\n",
       "    </tr>\n",
       "  </thead>\n",
       "  <tbody>\n",
       "    <tr>\n",
       "      <th></th>\n",
       "      <td>0.000000</td>\n",
       "      <td>0.000000</td>\n",
       "      <td>0.0</td>\n",
       "      <td>0.000000</td>\n",
       "      <td>1.0</td>\n",
       "      <td>0.544118</td>\n",
       "      <td>0.219101</td>\n",
       "      <td>1.0</td>\n",
       "      <td>0.000000</td>\n",
       "      <td>0.0</td>\n",
       "      <td>0.244582</td>\n",
       "      <td>1.0</td>\n",
       "      <td>0.714912</td>\n",
       "      <td>1.0</td>\n",
       "      <td>0.086957</td>\n",
       "      <td>0.0</td>\n",
       "      <td>0.000000</td>\n",
       "      <td>1.0</td>\n",
       "      <td>0.100671</td>\n",
       "      <td>0.597101</td>\n",
       "      <td>1.0</td>\n",
       "      <td>1.0</td>\n",
       "      <td>0.0</td>\n",
       "      <td>0.000000</td>\n",
       "      <td>0.000000</td>\n",
       "      <td>0.00</td>\n",
       "      <td>1.0</td>\n",
       "      <td>1.0</td>\n",
       "      <td>1.0</td>\n",
       "      <td>1.0</td>\n",
       "      <td>1.0</td>\n",
       "      <td>1.0</td>\n",
       "      <td>1.0</td>\n",
       "      <td>1.0</td>\n",
       "      <td>1.0</td>\n",
       "      <td>1.0</td>\n",
       "      <td>1.0</td>\n",
       "      <td>1.0</td>\n",
       "      <td>1.0</td>\n",
       "      <td>1.0</td>\n",
       "      <td>...</td>\n",
       "      <td>1.0</td>\n",
       "      <td>1.0</td>\n",
       "      <td>1.0</td>\n",
       "      <td>1.0</td>\n",
       "      <td>1.0</td>\n",
       "      <td>1.0</td>\n",
       "      <td>0.000000</td>\n",
       "      <td>0.000000</td>\n",
       "      <td>0.0</td>\n",
       "      <td>1.0</td>\n",
       "      <td>1.0</td>\n",
       "      <td>0.0</td>\n",
       "      <td>0.0</td>\n",
       "      <td>1.0</td>\n",
       "      <td>1.0</td>\n",
       "      <td>1.0</td>\n",
       "      <td>1.0</td>\n",
       "      <td>1.0</td>\n",
       "      <td>1.0</td>\n",
       "      <td>1.0</td>\n",
       "      <td>1.0</td>\n",
       "      <td>0.0</td>\n",
       "      <td>0.0</td>\n",
       "      <td>0.0</td>\n",
       "      <td>0.0</td>\n",
       "      <td>0.0</td>\n",
       "      <td>0.0</td>\n",
       "      <td>0.0</td>\n",
       "      <td>1.0</td>\n",
       "      <td>1.0</td>\n",
       "      <td>1.0</td>\n",
       "      <td>1.0</td>\n",
       "      <td>1.0</td>\n",
       "      <td>1.0</td>\n",
       "      <td>0.0</td>\n",
       "      <td>0.0</td>\n",
       "      <td>1.0</td>\n",
       "      <td>0.0</td>\n",
       "      <td>0.0</td>\n",
       "      <td>0.0</td>\n",
       "    </tr>\n",
       "    <tr>\n",
       "      <th>0-13 kg</th>\n",
       "      <td>0.000000</td>\n",
       "      <td>0.000000</td>\n",
       "      <td>0.0</td>\n",
       "      <td>0.000000</td>\n",
       "      <td>0.0</td>\n",
       "      <td>0.000000</td>\n",
       "      <td>0.000000</td>\n",
       "      <td>0.0</td>\n",
       "      <td>0.000000</td>\n",
       "      <td>0.0</td>\n",
       "      <td>0.000000</td>\n",
       "      <td>0.0</td>\n",
       "      <td>0.000000</td>\n",
       "      <td>0.0</td>\n",
       "      <td>0.000000</td>\n",
       "      <td>0.0</td>\n",
       "      <td>0.000000</td>\n",
       "      <td>0.0</td>\n",
       "      <td>0.000000</td>\n",
       "      <td>0.000000</td>\n",
       "      <td>0.0</td>\n",
       "      <td>0.0</td>\n",
       "      <td>0.0</td>\n",
       "      <td>0.000000</td>\n",
       "      <td>0.000000</td>\n",
       "      <td>0.00</td>\n",
       "      <td>0.0</td>\n",
       "      <td>0.0</td>\n",
       "      <td>0.0</td>\n",
       "      <td>0.0</td>\n",
       "      <td>0.0</td>\n",
       "      <td>0.0</td>\n",
       "      <td>0.0</td>\n",
       "      <td>0.0</td>\n",
       "      <td>0.0</td>\n",
       "      <td>0.0</td>\n",
       "      <td>0.0</td>\n",
       "      <td>0.0</td>\n",
       "      <td>0.0</td>\n",
       "      <td>0.0</td>\n",
       "      <td>...</td>\n",
       "      <td>0.0</td>\n",
       "      <td>0.0</td>\n",
       "      <td>0.0</td>\n",
       "      <td>0.0</td>\n",
       "      <td>0.0</td>\n",
       "      <td>0.0</td>\n",
       "      <td>0.000000</td>\n",
       "      <td>0.000000</td>\n",
       "      <td>0.0</td>\n",
       "      <td>0.0</td>\n",
       "      <td>0.0</td>\n",
       "      <td>0.0</td>\n",
       "      <td>0.0</td>\n",
       "      <td>0.0</td>\n",
       "      <td>0.0</td>\n",
       "      <td>0.0</td>\n",
       "      <td>0.0</td>\n",
       "      <td>0.0</td>\n",
       "      <td>0.0</td>\n",
       "      <td>0.0</td>\n",
       "      <td>0.0</td>\n",
       "      <td>0.0</td>\n",
       "      <td>0.0</td>\n",
       "      <td>0.0</td>\n",
       "      <td>0.0</td>\n",
       "      <td>0.0</td>\n",
       "      <td>0.0</td>\n",
       "      <td>0.0</td>\n",
       "      <td>0.0</td>\n",
       "      <td>0.0</td>\n",
       "      <td>0.0</td>\n",
       "      <td>0.0</td>\n",
       "      <td>0.0</td>\n",
       "      <td>0.0</td>\n",
       "      <td>0.0</td>\n",
       "      <td>0.0</td>\n",
       "      <td>0.0</td>\n",
       "      <td>0.0</td>\n",
       "      <td>0.0</td>\n",
       "      <td>0.0</td>\n",
       "    </tr>\n",
       "    <tr>\n",
       "      <th>0-3 meses, 30 cm</th>\n",
       "      <td>0.000000</td>\n",
       "      <td>0.000000</td>\n",
       "      <td>0.0</td>\n",
       "      <td>0.000000</td>\n",
       "      <td>0.0</td>\n",
       "      <td>0.000000</td>\n",
       "      <td>0.000000</td>\n",
       "      <td>0.0</td>\n",
       "      <td>0.000000</td>\n",
       "      <td>0.0</td>\n",
       "      <td>0.000000</td>\n",
       "      <td>0.0</td>\n",
       "      <td>0.000000</td>\n",
       "      <td>0.0</td>\n",
       "      <td>0.000000</td>\n",
       "      <td>0.0</td>\n",
       "      <td>0.000000</td>\n",
       "      <td>0.0</td>\n",
       "      <td>0.000000</td>\n",
       "      <td>0.000000</td>\n",
       "      <td>0.0</td>\n",
       "      <td>0.0</td>\n",
       "      <td>0.0</td>\n",
       "      <td>0.000000</td>\n",
       "      <td>0.000000</td>\n",
       "      <td>0.00</td>\n",
       "      <td>0.0</td>\n",
       "      <td>0.0</td>\n",
       "      <td>0.0</td>\n",
       "      <td>0.0</td>\n",
       "      <td>0.0</td>\n",
       "      <td>0.0</td>\n",
       "      <td>0.0</td>\n",
       "      <td>0.0</td>\n",
       "      <td>0.0</td>\n",
       "      <td>0.0</td>\n",
       "      <td>0.0</td>\n",
       "      <td>0.0</td>\n",
       "      <td>0.0</td>\n",
       "      <td>0.0</td>\n",
       "      <td>...</td>\n",
       "      <td>0.0</td>\n",
       "      <td>0.0</td>\n",
       "      <td>0.0</td>\n",
       "      <td>0.0</td>\n",
       "      <td>0.0</td>\n",
       "      <td>0.0</td>\n",
       "      <td>0.000000</td>\n",
       "      <td>0.000000</td>\n",
       "      <td>0.0</td>\n",
       "      <td>0.0</td>\n",
       "      <td>0.0</td>\n",
       "      <td>0.0</td>\n",
       "      <td>0.0</td>\n",
       "      <td>0.0</td>\n",
       "      <td>0.0</td>\n",
       "      <td>0.0</td>\n",
       "      <td>0.0</td>\n",
       "      <td>0.0</td>\n",
       "      <td>0.0</td>\n",
       "      <td>0.0</td>\n",
       "      <td>0.0</td>\n",
       "      <td>0.0</td>\n",
       "      <td>0.0</td>\n",
       "      <td>0.0</td>\n",
       "      <td>0.0</td>\n",
       "      <td>0.0</td>\n",
       "      <td>0.0</td>\n",
       "      <td>0.0</td>\n",
       "      <td>0.0</td>\n",
       "      <td>0.0</td>\n",
       "      <td>0.0</td>\n",
       "      <td>0.0</td>\n",
       "      <td>0.0</td>\n",
       "      <td>0.0</td>\n",
       "      <td>0.0</td>\n",
       "      <td>0.0</td>\n",
       "      <td>0.0</td>\n",
       "      <td>0.0</td>\n",
       "      <td>0.0</td>\n",
       "      <td>0.0</td>\n",
       "    </tr>\n",
       "    <tr>\n",
       "      <th>1-2 anos, 49 cm</th>\n",
       "      <td>0.000000</td>\n",
       "      <td>0.000000</td>\n",
       "      <td>0.0</td>\n",
       "      <td>0.000000</td>\n",
       "      <td>0.0</td>\n",
       "      <td>0.000000</td>\n",
       "      <td>0.000000</td>\n",
       "      <td>0.0</td>\n",
       "      <td>0.000000</td>\n",
       "      <td>0.0</td>\n",
       "      <td>0.000000</td>\n",
       "      <td>0.0</td>\n",
       "      <td>0.000000</td>\n",
       "      <td>0.0</td>\n",
       "      <td>0.000000</td>\n",
       "      <td>0.0</td>\n",
       "      <td>0.000000</td>\n",
       "      <td>0.0</td>\n",
       "      <td>0.000000</td>\n",
       "      <td>0.000000</td>\n",
       "      <td>0.0</td>\n",
       "      <td>0.0</td>\n",
       "      <td>0.0</td>\n",
       "      <td>0.000000</td>\n",
       "      <td>0.000000</td>\n",
       "      <td>0.00</td>\n",
       "      <td>0.0</td>\n",
       "      <td>0.0</td>\n",
       "      <td>0.0</td>\n",
       "      <td>0.0</td>\n",
       "      <td>0.0</td>\n",
       "      <td>0.0</td>\n",
       "      <td>0.0</td>\n",
       "      <td>0.0</td>\n",
       "      <td>0.0</td>\n",
       "      <td>0.0</td>\n",
       "      <td>0.0</td>\n",
       "      <td>0.0</td>\n",
       "      <td>0.0</td>\n",
       "      <td>0.0</td>\n",
       "      <td>...</td>\n",
       "      <td>0.0</td>\n",
       "      <td>0.0</td>\n",
       "      <td>0.0</td>\n",
       "      <td>0.0</td>\n",
       "      <td>0.0</td>\n",
       "      <td>0.0</td>\n",
       "      <td>0.000000</td>\n",
       "      <td>0.000000</td>\n",
       "      <td>0.0</td>\n",
       "      <td>0.0</td>\n",
       "      <td>0.0</td>\n",
       "      <td>0.0</td>\n",
       "      <td>0.0</td>\n",
       "      <td>0.0</td>\n",
       "      <td>0.0</td>\n",
       "      <td>0.0</td>\n",
       "      <td>0.0</td>\n",
       "      <td>0.0</td>\n",
       "      <td>0.0</td>\n",
       "      <td>0.0</td>\n",
       "      <td>0.0</td>\n",
       "      <td>0.0</td>\n",
       "      <td>0.0</td>\n",
       "      <td>0.0</td>\n",
       "      <td>0.0</td>\n",
       "      <td>0.0</td>\n",
       "      <td>0.0</td>\n",
       "      <td>0.0</td>\n",
       "      <td>0.0</td>\n",
       "      <td>0.0</td>\n",
       "      <td>0.0</td>\n",
       "      <td>0.0</td>\n",
       "      <td>0.0</td>\n",
       "      <td>0.0</td>\n",
       "      <td>0.0</td>\n",
       "      <td>0.0</td>\n",
       "      <td>0.0</td>\n",
       "      <td>0.0</td>\n",
       "      <td>0.0</td>\n",
       "      <td>0.0</td>\n",
       "    </tr>\n",
       "    <tr>\n",
       "      <th>1-3 meses / 56 cm</th>\n",
       "      <td>0.000000</td>\n",
       "      <td>0.000000</td>\n",
       "      <td>0.0</td>\n",
       "      <td>0.000000</td>\n",
       "      <td>0.0</td>\n",
       "      <td>0.000000</td>\n",
       "      <td>0.000000</td>\n",
       "      <td>0.0</td>\n",
       "      <td>0.000000</td>\n",
       "      <td>0.0</td>\n",
       "      <td>0.000000</td>\n",
       "      <td>0.0</td>\n",
       "      <td>0.000000</td>\n",
       "      <td>0.0</td>\n",
       "      <td>0.000000</td>\n",
       "      <td>0.0</td>\n",
       "      <td>0.000000</td>\n",
       "      <td>0.0</td>\n",
       "      <td>0.000000</td>\n",
       "      <td>0.000000</td>\n",
       "      <td>0.0</td>\n",
       "      <td>0.0</td>\n",
       "      <td>0.0</td>\n",
       "      <td>0.000000</td>\n",
       "      <td>0.000000</td>\n",
       "      <td>0.00</td>\n",
       "      <td>0.0</td>\n",
       "      <td>0.0</td>\n",
       "      <td>0.0</td>\n",
       "      <td>0.0</td>\n",
       "      <td>0.0</td>\n",
       "      <td>0.0</td>\n",
       "      <td>0.0</td>\n",
       "      <td>0.0</td>\n",
       "      <td>0.0</td>\n",
       "      <td>0.0</td>\n",
       "      <td>0.0</td>\n",
       "      <td>0.0</td>\n",
       "      <td>0.0</td>\n",
       "      <td>0.0</td>\n",
       "      <td>...</td>\n",
       "      <td>0.0</td>\n",
       "      <td>0.0</td>\n",
       "      <td>0.0</td>\n",
       "      <td>0.0</td>\n",
       "      <td>0.0</td>\n",
       "      <td>0.0</td>\n",
       "      <td>0.000000</td>\n",
       "      <td>0.000000</td>\n",
       "      <td>0.0</td>\n",
       "      <td>0.0</td>\n",
       "      <td>0.0</td>\n",
       "      <td>0.0</td>\n",
       "      <td>0.0</td>\n",
       "      <td>0.0</td>\n",
       "      <td>0.0</td>\n",
       "      <td>0.0</td>\n",
       "      <td>0.0</td>\n",
       "      <td>0.0</td>\n",
       "      <td>0.0</td>\n",
       "      <td>0.0</td>\n",
       "      <td>0.0</td>\n",
       "      <td>0.0</td>\n",
       "      <td>0.0</td>\n",
       "      <td>0.0</td>\n",
       "      <td>0.0</td>\n",
       "      <td>0.0</td>\n",
       "      <td>0.0</td>\n",
       "      <td>0.0</td>\n",
       "      <td>0.0</td>\n",
       "      <td>0.0</td>\n",
       "      <td>0.0</td>\n",
       "      <td>0.0</td>\n",
       "      <td>0.0</td>\n",
       "      <td>0.0</td>\n",
       "      <td>0.0</td>\n",
       "      <td>0.0</td>\n",
       "      <td>0.0</td>\n",
       "      <td>0.0</td>\n",
       "      <td>0.0</td>\n",
       "      <td>0.0</td>\n",
       "    </tr>\n",
       "    <tr>\n",
       "      <th>...</th>\n",
       "      <td>...</td>\n",
       "      <td>...</td>\n",
       "      <td>...</td>\n",
       "      <td>...</td>\n",
       "      <td>...</td>\n",
       "      <td>...</td>\n",
       "      <td>...</td>\n",
       "      <td>...</td>\n",
       "      <td>...</td>\n",
       "      <td>...</td>\n",
       "      <td>...</td>\n",
       "      <td>...</td>\n",
       "      <td>...</td>\n",
       "      <td>...</td>\n",
       "      <td>...</td>\n",
       "      <td>...</td>\n",
       "      <td>...</td>\n",
       "      <td>...</td>\n",
       "      <td>...</td>\n",
       "      <td>...</td>\n",
       "      <td>...</td>\n",
       "      <td>...</td>\n",
       "      <td>...</td>\n",
       "      <td>...</td>\n",
       "      <td>...</td>\n",
       "      <td>...</td>\n",
       "      <td>...</td>\n",
       "      <td>...</td>\n",
       "      <td>...</td>\n",
       "      <td>...</td>\n",
       "      <td>...</td>\n",
       "      <td>...</td>\n",
       "      <td>...</td>\n",
       "      <td>...</td>\n",
       "      <td>...</td>\n",
       "      <td>...</td>\n",
       "      <td>...</td>\n",
       "      <td>...</td>\n",
       "      <td>...</td>\n",
       "      <td>...</td>\n",
       "      <td>...</td>\n",
       "      <td>...</td>\n",
       "      <td>...</td>\n",
       "      <td>...</td>\n",
       "      <td>...</td>\n",
       "      <td>...</td>\n",
       "      <td>...</td>\n",
       "      <td>...</td>\n",
       "      <td>...</td>\n",
       "      <td>...</td>\n",
       "      <td>...</td>\n",
       "      <td>...</td>\n",
       "      <td>...</td>\n",
       "      <td>...</td>\n",
       "      <td>...</td>\n",
       "      <td>...</td>\n",
       "      <td>...</td>\n",
       "      <td>...</td>\n",
       "      <td>...</td>\n",
       "      <td>...</td>\n",
       "      <td>...</td>\n",
       "      <td>...</td>\n",
       "      <td>...</td>\n",
       "      <td>...</td>\n",
       "      <td>...</td>\n",
       "      <td>...</td>\n",
       "      <td>...</td>\n",
       "      <td>...</td>\n",
       "      <td>...</td>\n",
       "      <td>...</td>\n",
       "      <td>...</td>\n",
       "      <td>...</td>\n",
       "      <td>...</td>\n",
       "      <td>...</td>\n",
       "      <td>...</td>\n",
       "      <td>...</td>\n",
       "      <td>...</td>\n",
       "      <td>...</td>\n",
       "      <td>...</td>\n",
       "      <td>...</td>\n",
       "      <td>...</td>\n",
       "    </tr>\n",
       "    <tr>\n",
       "      <th>XXS</th>\n",
       "      <td>0.000000</td>\n",
       "      <td>0.000000</td>\n",
       "      <td>0.0</td>\n",
       "      <td>0.000000</td>\n",
       "      <td>0.0</td>\n",
       "      <td>0.000000</td>\n",
       "      <td>0.000000</td>\n",
       "      <td>0.0</td>\n",
       "      <td>0.000000</td>\n",
       "      <td>0.0</td>\n",
       "      <td>0.000000</td>\n",
       "      <td>0.0</td>\n",
       "      <td>0.000000</td>\n",
       "      <td>0.0</td>\n",
       "      <td>0.000000</td>\n",
       "      <td>0.0</td>\n",
       "      <td>0.000000</td>\n",
       "      <td>0.0</td>\n",
       "      <td>0.000000</td>\n",
       "      <td>0.000000</td>\n",
       "      <td>0.0</td>\n",
       "      <td>0.0</td>\n",
       "      <td>0.0</td>\n",
       "      <td>0.000000</td>\n",
       "      <td>0.000000</td>\n",
       "      <td>0.00</td>\n",
       "      <td>0.0</td>\n",
       "      <td>0.0</td>\n",
       "      <td>0.0</td>\n",
       "      <td>0.0</td>\n",
       "      <td>0.0</td>\n",
       "      <td>0.0</td>\n",
       "      <td>0.0</td>\n",
       "      <td>0.0</td>\n",
       "      <td>0.0</td>\n",
       "      <td>0.0</td>\n",
       "      <td>0.0</td>\n",
       "      <td>0.0</td>\n",
       "      <td>0.0</td>\n",
       "      <td>0.0</td>\n",
       "      <td>...</td>\n",
       "      <td>0.0</td>\n",
       "      <td>0.0</td>\n",
       "      <td>0.0</td>\n",
       "      <td>0.0</td>\n",
       "      <td>0.0</td>\n",
       "      <td>0.0</td>\n",
       "      <td>0.000000</td>\n",
       "      <td>0.000000</td>\n",
       "      <td>0.0</td>\n",
       "      <td>0.0</td>\n",
       "      <td>0.0</td>\n",
       "      <td>0.0</td>\n",
       "      <td>0.0</td>\n",
       "      <td>0.0</td>\n",
       "      <td>0.0</td>\n",
       "      <td>0.0</td>\n",
       "      <td>0.0</td>\n",
       "      <td>0.0</td>\n",
       "      <td>0.0</td>\n",
       "      <td>0.0</td>\n",
       "      <td>0.0</td>\n",
       "      <td>0.0</td>\n",
       "      <td>0.0</td>\n",
       "      <td>0.0</td>\n",
       "      <td>0.0</td>\n",
       "      <td>0.0</td>\n",
       "      <td>0.0</td>\n",
       "      <td>0.0</td>\n",
       "      <td>0.0</td>\n",
       "      <td>0.0</td>\n",
       "      <td>0.0</td>\n",
       "      <td>0.0</td>\n",
       "      <td>0.0</td>\n",
       "      <td>0.0</td>\n",
       "      <td>0.0</td>\n",
       "      <td>0.0</td>\n",
       "      <td>0.0</td>\n",
       "      <td>0.0</td>\n",
       "      <td>0.0</td>\n",
       "      <td>0.0</td>\n",
       "    </tr>\n",
       "    <tr>\n",
       "      <th>XXS / 32 / 4</th>\n",
       "      <td>0.030172</td>\n",
       "      <td>0.011419</td>\n",
       "      <td>0.0</td>\n",
       "      <td>0.007513</td>\n",
       "      <td>0.0</td>\n",
       "      <td>0.000000</td>\n",
       "      <td>0.000000</td>\n",
       "      <td>0.0</td>\n",
       "      <td>0.000000</td>\n",
       "      <td>0.0</td>\n",
       "      <td>0.000000</td>\n",
       "      <td>0.0</td>\n",
       "      <td>0.000000</td>\n",
       "      <td>0.0</td>\n",
       "      <td>0.000000</td>\n",
       "      <td>0.0</td>\n",
       "      <td>0.000000</td>\n",
       "      <td>0.0</td>\n",
       "      <td>0.000000</td>\n",
       "      <td>0.000000</td>\n",
       "      <td>0.0</td>\n",
       "      <td>0.0</td>\n",
       "      <td>0.0</td>\n",
       "      <td>0.000000</td>\n",
       "      <td>0.014354</td>\n",
       "      <td>0.00</td>\n",
       "      <td>0.0</td>\n",
       "      <td>0.0</td>\n",
       "      <td>0.0</td>\n",
       "      <td>0.0</td>\n",
       "      <td>0.0</td>\n",
       "      <td>0.0</td>\n",
       "      <td>0.0</td>\n",
       "      <td>0.0</td>\n",
       "      <td>0.0</td>\n",
       "      <td>0.0</td>\n",
       "      <td>0.0</td>\n",
       "      <td>0.0</td>\n",
       "      <td>0.0</td>\n",
       "      <td>0.0</td>\n",
       "      <td>...</td>\n",
       "      <td>0.0</td>\n",
       "      <td>0.0</td>\n",
       "      <td>0.0</td>\n",
       "      <td>0.0</td>\n",
       "      <td>0.0</td>\n",
       "      <td>0.0</td>\n",
       "      <td>0.001698</td>\n",
       "      <td>0.000000</td>\n",
       "      <td>0.0</td>\n",
       "      <td>0.0</td>\n",
       "      <td>0.0</td>\n",
       "      <td>0.0</td>\n",
       "      <td>0.0</td>\n",
       "      <td>0.0</td>\n",
       "      <td>0.0</td>\n",
       "      <td>0.0</td>\n",
       "      <td>0.0</td>\n",
       "      <td>0.0</td>\n",
       "      <td>0.0</td>\n",
       "      <td>0.0</td>\n",
       "      <td>0.0</td>\n",
       "      <td>0.0</td>\n",
       "      <td>0.0</td>\n",
       "      <td>0.0</td>\n",
       "      <td>0.0</td>\n",
       "      <td>0.0</td>\n",
       "      <td>0.0</td>\n",
       "      <td>0.0</td>\n",
       "      <td>0.0</td>\n",
       "      <td>0.0</td>\n",
       "      <td>0.0</td>\n",
       "      <td>0.0</td>\n",
       "      <td>0.0</td>\n",
       "      <td>0.0</td>\n",
       "      <td>0.0</td>\n",
       "      <td>0.0</td>\n",
       "      <td>0.0</td>\n",
       "      <td>0.0</td>\n",
       "      <td>0.0</td>\n",
       "      <td>0.0</td>\n",
       "    </tr>\n",
       "    <tr>\n",
       "      <th>XXXL</th>\n",
       "      <td>0.000000</td>\n",
       "      <td>0.000000</td>\n",
       "      <td>0.0</td>\n",
       "      <td>0.000000</td>\n",
       "      <td>0.0</td>\n",
       "      <td>0.000000</td>\n",
       "      <td>0.000000</td>\n",
       "      <td>0.0</td>\n",
       "      <td>0.074194</td>\n",
       "      <td>0.0</td>\n",
       "      <td>0.000000</td>\n",
       "      <td>0.0</td>\n",
       "      <td>0.000000</td>\n",
       "      <td>0.0</td>\n",
       "      <td>0.000000</td>\n",
       "      <td>0.0</td>\n",
       "      <td>0.367347</td>\n",
       "      <td>0.0</td>\n",
       "      <td>0.000000</td>\n",
       "      <td>0.000000</td>\n",
       "      <td>0.0</td>\n",
       "      <td>0.0</td>\n",
       "      <td>0.0</td>\n",
       "      <td>0.000000</td>\n",
       "      <td>0.000000</td>\n",
       "      <td>0.00</td>\n",
       "      <td>0.0</td>\n",
       "      <td>0.0</td>\n",
       "      <td>0.0</td>\n",
       "      <td>0.0</td>\n",
       "      <td>0.0</td>\n",
       "      <td>0.0</td>\n",
       "      <td>0.0</td>\n",
       "      <td>0.0</td>\n",
       "      <td>0.0</td>\n",
       "      <td>0.0</td>\n",
       "      <td>0.0</td>\n",
       "      <td>0.0</td>\n",
       "      <td>0.0</td>\n",
       "      <td>0.0</td>\n",
       "      <td>...</td>\n",
       "      <td>0.0</td>\n",
       "      <td>0.0</td>\n",
       "      <td>0.0</td>\n",
       "      <td>0.0</td>\n",
       "      <td>0.0</td>\n",
       "      <td>0.0</td>\n",
       "      <td>0.000000</td>\n",
       "      <td>0.000000</td>\n",
       "      <td>0.0</td>\n",
       "      <td>0.0</td>\n",
       "      <td>0.0</td>\n",
       "      <td>0.0</td>\n",
       "      <td>0.0</td>\n",
       "      <td>0.0</td>\n",
       "      <td>0.0</td>\n",
       "      <td>0.0</td>\n",
       "      <td>0.0</td>\n",
       "      <td>0.0</td>\n",
       "      <td>0.0</td>\n",
       "      <td>0.0</td>\n",
       "      <td>0.0</td>\n",
       "      <td>0.0</td>\n",
       "      <td>0.0</td>\n",
       "      <td>0.0</td>\n",
       "      <td>0.0</td>\n",
       "      <td>0.0</td>\n",
       "      <td>0.0</td>\n",
       "      <td>0.0</td>\n",
       "      <td>0.0</td>\n",
       "      <td>0.0</td>\n",
       "      <td>0.0</td>\n",
       "      <td>0.0</td>\n",
       "      <td>0.0</td>\n",
       "      <td>0.0</td>\n",
       "      <td>0.0</td>\n",
       "      <td>0.0</td>\n",
       "      <td>0.0</td>\n",
       "      <td>0.0</td>\n",
       "      <td>0.0</td>\n",
       "      <td>0.0</td>\n",
       "    </tr>\n",
       "    <tr>\n",
       "      <th>XXXL / 46 / 18</th>\n",
       "      <td>0.107759</td>\n",
       "      <td>0.017945</td>\n",
       "      <td>0.0</td>\n",
       "      <td>0.004174</td>\n",
       "      <td>0.0</td>\n",
       "      <td>0.000000</td>\n",
       "      <td>0.000000</td>\n",
       "      <td>0.0</td>\n",
       "      <td>0.000000</td>\n",
       "      <td>0.0</td>\n",
       "      <td>0.000000</td>\n",
       "      <td>0.0</td>\n",
       "      <td>0.000000</td>\n",
       "      <td>0.0</td>\n",
       "      <td>0.000000</td>\n",
       "      <td>0.0</td>\n",
       "      <td>0.000000</td>\n",
       "      <td>0.0</td>\n",
       "      <td>0.000000</td>\n",
       "      <td>0.000000</td>\n",
       "      <td>0.0</td>\n",
       "      <td>0.0</td>\n",
       "      <td>0.0</td>\n",
       "      <td>0.006993</td>\n",
       "      <td>0.011483</td>\n",
       "      <td>0.17</td>\n",
       "      <td>0.0</td>\n",
       "      <td>0.0</td>\n",
       "      <td>0.0</td>\n",
       "      <td>0.0</td>\n",
       "      <td>0.0</td>\n",
       "      <td>0.0</td>\n",
       "      <td>0.0</td>\n",
       "      <td>0.0</td>\n",
       "      <td>0.0</td>\n",
       "      <td>0.0</td>\n",
       "      <td>0.0</td>\n",
       "      <td>0.0</td>\n",
       "      <td>0.0</td>\n",
       "      <td>0.0</td>\n",
       "      <td>...</td>\n",
       "      <td>0.0</td>\n",
       "      <td>0.0</td>\n",
       "      <td>0.0</td>\n",
       "      <td>0.0</td>\n",
       "      <td>0.0</td>\n",
       "      <td>0.0</td>\n",
       "      <td>0.081494</td>\n",
       "      <td>0.590164</td>\n",
       "      <td>0.0</td>\n",
       "      <td>0.0</td>\n",
       "      <td>0.0</td>\n",
       "      <td>0.0</td>\n",
       "      <td>0.0</td>\n",
       "      <td>0.0</td>\n",
       "      <td>0.0</td>\n",
       "      <td>0.0</td>\n",
       "      <td>0.0</td>\n",
       "      <td>0.0</td>\n",
       "      <td>0.0</td>\n",
       "      <td>0.0</td>\n",
       "      <td>0.0</td>\n",
       "      <td>0.0</td>\n",
       "      <td>0.0</td>\n",
       "      <td>0.0</td>\n",
       "      <td>0.0</td>\n",
       "      <td>0.0</td>\n",
       "      <td>0.0</td>\n",
       "      <td>0.0</td>\n",
       "      <td>0.0</td>\n",
       "      <td>0.0</td>\n",
       "      <td>0.0</td>\n",
       "      <td>0.0</td>\n",
       "      <td>0.0</td>\n",
       "      <td>0.0</td>\n",
       "      <td>0.0</td>\n",
       "      <td>0.0</td>\n",
       "      <td>0.0</td>\n",
       "      <td>0.0</td>\n",
       "      <td>0.0</td>\n",
       "      <td>0.0</td>\n",
       "    </tr>\n",
       "    <tr>\n",
       "      <th>XXXS / 30 / 2</th>\n",
       "      <td>0.071839</td>\n",
       "      <td>0.000000</td>\n",
       "      <td>0.0</td>\n",
       "      <td>0.001669</td>\n",
       "      <td>0.0</td>\n",
       "      <td>0.000000</td>\n",
       "      <td>0.000000</td>\n",
       "      <td>0.0</td>\n",
       "      <td>0.000000</td>\n",
       "      <td>0.0</td>\n",
       "      <td>0.000000</td>\n",
       "      <td>0.0</td>\n",
       "      <td>0.000000</td>\n",
       "      <td>0.0</td>\n",
       "      <td>0.000000</td>\n",
       "      <td>0.0</td>\n",
       "      <td>0.000000</td>\n",
       "      <td>0.0</td>\n",
       "      <td>0.000000</td>\n",
       "      <td>0.000000</td>\n",
       "      <td>0.0</td>\n",
       "      <td>0.0</td>\n",
       "      <td>0.0</td>\n",
       "      <td>0.000000</td>\n",
       "      <td>0.000000</td>\n",
       "      <td>0.00</td>\n",
       "      <td>0.0</td>\n",
       "      <td>0.0</td>\n",
       "      <td>0.0</td>\n",
       "      <td>0.0</td>\n",
       "      <td>0.0</td>\n",
       "      <td>0.0</td>\n",
       "      <td>0.0</td>\n",
       "      <td>0.0</td>\n",
       "      <td>0.0</td>\n",
       "      <td>0.0</td>\n",
       "      <td>0.0</td>\n",
       "      <td>0.0</td>\n",
       "      <td>0.0</td>\n",
       "      <td>0.0</td>\n",
       "      <td>...</td>\n",
       "      <td>0.0</td>\n",
       "      <td>0.0</td>\n",
       "      <td>0.0</td>\n",
       "      <td>0.0</td>\n",
       "      <td>0.0</td>\n",
       "      <td>0.0</td>\n",
       "      <td>0.000000</td>\n",
       "      <td>0.000000</td>\n",
       "      <td>0.0</td>\n",
       "      <td>0.0</td>\n",
       "      <td>0.0</td>\n",
       "      <td>0.0</td>\n",
       "      <td>0.0</td>\n",
       "      <td>0.0</td>\n",
       "      <td>0.0</td>\n",
       "      <td>0.0</td>\n",
       "      <td>0.0</td>\n",
       "      <td>0.0</td>\n",
       "      <td>0.0</td>\n",
       "      <td>0.0</td>\n",
       "      <td>0.0</td>\n",
       "      <td>0.0</td>\n",
       "      <td>0.0</td>\n",
       "      <td>0.0</td>\n",
       "      <td>0.0</td>\n",
       "      <td>0.0</td>\n",
       "      <td>0.0</td>\n",
       "      <td>0.0</td>\n",
       "      <td>0.0</td>\n",
       "      <td>0.0</td>\n",
       "      <td>0.0</td>\n",
       "      <td>0.0</td>\n",
       "      <td>0.0</td>\n",
       "      <td>0.0</td>\n",
       "      <td>0.0</td>\n",
       "      <td>0.0</td>\n",
       "      <td>0.0</td>\n",
       "      <td>0.0</td>\n",
       "      <td>0.0</td>\n",
       "      <td>0.0</td>\n",
       "    </tr>\n",
       "  </tbody>\n",
       "</table>\n",
       "<p>313 rows × 872 columns</p>\n",
       "</div>"
      ],
      "text/plain": [
       "catalog_id           11.0      14.0    16.0    ...  2968.0  2969.0  2970.0\n",
       "size_title                                     ...                        \n",
       "                   0.000000  0.000000     0.0  ...     0.0     0.0     0.0\n",
       "0-13 kg            0.000000  0.000000     0.0  ...     0.0     0.0     0.0\n",
       "0-3 meses, 30 cm   0.000000  0.000000     0.0  ...     0.0     0.0     0.0\n",
       "1-2 anos, 49 cm    0.000000  0.000000     0.0  ...     0.0     0.0     0.0\n",
       "1-3 meses / 56 cm  0.000000  0.000000     0.0  ...     0.0     0.0     0.0\n",
       "...                     ...       ...     ...  ...     ...     ...     ...\n",
       "XXS                0.000000  0.000000     0.0  ...     0.0     0.0     0.0\n",
       "XXS / 32 / 4       0.030172  0.011419     0.0  ...     0.0     0.0     0.0\n",
       "XXXL               0.000000  0.000000     0.0  ...     0.0     0.0     0.0\n",
       "XXXL / 46 / 18     0.107759  0.017945     0.0  ...     0.0     0.0     0.0\n",
       "XXXS / 30 / 2      0.071839  0.000000     0.0  ...     0.0     0.0     0.0\n",
       "\n",
       "[313 rows x 872 columns]"
      ]
     },
     "execution_count": 8,
     "metadata": {},
     "output_type": "execute_result"
    }
   ],
   "source": [
    "# for each catalog, we are going to use minmaxscalar to standardize the scale of the data\n",
    "\n",
    "pivot_combined = pivot_size.fillna(0)\n",
    "pivot_combined = pivot_combined.T\n",
    "for col in pivot_combined.columns:\n",
    "    pivot_combined[col] = MinMaxScaler().fit_transform(X = pivot_combined[[col]]) #/pivot_combined[col].sum()\n",
    "pivot_combined "
   ]
  },
  {
   "cell_type": "markdown",
   "metadata": {},
   "source": [
    "## Agglomerative Hierarchical Clustering using Ward Linkage\n",
    "\n",
    "As indicated by the term hierarchical, the method seeks to build clusters based on hierarchy. Generally, there are two types of clustering strategies: **Agglomerative** and **Divisive**. Here, we mainly focus on the agglomerative approach, which can be easily pictured as a ‘bottom-up’ algorithm.\n",
    "\n",
    "### Ward Linkage Method\n",
    "\n",
    "There are four methods for combining clusters in agglomerative approach. The one we choose to use is called Ward’s Method. Unlike the others. Instead of measuring the distance directly, it analyzes the variance of clusters. Ward’s is said to be the most suitable method for quantitative variables.\n",
    "    \n",
    "$\\Delta(A,B) = \\sum_{i\\in A \\bigcup B} ||\\overrightarrow{x_i} - \\overrightarrow{m}_{A \\bigcup B}||^2 - \\sum_{i \\in A}||\\overrightarrow{x_i} - \\overrightarrow{m}_A||^2 -\\sum_{i \\in B}||\\overrightarrow{x_i}- \\overrightarrow{m}_B||^2 \n",
    "= \\frac{n_An_B}{n_A+n_B} ||\\overrightarrow{m}_A- \\overrightarrow{m}_B||^2$\n",
    "\n",
    "where $\\overrightarrow{m}_j$ is the center of cluster j, and $n_j$ is the number of points in it. Δ is called the merging cost of combining the clusters A and B. With hierarchical clustering, the sum of squares starts out at zero (because every point is in its own cluster) and then grows as we merge clusters. Ward’s method keeps this growth as small as possible.\n",
    "\n",
    "The euclidean distance is the straight line distance between two points in Euclidean Space.\n",
    "\n",
    "$d(p,q) = \\sqrt{(q_1 -p_1)^2 + (q_2 - p_2)^2 + \\cdots + (q_n -p_n)^2} = \\sqrt{\\sum_{i=1} (q_i-p_i)^2}$"
   ]
  },
  {
   "cell_type": "code",
   "execution_count": 9,
   "metadata": {},
   "outputs": [
    {
     "data": {
      "application/vnd.plotly.v1+json": {
       "config": {
        "plotlyServerURL": "https://plot.ly"
       },
       "data": [
        {
         "mode": "lines+markers",
         "type": "scatter",
         "x": [
          1,
          1.1,
          1.2000000000000002,
          1.3000000000000003,
          1.4000000000000004,
          1.5000000000000004,
          1.6000000000000005,
          1.7000000000000006,
          1.8000000000000007,
          1.9000000000000008,
          2.000000000000001,
          2.100000000000001,
          2.200000000000001,
          2.300000000000001,
          2.4000000000000012,
          2.5000000000000013,
          2.6000000000000014,
          2.7000000000000015,
          2.8000000000000016,
          2.9000000000000017,
          3.0000000000000018,
          3.100000000000002,
          3.200000000000002,
          3.300000000000002,
          3.400000000000002,
          3.500000000000002,
          3.6000000000000023,
          3.7000000000000024,
          3.8000000000000025,
          3.9000000000000026,
          4.000000000000003,
          4.100000000000003,
          4.200000000000003,
          4.3000000000000025,
          4.400000000000003,
          4.5000000000000036,
          4.600000000000003,
          4.700000000000003,
          4.800000000000003,
          4.900000000000004,
          5.0000000000000036,
          5.100000000000003,
          5.200000000000004,
          5.300000000000004,
          5.400000000000004,
          5.5000000000000036,
          5.600000000000004,
          5.700000000000005,
          5.800000000000004,
          5.900000000000004,
          6.000000000000004,
          6.100000000000005,
          6.200000000000005,
          6.300000000000004,
          6.400000000000005,
          6.500000000000005,
          6.600000000000005,
          6.700000000000005,
          6.800000000000005,
          6.900000000000006,
          7.000000000000005,
          7.100000000000005,
          7.2000000000000055,
          7.300000000000006,
          7.400000000000006,
          7.500000000000005,
          7.600000000000006,
          7.700000000000006,
          7.800000000000006,
          7.900000000000006,
          8.000000000000007,
          8.100000000000007,
          8.200000000000006,
          8.300000000000006,
          8.400000000000006,
          8.500000000000007,
          8.600000000000007,
          8.700000000000006,
          8.800000000000008,
          8.900000000000007,
          9.000000000000007,
          9.100000000000007,
          9.200000000000006,
          9.300000000000008,
          9.400000000000007,
          9.500000000000007,
          9.600000000000009,
          9.700000000000008,
          9.800000000000008,
          9.900000000000007,
          10.000000000000007
         ],
         "y": [
          253,
          237,
          210,
          191,
          170,
          147,
          130,
          117,
          109,
          101,
          90,
          75,
          66,
          60,
          59,
          56,
          49,
          44,
          39,
          34,
          31,
          29,
          26,
          24,
          23,
          22,
          20,
          18,
          17,
          17,
          16,
          15,
          15,
          15,
          14,
          13,
          13,
          13,
          13,
          12,
          12,
          12,
          12,
          12,
          12,
          11,
          10,
          9,
          9,
          9,
          9,
          9,
          9,
          9,
          9,
          9,
          9,
          9,
          9,
          9,
          9,
          9,
          9,
          9,
          8,
          8,
          8,
          8,
          8,
          8,
          7,
          7,
          7,
          7,
          7,
          6,
          6,
          6,
          6,
          6,
          6,
          6,
          6,
          6,
          6,
          5,
          5,
          5,
          5,
          5,
          5
         ]
        }
       ],
       "layout": {
        "template": {
         "data": {
          "bar": [
           {
            "error_x": {
             "color": "#2a3f5f"
            },
            "error_y": {
             "color": "#2a3f5f"
            },
            "marker": {
             "line": {
              "color": "#E5ECF6",
              "width": 0.5
             },
             "pattern": {
              "fillmode": "overlay",
              "size": 10,
              "solidity": 0.2
             }
            },
            "type": "bar"
           }
          ],
          "barpolar": [
           {
            "marker": {
             "line": {
              "color": "#E5ECF6",
              "width": 0.5
             },
             "pattern": {
              "fillmode": "overlay",
              "size": 10,
              "solidity": 0.2
             }
            },
            "type": "barpolar"
           }
          ],
          "carpet": [
           {
            "aaxis": {
             "endlinecolor": "#2a3f5f",
             "gridcolor": "white",
             "linecolor": "white",
             "minorgridcolor": "white",
             "startlinecolor": "#2a3f5f"
            },
            "baxis": {
             "endlinecolor": "#2a3f5f",
             "gridcolor": "white",
             "linecolor": "white",
             "minorgridcolor": "white",
             "startlinecolor": "#2a3f5f"
            },
            "type": "carpet"
           }
          ],
          "choropleth": [
           {
            "colorbar": {
             "outlinewidth": 0,
             "ticks": ""
            },
            "type": "choropleth"
           }
          ],
          "contour": [
           {
            "colorbar": {
             "outlinewidth": 0,
             "ticks": ""
            },
            "colorscale": [
             [
              0,
              "#0d0887"
             ],
             [
              0.1111111111111111,
              "#46039f"
             ],
             [
              0.2222222222222222,
              "#7201a8"
             ],
             [
              0.3333333333333333,
              "#9c179e"
             ],
             [
              0.4444444444444444,
              "#bd3786"
             ],
             [
              0.5555555555555556,
              "#d8576b"
             ],
             [
              0.6666666666666666,
              "#ed7953"
             ],
             [
              0.7777777777777778,
              "#fb9f3a"
             ],
             [
              0.8888888888888888,
              "#fdca26"
             ],
             [
              1,
              "#f0f921"
             ]
            ],
            "type": "contour"
           }
          ],
          "contourcarpet": [
           {
            "colorbar": {
             "outlinewidth": 0,
             "ticks": ""
            },
            "type": "contourcarpet"
           }
          ],
          "heatmap": [
           {
            "colorbar": {
             "outlinewidth": 0,
             "ticks": ""
            },
            "colorscale": [
             [
              0,
              "#0d0887"
             ],
             [
              0.1111111111111111,
              "#46039f"
             ],
             [
              0.2222222222222222,
              "#7201a8"
             ],
             [
              0.3333333333333333,
              "#9c179e"
             ],
             [
              0.4444444444444444,
              "#bd3786"
             ],
             [
              0.5555555555555556,
              "#d8576b"
             ],
             [
              0.6666666666666666,
              "#ed7953"
             ],
             [
              0.7777777777777778,
              "#fb9f3a"
             ],
             [
              0.8888888888888888,
              "#fdca26"
             ],
             [
              1,
              "#f0f921"
             ]
            ],
            "type": "heatmap"
           }
          ],
          "heatmapgl": [
           {
            "colorbar": {
             "outlinewidth": 0,
             "ticks": ""
            },
            "colorscale": [
             [
              0,
              "#0d0887"
             ],
             [
              0.1111111111111111,
              "#46039f"
             ],
             [
              0.2222222222222222,
              "#7201a8"
             ],
             [
              0.3333333333333333,
              "#9c179e"
             ],
             [
              0.4444444444444444,
              "#bd3786"
             ],
             [
              0.5555555555555556,
              "#d8576b"
             ],
             [
              0.6666666666666666,
              "#ed7953"
             ],
             [
              0.7777777777777778,
              "#fb9f3a"
             ],
             [
              0.8888888888888888,
              "#fdca26"
             ],
             [
              1,
              "#f0f921"
             ]
            ],
            "type": "heatmapgl"
           }
          ],
          "histogram": [
           {
            "marker": {
             "pattern": {
              "fillmode": "overlay",
              "size": 10,
              "solidity": 0.2
             }
            },
            "type": "histogram"
           }
          ],
          "histogram2d": [
           {
            "colorbar": {
             "outlinewidth": 0,
             "ticks": ""
            },
            "colorscale": [
             [
              0,
              "#0d0887"
             ],
             [
              0.1111111111111111,
              "#46039f"
             ],
             [
              0.2222222222222222,
              "#7201a8"
             ],
             [
              0.3333333333333333,
              "#9c179e"
             ],
             [
              0.4444444444444444,
              "#bd3786"
             ],
             [
              0.5555555555555556,
              "#d8576b"
             ],
             [
              0.6666666666666666,
              "#ed7953"
             ],
             [
              0.7777777777777778,
              "#fb9f3a"
             ],
             [
              0.8888888888888888,
              "#fdca26"
             ],
             [
              1,
              "#f0f921"
             ]
            ],
            "type": "histogram2d"
           }
          ],
          "histogram2dcontour": [
           {
            "colorbar": {
             "outlinewidth": 0,
             "ticks": ""
            },
            "colorscale": [
             [
              0,
              "#0d0887"
             ],
             [
              0.1111111111111111,
              "#46039f"
             ],
             [
              0.2222222222222222,
              "#7201a8"
             ],
             [
              0.3333333333333333,
              "#9c179e"
             ],
             [
              0.4444444444444444,
              "#bd3786"
             ],
             [
              0.5555555555555556,
              "#d8576b"
             ],
             [
              0.6666666666666666,
              "#ed7953"
             ],
             [
              0.7777777777777778,
              "#fb9f3a"
             ],
             [
              0.8888888888888888,
              "#fdca26"
             ],
             [
              1,
              "#f0f921"
             ]
            ],
            "type": "histogram2dcontour"
           }
          ],
          "mesh3d": [
           {
            "colorbar": {
             "outlinewidth": 0,
             "ticks": ""
            },
            "type": "mesh3d"
           }
          ],
          "parcoords": [
           {
            "line": {
             "colorbar": {
              "outlinewidth": 0,
              "ticks": ""
             }
            },
            "type": "parcoords"
           }
          ],
          "pie": [
           {
            "automargin": true,
            "type": "pie"
           }
          ],
          "scatter": [
           {
            "fillpattern": {
             "fillmode": "overlay",
             "size": 10,
             "solidity": 0.2
            },
            "type": "scatter"
           }
          ],
          "scatter3d": [
           {
            "line": {
             "colorbar": {
              "outlinewidth": 0,
              "ticks": ""
             }
            },
            "marker": {
             "colorbar": {
              "outlinewidth": 0,
              "ticks": ""
             }
            },
            "type": "scatter3d"
           }
          ],
          "scattercarpet": [
           {
            "marker": {
             "colorbar": {
              "outlinewidth": 0,
              "ticks": ""
             }
            },
            "type": "scattercarpet"
           }
          ],
          "scattergeo": [
           {
            "marker": {
             "colorbar": {
              "outlinewidth": 0,
              "ticks": ""
             }
            },
            "type": "scattergeo"
           }
          ],
          "scattergl": [
           {
            "marker": {
             "colorbar": {
              "outlinewidth": 0,
              "ticks": ""
             }
            },
            "type": "scattergl"
           }
          ],
          "scattermapbox": [
           {
            "marker": {
             "colorbar": {
              "outlinewidth": 0,
              "ticks": ""
             }
            },
            "type": "scattermapbox"
           }
          ],
          "scatterpolar": [
           {
            "marker": {
             "colorbar": {
              "outlinewidth": 0,
              "ticks": ""
             }
            },
            "type": "scatterpolar"
           }
          ],
          "scatterpolargl": [
           {
            "marker": {
             "colorbar": {
              "outlinewidth": 0,
              "ticks": ""
             }
            },
            "type": "scatterpolargl"
           }
          ],
          "scatterternary": [
           {
            "marker": {
             "colorbar": {
              "outlinewidth": 0,
              "ticks": ""
             }
            },
            "type": "scatterternary"
           }
          ],
          "surface": [
           {
            "colorbar": {
             "outlinewidth": 0,
             "ticks": ""
            },
            "colorscale": [
             [
              0,
              "#0d0887"
             ],
             [
              0.1111111111111111,
              "#46039f"
             ],
             [
              0.2222222222222222,
              "#7201a8"
             ],
             [
              0.3333333333333333,
              "#9c179e"
             ],
             [
              0.4444444444444444,
              "#bd3786"
             ],
             [
              0.5555555555555556,
              "#d8576b"
             ],
             [
              0.6666666666666666,
              "#ed7953"
             ],
             [
              0.7777777777777778,
              "#fb9f3a"
             ],
             [
              0.8888888888888888,
              "#fdca26"
             ],
             [
              1,
              "#f0f921"
             ]
            ],
            "type": "surface"
           }
          ],
          "table": [
           {
            "cells": {
             "fill": {
              "color": "#EBF0F8"
             },
             "line": {
              "color": "white"
             }
            },
            "header": {
             "fill": {
              "color": "#C8D4E3"
             },
             "line": {
              "color": "white"
             }
            },
            "type": "table"
           }
          ]
         },
         "layout": {
          "annotationdefaults": {
           "arrowcolor": "#2a3f5f",
           "arrowhead": 0,
           "arrowwidth": 1
          },
          "autotypenumbers": "strict",
          "coloraxis": {
           "colorbar": {
            "outlinewidth": 0,
            "ticks": ""
           }
          },
          "colorscale": {
           "diverging": [
            [
             0,
             "#8e0152"
            ],
            [
             0.1,
             "#c51b7d"
            ],
            [
             0.2,
             "#de77ae"
            ],
            [
             0.3,
             "#f1b6da"
            ],
            [
             0.4,
             "#fde0ef"
            ],
            [
             0.5,
             "#f7f7f7"
            ],
            [
             0.6,
             "#e6f5d0"
            ],
            [
             0.7,
             "#b8e186"
            ],
            [
             0.8,
             "#7fbc41"
            ],
            [
             0.9,
             "#4d9221"
            ],
            [
             1,
             "#276419"
            ]
           ],
           "sequential": [
            [
             0,
             "#0d0887"
            ],
            [
             0.1111111111111111,
             "#46039f"
            ],
            [
             0.2222222222222222,
             "#7201a8"
            ],
            [
             0.3333333333333333,
             "#9c179e"
            ],
            [
             0.4444444444444444,
             "#bd3786"
            ],
            [
             0.5555555555555556,
             "#d8576b"
            ],
            [
             0.6666666666666666,
             "#ed7953"
            ],
            [
             0.7777777777777778,
             "#fb9f3a"
            ],
            [
             0.8888888888888888,
             "#fdca26"
            ],
            [
             1,
             "#f0f921"
            ]
           ],
           "sequentialminus": [
            [
             0,
             "#0d0887"
            ],
            [
             0.1111111111111111,
             "#46039f"
            ],
            [
             0.2222222222222222,
             "#7201a8"
            ],
            [
             0.3333333333333333,
             "#9c179e"
            ],
            [
             0.4444444444444444,
             "#bd3786"
            ],
            [
             0.5555555555555556,
             "#d8576b"
            ],
            [
             0.6666666666666666,
             "#ed7953"
            ],
            [
             0.7777777777777778,
             "#fb9f3a"
            ],
            [
             0.8888888888888888,
             "#fdca26"
            ],
            [
             1,
             "#f0f921"
            ]
           ]
          },
          "colorway": [
           "#636efa",
           "#EF553B",
           "#00cc96",
           "#ab63fa",
           "#FFA15A",
           "#19d3f3",
           "#FF6692",
           "#B6E880",
           "#FF97FF",
           "#FECB52"
          ],
          "font": {
           "color": "#2a3f5f"
          },
          "geo": {
           "bgcolor": "white",
           "lakecolor": "white",
           "landcolor": "#E5ECF6",
           "showlakes": true,
           "showland": true,
           "subunitcolor": "white"
          },
          "hoverlabel": {
           "align": "left"
          },
          "hovermode": "closest",
          "mapbox": {
           "style": "light"
          },
          "paper_bgcolor": "white",
          "plot_bgcolor": "#E5ECF6",
          "polar": {
           "angularaxis": {
            "gridcolor": "white",
            "linecolor": "white",
            "ticks": ""
           },
           "bgcolor": "#E5ECF6",
           "radialaxis": {
            "gridcolor": "white",
            "linecolor": "white",
            "ticks": ""
           }
          },
          "scene": {
           "xaxis": {
            "backgroundcolor": "#E5ECF6",
            "gridcolor": "white",
            "gridwidth": 2,
            "linecolor": "white",
            "showbackground": true,
            "ticks": "",
            "zerolinecolor": "white"
           },
           "yaxis": {
            "backgroundcolor": "#E5ECF6",
            "gridcolor": "white",
            "gridwidth": 2,
            "linecolor": "white",
            "showbackground": true,
            "ticks": "",
            "zerolinecolor": "white"
           },
           "zaxis": {
            "backgroundcolor": "#E5ECF6",
            "gridcolor": "white",
            "gridwidth": 2,
            "linecolor": "white",
            "showbackground": true,
            "ticks": "",
            "zerolinecolor": "white"
           }
          },
          "shapedefaults": {
           "line": {
            "color": "#2a3f5f"
           }
          },
          "ternary": {
           "aaxis": {
            "gridcolor": "white",
            "linecolor": "white",
            "ticks": ""
           },
           "baxis": {
            "gridcolor": "white",
            "linecolor": "white",
            "ticks": ""
           },
           "bgcolor": "#E5ECF6",
           "caxis": {
            "gridcolor": "white",
            "linecolor": "white",
            "ticks": ""
           }
          },
          "title": {
           "x": 0.05
          },
          "xaxis": {
           "automargin": true,
           "gridcolor": "white",
           "linecolor": "white",
           "ticks": "",
           "title": {
            "standoff": 15
           },
           "zerolinecolor": "white",
           "zerolinewidth": 2
          },
          "yaxis": {
           "automargin": true,
           "gridcolor": "white",
           "linecolor": "white",
           "ticks": "",
           "title": {
            "standoff": 15
           },
           "zerolinecolor": "white",
           "zerolinewidth": 2
          }
         }
        },
        "title": {
         "text": "Elbow Method Chart - Clusters"
        },
        "xaxis": {
         "title": {
          "text": "Distance between cluster"
         }
        },
        "yaxis": {
         "title": {
          "text": "Number of clusters"
         }
        }
       }
      }
     },
     "metadata": {},
     "output_type": "display_data"
    }
   ],
   "source": [
    "# dist_matrix is long form distance matrix\n",
    "# notice this is the intracluster SSE\n",
    "def intracluster_sse(df: pd.DataFrame) -> float:\n",
    "    avg = df.mean(axis = 1)\n",
    "    sse = (df.T - avg).pow(2).sum().sum()\n",
    "    return (sse)\n",
    "\n",
    "linkage_matrix = linkage(pivot_combined.T, 'ward')\n",
    "t_values = np.arange(1, 10.1, 0.1)\n",
    "avg_sse = []\n",
    "clusters = []\n",
    "for t in t_values:\n",
    "    res = fcluster(linkage_matrix, criterion = \"distance\", t = t)\n",
    "    df = pd.DataFrame(res, index = pivot_combined.columns).reset_index()\n",
    "    grouped_data = df.groupby(0)['catalog_id'].apply(list).reset_index()\n",
    "    sse_list = []\n",
    "    clusters.append(len(grouped_data))\n",
    "    for catalog in grouped_data[\"catalog_id\"]:\n",
    "        sse_list.append(intracluster_sse(pivot_combined[catalog]))\n",
    "    avg_sse.append(sum(sse_list))\n",
    "\n",
    "fig = go.Figure()\n",
    "fig.add_trace(go.Scatter(x=t_values, y=clusters, mode='lines+markers'))\n",
    "fig.update_xaxes(title_text=\"Distance between cluster\")\n",
    "fig.update_yaxes(title_text=\"Number of clusters\")\n",
    "fig.update_layout(title=\"Elbow Method Chart - Clusters\")"
   ]
  },
  {
   "cell_type": "code",
   "execution_count": 10,
   "metadata": {},
   "outputs": [
    {
     "data": {
      "application/vnd.plotly.v1+json": {
       "config": {
        "plotlyServerURL": "https://plot.ly"
       },
       "data": [
        {
         "mode": "lines+markers",
         "type": "scatter",
         "x": [
          1,
          1.1,
          1.2000000000000002,
          1.3000000000000003,
          1.4000000000000004,
          1.5000000000000004,
          1.6000000000000005,
          1.7000000000000006,
          1.8000000000000007,
          1.9000000000000008,
          2.000000000000001,
          2.100000000000001,
          2.200000000000001,
          2.300000000000001,
          2.4000000000000012,
          2.5000000000000013,
          2.6000000000000014,
          2.7000000000000015,
          2.8000000000000016,
          2.9000000000000017,
          3.0000000000000018,
          3.100000000000002,
          3.200000000000002,
          3.300000000000002,
          3.400000000000002,
          3.500000000000002,
          3.6000000000000023,
          3.7000000000000024,
          3.8000000000000025,
          3.9000000000000026,
          4.000000000000003,
          4.100000000000003,
          4.200000000000003,
          4.3000000000000025,
          4.400000000000003,
          4.5000000000000036,
          4.600000000000003,
          4.700000000000003,
          4.800000000000003,
          4.900000000000004,
          5.0000000000000036,
          5.100000000000003,
          5.200000000000004,
          5.300000000000004,
          5.400000000000004,
          5.5000000000000036,
          5.600000000000004,
          5.700000000000005,
          5.800000000000004,
          5.900000000000004,
          6.000000000000004,
          6.100000000000005,
          6.200000000000005,
          6.300000000000004,
          6.400000000000005,
          6.500000000000005,
          6.600000000000005,
          6.700000000000005,
          6.800000000000005,
          6.900000000000006,
          7.000000000000005,
          7.100000000000005,
          7.2000000000000055,
          7.300000000000006,
          7.400000000000006,
          7.500000000000005,
          7.600000000000006,
          7.700000000000006,
          7.800000000000006,
          7.900000000000006,
          8.000000000000007,
          8.100000000000007,
          8.200000000000006,
          8.300000000000006,
          8.400000000000006,
          8.500000000000007,
          8.600000000000007,
          8.700000000000006,
          8.800000000000008,
          8.900000000000007,
          9.000000000000007,
          9.100000000000007,
          9.200000000000006,
          9.300000000000008,
          9.400000000000007,
          9.500000000000007,
          9.600000000000009,
          9.700000000000008,
          9.800000000000008,
          9.900000000000007,
          10.000000000000007
         ],
         "y": [
          48.07552015480648,
          57.10405996599988,
          74.83035022794617,
          89.66018768373861,
          108.8995016274517,
          132.68310803058284,
          152.99379247477864,
          170.94945950621485,
          183.29056153744762,
          196.95599886060143,
          217.7062433872599,
          249.03520030640314,
          269.7576140361826,
          285.13792154247164,
          287.82256482222414,
          296.9469732611889,
          319.9947300387711,
          337.30998451118325,
          356.1161382145794,
          376.4979798776765,
          389.47938896932436,
          398.5928221241047,
          413.5408809436058,
          424.1478222030723,
          429.89536514145743,
          435.76869031815824,
          448.2488476578453,
          461.47953692735297,
          468.62780972174227,
          468.62780972174227,
          476.44496242127843,
          484.62688548520816,
          484.62688548520816,
          484.62688548520816,
          493.89926882651014,
          503.9124278275144,
          503.9124278275144,
          503.9124278275144,
          503.9124278275144,
          515.873236279658,
          515.873236279658,
          515.873236279658,
          515.873236279658,
          515.873236279658,
          515.873236279658,
          530.7286707287428,
          546.0174695026016,
          561.8605643840855,
          561.8605643840855,
          561.8605643840855,
          561.8605643840855,
          561.8605643840855,
          561.8605643840855,
          561.8605643840855,
          561.8605643840855,
          561.8605643840855,
          561.8605643840855,
          561.8605643840855,
          561.8605643840855,
          561.8605643840855,
          561.8605643840855,
          561.8605643840855,
          561.8605643840855,
          561.8605643840855,
          588.591264977202,
          588.591264977202,
          588.591264977202,
          588.591264977202,
          588.591264977202,
          588.591264977202,
          620.5049901429957,
          620.5049901429957,
          620.5049901429957,
          620.5049901429957,
          620.5049901429957,
          656.0018260922278,
          656.0018260922278,
          656.0018260922278,
          656.0018260922278,
          656.0018260922278,
          656.0018260922278,
          656.0018260922278,
          656.0018260922278,
          656.0018260922278,
          656.0018260922278,
          700.9828482844106,
          700.9828482844106,
          700.9828482844106,
          700.9828482844106,
          700.9828482844106,
          700.9828482844106
         ]
        }
       ],
       "layout": {
        "template": {
         "data": {
          "bar": [
           {
            "error_x": {
             "color": "#2a3f5f"
            },
            "error_y": {
             "color": "#2a3f5f"
            },
            "marker": {
             "line": {
              "color": "#E5ECF6",
              "width": 0.5
             },
             "pattern": {
              "fillmode": "overlay",
              "size": 10,
              "solidity": 0.2
             }
            },
            "type": "bar"
           }
          ],
          "barpolar": [
           {
            "marker": {
             "line": {
              "color": "#E5ECF6",
              "width": 0.5
             },
             "pattern": {
              "fillmode": "overlay",
              "size": 10,
              "solidity": 0.2
             }
            },
            "type": "barpolar"
           }
          ],
          "carpet": [
           {
            "aaxis": {
             "endlinecolor": "#2a3f5f",
             "gridcolor": "white",
             "linecolor": "white",
             "minorgridcolor": "white",
             "startlinecolor": "#2a3f5f"
            },
            "baxis": {
             "endlinecolor": "#2a3f5f",
             "gridcolor": "white",
             "linecolor": "white",
             "minorgridcolor": "white",
             "startlinecolor": "#2a3f5f"
            },
            "type": "carpet"
           }
          ],
          "choropleth": [
           {
            "colorbar": {
             "outlinewidth": 0,
             "ticks": ""
            },
            "type": "choropleth"
           }
          ],
          "contour": [
           {
            "colorbar": {
             "outlinewidth": 0,
             "ticks": ""
            },
            "colorscale": [
             [
              0,
              "#0d0887"
             ],
             [
              0.1111111111111111,
              "#46039f"
             ],
             [
              0.2222222222222222,
              "#7201a8"
             ],
             [
              0.3333333333333333,
              "#9c179e"
             ],
             [
              0.4444444444444444,
              "#bd3786"
             ],
             [
              0.5555555555555556,
              "#d8576b"
             ],
             [
              0.6666666666666666,
              "#ed7953"
             ],
             [
              0.7777777777777778,
              "#fb9f3a"
             ],
             [
              0.8888888888888888,
              "#fdca26"
             ],
             [
              1,
              "#f0f921"
             ]
            ],
            "type": "contour"
           }
          ],
          "contourcarpet": [
           {
            "colorbar": {
             "outlinewidth": 0,
             "ticks": ""
            },
            "type": "contourcarpet"
           }
          ],
          "heatmap": [
           {
            "colorbar": {
             "outlinewidth": 0,
             "ticks": ""
            },
            "colorscale": [
             [
              0,
              "#0d0887"
             ],
             [
              0.1111111111111111,
              "#46039f"
             ],
             [
              0.2222222222222222,
              "#7201a8"
             ],
             [
              0.3333333333333333,
              "#9c179e"
             ],
             [
              0.4444444444444444,
              "#bd3786"
             ],
             [
              0.5555555555555556,
              "#d8576b"
             ],
             [
              0.6666666666666666,
              "#ed7953"
             ],
             [
              0.7777777777777778,
              "#fb9f3a"
             ],
             [
              0.8888888888888888,
              "#fdca26"
             ],
             [
              1,
              "#f0f921"
             ]
            ],
            "type": "heatmap"
           }
          ],
          "heatmapgl": [
           {
            "colorbar": {
             "outlinewidth": 0,
             "ticks": ""
            },
            "colorscale": [
             [
              0,
              "#0d0887"
             ],
             [
              0.1111111111111111,
              "#46039f"
             ],
             [
              0.2222222222222222,
              "#7201a8"
             ],
             [
              0.3333333333333333,
              "#9c179e"
             ],
             [
              0.4444444444444444,
              "#bd3786"
             ],
             [
              0.5555555555555556,
              "#d8576b"
             ],
             [
              0.6666666666666666,
              "#ed7953"
             ],
             [
              0.7777777777777778,
              "#fb9f3a"
             ],
             [
              0.8888888888888888,
              "#fdca26"
             ],
             [
              1,
              "#f0f921"
             ]
            ],
            "type": "heatmapgl"
           }
          ],
          "histogram": [
           {
            "marker": {
             "pattern": {
              "fillmode": "overlay",
              "size": 10,
              "solidity": 0.2
             }
            },
            "type": "histogram"
           }
          ],
          "histogram2d": [
           {
            "colorbar": {
             "outlinewidth": 0,
             "ticks": ""
            },
            "colorscale": [
             [
              0,
              "#0d0887"
             ],
             [
              0.1111111111111111,
              "#46039f"
             ],
             [
              0.2222222222222222,
              "#7201a8"
             ],
             [
              0.3333333333333333,
              "#9c179e"
             ],
             [
              0.4444444444444444,
              "#bd3786"
             ],
             [
              0.5555555555555556,
              "#d8576b"
             ],
             [
              0.6666666666666666,
              "#ed7953"
             ],
             [
              0.7777777777777778,
              "#fb9f3a"
             ],
             [
              0.8888888888888888,
              "#fdca26"
             ],
             [
              1,
              "#f0f921"
             ]
            ],
            "type": "histogram2d"
           }
          ],
          "histogram2dcontour": [
           {
            "colorbar": {
             "outlinewidth": 0,
             "ticks": ""
            },
            "colorscale": [
             [
              0,
              "#0d0887"
             ],
             [
              0.1111111111111111,
              "#46039f"
             ],
             [
              0.2222222222222222,
              "#7201a8"
             ],
             [
              0.3333333333333333,
              "#9c179e"
             ],
             [
              0.4444444444444444,
              "#bd3786"
             ],
             [
              0.5555555555555556,
              "#d8576b"
             ],
             [
              0.6666666666666666,
              "#ed7953"
             ],
             [
              0.7777777777777778,
              "#fb9f3a"
             ],
             [
              0.8888888888888888,
              "#fdca26"
             ],
             [
              1,
              "#f0f921"
             ]
            ],
            "type": "histogram2dcontour"
           }
          ],
          "mesh3d": [
           {
            "colorbar": {
             "outlinewidth": 0,
             "ticks": ""
            },
            "type": "mesh3d"
           }
          ],
          "parcoords": [
           {
            "line": {
             "colorbar": {
              "outlinewidth": 0,
              "ticks": ""
             }
            },
            "type": "parcoords"
           }
          ],
          "pie": [
           {
            "automargin": true,
            "type": "pie"
           }
          ],
          "scatter": [
           {
            "fillpattern": {
             "fillmode": "overlay",
             "size": 10,
             "solidity": 0.2
            },
            "type": "scatter"
           }
          ],
          "scatter3d": [
           {
            "line": {
             "colorbar": {
              "outlinewidth": 0,
              "ticks": ""
             }
            },
            "marker": {
             "colorbar": {
              "outlinewidth": 0,
              "ticks": ""
             }
            },
            "type": "scatter3d"
           }
          ],
          "scattercarpet": [
           {
            "marker": {
             "colorbar": {
              "outlinewidth": 0,
              "ticks": ""
             }
            },
            "type": "scattercarpet"
           }
          ],
          "scattergeo": [
           {
            "marker": {
             "colorbar": {
              "outlinewidth": 0,
              "ticks": ""
             }
            },
            "type": "scattergeo"
           }
          ],
          "scattergl": [
           {
            "marker": {
             "colorbar": {
              "outlinewidth": 0,
              "ticks": ""
             }
            },
            "type": "scattergl"
           }
          ],
          "scattermapbox": [
           {
            "marker": {
             "colorbar": {
              "outlinewidth": 0,
              "ticks": ""
             }
            },
            "type": "scattermapbox"
           }
          ],
          "scatterpolar": [
           {
            "marker": {
             "colorbar": {
              "outlinewidth": 0,
              "ticks": ""
             }
            },
            "type": "scatterpolar"
           }
          ],
          "scatterpolargl": [
           {
            "marker": {
             "colorbar": {
              "outlinewidth": 0,
              "ticks": ""
             }
            },
            "type": "scatterpolargl"
           }
          ],
          "scatterternary": [
           {
            "marker": {
             "colorbar": {
              "outlinewidth": 0,
              "ticks": ""
             }
            },
            "type": "scatterternary"
           }
          ],
          "surface": [
           {
            "colorbar": {
             "outlinewidth": 0,
             "ticks": ""
            },
            "colorscale": [
             [
              0,
              "#0d0887"
             ],
             [
              0.1111111111111111,
              "#46039f"
             ],
             [
              0.2222222222222222,
              "#7201a8"
             ],
             [
              0.3333333333333333,
              "#9c179e"
             ],
             [
              0.4444444444444444,
              "#bd3786"
             ],
             [
              0.5555555555555556,
              "#d8576b"
             ],
             [
              0.6666666666666666,
              "#ed7953"
             ],
             [
              0.7777777777777778,
              "#fb9f3a"
             ],
             [
              0.8888888888888888,
              "#fdca26"
             ],
             [
              1,
              "#f0f921"
             ]
            ],
            "type": "surface"
           }
          ],
          "table": [
           {
            "cells": {
             "fill": {
              "color": "#EBF0F8"
             },
             "line": {
              "color": "white"
             }
            },
            "header": {
             "fill": {
              "color": "#C8D4E3"
             },
             "line": {
              "color": "white"
             }
            },
            "type": "table"
           }
          ]
         },
         "layout": {
          "annotationdefaults": {
           "arrowcolor": "#2a3f5f",
           "arrowhead": 0,
           "arrowwidth": 1
          },
          "autotypenumbers": "strict",
          "coloraxis": {
           "colorbar": {
            "outlinewidth": 0,
            "ticks": ""
           }
          },
          "colorscale": {
           "diverging": [
            [
             0,
             "#8e0152"
            ],
            [
             0.1,
             "#c51b7d"
            ],
            [
             0.2,
             "#de77ae"
            ],
            [
             0.3,
             "#f1b6da"
            ],
            [
             0.4,
             "#fde0ef"
            ],
            [
             0.5,
             "#f7f7f7"
            ],
            [
             0.6,
             "#e6f5d0"
            ],
            [
             0.7,
             "#b8e186"
            ],
            [
             0.8,
             "#7fbc41"
            ],
            [
             0.9,
             "#4d9221"
            ],
            [
             1,
             "#276419"
            ]
           ],
           "sequential": [
            [
             0,
             "#0d0887"
            ],
            [
             0.1111111111111111,
             "#46039f"
            ],
            [
             0.2222222222222222,
             "#7201a8"
            ],
            [
             0.3333333333333333,
             "#9c179e"
            ],
            [
             0.4444444444444444,
             "#bd3786"
            ],
            [
             0.5555555555555556,
             "#d8576b"
            ],
            [
             0.6666666666666666,
             "#ed7953"
            ],
            [
             0.7777777777777778,
             "#fb9f3a"
            ],
            [
             0.8888888888888888,
             "#fdca26"
            ],
            [
             1,
             "#f0f921"
            ]
           ],
           "sequentialminus": [
            [
             0,
             "#0d0887"
            ],
            [
             0.1111111111111111,
             "#46039f"
            ],
            [
             0.2222222222222222,
             "#7201a8"
            ],
            [
             0.3333333333333333,
             "#9c179e"
            ],
            [
             0.4444444444444444,
             "#bd3786"
            ],
            [
             0.5555555555555556,
             "#d8576b"
            ],
            [
             0.6666666666666666,
             "#ed7953"
            ],
            [
             0.7777777777777778,
             "#fb9f3a"
            ],
            [
             0.8888888888888888,
             "#fdca26"
            ],
            [
             1,
             "#f0f921"
            ]
           ]
          },
          "colorway": [
           "#636efa",
           "#EF553B",
           "#00cc96",
           "#ab63fa",
           "#FFA15A",
           "#19d3f3",
           "#FF6692",
           "#B6E880",
           "#FF97FF",
           "#FECB52"
          ],
          "font": {
           "color": "#2a3f5f"
          },
          "geo": {
           "bgcolor": "white",
           "lakecolor": "white",
           "landcolor": "#E5ECF6",
           "showlakes": true,
           "showland": true,
           "subunitcolor": "white"
          },
          "hoverlabel": {
           "align": "left"
          },
          "hovermode": "closest",
          "mapbox": {
           "style": "light"
          },
          "paper_bgcolor": "white",
          "plot_bgcolor": "#E5ECF6",
          "polar": {
           "angularaxis": {
            "gridcolor": "white",
            "linecolor": "white",
            "ticks": ""
           },
           "bgcolor": "#E5ECF6",
           "radialaxis": {
            "gridcolor": "white",
            "linecolor": "white",
            "ticks": ""
           }
          },
          "scene": {
           "xaxis": {
            "backgroundcolor": "#E5ECF6",
            "gridcolor": "white",
            "gridwidth": 2,
            "linecolor": "white",
            "showbackground": true,
            "ticks": "",
            "zerolinecolor": "white"
           },
           "yaxis": {
            "backgroundcolor": "#E5ECF6",
            "gridcolor": "white",
            "gridwidth": 2,
            "linecolor": "white",
            "showbackground": true,
            "ticks": "",
            "zerolinecolor": "white"
           },
           "zaxis": {
            "backgroundcolor": "#E5ECF6",
            "gridcolor": "white",
            "gridwidth": 2,
            "linecolor": "white",
            "showbackground": true,
            "ticks": "",
            "zerolinecolor": "white"
           }
          },
          "shapedefaults": {
           "line": {
            "color": "#2a3f5f"
           }
          },
          "ternary": {
           "aaxis": {
            "gridcolor": "white",
            "linecolor": "white",
            "ticks": ""
           },
           "baxis": {
            "gridcolor": "white",
            "linecolor": "white",
            "ticks": ""
           },
           "bgcolor": "#E5ECF6",
           "caxis": {
            "gridcolor": "white",
            "linecolor": "white",
            "ticks": ""
           }
          },
          "title": {
           "x": 0.05
          },
          "xaxis": {
           "automargin": true,
           "gridcolor": "white",
           "linecolor": "white",
           "ticks": "",
           "title": {
            "standoff": 15
           },
           "zerolinecolor": "white",
           "zerolinewidth": 2
          },
          "yaxis": {
           "automargin": true,
           "gridcolor": "white",
           "linecolor": "white",
           "ticks": "",
           "title": {
            "standoff": 15
           },
           "zerolinecolor": "white",
           "zerolinewidth": 2
          }
         }
        },
        "title": {
         "text": "Elbow Method Chart - Mean SSE"
        },
        "xaxis": {
         "title": {
          "text": "Distance between cluster"
         }
        },
        "yaxis": {
         "title": {
          "text": "Mean intra cluster SSE"
         }
        }
       }
      }
     },
     "metadata": {},
     "output_type": "display_data"
    }
   ],
   "source": [
    "fig = go.Figure()\n",
    "fig.add_trace(go.Scatter(x=t_values, y=avg_sse, mode='lines+markers'))\n",
    "fig.update_xaxes(title_text=\"Distance between cluster\")\n",
    "fig.update_yaxes(title_text=\"Mean intra cluster SSE\")\n",
    "fig.update_layout(title=\"Elbow Method Chart - Mean SSE\")"
   ]
  },
  {
   "cell_type": "markdown",
   "metadata": {},
   "source": [
    "### Dendrogram visualization\n",
    "\n",
    "Currently disabled because there are too many clusters."
   ]
  },
  {
   "cell_type": "code",
   "execution_count": 11,
   "metadata": {},
   "outputs": [
    {
     "data": {
      "application/vnd.plotly.v1+json": {
       "config": {
        "plotlyServerURL": "https://plot.ly"
       },
       "data": [
        {
         "hoverinfo": "text",
         "marker": {
          "color": "rgb(61,153,112)"
         },
         "mode": "lines",
         "type": "scatter",
         "x": [
          5,
          5,
          15,
          15
         ],
         "xaxis": "x",
         "y": [
          0,
          19.998779334130177,
          19.998779334130177,
          0
         ],
         "yaxis": "y"
        },
        {
         "hoverinfo": "text",
         "marker": {
          "color": "rgb(61,153,112)"
         },
         "mode": "lines",
         "type": "scatter",
         "x": [
          25,
          25,
          35,
          35
         ],
         "xaxis": "x",
         "y": [
          0,
          43.04783648695867,
          43.04783648695867,
          0
         ],
         "yaxis": "y"
        },
        {
         "hoverinfo": "text",
         "marker": {
          "color": "rgb(61,153,112)"
         },
         "mode": "lines",
         "type": "scatter",
         "x": [
          10,
          10,
          30,
          30
         ],
         "xaxis": "x",
         "y": [
          19.998779334130177,
          64.054070726548,
          64.054070726548,
          43.04783648695867
         ],
         "yaxis": "y"
        },
        {
         "hoverinfo": "text",
         "marker": {
          "color": "rgb(61,153,112)"
         },
         "mode": "lines",
         "type": "scatter",
         "x": [
          55,
          55,
          65,
          65
         ],
         "xaxis": "x",
         "y": [
          0,
          19.980478296063215,
          19.980478296063215,
          0
         ],
         "yaxis": "y"
        },
        {
         "hoverinfo": "text",
         "marker": {
          "color": "rgb(61,153,112)"
         },
         "mode": "lines",
         "type": "scatter",
         "x": [
          75,
          75,
          85,
          85
         ],
         "xaxis": "x",
         "y": [
          0,
          19.995117783691995,
          19.995117783691995,
          0
         ],
         "yaxis": "y"
        },
        {
         "hoverinfo": "text",
         "marker": {
          "color": "rgb(61,153,112)"
         },
         "mode": "lines",
         "type": "scatter",
         "x": [
          60,
          60,
          80,
          80
         ],
         "xaxis": "x",
         "y": [
          19.980478296063215,
          59.96583005347358,
          59.96583005347358,
          19.995117783691995
         ],
         "yaxis": "y"
        },
        {
         "hoverinfo": "text",
         "marker": {
          "color": "rgb(61,153,112)"
         },
         "mode": "lines",
         "type": "scatter",
         "x": [
          45,
          45,
          70,
          70
         ],
         "xaxis": "x",
         "y": [
          0,
          87.47758823672201,
          87.47758823672201,
          59.96583005347358
         ],
         "yaxis": "y"
        },
        {
         "hoverinfo": "text",
         "marker": {
          "color": "rgb(61,153,112)"
         },
         "mode": "lines",
         "type": "scatter",
         "x": [
          20,
          20,
          57.5,
          57.5
         ],
         "xaxis": "x",
         "y": [
          64.054070726548,
          142.455524355376,
          142.455524355376,
          87.47758823672201
         ],
         "yaxis": "y"
        },
        {
         "hoverinfo": "text",
         "marker": {
          "color": "rgb(61,153,112)"
         },
         "mode": "lines",
         "type": "scatter",
         "x": [
          105,
          105,
          115,
          115
         ],
         "xaxis": "x",
         "y": [
          0,
          15.811388300841896,
          15.811388300841896,
          0
         ],
         "yaxis": "y"
        },
        {
         "hoverinfo": "text",
         "marker": {
          "color": "rgb(61,153,112)"
         },
         "mode": "lines",
         "type": "scatter",
         "x": [
          125,
          125,
          135,
          135
         ],
         "xaxis": "x",
         "y": [
          0,
          18.791620472966134,
          18.791620472966134,
          0
         ],
         "yaxis": "y"
        },
        {
         "hoverinfo": "text",
         "marker": {
          "color": "rgb(61,153,112)"
         },
         "mode": "lines",
         "type": "scatter",
         "x": [
          110,
          110,
          130,
          130
         ],
         "xaxis": "x",
         "y": [
          15.811388300841896,
          51.99158585771355,
          51.99158585771355,
          18.791620472966134
         ],
         "yaxis": "y"
        },
        {
         "hoverinfo": "text",
         "marker": {
          "color": "rgb(61,153,112)"
         },
         "mode": "lines",
         "type": "scatter",
         "x": [
          145,
          145,
          155,
          155
         ],
         "xaxis": "x",
         "y": [
          0,
          19.689980002529204,
          19.689980002529204,
          0
         ],
         "yaxis": "y"
        },
        {
         "hoverinfo": "text",
         "marker": {
          "color": "rgb(61,153,112)"
         },
         "mode": "lines",
         "type": "scatter",
         "x": [
          165,
          165,
          175,
          175
         ],
         "xaxis": "x",
         "y": [
          0,
          19.922028185685562,
          19.922028185685562,
          0
         ],
         "yaxis": "y"
        },
        {
         "hoverinfo": "text",
         "marker": {
          "color": "rgb(61,153,112)"
         },
         "mode": "lines",
         "type": "scatter",
         "x": [
          150,
          150,
          170,
          170
         ],
         "xaxis": "x",
         "y": [
          19.689980002529204,
          59.45564014062291,
          59.45564014062291,
          19.922028185685562
         ],
         "yaxis": "y"
        },
        {
         "hoverinfo": "text",
         "marker": {
          "color": "rgb(61,153,112)"
         },
         "mode": "lines",
         "type": "scatter",
         "x": [
          120,
          120,
          160,
          160
         ],
         "xaxis": "x",
         "y": [
          51.99158585771355,
          130.45597804252301,
          130.45597804252301,
          59.45564014062291
         ],
         "yaxis": "y"
        },
        {
         "hoverinfo": "text",
         "marker": {
          "color": "rgb(61,153,112)"
         },
         "mode": "lines",
         "type": "scatter",
         "x": [
          95,
          95,
          140,
          140
         ],
         "xaxis": "x",
         "y": [
          0,
          172.04735676404638,
          172.04735676404638,
          130.45597804252301
         ],
         "yaxis": "y"
        },
        {
         "hoverinfo": "text",
         "marker": {
          "color": "rgb(61,153,112)"
         },
         "mode": "lines",
         "type": "scatter",
         "x": [
          38.75,
          38.75,
          117.5,
          117.5
         ],
         "xaxis": "x",
         "y": [
          142.455524355376,
          292.6656198707544,
          292.6656198707544,
          172.04735676404638
         ],
         "yaxis": "y"
        },
        {
         "hoverinfo": "text",
         "marker": {
          "color": "rgb(61,153,112)"
         },
         "mode": "lines",
         "type": "scatter",
         "x": [
          185,
          185,
          195,
          195
         ],
         "xaxis": "x",
         "y": [
          0,
          20,
          20,
          0
         ],
         "yaxis": "y"
        },
        {
         "hoverinfo": "text",
         "marker": {
          "color": "rgb(61,153,112)"
         },
         "mode": "lines",
         "type": "scatter",
         "x": [
          205,
          205,
          215,
          215
         ],
         "xaxis": "x",
         "y": [
          0,
          20,
          20,
          0
         ],
         "yaxis": "y"
        },
        {
         "hoverinfo": "text",
         "marker": {
          "color": "rgb(61,153,112)"
         },
         "mode": "lines",
         "type": "scatter",
         "x": [
          190,
          190,
          210,
          210
         ],
         "xaxis": "x",
         "y": [
          20,
          60,
          60,
          20
         ],
         "yaxis": "y"
        },
        {
         "hoverinfo": "text",
         "marker": {
          "color": "rgb(61,153,112)"
         },
         "mode": "lines",
         "type": "scatter",
         "x": [
          225,
          225,
          235,
          235
         ],
         "xaxis": "x",
         "y": [
          0,
          20,
          20,
          0
         ],
         "yaxis": "y"
        },
        {
         "hoverinfo": "text",
         "marker": {
          "color": "rgb(61,153,112)"
         },
         "mode": "lines",
         "type": "scatter",
         "x": [
          255,
          255,
          265,
          265
         ],
         "xaxis": "x",
         "y": [
          0,
          20,
          20,
          0
         ],
         "yaxis": "y"
        },
        {
         "hoverinfo": "text",
         "marker": {
          "color": "rgb(61,153,112)"
         },
         "mode": "lines",
         "type": "scatter",
         "x": [
          245,
          245,
          260,
          260
         ],
         "xaxis": "x",
         "y": [
          0,
          40,
          40,
          20
         ],
         "yaxis": "y"
        },
        {
         "hoverinfo": "text",
         "marker": {
          "color": "rgb(61,153,112)"
         },
         "mode": "lines",
         "type": "scatter",
         "x": [
          230,
          230,
          252.5,
          252.5
         ],
         "xaxis": "x",
         "y": [
          20,
          80,
          80,
          40
         ],
         "yaxis": "y"
        },
        {
         "hoverinfo": "text",
         "marker": {
          "color": "rgb(61,153,112)"
         },
         "mode": "lines",
         "type": "scatter",
         "x": [
          200,
          200,
          241.25,
          241.25
         ],
         "xaxis": "x",
         "y": [
          60,
          160,
          160,
          80
         ],
         "yaxis": "y"
        },
        {
         "hoverinfo": "text",
         "marker": {
          "color": "rgb(61,153,112)"
         },
         "mode": "lines",
         "type": "scatter",
         "x": [
          275,
          275,
          285,
          285
         ],
         "xaxis": "x",
         "y": [
          0,
          20,
          20,
          0
         ],
         "yaxis": "y"
        },
        {
         "hoverinfo": "text",
         "marker": {
          "color": "rgb(61,153,112)"
         },
         "mode": "lines",
         "type": "scatter",
         "x": [
          295,
          295,
          305,
          305
         ],
         "xaxis": "x",
         "y": [
          0,
          20,
          20,
          0
         ],
         "yaxis": "y"
        },
        {
         "hoverinfo": "text",
         "marker": {
          "color": "rgb(61,153,112)"
         },
         "mode": "lines",
         "type": "scatter",
         "x": [
          280,
          280,
          300,
          300
         ],
         "xaxis": "x",
         "y": [
          20,
          60,
          60,
          20
         ],
         "yaxis": "y"
        },
        {
         "hoverinfo": "text",
         "marker": {
          "color": "rgb(61,153,112)"
         },
         "mode": "lines",
         "type": "scatter",
         "x": [
          315,
          315,
          325,
          325
         ],
         "xaxis": "x",
         "y": [
          0,
          20,
          20,
          0
         ],
         "yaxis": "y"
        },
        {
         "hoverinfo": "text",
         "marker": {
          "color": "rgb(61,153,112)"
         },
         "mode": "lines",
         "type": "scatter",
         "x": [
          335,
          335,
          345,
          345
         ],
         "xaxis": "x",
         "y": [
          0,
          20,
          20,
          0
         ],
         "yaxis": "y"
        },
        {
         "hoverinfo": "text",
         "marker": {
          "color": "rgb(61,153,112)"
         },
         "mode": "lines",
         "type": "scatter",
         "x": [
          320,
          320,
          340,
          340
         ],
         "xaxis": "x",
         "y": [
          20,
          60,
          60,
          20
         ],
         "yaxis": "y"
        },
        {
         "hoverinfo": "text",
         "marker": {
          "color": "rgb(61,153,112)"
         },
         "mode": "lines",
         "type": "scatter",
         "x": [
          290,
          290,
          330,
          330
         ],
         "xaxis": "x",
         "y": [
          60,
          140,
          140,
          60
         ],
         "yaxis": "y"
        },
        {
         "hoverinfo": "text",
         "marker": {
          "color": "rgb(61,153,112)"
         },
         "mode": "lines",
         "type": "scatter",
         "x": [
          355,
          355,
          365,
          365
         ],
         "xaxis": "x",
         "y": [
          0,
          20,
          20,
          0
         ],
         "yaxis": "y"
        },
        {
         "hoverinfo": "text",
         "marker": {
          "color": "rgb(61,153,112)"
         },
         "mode": "lines",
         "type": "scatter",
         "x": [
          375,
          375,
          385,
          385
         ],
         "xaxis": "x",
         "y": [
          0,
          20,
          20,
          0
         ],
         "yaxis": "y"
        },
        {
         "hoverinfo": "text",
         "marker": {
          "color": "rgb(61,153,112)"
         },
         "mode": "lines",
         "type": "scatter",
         "x": [
          360,
          360,
          380,
          380
         ],
         "xaxis": "x",
         "y": [
          20,
          60,
          60,
          20
         ],
         "yaxis": "y"
        },
        {
         "hoverinfo": "text",
         "marker": {
          "color": "rgb(61,153,112)"
         },
         "mode": "lines",
         "type": "scatter",
         "x": [
          395,
          395,
          405,
          405
         ],
         "xaxis": "x",
         "y": [
          0,
          20,
          20,
          0
         ],
         "yaxis": "y"
        },
        {
         "hoverinfo": "text",
         "marker": {
          "color": "rgb(61,153,112)"
         },
         "mode": "lines",
         "type": "scatter",
         "x": [
          415,
          415,
          425,
          425
         ],
         "xaxis": "x",
         "y": [
          0,
          20,
          20,
          0
         ],
         "yaxis": "y"
        },
        {
         "hoverinfo": "text",
         "marker": {
          "color": "rgb(61,153,112)"
         },
         "mode": "lines",
         "type": "scatter",
         "x": [
          400,
          400,
          420,
          420
         ],
         "xaxis": "x",
         "y": [
          20,
          60,
          60,
          20
         ],
         "yaxis": "y"
        },
        {
         "hoverinfo": "text",
         "marker": {
          "color": "rgb(61,153,112)"
         },
         "mode": "lines",
         "type": "scatter",
         "x": [
          370,
          370,
          410,
          410
         ],
         "xaxis": "x",
         "y": [
          60,
          140,
          140,
          60
         ],
         "yaxis": "y"
        },
        {
         "hoverinfo": "text",
         "marker": {
          "color": "rgb(61,153,112)"
         },
         "mode": "lines",
         "type": "scatter",
         "x": [
          310,
          310,
          390,
          390
         ],
         "xaxis": "x",
         "y": [
          140,
          300,
          300,
          140
         ],
         "yaxis": "y"
        },
        {
         "hoverinfo": "text",
         "marker": {
          "color": "rgb(61,153,112)"
         },
         "mode": "lines",
         "type": "scatter",
         "x": [
          220.625,
          220.625,
          350,
          350
         ],
         "xaxis": "x",
         "y": [
          160,
          480,
          480,
          300
         ],
         "yaxis": "y"
        },
        {
         "hoverinfo": "text",
         "marker": {
          "color": "rgb(61,153,112)"
         },
         "mode": "lines",
         "type": "scatter",
         "x": [
          78.125,
          78.125,
          285.3125,
          285.3125
         ],
         "xaxis": "x",
         "y": [
          292.6656198707544,
          821.4640877432158,
          821.4640877432158,
          480
         ],
         "yaxis": "y"
        },
        {
         "hoverinfo": "text",
         "marker": {
          "color": "rgb(61,153,112)"
         },
         "mode": "lines",
         "type": "scatter",
         "x": [
          435,
          435,
          445,
          445
         ],
         "xaxis": "x",
         "y": [
          0,
          20,
          20,
          0
         ],
         "yaxis": "y"
        },
        {
         "hoverinfo": "text",
         "marker": {
          "color": "rgb(61,153,112)"
         },
         "mode": "lines",
         "type": "scatter",
         "x": [
          455,
          455,
          465,
          465
         ],
         "xaxis": "x",
         "y": [
          0,
          20,
          20,
          0
         ],
         "yaxis": "y"
        },
        {
         "hoverinfo": "text",
         "marker": {
          "color": "rgb(61,153,112)"
         },
         "mode": "lines",
         "type": "scatter",
         "x": [
          440,
          440,
          460,
          460
         ],
         "xaxis": "x",
         "y": [
          20,
          60,
          60,
          20
         ],
         "yaxis": "y"
        },
        {
         "hoverinfo": "text",
         "marker": {
          "color": "rgb(61,153,112)"
         },
         "mode": "lines",
         "type": "scatter",
         "x": [
          475,
          475,
          485,
          485
         ],
         "xaxis": "x",
         "y": [
          0,
          20,
          20,
          0
         ],
         "yaxis": "y"
        },
        {
         "hoverinfo": "text",
         "marker": {
          "color": "rgb(61,153,112)"
         },
         "mode": "lines",
         "type": "scatter",
         "x": [
          495,
          495,
          505,
          505
         ],
         "xaxis": "x",
         "y": [
          0,
          20,
          20,
          0
         ],
         "yaxis": "y"
        },
        {
         "hoverinfo": "text",
         "marker": {
          "color": "rgb(61,153,112)"
         },
         "mode": "lines",
         "type": "scatter",
         "x": [
          480,
          480,
          500,
          500
         ],
         "xaxis": "x",
         "y": [
          20,
          60,
          60,
          20
         ],
         "yaxis": "y"
        },
        {
         "hoverinfo": "text",
         "marker": {
          "color": "rgb(61,153,112)"
         },
         "mode": "lines",
         "type": "scatter",
         "x": [
          450,
          450,
          490,
          490
         ],
         "xaxis": "x",
         "y": [
          60,
          140,
          140,
          60
         ],
         "yaxis": "y"
        },
        {
         "hoverinfo": "text",
         "marker": {
          "color": "rgb(61,153,112)"
         },
         "mode": "lines",
         "type": "scatter",
         "x": [
          515,
          515,
          525,
          525
         ],
         "xaxis": "x",
         "y": [
          0,
          20,
          20,
          0
         ],
         "yaxis": "y"
        },
        {
         "hoverinfo": "text",
         "marker": {
          "color": "rgb(61,153,112)"
         },
         "mode": "lines",
         "type": "scatter",
         "x": [
          535,
          535,
          545,
          545
         ],
         "xaxis": "x",
         "y": [
          0,
          20,
          20,
          0
         ],
         "yaxis": "y"
        },
        {
         "hoverinfo": "text",
         "marker": {
          "color": "rgb(61,153,112)"
         },
         "mode": "lines",
         "type": "scatter",
         "x": [
          520,
          520,
          540,
          540
         ],
         "xaxis": "x",
         "y": [
          20,
          60,
          60,
          20
         ],
         "yaxis": "y"
        },
        {
         "hoverinfo": "text",
         "marker": {
          "color": "rgb(61,153,112)"
         },
         "mode": "lines",
         "type": "scatter",
         "x": [
          555,
          555,
          565,
          565
         ],
         "xaxis": "x",
         "y": [
          0,
          20,
          20,
          0
         ],
         "yaxis": "y"
        },
        {
         "hoverinfo": "text",
         "marker": {
          "color": "rgb(61,153,112)"
         },
         "mode": "lines",
         "type": "scatter",
         "x": [
          575,
          575,
          585,
          585
         ],
         "xaxis": "x",
         "y": [
          0,
          20,
          20,
          0
         ],
         "yaxis": "y"
        },
        {
         "hoverinfo": "text",
         "marker": {
          "color": "rgb(61,153,112)"
         },
         "mode": "lines",
         "type": "scatter",
         "x": [
          560,
          560,
          580,
          580
         ],
         "xaxis": "x",
         "y": [
          20,
          60,
          60,
          20
         ],
         "yaxis": "y"
        },
        {
         "hoverinfo": "text",
         "marker": {
          "color": "rgb(61,153,112)"
         },
         "mode": "lines",
         "type": "scatter",
         "x": [
          530,
          530,
          570,
          570
         ],
         "xaxis": "x",
         "y": [
          60,
          140,
          140,
          60
         ],
         "yaxis": "y"
        },
        {
         "hoverinfo": "text",
         "marker": {
          "color": "rgb(61,153,112)"
         },
         "mode": "lines",
         "type": "scatter",
         "x": [
          470,
          470,
          550,
          550
         ],
         "xaxis": "x",
         "y": [
          140,
          300,
          300,
          140
         ],
         "yaxis": "y"
        },
        {
         "hoverinfo": "text",
         "marker": {
          "color": "rgb(61,153,112)"
         },
         "mode": "lines",
         "type": "scatter",
         "x": [
          595,
          595,
          605,
          605
         ],
         "xaxis": "x",
         "y": [
          0,
          20,
          20,
          0
         ],
         "yaxis": "y"
        },
        {
         "hoverinfo": "text",
         "marker": {
          "color": "rgb(61,153,112)"
         },
         "mode": "lines",
         "type": "scatter",
         "x": [
          615,
          615,
          625,
          625
         ],
         "xaxis": "x",
         "y": [
          0,
          20,
          20,
          0
         ],
         "yaxis": "y"
        },
        {
         "hoverinfo": "text",
         "marker": {
          "color": "rgb(61,153,112)"
         },
         "mode": "lines",
         "type": "scatter",
         "x": [
          600,
          600,
          620,
          620
         ],
         "xaxis": "x",
         "y": [
          20,
          60,
          60,
          20
         ],
         "yaxis": "y"
        },
        {
         "hoverinfo": "text",
         "marker": {
          "color": "rgb(61,153,112)"
         },
         "mode": "lines",
         "type": "scatter",
         "x": [
          635,
          635,
          645,
          645
         ],
         "xaxis": "x",
         "y": [
          0,
          20,
          20,
          0
         ],
         "yaxis": "y"
        },
        {
         "hoverinfo": "text",
         "marker": {
          "color": "rgb(61,153,112)"
         },
         "mode": "lines",
         "type": "scatter",
         "x": [
          655,
          655,
          665,
          665
         ],
         "xaxis": "x",
         "y": [
          0,
          20,
          20,
          0
         ],
         "yaxis": "y"
        },
        {
         "hoverinfo": "text",
         "marker": {
          "color": "rgb(61,153,112)"
         },
         "mode": "lines",
         "type": "scatter",
         "x": [
          640,
          640,
          660,
          660
         ],
         "xaxis": "x",
         "y": [
          20,
          60,
          60,
          20
         ],
         "yaxis": "y"
        },
        {
         "hoverinfo": "text",
         "marker": {
          "color": "rgb(61,153,112)"
         },
         "mode": "lines",
         "type": "scatter",
         "x": [
          610,
          610,
          650,
          650
         ],
         "xaxis": "x",
         "y": [
          60,
          140,
          140,
          60
         ],
         "yaxis": "y"
        },
        {
         "hoverinfo": "text",
         "marker": {
          "color": "rgb(61,153,112)"
         },
         "mode": "lines",
         "type": "scatter",
         "x": [
          675,
          675,
          685,
          685
         ],
         "xaxis": "x",
         "y": [
          0,
          20,
          20,
          0
         ],
         "yaxis": "y"
        },
        {
         "hoverinfo": "text",
         "marker": {
          "color": "rgb(61,153,112)"
         },
         "mode": "lines",
         "type": "scatter",
         "x": [
          695,
          695,
          705,
          705
         ],
         "xaxis": "x",
         "y": [
          0,
          20,
          20,
          0
         ],
         "yaxis": "y"
        },
        {
         "hoverinfo": "text",
         "marker": {
          "color": "rgb(61,153,112)"
         },
         "mode": "lines",
         "type": "scatter",
         "x": [
          680,
          680,
          700,
          700
         ],
         "xaxis": "x",
         "y": [
          20,
          60,
          60,
          20
         ],
         "yaxis": "y"
        },
        {
         "hoverinfo": "text",
         "marker": {
          "color": "rgb(61,153,112)"
         },
         "mode": "lines",
         "type": "scatter",
         "x": [
          715,
          715,
          725,
          725
         ],
         "xaxis": "x",
         "y": [
          0,
          20,
          20,
          0
         ],
         "yaxis": "y"
        },
        {
         "hoverinfo": "text",
         "marker": {
          "color": "rgb(61,153,112)"
         },
         "mode": "lines",
         "type": "scatter",
         "x": [
          735,
          735,
          745,
          745
         ],
         "xaxis": "x",
         "y": [
          0,
          20,
          20,
          0
         ],
         "yaxis": "y"
        },
        {
         "hoverinfo": "text",
         "marker": {
          "color": "rgb(61,153,112)"
         },
         "mode": "lines",
         "type": "scatter",
         "x": [
          720,
          720,
          740,
          740
         ],
         "xaxis": "x",
         "y": [
          20,
          60,
          60,
          20
         ],
         "yaxis": "y"
        },
        {
         "hoverinfo": "text",
         "marker": {
          "color": "rgb(61,153,112)"
         },
         "mode": "lines",
         "type": "scatter",
         "x": [
          690,
          690,
          730,
          730
         ],
         "xaxis": "x",
         "y": [
          60,
          140,
          140,
          60
         ],
         "yaxis": "y"
        },
        {
         "hoverinfo": "text",
         "marker": {
          "color": "rgb(61,153,112)"
         },
         "mode": "lines",
         "type": "scatter",
         "x": [
          630,
          630,
          710,
          710
         ],
         "xaxis": "x",
         "y": [
          140,
          300,
          300,
          140
         ],
         "yaxis": "y"
        },
        {
         "hoverinfo": "text",
         "marker": {
          "color": "rgb(61,153,112)"
         },
         "mode": "lines",
         "type": "scatter",
         "x": [
          510,
          510,
          670,
          670
         ],
         "xaxis": "x",
         "y": [
          300,
          620,
          620,
          300
         ],
         "yaxis": "y"
        },
        {
         "hoverinfo": "text",
         "marker": {
          "color": "rgb(61,153,112)"
         },
         "mode": "lines",
         "type": "scatter",
         "x": [
          755,
          755,
          765,
          765
         ],
         "xaxis": "x",
         "y": [
          0,
          20,
          20,
          0
         ],
         "yaxis": "y"
        },
        {
         "hoverinfo": "text",
         "marker": {
          "color": "rgb(61,153,112)"
         },
         "mode": "lines",
         "type": "scatter",
         "x": [
          775,
          775,
          785,
          785
         ],
         "xaxis": "x",
         "y": [
          0,
          20,
          20,
          0
         ],
         "yaxis": "y"
        },
        {
         "hoverinfo": "text",
         "marker": {
          "color": "rgb(61,153,112)"
         },
         "mode": "lines",
         "type": "scatter",
         "x": [
          760,
          760,
          780,
          780
         ],
         "xaxis": "x",
         "y": [
          20,
          60,
          60,
          20
         ],
         "yaxis": "y"
        },
        {
         "hoverinfo": "text",
         "marker": {
          "color": "rgb(61,153,112)"
         },
         "mode": "lines",
         "type": "scatter",
         "x": [
          795,
          795,
          805,
          805
         ],
         "xaxis": "x",
         "y": [
          0,
          20,
          20,
          0
         ],
         "yaxis": "y"
        },
        {
         "hoverinfo": "text",
         "marker": {
          "color": "rgb(61,153,112)"
         },
         "mode": "lines",
         "type": "scatter",
         "x": [
          815,
          815,
          825,
          825
         ],
         "xaxis": "x",
         "y": [
          0,
          20,
          20,
          0
         ],
         "yaxis": "y"
        },
        {
         "hoverinfo": "text",
         "marker": {
          "color": "rgb(61,153,112)"
         },
         "mode": "lines",
         "type": "scatter",
         "x": [
          800,
          800,
          820,
          820
         ],
         "xaxis": "x",
         "y": [
          20,
          60,
          60,
          20
         ],
         "yaxis": "y"
        },
        {
         "hoverinfo": "text",
         "marker": {
          "color": "rgb(61,153,112)"
         },
         "mode": "lines",
         "type": "scatter",
         "x": [
          770,
          770,
          810,
          810
         ],
         "xaxis": "x",
         "y": [
          60,
          140,
          140,
          60
         ],
         "yaxis": "y"
        },
        {
         "hoverinfo": "text",
         "marker": {
          "color": "rgb(61,153,112)"
         },
         "mode": "lines",
         "type": "scatter",
         "x": [
          835,
          835,
          845,
          845
         ],
         "xaxis": "x",
         "y": [
          0,
          20,
          20,
          0
         ],
         "yaxis": "y"
        },
        {
         "hoverinfo": "text",
         "marker": {
          "color": "rgb(61,153,112)"
         },
         "mode": "lines",
         "type": "scatter",
         "x": [
          855,
          855,
          865,
          865
         ],
         "xaxis": "x",
         "y": [
          0,
          20,
          20,
          0
         ],
         "yaxis": "y"
        },
        {
         "hoverinfo": "text",
         "marker": {
          "color": "rgb(61,153,112)"
         },
         "mode": "lines",
         "type": "scatter",
         "x": [
          840,
          840,
          860,
          860
         ],
         "xaxis": "x",
         "y": [
          20,
          60,
          60,
          20
         ],
         "yaxis": "y"
        },
        {
         "hoverinfo": "text",
         "marker": {
          "color": "rgb(61,153,112)"
         },
         "mode": "lines",
         "type": "scatter",
         "x": [
          875,
          875,
          885,
          885
         ],
         "xaxis": "x",
         "y": [
          0,
          20,
          20,
          0
         ],
         "yaxis": "y"
        },
        {
         "hoverinfo": "text",
         "marker": {
          "color": "rgb(61,153,112)"
         },
         "mode": "lines",
         "type": "scatter",
         "x": [
          895,
          895,
          905,
          905
         ],
         "xaxis": "x",
         "y": [
          0,
          20,
          20,
          0
         ],
         "yaxis": "y"
        },
        {
         "hoverinfo": "text",
         "marker": {
          "color": "rgb(61,153,112)"
         },
         "mode": "lines",
         "type": "scatter",
         "x": [
          880,
          880,
          900,
          900
         ],
         "xaxis": "x",
         "y": [
          20,
          60,
          60,
          20
         ],
         "yaxis": "y"
        },
        {
         "hoverinfo": "text",
         "marker": {
          "color": "rgb(61,153,112)"
         },
         "mode": "lines",
         "type": "scatter",
         "x": [
          850,
          850,
          890,
          890
         ],
         "xaxis": "x",
         "y": [
          60,
          140,
          140,
          60
         ],
         "yaxis": "y"
        },
        {
         "hoverinfo": "text",
         "marker": {
          "color": "rgb(61,153,112)"
         },
         "mode": "lines",
         "type": "scatter",
         "x": [
          790,
          790,
          870,
          870
         ],
         "xaxis": "x",
         "y": [
          140,
          300,
          300,
          140
         ],
         "yaxis": "y"
        },
        {
         "hoverinfo": "text",
         "marker": {
          "color": "rgb(61,153,112)"
         },
         "mode": "lines",
         "type": "scatter",
         "x": [
          915,
          915,
          925,
          925
         ],
         "xaxis": "x",
         "y": [
          0,
          20,
          20,
          0
         ],
         "yaxis": "y"
        },
        {
         "hoverinfo": "text",
         "marker": {
          "color": "rgb(61,153,112)"
         },
         "mode": "lines",
         "type": "scatter",
         "x": [
          935,
          935,
          945,
          945
         ],
         "xaxis": "x",
         "y": [
          0,
          20,
          20,
          0
         ],
         "yaxis": "y"
        },
        {
         "hoverinfo": "text",
         "marker": {
          "color": "rgb(61,153,112)"
         },
         "mode": "lines",
         "type": "scatter",
         "x": [
          920,
          920,
          940,
          940
         ],
         "xaxis": "x",
         "y": [
          20,
          60,
          60,
          20
         ],
         "yaxis": "y"
        },
        {
         "hoverinfo": "text",
         "marker": {
          "color": "rgb(61,153,112)"
         },
         "mode": "lines",
         "type": "scatter",
         "x": [
          955,
          955,
          965,
          965
         ],
         "xaxis": "x",
         "y": [
          0,
          20,
          20,
          0
         ],
         "yaxis": "y"
        },
        {
         "hoverinfo": "text",
         "marker": {
          "color": "rgb(61,153,112)"
         },
         "mode": "lines",
         "type": "scatter",
         "x": [
          975,
          975,
          985,
          985
         ],
         "xaxis": "x",
         "y": [
          0,
          20,
          20,
          0
         ],
         "yaxis": "y"
        },
        {
         "hoverinfo": "text",
         "marker": {
          "color": "rgb(61,153,112)"
         },
         "mode": "lines",
         "type": "scatter",
         "x": [
          960,
          960,
          980,
          980
         ],
         "xaxis": "x",
         "y": [
          20,
          60,
          60,
          20
         ],
         "yaxis": "y"
        },
        {
         "hoverinfo": "text",
         "marker": {
          "color": "rgb(61,153,112)"
         },
         "mode": "lines",
         "type": "scatter",
         "x": [
          930,
          930,
          970,
          970
         ],
         "xaxis": "x",
         "y": [
          60,
          140,
          140,
          60
         ],
         "yaxis": "y"
        },
        {
         "hoverinfo": "text",
         "marker": {
          "color": "rgb(61,153,112)"
         },
         "mode": "lines",
         "type": "scatter",
         "x": [
          995,
          995,
          1005,
          1005
         ],
         "xaxis": "x",
         "y": [
          0,
          20,
          20,
          0
         ],
         "yaxis": "y"
        },
        {
         "hoverinfo": "text",
         "marker": {
          "color": "rgb(61,153,112)"
         },
         "mode": "lines",
         "type": "scatter",
         "x": [
          1015,
          1015,
          1025,
          1025
         ],
         "xaxis": "x",
         "y": [
          0,
          20,
          20,
          0
         ],
         "yaxis": "y"
        },
        {
         "hoverinfo": "text",
         "marker": {
          "color": "rgb(61,153,112)"
         },
         "mode": "lines",
         "type": "scatter",
         "x": [
          1000,
          1000,
          1020,
          1020
         ],
         "xaxis": "x",
         "y": [
          20,
          60,
          60,
          20
         ],
         "yaxis": "y"
        },
        {
         "hoverinfo": "text",
         "marker": {
          "color": "rgb(61,153,112)"
         },
         "mode": "lines",
         "type": "scatter",
         "x": [
          1035,
          1035,
          1045,
          1045
         ],
         "xaxis": "x",
         "y": [
          0,
          20,
          20,
          0
         ],
         "yaxis": "y"
        },
        {
         "hoverinfo": "text",
         "marker": {
          "color": "rgb(61,153,112)"
         },
         "mode": "lines",
         "type": "scatter",
         "x": [
          1055,
          1055,
          1065,
          1065
         ],
         "xaxis": "x",
         "y": [
          0,
          20,
          20,
          0
         ],
         "yaxis": "y"
        },
        {
         "hoverinfo": "text",
         "marker": {
          "color": "rgb(61,153,112)"
         },
         "mode": "lines",
         "type": "scatter",
         "x": [
          1040,
          1040,
          1060,
          1060
         ],
         "xaxis": "x",
         "y": [
          20,
          60,
          60,
          20
         ],
         "yaxis": "y"
        },
        {
         "hoverinfo": "text",
         "marker": {
          "color": "rgb(61,153,112)"
         },
         "mode": "lines",
         "type": "scatter",
         "x": [
          1010,
          1010,
          1050,
          1050
         ],
         "xaxis": "x",
         "y": [
          60,
          140,
          140,
          60
         ],
         "yaxis": "y"
        },
        {
         "hoverinfo": "text",
         "marker": {
          "color": "rgb(61,153,112)"
         },
         "mode": "lines",
         "type": "scatter",
         "x": [
          950,
          950,
          1030,
          1030
         ],
         "xaxis": "x",
         "y": [
          140,
          300,
          300,
          140
         ],
         "yaxis": "y"
        },
        {
         "hoverinfo": "text",
         "marker": {
          "color": "rgb(61,153,112)"
         },
         "mode": "lines",
         "type": "scatter",
         "x": [
          830,
          830,
          990,
          990
         ],
         "xaxis": "x",
         "y": [
          300,
          620,
          620,
          300
         ],
         "yaxis": "y"
        },
        {
         "hoverinfo": "text",
         "marker": {
          "color": "rgb(61,153,112)"
         },
         "mode": "lines",
         "type": "scatter",
         "x": [
          590,
          590,
          910,
          910
         ],
         "xaxis": "x",
         "y": [
          620,
          1260,
          1260,
          620
         ],
         "yaxis": "y"
        },
        {
         "hoverinfo": "text",
         "marker": {
          "color": "rgb(61,153,112)"
         },
         "mode": "lines",
         "type": "scatter",
         "x": [
          181.71875,
          181.71875,
          750,
          750
         ],
         "xaxis": "x",
         "y": [
          821.4640877432158,
          2101.333729507118,
          2101.333729507118,
          1260
         ],
         "yaxis": "y"
        },
        {
         "hoverinfo": "text",
         "marker": {
          "color": "rgb(61,153,112)"
         },
         "mode": "lines",
         "type": "scatter",
         "x": [
          1075,
          1075,
          1085,
          1085
         ],
         "xaxis": "x",
         "y": [
          0,
          20,
          20,
          0
         ],
         "yaxis": "y"
        },
        {
         "hoverinfo": "text",
         "marker": {
          "color": "rgb(61,153,112)"
         },
         "mode": "lines",
         "type": "scatter",
         "x": [
          1095,
          1095,
          1105,
          1105
         ],
         "xaxis": "x",
         "y": [
          0,
          20,
          20,
          0
         ],
         "yaxis": "y"
        },
        {
         "hoverinfo": "text",
         "marker": {
          "color": "rgb(61,153,112)"
         },
         "mode": "lines",
         "type": "scatter",
         "x": [
          1080,
          1080,
          1100,
          1100
         ],
         "xaxis": "x",
         "y": [
          20,
          60,
          60,
          20
         ],
         "yaxis": "y"
        },
        {
         "hoverinfo": "text",
         "marker": {
          "color": "rgb(61,153,112)"
         },
         "mode": "lines",
         "type": "scatter",
         "x": [
          1115,
          1115,
          1125,
          1125
         ],
         "xaxis": "x",
         "y": [
          0,
          20,
          20,
          0
         ],
         "yaxis": "y"
        },
        {
         "hoverinfo": "text",
         "marker": {
          "color": "rgb(61,153,112)"
         },
         "mode": "lines",
         "type": "scatter",
         "x": [
          1135,
          1135,
          1145,
          1145
         ],
         "xaxis": "x",
         "y": [
          0,
          20,
          20,
          0
         ],
         "yaxis": "y"
        },
        {
         "hoverinfo": "text",
         "marker": {
          "color": "rgb(61,153,112)"
         },
         "mode": "lines",
         "type": "scatter",
         "x": [
          1120,
          1120,
          1140,
          1140
         ],
         "xaxis": "x",
         "y": [
          20,
          60,
          60,
          20
         ],
         "yaxis": "y"
        },
        {
         "hoverinfo": "text",
         "marker": {
          "color": "rgb(61,153,112)"
         },
         "mode": "lines",
         "type": "scatter",
         "x": [
          1090,
          1090,
          1130,
          1130
         ],
         "xaxis": "x",
         "y": [
          60,
          140,
          140,
          60
         ],
         "yaxis": "y"
        },
        {
         "hoverinfo": "text",
         "marker": {
          "color": "rgb(61,153,112)"
         },
         "mode": "lines",
         "type": "scatter",
         "x": [
          1155,
          1155,
          1165,
          1165
         ],
         "xaxis": "x",
         "y": [
          0,
          20,
          20,
          0
         ],
         "yaxis": "y"
        },
        {
         "hoverinfo": "text",
         "marker": {
          "color": "rgb(61,153,112)"
         },
         "mode": "lines",
         "type": "scatter",
         "x": [
          1175,
          1175,
          1185,
          1185
         ],
         "xaxis": "x",
         "y": [
          0,
          20,
          20,
          0
         ],
         "yaxis": "y"
        },
        {
         "hoverinfo": "text",
         "marker": {
          "color": "rgb(61,153,112)"
         },
         "mode": "lines",
         "type": "scatter",
         "x": [
          1160,
          1160,
          1180,
          1180
         ],
         "xaxis": "x",
         "y": [
          20,
          60,
          60,
          20
         ],
         "yaxis": "y"
        },
        {
         "hoverinfo": "text",
         "marker": {
          "color": "rgb(61,153,112)"
         },
         "mode": "lines",
         "type": "scatter",
         "x": [
          1195,
          1195,
          1205,
          1205
         ],
         "xaxis": "x",
         "y": [
          0,
          20,
          20,
          0
         ],
         "yaxis": "y"
        },
        {
         "hoverinfo": "text",
         "marker": {
          "color": "rgb(61,153,112)"
         },
         "mode": "lines",
         "type": "scatter",
         "x": [
          1215,
          1215,
          1225,
          1225
         ],
         "xaxis": "x",
         "y": [
          0,
          20,
          20,
          0
         ],
         "yaxis": "y"
        },
        {
         "hoverinfo": "text",
         "marker": {
          "color": "rgb(61,153,112)"
         },
         "mode": "lines",
         "type": "scatter",
         "x": [
          1200,
          1200,
          1220,
          1220
         ],
         "xaxis": "x",
         "y": [
          20,
          60,
          60,
          20
         ],
         "yaxis": "y"
        },
        {
         "hoverinfo": "text",
         "marker": {
          "color": "rgb(61,153,112)"
         },
         "mode": "lines",
         "type": "scatter",
         "x": [
          1170,
          1170,
          1210,
          1210
         ],
         "xaxis": "x",
         "y": [
          60,
          140,
          140,
          60
         ],
         "yaxis": "y"
        },
        {
         "hoverinfo": "text",
         "marker": {
          "color": "rgb(61,153,112)"
         },
         "mode": "lines",
         "type": "scatter",
         "x": [
          1110,
          1110,
          1190,
          1190
         ],
         "xaxis": "x",
         "y": [
          140,
          300,
          300,
          140
         ],
         "yaxis": "y"
        },
        {
         "hoverinfo": "text",
         "marker": {
          "color": "rgb(61,153,112)"
         },
         "mode": "lines",
         "type": "scatter",
         "x": [
          1235,
          1235,
          1245,
          1245
         ],
         "xaxis": "x",
         "y": [
          0,
          20,
          20,
          0
         ],
         "yaxis": "y"
        },
        {
         "hoverinfo": "text",
         "marker": {
          "color": "rgb(61,153,112)"
         },
         "mode": "lines",
         "type": "scatter",
         "x": [
          1255,
          1255,
          1265,
          1265
         ],
         "xaxis": "x",
         "y": [
          0,
          20,
          20,
          0
         ],
         "yaxis": "y"
        },
        {
         "hoverinfo": "text",
         "marker": {
          "color": "rgb(61,153,112)"
         },
         "mode": "lines",
         "type": "scatter",
         "x": [
          1240,
          1240,
          1260,
          1260
         ],
         "xaxis": "x",
         "y": [
          20,
          60,
          60,
          20
         ],
         "yaxis": "y"
        },
        {
         "hoverinfo": "text",
         "marker": {
          "color": "rgb(61,153,112)"
         },
         "mode": "lines",
         "type": "scatter",
         "x": [
          1275,
          1275,
          1285,
          1285
         ],
         "xaxis": "x",
         "y": [
          0,
          20,
          20,
          0
         ],
         "yaxis": "y"
        },
        {
         "hoverinfo": "text",
         "marker": {
          "color": "rgb(61,153,112)"
         },
         "mode": "lines",
         "type": "scatter",
         "x": [
          1295,
          1295,
          1305,
          1305
         ],
         "xaxis": "x",
         "y": [
          0,
          20,
          20,
          0
         ],
         "yaxis": "y"
        },
        {
         "hoverinfo": "text",
         "marker": {
          "color": "rgb(61,153,112)"
         },
         "mode": "lines",
         "type": "scatter",
         "x": [
          1280,
          1280,
          1300,
          1300
         ],
         "xaxis": "x",
         "y": [
          20,
          60,
          60,
          20
         ],
         "yaxis": "y"
        },
        {
         "hoverinfo": "text",
         "marker": {
          "color": "rgb(61,153,112)"
         },
         "mode": "lines",
         "type": "scatter",
         "x": [
          1250,
          1250,
          1290,
          1290
         ],
         "xaxis": "x",
         "y": [
          60,
          140,
          140,
          60
         ],
         "yaxis": "y"
        },
        {
         "hoverinfo": "text",
         "marker": {
          "color": "rgb(61,153,112)"
         },
         "mode": "lines",
         "type": "scatter",
         "x": [
          1315,
          1315,
          1325,
          1325
         ],
         "xaxis": "x",
         "y": [
          0,
          20,
          20,
          0
         ],
         "yaxis": "y"
        },
        {
         "hoverinfo": "text",
         "marker": {
          "color": "rgb(61,153,112)"
         },
         "mode": "lines",
         "type": "scatter",
         "x": [
          1335,
          1335,
          1345,
          1345
         ],
         "xaxis": "x",
         "y": [
          0,
          20,
          20,
          0
         ],
         "yaxis": "y"
        },
        {
         "hoverinfo": "text",
         "marker": {
          "color": "rgb(61,153,112)"
         },
         "mode": "lines",
         "type": "scatter",
         "x": [
          1320,
          1320,
          1340,
          1340
         ],
         "xaxis": "x",
         "y": [
          20,
          60,
          60,
          20
         ],
         "yaxis": "y"
        },
        {
         "hoverinfo": "text",
         "marker": {
          "color": "rgb(61,153,112)"
         },
         "mode": "lines",
         "type": "scatter",
         "x": [
          1355,
          1355,
          1365,
          1365
         ],
         "xaxis": "x",
         "y": [
          0,
          20,
          20,
          0
         ],
         "yaxis": "y"
        },
        {
         "hoverinfo": "text",
         "marker": {
          "color": "rgb(61,153,112)"
         },
         "mode": "lines",
         "type": "scatter",
         "x": [
          1375,
          1375,
          1385,
          1385
         ],
         "xaxis": "x",
         "y": [
          0,
          20,
          20,
          0
         ],
         "yaxis": "y"
        },
        {
         "hoverinfo": "text",
         "marker": {
          "color": "rgb(61,153,112)"
         },
         "mode": "lines",
         "type": "scatter",
         "x": [
          1360,
          1360,
          1380,
          1380
         ],
         "xaxis": "x",
         "y": [
          20,
          60,
          60,
          20
         ],
         "yaxis": "y"
        },
        {
         "hoverinfo": "text",
         "marker": {
          "color": "rgb(61,153,112)"
         },
         "mode": "lines",
         "type": "scatter",
         "x": [
          1330,
          1330,
          1370,
          1370
         ],
         "xaxis": "x",
         "y": [
          60,
          140,
          140,
          60
         ],
         "yaxis": "y"
        },
        {
         "hoverinfo": "text",
         "marker": {
          "color": "rgb(61,153,112)"
         },
         "mode": "lines",
         "type": "scatter",
         "x": [
          1270,
          1270,
          1350,
          1350
         ],
         "xaxis": "x",
         "y": [
          140,
          300,
          300,
          140
         ],
         "yaxis": "y"
        },
        {
         "hoverinfo": "text",
         "marker": {
          "color": "rgb(61,153,112)"
         },
         "mode": "lines",
         "type": "scatter",
         "x": [
          1150,
          1150,
          1310,
          1310
         ],
         "xaxis": "x",
         "y": [
          300,
          620,
          620,
          300
         ],
         "yaxis": "y"
        },
        {
         "hoverinfo": "text",
         "marker": {
          "color": "rgb(61,153,112)"
         },
         "mode": "lines",
         "type": "scatter",
         "x": [
          1395,
          1395,
          1405,
          1405
         ],
         "xaxis": "x",
         "y": [
          0,
          20,
          20,
          0
         ],
         "yaxis": "y"
        },
        {
         "hoverinfo": "text",
         "marker": {
          "color": "rgb(61,153,112)"
         },
         "mode": "lines",
         "type": "scatter",
         "x": [
          1415,
          1415,
          1425,
          1425
         ],
         "xaxis": "x",
         "y": [
          0,
          20,
          20,
          0
         ],
         "yaxis": "y"
        },
        {
         "hoverinfo": "text",
         "marker": {
          "color": "rgb(61,153,112)"
         },
         "mode": "lines",
         "type": "scatter",
         "x": [
          1400,
          1400,
          1420,
          1420
         ],
         "xaxis": "x",
         "y": [
          20,
          60,
          60,
          20
         ],
         "yaxis": "y"
        },
        {
         "hoverinfo": "text",
         "marker": {
          "color": "rgb(61,153,112)"
         },
         "mode": "lines",
         "type": "scatter",
         "x": [
          1435,
          1435,
          1445,
          1445
         ],
         "xaxis": "x",
         "y": [
          0,
          20,
          20,
          0
         ],
         "yaxis": "y"
        },
        {
         "hoverinfo": "text",
         "marker": {
          "color": "rgb(61,153,112)"
         },
         "mode": "lines",
         "type": "scatter",
         "x": [
          1455,
          1455,
          1465,
          1465
         ],
         "xaxis": "x",
         "y": [
          0,
          20,
          20,
          0
         ],
         "yaxis": "y"
        },
        {
         "hoverinfo": "text",
         "marker": {
          "color": "rgb(61,153,112)"
         },
         "mode": "lines",
         "type": "scatter",
         "x": [
          1440,
          1440,
          1460,
          1460
         ],
         "xaxis": "x",
         "y": [
          20,
          60,
          60,
          20
         ],
         "yaxis": "y"
        },
        {
         "hoverinfo": "text",
         "marker": {
          "color": "rgb(61,153,112)"
         },
         "mode": "lines",
         "type": "scatter",
         "x": [
          1410,
          1410,
          1450,
          1450
         ],
         "xaxis": "x",
         "y": [
          60,
          140,
          140,
          60
         ],
         "yaxis": "y"
        },
        {
         "hoverinfo": "text",
         "marker": {
          "color": "rgb(61,153,112)"
         },
         "mode": "lines",
         "type": "scatter",
         "x": [
          1475,
          1475,
          1485,
          1485
         ],
         "xaxis": "x",
         "y": [
          0,
          20,
          20,
          0
         ],
         "yaxis": "y"
        },
        {
         "hoverinfo": "text",
         "marker": {
          "color": "rgb(61,153,112)"
         },
         "mode": "lines",
         "type": "scatter",
         "x": [
          1495,
          1495,
          1505,
          1505
         ],
         "xaxis": "x",
         "y": [
          0,
          20,
          20,
          0
         ],
         "yaxis": "y"
        },
        {
         "hoverinfo": "text",
         "marker": {
          "color": "rgb(61,153,112)"
         },
         "mode": "lines",
         "type": "scatter",
         "x": [
          1480,
          1480,
          1500,
          1500
         ],
         "xaxis": "x",
         "y": [
          20,
          60,
          60,
          20
         ],
         "yaxis": "y"
        },
        {
         "hoverinfo": "text",
         "marker": {
          "color": "rgb(61,153,112)"
         },
         "mode": "lines",
         "type": "scatter",
         "x": [
          1515,
          1515,
          1525,
          1525
         ],
         "xaxis": "x",
         "y": [
          0,
          20,
          20,
          0
         ],
         "yaxis": "y"
        },
        {
         "hoverinfo": "text",
         "marker": {
          "color": "rgb(61,153,112)"
         },
         "mode": "lines",
         "type": "scatter",
         "x": [
          1535,
          1535,
          1545,
          1545
         ],
         "xaxis": "x",
         "y": [
          0,
          20,
          20,
          0
         ],
         "yaxis": "y"
        },
        {
         "hoverinfo": "text",
         "marker": {
          "color": "rgb(61,153,112)"
         },
         "mode": "lines",
         "type": "scatter",
         "x": [
          1520,
          1520,
          1540,
          1540
         ],
         "xaxis": "x",
         "y": [
          20,
          60,
          60,
          20
         ],
         "yaxis": "y"
        },
        {
         "hoverinfo": "text",
         "marker": {
          "color": "rgb(61,153,112)"
         },
         "mode": "lines",
         "type": "scatter",
         "x": [
          1490,
          1490,
          1530,
          1530
         ],
         "xaxis": "x",
         "y": [
          60,
          140,
          140,
          60
         ],
         "yaxis": "y"
        },
        {
         "hoverinfo": "text",
         "marker": {
          "color": "rgb(61,153,112)"
         },
         "mode": "lines",
         "type": "scatter",
         "x": [
          1430,
          1430,
          1510,
          1510
         ],
         "xaxis": "x",
         "y": [
          140,
          300,
          300,
          140
         ],
         "yaxis": "y"
        },
        {
         "hoverinfo": "text",
         "marker": {
          "color": "rgb(61,153,112)"
         },
         "mode": "lines",
         "type": "scatter",
         "x": [
          1555,
          1555,
          1565,
          1565
         ],
         "xaxis": "x",
         "y": [
          0,
          20,
          20,
          0
         ],
         "yaxis": "y"
        },
        {
         "hoverinfo": "text",
         "marker": {
          "color": "rgb(61,153,112)"
         },
         "mode": "lines",
         "type": "scatter",
         "x": [
          1575,
          1575,
          1585,
          1585
         ],
         "xaxis": "x",
         "y": [
          0,
          20,
          20,
          0
         ],
         "yaxis": "y"
        },
        {
         "hoverinfo": "text",
         "marker": {
          "color": "rgb(61,153,112)"
         },
         "mode": "lines",
         "type": "scatter",
         "x": [
          1560,
          1560,
          1580,
          1580
         ],
         "xaxis": "x",
         "y": [
          20,
          60,
          60,
          20
         ],
         "yaxis": "y"
        },
        {
         "hoverinfo": "text",
         "marker": {
          "color": "rgb(61,153,112)"
         },
         "mode": "lines",
         "type": "scatter",
         "x": [
          1595,
          1595,
          1605,
          1605
         ],
         "xaxis": "x",
         "y": [
          0,
          20,
          20,
          0
         ],
         "yaxis": "y"
        },
        {
         "hoverinfo": "text",
         "marker": {
          "color": "rgb(61,153,112)"
         },
         "mode": "lines",
         "type": "scatter",
         "x": [
          1615,
          1615,
          1625,
          1625
         ],
         "xaxis": "x",
         "y": [
          0,
          20,
          20,
          0
         ],
         "yaxis": "y"
        },
        {
         "hoverinfo": "text",
         "marker": {
          "color": "rgb(61,153,112)"
         },
         "mode": "lines",
         "type": "scatter",
         "x": [
          1600,
          1600,
          1620,
          1620
         ],
         "xaxis": "x",
         "y": [
          20,
          60,
          60,
          20
         ],
         "yaxis": "y"
        },
        {
         "hoverinfo": "text",
         "marker": {
          "color": "rgb(61,153,112)"
         },
         "mode": "lines",
         "type": "scatter",
         "x": [
          1570,
          1570,
          1610,
          1610
         ],
         "xaxis": "x",
         "y": [
          60,
          140,
          140,
          60
         ],
         "yaxis": "y"
        },
        {
         "hoverinfo": "text",
         "marker": {
          "color": "rgb(61,153,112)"
         },
         "mode": "lines",
         "type": "scatter",
         "x": [
          1635,
          1635,
          1645,
          1645
         ],
         "xaxis": "x",
         "y": [
          0,
          20,
          20,
          0
         ],
         "yaxis": "y"
        },
        {
         "hoverinfo": "text",
         "marker": {
          "color": "rgb(61,153,112)"
         },
         "mode": "lines",
         "type": "scatter",
         "x": [
          1655,
          1655,
          1665,
          1665
         ],
         "xaxis": "x",
         "y": [
          0,
          20,
          20,
          0
         ],
         "yaxis": "y"
        },
        {
         "hoverinfo": "text",
         "marker": {
          "color": "rgb(61,153,112)"
         },
         "mode": "lines",
         "type": "scatter",
         "x": [
          1640,
          1640,
          1660,
          1660
         ],
         "xaxis": "x",
         "y": [
          20,
          60,
          60,
          20
         ],
         "yaxis": "y"
        },
        {
         "hoverinfo": "text",
         "marker": {
          "color": "rgb(61,153,112)"
         },
         "mode": "lines",
         "type": "scatter",
         "x": [
          1675,
          1675,
          1685,
          1685
         ],
         "xaxis": "x",
         "y": [
          0,
          20,
          20,
          0
         ],
         "yaxis": "y"
        },
        {
         "hoverinfo": "text",
         "marker": {
          "color": "rgb(61,153,112)"
         },
         "mode": "lines",
         "type": "scatter",
         "x": [
          1695,
          1695,
          1705,
          1705
         ],
         "xaxis": "x",
         "y": [
          0,
          20,
          20,
          0
         ],
         "yaxis": "y"
        },
        {
         "hoverinfo": "text",
         "marker": {
          "color": "rgb(61,153,112)"
         },
         "mode": "lines",
         "type": "scatter",
         "x": [
          1680,
          1680,
          1700,
          1700
         ],
         "xaxis": "x",
         "y": [
          20,
          60,
          60,
          20
         ],
         "yaxis": "y"
        },
        {
         "hoverinfo": "text",
         "marker": {
          "color": "rgb(61,153,112)"
         },
         "mode": "lines",
         "type": "scatter",
         "x": [
          1650,
          1650,
          1690,
          1690
         ],
         "xaxis": "x",
         "y": [
          60,
          140,
          140,
          60
         ],
         "yaxis": "y"
        },
        {
         "hoverinfo": "text",
         "marker": {
          "color": "rgb(61,153,112)"
         },
         "mode": "lines",
         "type": "scatter",
         "x": [
          1590,
          1590,
          1670,
          1670
         ],
         "xaxis": "x",
         "y": [
          140,
          300,
          300,
          140
         ],
         "yaxis": "y"
        },
        {
         "hoverinfo": "text",
         "marker": {
          "color": "rgb(61,153,112)"
         },
         "mode": "lines",
         "type": "scatter",
         "x": [
          1470,
          1470,
          1630,
          1630
         ],
         "xaxis": "x",
         "y": [
          300,
          620,
          620,
          300
         ],
         "yaxis": "y"
        },
        {
         "hoverinfo": "text",
         "marker": {
          "color": "rgb(61,153,112)"
         },
         "mode": "lines",
         "type": "scatter",
         "x": [
          1230,
          1230,
          1550,
          1550
         ],
         "xaxis": "x",
         "y": [
          620,
          1260,
          1260,
          620
         ],
         "yaxis": "y"
        },
        {
         "hoverinfo": "text",
         "marker": {
          "color": "rgb(61,153,112)"
         },
         "mode": "lines",
         "type": "scatter",
         "x": [
          1715,
          1715,
          1725,
          1725
         ],
         "xaxis": "x",
         "y": [
          0,
          20,
          20,
          0
         ],
         "yaxis": "y"
        },
        {
         "hoverinfo": "text",
         "marker": {
          "color": "rgb(61,153,112)"
         },
         "mode": "lines",
         "type": "scatter",
         "x": [
          1735,
          1735,
          1745,
          1745
         ],
         "xaxis": "x",
         "y": [
          0,
          20,
          20,
          0
         ],
         "yaxis": "y"
        },
        {
         "hoverinfo": "text",
         "marker": {
          "color": "rgb(61,153,112)"
         },
         "mode": "lines",
         "type": "scatter",
         "x": [
          1720,
          1720,
          1740,
          1740
         ],
         "xaxis": "x",
         "y": [
          20,
          60,
          60,
          20
         ],
         "yaxis": "y"
        },
        {
         "hoverinfo": "text",
         "marker": {
          "color": "rgb(61,153,112)"
         },
         "mode": "lines",
         "type": "scatter",
         "x": [
          1755,
          1755,
          1765,
          1765
         ],
         "xaxis": "x",
         "y": [
          0,
          20,
          20,
          0
         ],
         "yaxis": "y"
        },
        {
         "hoverinfo": "text",
         "marker": {
          "color": "rgb(61,153,112)"
         },
         "mode": "lines",
         "type": "scatter",
         "x": [
          1775,
          1775,
          1785,
          1785
         ],
         "xaxis": "x",
         "y": [
          0,
          20,
          20,
          0
         ],
         "yaxis": "y"
        },
        {
         "hoverinfo": "text",
         "marker": {
          "color": "rgb(61,153,112)"
         },
         "mode": "lines",
         "type": "scatter",
         "x": [
          1760,
          1760,
          1780,
          1780
         ],
         "xaxis": "x",
         "y": [
          20,
          60,
          60,
          20
         ],
         "yaxis": "y"
        },
        {
         "hoverinfo": "text",
         "marker": {
          "color": "rgb(61,153,112)"
         },
         "mode": "lines",
         "type": "scatter",
         "x": [
          1730,
          1730,
          1770,
          1770
         ],
         "xaxis": "x",
         "y": [
          60,
          140,
          140,
          60
         ],
         "yaxis": "y"
        },
        {
         "hoverinfo": "text",
         "marker": {
          "color": "rgb(61,153,112)"
         },
         "mode": "lines",
         "type": "scatter",
         "x": [
          1795,
          1795,
          1805,
          1805
         ],
         "xaxis": "x",
         "y": [
          0,
          20,
          20,
          0
         ],
         "yaxis": "y"
        },
        {
         "hoverinfo": "text",
         "marker": {
          "color": "rgb(61,153,112)"
         },
         "mode": "lines",
         "type": "scatter",
         "x": [
          1815,
          1815,
          1825,
          1825
         ],
         "xaxis": "x",
         "y": [
          0,
          20,
          20,
          0
         ],
         "yaxis": "y"
        },
        {
         "hoverinfo": "text",
         "marker": {
          "color": "rgb(61,153,112)"
         },
         "mode": "lines",
         "type": "scatter",
         "x": [
          1800,
          1800,
          1820,
          1820
         ],
         "xaxis": "x",
         "y": [
          20,
          60,
          60,
          20
         ],
         "yaxis": "y"
        },
        {
         "hoverinfo": "text",
         "marker": {
          "color": "rgb(61,153,112)"
         },
         "mode": "lines",
         "type": "scatter",
         "x": [
          1835,
          1835,
          1845,
          1845
         ],
         "xaxis": "x",
         "y": [
          0,
          20,
          20,
          0
         ],
         "yaxis": "y"
        },
        {
         "hoverinfo": "text",
         "marker": {
          "color": "rgb(61,153,112)"
         },
         "mode": "lines",
         "type": "scatter",
         "x": [
          1855,
          1855,
          1865,
          1865
         ],
         "xaxis": "x",
         "y": [
          0,
          20,
          20,
          0
         ],
         "yaxis": "y"
        },
        {
         "hoverinfo": "text",
         "marker": {
          "color": "rgb(61,153,112)"
         },
         "mode": "lines",
         "type": "scatter",
         "x": [
          1840,
          1840,
          1860,
          1860
         ],
         "xaxis": "x",
         "y": [
          20,
          60,
          60,
          20
         ],
         "yaxis": "y"
        },
        {
         "hoverinfo": "text",
         "marker": {
          "color": "rgb(61,153,112)"
         },
         "mode": "lines",
         "type": "scatter",
         "x": [
          1810,
          1810,
          1850,
          1850
         ],
         "xaxis": "x",
         "y": [
          60,
          140,
          140,
          60
         ],
         "yaxis": "y"
        },
        {
         "hoverinfo": "text",
         "marker": {
          "color": "rgb(61,153,112)"
         },
         "mode": "lines",
         "type": "scatter",
         "x": [
          1750,
          1750,
          1830,
          1830
         ],
         "xaxis": "x",
         "y": [
          140,
          300,
          300,
          140
         ],
         "yaxis": "y"
        },
        {
         "hoverinfo": "text",
         "marker": {
          "color": "rgb(61,153,112)"
         },
         "mode": "lines",
         "type": "scatter",
         "x": [
          1875,
          1875,
          1885,
          1885
         ],
         "xaxis": "x",
         "y": [
          0,
          20,
          20,
          0
         ],
         "yaxis": "y"
        },
        {
         "hoverinfo": "text",
         "marker": {
          "color": "rgb(61,153,112)"
         },
         "mode": "lines",
         "type": "scatter",
         "x": [
          1895,
          1895,
          1905,
          1905
         ],
         "xaxis": "x",
         "y": [
          0,
          20,
          20,
          0
         ],
         "yaxis": "y"
        },
        {
         "hoverinfo": "text",
         "marker": {
          "color": "rgb(61,153,112)"
         },
         "mode": "lines",
         "type": "scatter",
         "x": [
          1880,
          1880,
          1900,
          1900
         ],
         "xaxis": "x",
         "y": [
          20,
          60,
          60,
          20
         ],
         "yaxis": "y"
        },
        {
         "hoverinfo": "text",
         "marker": {
          "color": "rgb(61,153,112)"
         },
         "mode": "lines",
         "type": "scatter",
         "x": [
          1915,
          1915,
          1925,
          1925
         ],
         "xaxis": "x",
         "y": [
          0,
          20,
          20,
          0
         ],
         "yaxis": "y"
        },
        {
         "hoverinfo": "text",
         "marker": {
          "color": "rgb(61,153,112)"
         },
         "mode": "lines",
         "type": "scatter",
         "x": [
          1935,
          1935,
          1945,
          1945
         ],
         "xaxis": "x",
         "y": [
          0,
          20,
          20,
          0
         ],
         "yaxis": "y"
        },
        {
         "hoverinfo": "text",
         "marker": {
          "color": "rgb(61,153,112)"
         },
         "mode": "lines",
         "type": "scatter",
         "x": [
          1920,
          1920,
          1940,
          1940
         ],
         "xaxis": "x",
         "y": [
          20,
          60,
          60,
          20
         ],
         "yaxis": "y"
        },
        {
         "hoverinfo": "text",
         "marker": {
          "color": "rgb(61,153,112)"
         },
         "mode": "lines",
         "type": "scatter",
         "x": [
          1890,
          1890,
          1930,
          1930
         ],
         "xaxis": "x",
         "y": [
          60,
          140,
          140,
          60
         ],
         "yaxis": "y"
        },
        {
         "hoverinfo": "text",
         "marker": {
          "color": "rgb(61,153,112)"
         },
         "mode": "lines",
         "type": "scatter",
         "x": [
          1955,
          1955,
          1965,
          1965
         ],
         "xaxis": "x",
         "y": [
          0,
          20,
          20,
          0
         ],
         "yaxis": "y"
        },
        {
         "hoverinfo": "text",
         "marker": {
          "color": "rgb(61,153,112)"
         },
         "mode": "lines",
         "type": "scatter",
         "x": [
          1975,
          1975,
          1985,
          1985
         ],
         "xaxis": "x",
         "y": [
          0,
          20,
          20,
          0
         ],
         "yaxis": "y"
        },
        {
         "hoverinfo": "text",
         "marker": {
          "color": "rgb(61,153,112)"
         },
         "mode": "lines",
         "type": "scatter",
         "x": [
          1960,
          1960,
          1980,
          1980
         ],
         "xaxis": "x",
         "y": [
          20,
          60,
          60,
          20
         ],
         "yaxis": "y"
        },
        {
         "hoverinfo": "text",
         "marker": {
          "color": "rgb(61,153,112)"
         },
         "mode": "lines",
         "type": "scatter",
         "x": [
          1995,
          1995,
          2005,
          2005
         ],
         "xaxis": "x",
         "y": [
          0,
          20,
          20,
          0
         ],
         "yaxis": "y"
        },
        {
         "hoverinfo": "text",
         "marker": {
          "color": "rgb(61,153,112)"
         },
         "mode": "lines",
         "type": "scatter",
         "x": [
          2015,
          2015,
          2025,
          2025
         ],
         "xaxis": "x",
         "y": [
          0,
          20,
          20,
          0
         ],
         "yaxis": "y"
        },
        {
         "hoverinfo": "text",
         "marker": {
          "color": "rgb(61,153,112)"
         },
         "mode": "lines",
         "type": "scatter",
         "x": [
          2000,
          2000,
          2020,
          2020
         ],
         "xaxis": "x",
         "y": [
          20,
          60,
          60,
          20
         ],
         "yaxis": "y"
        },
        {
         "hoverinfo": "text",
         "marker": {
          "color": "rgb(61,153,112)"
         },
         "mode": "lines",
         "type": "scatter",
         "x": [
          1970,
          1970,
          2010,
          2010
         ],
         "xaxis": "x",
         "y": [
          60,
          140,
          140,
          60
         ],
         "yaxis": "y"
        },
        {
         "hoverinfo": "text",
         "marker": {
          "color": "rgb(61,153,112)"
         },
         "mode": "lines",
         "type": "scatter",
         "x": [
          1910,
          1910,
          1990,
          1990
         ],
         "xaxis": "x",
         "y": [
          140,
          300,
          300,
          140
         ],
         "yaxis": "y"
        },
        {
         "hoverinfo": "text",
         "marker": {
          "color": "rgb(61,153,112)"
         },
         "mode": "lines",
         "type": "scatter",
         "x": [
          1790,
          1790,
          1950,
          1950
         ],
         "xaxis": "x",
         "y": [
          300,
          620,
          620,
          300
         ],
         "yaxis": "y"
        },
        {
         "hoverinfo": "text",
         "marker": {
          "color": "rgb(61,153,112)"
         },
         "mode": "lines",
         "type": "scatter",
         "x": [
          2035,
          2035,
          2045,
          2045
         ],
         "xaxis": "x",
         "y": [
          0,
          20,
          20,
          0
         ],
         "yaxis": "y"
        },
        {
         "hoverinfo": "text",
         "marker": {
          "color": "rgb(61,153,112)"
         },
         "mode": "lines",
         "type": "scatter",
         "x": [
          2055,
          2055,
          2065,
          2065
         ],
         "xaxis": "x",
         "y": [
          0,
          20,
          20,
          0
         ],
         "yaxis": "y"
        },
        {
         "hoverinfo": "text",
         "marker": {
          "color": "rgb(61,153,112)"
         },
         "mode": "lines",
         "type": "scatter",
         "x": [
          2040,
          2040,
          2060,
          2060
         ],
         "xaxis": "x",
         "y": [
          20,
          60,
          60,
          20
         ],
         "yaxis": "y"
        },
        {
         "hoverinfo": "text",
         "marker": {
          "color": "rgb(61,153,112)"
         },
         "mode": "lines",
         "type": "scatter",
         "x": [
          2075,
          2075,
          2085,
          2085
         ],
         "xaxis": "x",
         "y": [
          0,
          20,
          20,
          0
         ],
         "yaxis": "y"
        },
        {
         "hoverinfo": "text",
         "marker": {
          "color": "rgb(61,153,112)"
         },
         "mode": "lines",
         "type": "scatter",
         "x": [
          2095,
          2095,
          2105,
          2105
         ],
         "xaxis": "x",
         "y": [
          0,
          20,
          20,
          0
         ],
         "yaxis": "y"
        },
        {
         "hoverinfo": "text",
         "marker": {
          "color": "rgb(61,153,112)"
         },
         "mode": "lines",
         "type": "scatter",
         "x": [
          2080,
          2080,
          2100,
          2100
         ],
         "xaxis": "x",
         "y": [
          20,
          60,
          60,
          20
         ],
         "yaxis": "y"
        },
        {
         "hoverinfo": "text",
         "marker": {
          "color": "rgb(61,153,112)"
         },
         "mode": "lines",
         "type": "scatter",
         "x": [
          2050,
          2050,
          2090,
          2090
         ],
         "xaxis": "x",
         "y": [
          60,
          140,
          140,
          60
         ],
         "yaxis": "y"
        },
        {
         "hoverinfo": "text",
         "marker": {
          "color": "rgb(61,153,112)"
         },
         "mode": "lines",
         "type": "scatter",
         "x": [
          2115,
          2115,
          2125,
          2125
         ],
         "xaxis": "x",
         "y": [
          0,
          20,
          20,
          0
         ],
         "yaxis": "y"
        },
        {
         "hoverinfo": "text",
         "marker": {
          "color": "rgb(61,153,112)"
         },
         "mode": "lines",
         "type": "scatter",
         "x": [
          2135,
          2135,
          2145,
          2145
         ],
         "xaxis": "x",
         "y": [
          0,
          20,
          20,
          0
         ],
         "yaxis": "y"
        },
        {
         "hoverinfo": "text",
         "marker": {
          "color": "rgb(61,153,112)"
         },
         "mode": "lines",
         "type": "scatter",
         "x": [
          2120,
          2120,
          2140,
          2140
         ],
         "xaxis": "x",
         "y": [
          20,
          60,
          60,
          20
         ],
         "yaxis": "y"
        },
        {
         "hoverinfo": "text",
         "marker": {
          "color": "rgb(61,153,112)"
         },
         "mode": "lines",
         "type": "scatter",
         "x": [
          2155,
          2155,
          2165,
          2165
         ],
         "xaxis": "x",
         "y": [
          0,
          20,
          20,
          0
         ],
         "yaxis": "y"
        },
        {
         "hoverinfo": "text",
         "marker": {
          "color": "rgb(61,153,112)"
         },
         "mode": "lines",
         "type": "scatter",
         "x": [
          2175,
          2175,
          2185,
          2185
         ],
         "xaxis": "x",
         "y": [
          0,
          20,
          20,
          0
         ],
         "yaxis": "y"
        },
        {
         "hoverinfo": "text",
         "marker": {
          "color": "rgb(61,153,112)"
         },
         "mode": "lines",
         "type": "scatter",
         "x": [
          2160,
          2160,
          2180,
          2180
         ],
         "xaxis": "x",
         "y": [
          20,
          60,
          60,
          20
         ],
         "yaxis": "y"
        },
        {
         "hoverinfo": "text",
         "marker": {
          "color": "rgb(61,153,112)"
         },
         "mode": "lines",
         "type": "scatter",
         "x": [
          2130,
          2130,
          2170,
          2170
         ],
         "xaxis": "x",
         "y": [
          60,
          140,
          140,
          60
         ],
         "yaxis": "y"
        },
        {
         "hoverinfo": "text",
         "marker": {
          "color": "rgb(61,153,112)"
         },
         "mode": "lines",
         "type": "scatter",
         "x": [
          2070,
          2070,
          2150,
          2150
         ],
         "xaxis": "x",
         "y": [
          140,
          300,
          300,
          140
         ],
         "yaxis": "y"
        },
        {
         "hoverinfo": "text",
         "marker": {
          "color": "rgb(61,153,112)"
         },
         "mode": "lines",
         "type": "scatter",
         "x": [
          2195,
          2195,
          2205,
          2205
         ],
         "xaxis": "x",
         "y": [
          0,
          20,
          20,
          0
         ],
         "yaxis": "y"
        },
        {
         "hoverinfo": "text",
         "marker": {
          "color": "rgb(61,153,112)"
         },
         "mode": "lines",
         "type": "scatter",
         "x": [
          2215,
          2215,
          2225,
          2225
         ],
         "xaxis": "x",
         "y": [
          0,
          20,
          20,
          0
         ],
         "yaxis": "y"
        },
        {
         "hoverinfo": "text",
         "marker": {
          "color": "rgb(61,153,112)"
         },
         "mode": "lines",
         "type": "scatter",
         "x": [
          2200,
          2200,
          2220,
          2220
         ],
         "xaxis": "x",
         "y": [
          20,
          60,
          60,
          20
         ],
         "yaxis": "y"
        },
        {
         "hoverinfo": "text",
         "marker": {
          "color": "rgb(61,153,112)"
         },
         "mode": "lines",
         "type": "scatter",
         "x": [
          2235,
          2235,
          2245,
          2245
         ],
         "xaxis": "x",
         "y": [
          0,
          20,
          20,
          0
         ],
         "yaxis": "y"
        },
        {
         "hoverinfo": "text",
         "marker": {
          "color": "rgb(61,153,112)"
         },
         "mode": "lines",
         "type": "scatter",
         "x": [
          2255,
          2255,
          2265,
          2265
         ],
         "xaxis": "x",
         "y": [
          0,
          20,
          20,
          0
         ],
         "yaxis": "y"
        },
        {
         "hoverinfo": "text",
         "marker": {
          "color": "rgb(61,153,112)"
         },
         "mode": "lines",
         "type": "scatter",
         "x": [
          2240,
          2240,
          2260,
          2260
         ],
         "xaxis": "x",
         "y": [
          20,
          60,
          60,
          20
         ],
         "yaxis": "y"
        },
        {
         "hoverinfo": "text",
         "marker": {
          "color": "rgb(61,153,112)"
         },
         "mode": "lines",
         "type": "scatter",
         "x": [
          2210,
          2210,
          2250,
          2250
         ],
         "xaxis": "x",
         "y": [
          60,
          140,
          140,
          60
         ],
         "yaxis": "y"
        },
        {
         "hoverinfo": "text",
         "marker": {
          "color": "rgb(61,153,112)"
         },
         "mode": "lines",
         "type": "scatter",
         "x": [
          2275,
          2275,
          2285,
          2285
         ],
         "xaxis": "x",
         "y": [
          0,
          20,
          20,
          0
         ],
         "yaxis": "y"
        },
        {
         "hoverinfo": "text",
         "marker": {
          "color": "rgb(61,153,112)"
         },
         "mode": "lines",
         "type": "scatter",
         "x": [
          2295,
          2295,
          2305,
          2305
         ],
         "xaxis": "x",
         "y": [
          0,
          20,
          20,
          0
         ],
         "yaxis": "y"
        },
        {
         "hoverinfo": "text",
         "marker": {
          "color": "rgb(61,153,112)"
         },
         "mode": "lines",
         "type": "scatter",
         "x": [
          2280,
          2280,
          2300,
          2300
         ],
         "xaxis": "x",
         "y": [
          20,
          60,
          60,
          20
         ],
         "yaxis": "y"
        },
        {
         "hoverinfo": "text",
         "marker": {
          "color": "rgb(61,153,112)"
         },
         "mode": "lines",
         "type": "scatter",
         "x": [
          2315,
          2315,
          2325,
          2325
         ],
         "xaxis": "x",
         "y": [
          0,
          20,
          20,
          0
         ],
         "yaxis": "y"
        },
        {
         "hoverinfo": "text",
         "marker": {
          "color": "rgb(61,153,112)"
         },
         "mode": "lines",
         "type": "scatter",
         "x": [
          2335,
          2335,
          2345,
          2345
         ],
         "xaxis": "x",
         "y": [
          0,
          20,
          20,
          0
         ],
         "yaxis": "y"
        },
        {
         "hoverinfo": "text",
         "marker": {
          "color": "rgb(61,153,112)"
         },
         "mode": "lines",
         "type": "scatter",
         "x": [
          2320,
          2320,
          2340,
          2340
         ],
         "xaxis": "x",
         "y": [
          20,
          60,
          60,
          20
         ],
         "yaxis": "y"
        },
        {
         "hoverinfo": "text",
         "marker": {
          "color": "rgb(61,153,112)"
         },
         "mode": "lines",
         "type": "scatter",
         "x": [
          2290,
          2290,
          2330,
          2330
         ],
         "xaxis": "x",
         "y": [
          60,
          140,
          140,
          60
         ],
         "yaxis": "y"
        },
        {
         "hoverinfo": "text",
         "marker": {
          "color": "rgb(61,153,112)"
         },
         "mode": "lines",
         "type": "scatter",
         "x": [
          2230,
          2230,
          2310,
          2310
         ],
         "xaxis": "x",
         "y": [
          140,
          300,
          300,
          140
         ],
         "yaxis": "y"
        },
        {
         "hoverinfo": "text",
         "marker": {
          "color": "rgb(61,153,112)"
         },
         "mode": "lines",
         "type": "scatter",
         "x": [
          2110,
          2110,
          2270,
          2270
         ],
         "xaxis": "x",
         "y": [
          300,
          620,
          620,
          300
         ],
         "yaxis": "y"
        },
        {
         "hoverinfo": "text",
         "marker": {
          "color": "rgb(61,153,112)"
         },
         "mode": "lines",
         "type": "scatter",
         "x": [
          1870,
          1870,
          2190,
          2190
         ],
         "xaxis": "x",
         "y": [
          620,
          1260,
          1260,
          620
         ],
         "yaxis": "y"
        },
        {
         "hoverinfo": "text",
         "marker": {
          "color": "rgb(61,153,112)"
         },
         "mode": "lines",
         "type": "scatter",
         "x": [
          1390,
          1390,
          2030,
          2030
         ],
         "xaxis": "x",
         "y": [
          1260,
          2540,
          2540,
          1260
         ],
         "yaxis": "y"
        },
        {
         "hoverinfo": "text",
         "marker": {
          "color": "rgb(61,153,112)"
         },
         "mode": "lines",
         "type": "scatter",
         "x": [
          465.859375,
          465.859375,
          1710,
          1710
         ],
         "xaxis": "x",
         "y": [
          2101.333729507118,
          4661.287787016512,
          4661.287787016512,
          2540
         ],
         "yaxis": "y"
        },
        {
         "hoverinfo": "text",
         "marker": {
          "color": "rgb(61,153,112)"
         },
         "mode": "lines",
         "type": "scatter",
         "x": [
          2375,
          2375,
          2385,
          2385
         ],
         "xaxis": "x",
         "y": [
          0,
          22.360679774997898,
          22.360679774997898,
          0
         ],
         "yaxis": "y"
        },
        {
         "hoverinfo": "text",
         "marker": {
          "color": "rgb(61,153,112)"
         },
         "mode": "lines",
         "type": "scatter",
         "x": [
          2365,
          2365,
          2380,
          2380
         ],
         "xaxis": "x",
         "y": [
          0,
          40,
          40,
          22.360679774997898
         ],
         "yaxis": "y"
        },
        {
         "hoverinfo": "text",
         "marker": {
          "color": "rgb(61,153,112)"
         },
         "mode": "lines",
         "type": "scatter",
         "x": [
          2405,
          2405,
          2415,
          2415
         ],
         "xaxis": "x",
         "y": [
          0,
          15.811388300841896,
          15.811388300841896,
          0
         ],
         "yaxis": "y"
        },
        {
         "hoverinfo": "text",
         "marker": {
          "color": "rgb(61,153,112)"
         },
         "mode": "lines",
         "type": "scatter",
         "x": [
          2395,
          2395,
          2410,
          2410
         ],
         "xaxis": "x",
         "y": [
          0,
          43.73213921133976,
          43.73213921133976,
          15.811388300841896
         ],
         "yaxis": "y"
        },
        {
         "hoverinfo": "text",
         "marker": {
          "color": "rgb(61,153,112)"
         },
         "mode": "lines",
         "type": "scatter",
         "x": [
          2372.5,
          2372.5,
          2402.5,
          2402.5
         ],
         "xaxis": "x",
         "y": [
          40,
          95.13148795220224,
          95.13148795220224,
          43.73213921133976
         ],
         "yaxis": "y"
        },
        {
         "hoverinfo": "text",
         "marker": {
          "color": "rgb(61,153,112)"
         },
         "mode": "lines",
         "type": "scatter",
         "x": [
          2425,
          2425,
          2435,
          2435
         ],
         "xaxis": "x",
         "y": [
          0,
          15.811388300841896,
          15.811388300841896,
          0
         ],
         "yaxis": "y"
        },
        {
         "hoverinfo": "text",
         "marker": {
          "color": "rgb(61,153,112)"
         },
         "mode": "lines",
         "type": "scatter",
         "x": [
          2445,
          2445,
          2455,
          2455
         ],
         "xaxis": "x",
         "y": [
          0,
          21.286732957408002,
          21.286732957408002,
          0
         ],
         "yaxis": "y"
        },
        {
         "hoverinfo": "text",
         "marker": {
          "color": "rgb(61,153,112)"
         },
         "mode": "lines",
         "type": "scatter",
         "x": [
          2475,
          2475,
          2485,
          2485
         ],
         "xaxis": "x",
         "y": [
          0,
          15.811388300841896,
          15.811388300841896,
          0
         ],
         "yaxis": "y"
        },
        {
         "hoverinfo": "text",
         "marker": {
          "color": "rgb(61,153,112)"
         },
         "mode": "lines",
         "type": "scatter",
         "x": [
          2495,
          2495,
          2505,
          2505
         ],
         "xaxis": "x",
         "y": [
          0,
          22.360679774997898,
          22.360679774997898,
          0
         ],
         "yaxis": "y"
        },
        {
         "hoverinfo": "text",
         "marker": {
          "color": "rgb(61,153,112)"
         },
         "mode": "lines",
         "type": "scatter",
         "x": [
          2480,
          2480,
          2500,
          2500
         ],
         "xaxis": "x",
         "y": [
          15.811388300841896,
          47.43416490252569,
          47.43416490252569,
          22.360679774997898
         ],
         "yaxis": "y"
        },
        {
         "hoverinfo": "text",
         "marker": {
          "color": "rgb(61,153,112)"
         },
         "mode": "lines",
         "type": "scatter",
         "x": [
          2465,
          2465,
          2490,
          2490
         ],
         "xaxis": "x",
         "y": [
          0,
          60.936698712680524,
          60.936698712680524,
          47.43416490252569
         ],
         "yaxis": "y"
        },
        {
         "hoverinfo": "text",
         "marker": {
          "color": "rgb(61,153,112)"
         },
         "mode": "lines",
         "type": "scatter",
         "x": [
          2450,
          2450,
          2477.5,
          2477.5
         ],
         "xaxis": "x",
         "y": [
          21.286732957408002,
          89.46018667541445,
          89.46018667541445,
          60.936698712680524
         ],
         "yaxis": "y"
        },
        {
         "hoverinfo": "text",
         "marker": {
          "color": "rgb(61,153,112)"
         },
         "mode": "lines",
         "type": "scatter",
         "x": [
          2430,
          2430,
          2463.75,
          2463.75
         ],
         "xaxis": "x",
         "y": [
          15.811388300841896,
          149.17481355778528,
          149.17481355778528,
          89.46018667541445
         ],
         "yaxis": "y"
        },
        {
         "hoverinfo": "text",
         "marker": {
          "color": "rgb(61,153,112)"
         },
         "mode": "lines",
         "type": "scatter",
         "x": [
          2387.5,
          2387.5,
          2446.875,
          2446.875
         ],
         "xaxis": "x",
         "y": [
          95.13148795220224,
          288.9690727396273,
          288.9690727396273,
          149.17481355778528
         ],
         "yaxis": "y"
        },
        {
         "hoverinfo": "text",
         "marker": {
          "color": "rgb(61,153,112)"
         },
         "mode": "lines",
         "type": "scatter",
         "x": [
          2525,
          2525,
          2535,
          2535
         ],
         "xaxis": "x",
         "y": [
          0,
          15.811388300841896,
          15.811388300841896,
          0
         ],
         "yaxis": "y"
        },
        {
         "hoverinfo": "text",
         "marker": {
          "color": "rgb(61,153,112)"
         },
         "mode": "lines",
         "type": "scatter",
         "x": [
          2545,
          2545,
          2555,
          2555
         ],
         "xaxis": "x",
         "y": [
          0,
          25.739075352467502,
          25.739075352467502,
          0
         ],
         "yaxis": "y"
        },
        {
         "hoverinfo": "text",
         "marker": {
          "color": "rgb(61,153,112)"
         },
         "mode": "lines",
         "type": "scatter",
         "x": [
          2530,
          2530,
          2550,
          2550
         ],
         "xaxis": "x",
         "y": [
          15.811388300841896,
          60,
          60,
          25.739075352467502
         ],
         "yaxis": "y"
        },
        {
         "hoverinfo": "text",
         "marker": {
          "color": "rgb(61,153,112)"
         },
         "mode": "lines",
         "type": "scatter",
         "x": [
          2515,
          2515,
          2540,
          2540
         ],
         "xaxis": "x",
         "y": [
          0,
          88.76870401498492,
          88.76870401498492,
          60
         ],
         "yaxis": "y"
        },
        {
         "hoverinfo": "text",
         "marker": {
          "color": "rgb(61,153,112)"
         },
         "mode": "lines",
         "type": "scatter",
         "x": [
          2575,
          2575,
          2585,
          2585
         ],
         "xaxis": "x",
         "y": [
          0,
          22.360679774997898,
          22.360679774997898,
          0
         ],
         "yaxis": "y"
        },
        {
         "hoverinfo": "text",
         "marker": {
          "color": "rgb(61,153,112)"
         },
         "mode": "lines",
         "type": "scatter",
         "x": [
          2565,
          2565,
          2580,
          2580
         ],
         "xaxis": "x",
         "y": [
          0,
          56.40257086339239,
          56.40257086339239,
          22.360679774997898
         ],
         "yaxis": "y"
        },
        {
         "hoverinfo": "text",
         "marker": {
          "color": "rgb(61,153,112)"
         },
         "mode": "lines",
         "type": "scatter",
         "x": [
          2595,
          2595,
          2605,
          2605
         ],
         "xaxis": "x",
         "y": [
          0,
          15.811388300841896,
          15.811388300841896,
          0
         ],
         "yaxis": "y"
        },
        {
         "hoverinfo": "text",
         "marker": {
          "color": "rgb(61,153,112)"
         },
         "mode": "lines",
         "type": "scatter",
         "x": [
          2615,
          2615,
          2625,
          2625
         ],
         "xaxis": "x",
         "y": [
          0,
          25.739075352467502,
          25.739075352467502,
          0
         ],
         "yaxis": "y"
        },
        {
         "hoverinfo": "text",
         "marker": {
          "color": "rgb(61,153,112)"
         },
         "mode": "lines",
         "type": "scatter",
         "x": [
          2600,
          2600,
          2620,
          2620
         ],
         "xaxis": "x",
         "y": [
          15.811388300841896,
          60,
          60,
          25.739075352467502
         ],
         "yaxis": "y"
        },
        {
         "hoverinfo": "text",
         "marker": {
          "color": "rgb(61,153,112)"
         },
         "mode": "lines",
         "type": "scatter",
         "x": [
          2572.5,
          2572.5,
          2610,
          2610
         ],
         "xaxis": "x",
         "y": [
          56.40257086339239,
          120.41594578792295,
          120.41594578792295,
          60
         ],
         "yaxis": "y"
        },
        {
         "hoverinfo": "text",
         "marker": {
          "color": "rgb(61,153,112)"
         },
         "mode": "lines",
         "type": "scatter",
         "x": [
          2527.5,
          2527.5,
          2591.25,
          2591.25
         ],
         "xaxis": "x",
         "y": [
          88.76870401498492,
          200,
          200,
          120.41594578792295
         ],
         "yaxis": "y"
        },
        {
         "hoverinfo": "text",
         "marker": {
          "color": "rgb(61,153,112)"
         },
         "mode": "lines",
         "type": "scatter",
         "x": [
          2635,
          2635,
          2645,
          2645
         ],
         "xaxis": "x",
         "y": [
          0,
          15.811388300841896,
          15.811388300841896,
          0
         ],
         "yaxis": "y"
        },
        {
         "hoverinfo": "text",
         "marker": {
          "color": "rgb(61,153,112)"
         },
         "mode": "lines",
         "type": "scatter",
         "x": [
          2675,
          2675,
          2685,
          2685
         ],
         "xaxis": "x",
         "y": [
          0,
          22.980970388562795,
          22.980970388562795,
          0
         ],
         "yaxis": "y"
        },
        {
         "hoverinfo": "text",
         "marker": {
          "color": "rgb(61,153,112)"
         },
         "mode": "lines",
         "type": "scatter",
         "x": [
          2665,
          2665,
          2680,
          2680
         ],
         "xaxis": "x",
         "y": [
          0,
          32.45188746436792,
          32.45188746436792,
          22.980970388562795
         ],
         "yaxis": "y"
        },
        {
         "hoverinfo": "text",
         "marker": {
          "color": "rgb(61,153,112)"
         },
         "mode": "lines",
         "type": "scatter",
         "x": [
          2655,
          2655,
          2672.5,
          2672.5
         ],
         "xaxis": "x",
         "y": [
          0,
          63.73774391990981,
          63.73774391990981,
          32.45188746436792
         ],
         "yaxis": "y"
        },
        {
         "hoverinfo": "text",
         "marker": {
          "color": "rgb(61,153,112)"
         },
         "mode": "lines",
         "type": "scatter",
         "x": [
          2640,
          2640,
          2663.75,
          2663.75
         ],
         "xaxis": "x",
         "y": [
          15.811388300841896,
          100,
          100,
          63.73774391990981
         ],
         "yaxis": "y"
        },
        {
         "hoverinfo": "text",
         "marker": {
          "color": "rgb(61,153,112)"
         },
         "mode": "lines",
         "type": "scatter",
         "x": [
          2695,
          2695,
          2705,
          2705
         ],
         "xaxis": "x",
         "y": [
          0,
          136.20954280365694,
          136.20954280365694,
          0
         ],
         "yaxis": "y"
        },
        {
         "hoverinfo": "text",
         "marker": {
          "color": "rgb(61,153,112)"
         },
         "mode": "lines",
         "type": "scatter",
         "x": [
          2651.875,
          2651.875,
          2700,
          2700
         ],
         "xaxis": "x",
         "y": [
          100,
          219.6020237341291,
          219.6020237341291,
          136.20954280365694
         ],
         "yaxis": "y"
        },
        {
         "hoverinfo": "text",
         "marker": {
          "color": "rgb(61,153,112)"
         },
         "mode": "lines",
         "type": "scatter",
         "x": [
          2559.375,
          2559.375,
          2675.9375,
          2675.9375
         ],
         "xaxis": "x",
         "y": [
          200,
          340,
          340,
          219.6020237341291
         ],
         "yaxis": "y"
        },
        {
         "hoverinfo": "text",
         "marker": {
          "color": "rgb(61,153,112)"
         },
         "mode": "lines",
         "type": "scatter",
         "x": [
          2417.1875,
          2417.1875,
          2617.65625,
          2617.65625
         ],
         "xaxis": "x",
         "y": [
          288.9690727396273,
          668.8446194745085,
          668.8446194745085,
          340
         ],
         "yaxis": "y"
        },
        {
         "hoverinfo": "text",
         "marker": {
          "color": "rgb(61,153,112)"
         },
         "mode": "lines",
         "type": "scatter",
         "x": [
          2715,
          2715,
          2725,
          2725
         ],
         "xaxis": "x",
         "y": [
          0,
          33.45939703581043,
          33.45939703581043,
          0
         ],
         "yaxis": "y"
        },
        {
         "hoverinfo": "text",
         "marker": {
          "color": "rgb(61,153,112)"
         },
         "mode": "lines",
         "type": "scatter",
         "x": [
          2735,
          2735,
          2745,
          2745
         ],
         "xaxis": "x",
         "y": [
          0,
          15.811388300841896,
          15.811388300841896,
          0
         ],
         "yaxis": "y"
        },
        {
         "hoverinfo": "text",
         "marker": {
          "color": "rgb(61,153,112)"
         },
         "mode": "lines",
         "type": "scatter",
         "x": [
          2765,
          2765,
          2775,
          2775
         ],
         "xaxis": "x",
         "y": [
          0,
          16.677080080157918,
          16.677080080157918,
          0
         ],
         "yaxis": "y"
        },
        {
         "hoverinfo": "text",
         "marker": {
          "color": "rgb(61,153,112)"
         },
         "mode": "lines",
         "type": "scatter",
         "x": [
          2755,
          2755,
          2770,
          2770
         ],
         "xaxis": "x",
         "y": [
          0,
          26.516504294495533,
          26.516504294495533,
          16.677080080157918
         ],
         "yaxis": "y"
        },
        {
         "hoverinfo": "text",
         "marker": {
          "color": "rgb(61,153,112)"
         },
         "mode": "lines",
         "type": "scatter",
         "x": [
          2740,
          2740,
          2762.5,
          2762.5
         ],
         "xaxis": "x",
         "y": [
          15.811388300841896,
          65.78848683470383,
          65.78848683470383,
          26.516504294495533
         ],
         "yaxis": "y"
        },
        {
         "hoverinfo": "text",
         "marker": {
          "color": "rgb(61,153,112)"
         },
         "mode": "lines",
         "type": "scatter",
         "x": [
          2720,
          2720,
          2751.25,
          2751.25
         ],
         "xaxis": "x",
         "y": [
          33.45939703581043,
          120,
          120,
          65.78848683470383
         ],
         "yaxis": "y"
        },
        {
         "hoverinfo": "text",
         "marker": {
          "color": "rgb(61,153,112)"
         },
         "mode": "lines",
         "type": "scatter",
         "x": [
          2785,
          2785,
          2795,
          2795
         ],
         "xaxis": "x",
         "y": [
          0,
          15.811388300841896,
          15.811388300841896,
          0
         ],
         "yaxis": "y"
        },
        {
         "hoverinfo": "text",
         "marker": {
          "color": "rgb(61,153,112)"
         },
         "mode": "lines",
         "type": "scatter",
         "x": [
          2815,
          2815,
          2825,
          2825
         ],
         "xaxis": "x",
         "y": [
          0,
          15.811388300841896,
          15.811388300841896,
          0
         ],
         "yaxis": "y"
        },
        {
         "hoverinfo": "text",
         "marker": {
          "color": "rgb(61,153,112)"
         },
         "mode": "lines",
         "type": "scatter",
         "x": [
          2805,
          2805,
          2820,
          2820
         ],
         "xaxis": "x",
         "y": [
          0,
          33.54101966249684,
          33.54101966249684,
          15.811388300841896
         ],
         "yaxis": "y"
        },
        {
         "hoverinfo": "text",
         "marker": {
          "color": "rgb(61,153,112)"
         },
         "mode": "lines",
         "type": "scatter",
         "x": [
          2790,
          2790,
          2812.5,
          2812.5
         ],
         "xaxis": "x",
         "y": [
          15.811388300841896,
          75.16648189186454,
          75.16648189186454,
          33.54101966249684
         ],
         "yaxis": "y"
        },
        {
         "hoverinfo": "text",
         "marker": {
          "color": "rgb(61,153,112)"
         },
         "mode": "lines",
         "type": "scatter",
         "x": [
          2855,
          2855,
          2865,
          2865
         ],
         "xaxis": "x",
         "y": [
          0,
          22.360679774997898,
          22.360679774997898,
          0
         ],
         "yaxis": "y"
        },
        {
         "hoverinfo": "text",
         "marker": {
          "color": "rgb(61,153,112)"
         },
         "mode": "lines",
         "type": "scatter",
         "x": [
          2845,
          2845,
          2860,
          2860
         ],
         "xaxis": "x",
         "y": [
          0,
          40,
          40,
          22.360679774997898
         ],
         "yaxis": "y"
        },
        {
         "hoverinfo": "text",
         "marker": {
          "color": "rgb(61,153,112)"
         },
         "mode": "lines",
         "type": "scatter",
         "x": [
          2835,
          2835,
          2852.5,
          2852.5
         ],
         "xaxis": "x",
         "y": [
          0,
          83.81993348840119,
          83.81993348840119,
          40
         ],
         "yaxis": "y"
        },
        {
         "hoverinfo": "text",
         "marker": {
          "color": "rgb(61,153,112)"
         },
         "mode": "lines",
         "type": "scatter",
         "x": [
          2801.25,
          2801.25,
          2843.75,
          2843.75
         ],
         "xaxis": "x",
         "y": [
          75.16648189186454,
          155.08062419270823,
          155.08062419270823,
          83.81993348840119
         ],
         "yaxis": "y"
        },
        {
         "hoverinfo": "text",
         "marker": {
          "color": "rgb(61,153,112)"
         },
         "mode": "lines",
         "type": "scatter",
         "x": [
          2735.625,
          2735.625,
          2822.5,
          2822.5
         ],
         "xaxis": "x",
         "y": [
          120,
          320,
          320,
          155.08062419270823
         ],
         "yaxis": "y"
        },
        {
         "hoverinfo": "text",
         "marker": {
          "color": "rgb(61,153,112)"
         },
         "mode": "lines",
         "type": "scatter",
         "x": [
          2875,
          2875,
          2885,
          2885
         ],
         "xaxis": "x",
         "y": [
          0,
          453.03176994159696,
          453.03176994159696,
          0
         ],
         "yaxis": "y"
        },
        {
         "hoverinfo": "text",
         "marker": {
          "color": "rgb(61,153,112)"
         },
         "mode": "lines",
         "type": "scatter",
         "x": [
          2779.0625,
          2779.0625,
          2880,
          2880
         ],
         "xaxis": "x",
         "y": [
          320,
          677.2054362683284,
          677.2054362683284,
          453.03176994159696
         ],
         "yaxis": "y"
        },
        {
         "hoverinfo": "text",
         "marker": {
          "color": "rgb(61,153,112)"
         },
         "mode": "lines",
         "type": "scatter",
         "x": [
          2517.421875,
          2517.421875,
          2829.53125,
          2829.53125
         ],
         "xaxis": "x",
         "y": [
          668.8446194745085,
          1080.4800266606946,
          1080.4800266606946,
          677.2054362683284
         ],
         "yaxis": "y"
        },
        {
         "hoverinfo": "text",
         "marker": {
          "color": "rgb(61,153,112)"
         },
         "mode": "lines",
         "type": "scatter",
         "x": [
          2895,
          2895,
          2905,
          2905
         ],
         "xaxis": "x",
         "y": [
          0,
          15.811388300841896,
          15.811388300841896,
          0
         ],
         "yaxis": "y"
        },
        {
         "hoverinfo": "text",
         "marker": {
          "color": "rgb(61,153,112)"
         },
         "mode": "lines",
         "type": "scatter",
         "x": [
          2915,
          2915,
          2925,
          2925
         ],
         "xaxis": "x",
         "y": [
          0,
          18.791620472966134,
          18.791620472966134,
          0
         ],
         "yaxis": "y"
        },
        {
         "hoverinfo": "text",
         "marker": {
          "color": "rgb(61,153,112)"
         },
         "mode": "lines",
         "type": "scatter",
         "x": [
          2900,
          2900,
          2920,
          2920
         ],
         "xaxis": "x",
         "y": [
          15.811388300841896,
          51.99158585771355,
          51.99158585771355,
          18.791620472966134
         ],
         "yaxis": "y"
        },
        {
         "hoverinfo": "text",
         "marker": {
          "color": "rgb(61,153,112)"
         },
         "mode": "lines",
         "type": "scatter",
         "x": [
          2935,
          2935,
          2945,
          2945
         ],
         "xaxis": "x",
         "y": [
          0,
          19.689980002529204,
          19.689980002529204,
          0
         ],
         "yaxis": "y"
        },
        {
         "hoverinfo": "text",
         "marker": {
          "color": "rgb(61,153,112)"
         },
         "mode": "lines",
         "type": "scatter",
         "x": [
          2955,
          2955,
          2965,
          2965
         ],
         "xaxis": "x",
         "y": [
          0,
          19.922028185685562,
          19.922028185685562,
          0
         ],
         "yaxis": "y"
        },
        {
         "hoverinfo": "text",
         "marker": {
          "color": "rgb(61,153,112)"
         },
         "mode": "lines",
         "type": "scatter",
         "x": [
          2940,
          2940,
          2960,
          2960
         ],
         "xaxis": "x",
         "y": [
          19.689980002529204,
          59.45564014062291,
          59.45564014062291,
          19.922028185685562
         ],
         "yaxis": "y"
        },
        {
         "hoverinfo": "text",
         "marker": {
          "color": "rgb(61,153,112)"
         },
         "mode": "lines",
         "type": "scatter",
         "x": [
          2910,
          2910,
          2950,
          2950
         ],
         "xaxis": "x",
         "y": [
          51.99158585771355,
          130.45597804252301,
          130.45597804252301,
          59.45564014062291
         ],
         "yaxis": "y"
        },
        {
         "hoverinfo": "text",
         "marker": {
          "color": "rgb(61,153,112)"
         },
         "mode": "lines",
         "type": "scatter",
         "x": [
          2975,
          2975,
          2985,
          2985
         ],
         "xaxis": "x",
         "y": [
          0,
          19.980478296063215,
          19.980478296063215,
          0
         ],
         "yaxis": "y"
        },
        {
         "hoverinfo": "text",
         "marker": {
          "color": "rgb(61,153,112)"
         },
         "mode": "lines",
         "type": "scatter",
         "x": [
          2995,
          2995,
          3005,
          3005
         ],
         "xaxis": "x",
         "y": [
          0,
          19.995117783691995,
          19.995117783691995,
          0
         ],
         "yaxis": "y"
        },
        {
         "hoverinfo": "text",
         "marker": {
          "color": "rgb(61,153,112)"
         },
         "mode": "lines",
         "type": "scatter",
         "x": [
          2980,
          2980,
          3000,
          3000
         ],
         "xaxis": "x",
         "y": [
          19.980478296063215,
          59.96583005347358,
          59.96583005347358,
          19.995117783691995
         ],
         "yaxis": "y"
        },
        {
         "hoverinfo": "text",
         "marker": {
          "color": "rgb(61,153,112)"
         },
         "mode": "lines",
         "type": "scatter",
         "x": [
          3015,
          3015,
          3025,
          3025
         ],
         "xaxis": "x",
         "y": [
          0,
          19.998779334130177,
          19.998779334130177,
          0
         ],
         "yaxis": "y"
        },
        {
         "hoverinfo": "text",
         "marker": {
          "color": "rgb(61,153,112)"
         },
         "mode": "lines",
         "type": "scatter",
         "x": [
          3035,
          3035,
          3045,
          3045
         ],
         "xaxis": "x",
         "y": [
          0,
          19.999694826547092,
          19.999694826547092,
          0
         ],
         "yaxis": "y"
        },
        {
         "hoverinfo": "text",
         "marker": {
          "color": "rgb(61,153,112)"
         },
         "mode": "lines",
         "type": "scatter",
         "x": [
          3020,
          3020,
          3040,
          3040
         ],
         "xaxis": "x",
         "y": [
          19.998779334130177,
          59.99786380756161,
          59.99786380756161,
          19.999694826547092
         ],
         "yaxis": "y"
        },
        {
         "hoverinfo": "text",
         "marker": {
          "color": "rgb(61,153,112)"
         },
         "mode": "lines",
         "type": "scatter",
         "x": [
          2990,
          2990,
          3030,
          3030
         ],
         "xaxis": "x",
         "y": [
          59.96583005347358,
          139.96124804201736,
          139.96124804201736,
          59.99786380756161
         ],
         "yaxis": "y"
        },
        {
         "hoverinfo": "text",
         "marker": {
          "color": "rgb(61,153,112)"
         },
         "mode": "lines",
         "type": "scatter",
         "x": [
          2930,
          2930,
          3010,
          3010
         ],
         "xaxis": "x",
         "y": [
          130.45597804252301,
          290.17265704856436,
          290.17265704856436,
          139.96124804201736
         ],
         "yaxis": "y"
        },
        {
         "hoverinfo": "text",
         "marker": {
          "color": "rgb(61,153,112)"
         },
         "mode": "lines",
         "type": "scatter",
         "x": [
          3055,
          3055,
          3065,
          3065
         ],
         "xaxis": "x",
         "y": [
          0,
          19.999923706200207,
          19.999923706200207,
          0
         ],
         "yaxis": "y"
        },
        {
         "hoverinfo": "text",
         "marker": {
          "color": "rgb(61,153,112)"
         },
         "mode": "lines",
         "type": "scatter",
         "x": [
          3075,
          3075,
          3085,
          3085
         ],
         "xaxis": "x",
         "y": [
          0,
          19.999980926522767,
          19.999980926522767,
          0
         ],
         "yaxis": "y"
        },
        {
         "hoverinfo": "text",
         "marker": {
          "color": "rgb(61,153,112)"
         },
         "mode": "lines",
         "type": "scatter",
         "x": [
          3060,
          3060,
          3080,
          3080
         ],
         "xaxis": "x",
         "y": [
          19.999923706200207,
          59.999866485744256,
          59.999866485744256,
          19.999980926522767
         ],
         "yaxis": "y"
        },
        {
         "hoverinfo": "text",
         "marker": {
          "color": "rgb(61,153,112)"
         },
         "mode": "lines",
         "type": "scatter",
         "x": [
          3095,
          3095,
          3105,
          3105
         ],
         "xaxis": "x",
         "y": [
          0,
          19.999995231628986,
          19.999995231628986,
          0
         ],
         "yaxis": "y"
        },
        {
         "hoverinfo": "text",
         "marker": {
          "color": "rgb(61,153,112)"
         },
         "mode": "lines",
         "type": "scatter",
         "x": [
          3115,
          3115,
          3125,
          3125
         ],
         "xaxis": "x",
         "y": [
          0,
          19.99999880790714,
          19.99999880790714,
          0
         ],
         "yaxis": "y"
        },
        {
         "hoverinfo": "text",
         "marker": {
          "color": "rgb(61,153,112)"
         },
         "mode": "lines",
         "type": "scatter",
         "x": [
          3100,
          3100,
          3120,
          3120
         ],
         "xaxis": "x",
         "y": [
          19.999995231628986,
          59.999991655350314,
          59.999991655350314,
          19.99999880790714
         ],
         "yaxis": "y"
        },
        {
         "hoverinfo": "text",
         "marker": {
          "color": "rgb(61,153,112)"
         },
         "mode": "lines",
         "type": "scatter",
         "x": [
          3070,
          3070,
          3110,
          3110
         ],
         "xaxis": "x",
         "y": [
          59.999866485744256,
          139.99984860428413,
          139.99984860428413,
          59.999991655350314
         ],
         "yaxis": "y"
        },
        {
         "hoverinfo": "text",
         "marker": {
          "color": "rgb(61,153,112)"
         },
         "mode": "lines",
         "type": "scatter",
         "x": [
          3135,
          3135,
          3145,
          3145
         ],
         "xaxis": "x",
         "y": [
          0,
          19.99999970197678,
          19.99999970197678,
          0
         ],
         "yaxis": "y"
        },
        {
         "hoverinfo": "text",
         "marker": {
          "color": "rgb(61,153,112)"
         },
         "mode": "lines",
         "type": "scatter",
         "x": [
          3155,
          3155,
          3165,
          3165
         ],
         "xaxis": "x",
         "y": [
          0,
          19.999999925494194,
          19.999999925494194,
          0
         ],
         "yaxis": "y"
        },
        {
         "hoverinfo": "text",
         "marker": {
          "color": "rgb(61,153,112)"
         },
         "mode": "lines",
         "type": "scatter",
         "x": [
          3140,
          3140,
          3160,
          3160
         ],
         "xaxis": "x",
         "y": [
          19.99999970197678,
          59.99999947845936,
          59.99999947845936,
          19.999999925494194
         ],
         "yaxis": "y"
        },
        {
         "hoverinfo": "text",
         "marker": {
          "color": "rgb(61,153,112)"
         },
         "mode": "lines",
         "type": "scatter",
         "x": [
          3175,
          3175,
          3185,
          3185
         ],
         "xaxis": "x",
         "y": [
          0,
          19.99999998137355,
          19.99999998137355,
          0
         ],
         "yaxis": "y"
        },
        {
         "hoverinfo": "text",
         "marker": {
          "color": "rgb(61,153,112)"
         },
         "mode": "lines",
         "type": "scatter",
         "x": [
          3195,
          3195,
          3205,
          3205
         ],
         "xaxis": "x",
         "y": [
          0,
          19.999999995343387,
          19.999999995343387,
          0
         ],
         "yaxis": "y"
        },
        {
         "hoverinfo": "text",
         "marker": {
          "color": "rgb(61,153,112)"
         },
         "mode": "lines",
         "type": "scatter",
         "x": [
          3180,
          3180,
          3200,
          3200
         ],
         "xaxis": "x",
         "y": [
          19.99999998137355,
          59.99999996740371,
          59.99999996740371,
          19.999999995343387
         ],
         "yaxis": "y"
        },
        {
         "hoverinfo": "text",
         "marker": {
          "color": "rgb(61,153,112)"
         },
         "mode": "lines",
         "type": "scatter",
         "x": [
          3150,
          3150,
          3190,
          3190
         ],
         "xaxis": "x",
         "y": [
          59.99999947845936,
          139.99999940861017,
          139.99999940861017,
          59.99999996740371
         ],
         "yaxis": "y"
        },
        {
         "hoverinfo": "text",
         "marker": {
          "color": "rgb(61,153,112)"
         },
         "mode": "lines",
         "type": "scatter",
         "x": [
          3090,
          3090,
          3170,
          3170
         ],
         "xaxis": "x",
         "y": [
          139.99984860428413,
          299.9998474168048,
          299.9998474168048,
          139.99999940861017
         ],
         "yaxis": "y"
        },
        {
         "hoverinfo": "text",
         "marker": {
          "color": "rgb(61,153,112)"
         },
         "mode": "lines",
         "type": "scatter",
         "x": [
          2970,
          2970,
          3130,
          3130
         ],
         "xaxis": "x",
         "y": [
          290.17265704856436,
          610.0819617113655,
          610.0819617113655,
          299.9998474168048
         ],
         "yaxis": "y"
        },
        {
         "hoverinfo": "text",
         "marker": {
          "color": "rgb(61,153,112)"
         },
         "mode": "lines",
         "type": "scatter",
         "x": [
          3215,
          3215,
          3225,
          3225
         ],
         "xaxis": "x",
         "y": [
          0,
          19.999999998835847,
          19.999999998835847,
          0
         ],
         "yaxis": "y"
        },
        {
         "hoverinfo": "text",
         "marker": {
          "color": "rgb(61,153,112)"
         },
         "mode": "lines",
         "type": "scatter",
         "x": [
          3235,
          3235,
          3245,
          3245
         ],
         "xaxis": "x",
         "y": [
          0,
          19.99999999970896,
          19.99999999970896,
          0
         ],
         "yaxis": "y"
        },
        {
         "hoverinfo": "text",
         "marker": {
          "color": "rgb(61,153,112)"
         },
         "mode": "lines",
         "type": "scatter",
         "x": [
          3220,
          3220,
          3240,
          3240
         ],
         "xaxis": "x",
         "y": [
          19.999999998835847,
          59.99999999796273,
          59.99999999796273,
          19.99999999970896
         ],
         "yaxis": "y"
        },
        {
         "hoverinfo": "text",
         "marker": {
          "color": "rgb(61,153,112)"
         },
         "mode": "lines",
         "type": "scatter",
         "x": [
          3255,
          3255,
          3265,
          3265
         ],
         "xaxis": "x",
         "y": [
          0,
          19.99999999992724,
          19.99999999992724,
          0
         ],
         "yaxis": "y"
        },
        {
         "hoverinfo": "text",
         "marker": {
          "color": "rgb(61,153,112)"
         },
         "mode": "lines",
         "type": "scatter",
         "x": [
          3275,
          3275,
          3285,
          3285
         ],
         "xaxis": "x",
         "y": [
          0,
          19.99999999998181,
          19.99999999998181,
          0
         ],
         "yaxis": "y"
        },
        {
         "hoverinfo": "text",
         "marker": {
          "color": "rgb(61,153,112)"
         },
         "mode": "lines",
         "type": "scatter",
         "x": [
          3260,
          3260,
          3280,
          3280
         ],
         "xaxis": "x",
         "y": [
          19.99999999992724,
          59.99999999987267,
          59.99999999987267,
          19.99999999998181
         ],
         "yaxis": "y"
        },
        {
         "hoverinfo": "text",
         "marker": {
          "color": "rgb(61,153,112)"
         },
         "mode": "lines",
         "type": "scatter",
         "x": [
          3230,
          3230,
          3270,
          3270
         ],
         "xaxis": "x",
         "y": [
          59.99999999796273,
          139.99999999768988,
          139.99999999768988,
          59.99999999987267
         ],
         "yaxis": "y"
        },
        {
         "hoverinfo": "text",
         "marker": {
          "color": "rgb(61,153,112)"
         },
         "mode": "lines",
         "type": "scatter",
         "x": [
          3295,
          3295,
          3305,
          3305
         ],
         "xaxis": "x",
         "y": [
          0,
          19.999999999995453,
          19.999999999995453,
          0
         ],
         "yaxis": "y"
        },
        {
         "hoverinfo": "text",
         "marker": {
          "color": "rgb(61,153,112)"
         },
         "mode": "lines",
         "type": "scatter",
         "x": [
          3315,
          3315,
          3325,
          3325
         ],
         "xaxis": "x",
         "y": [
          0,
          19.999999999998636,
          19.999999999998636,
          0
         ],
         "yaxis": "y"
        },
        {
         "hoverinfo": "text",
         "marker": {
          "color": "rgb(61,153,112)"
         },
         "mode": "lines",
         "type": "scatter",
         "x": [
          3300,
          3300,
          3320,
          3320
         ],
         "xaxis": "x",
         "y": [
          19.999999999995453,
          59.999999999991815,
          59.999999999991815,
          19.999999999998636
         ],
         "yaxis": "y"
        },
        {
         "hoverinfo": "text",
         "marker": {
          "color": "rgb(61,153,112)"
         },
         "mode": "lines",
         "type": "scatter",
         "x": [
          3335,
          3335,
          3345,
          3345
         ],
         "xaxis": "x",
         "y": [
          0,
          19.999999999999545,
          19.999999999999545,
          0
         ],
         "yaxis": "y"
        },
        {
         "hoverinfo": "text",
         "marker": {
          "color": "rgb(61,153,112)"
         },
         "mode": "lines",
         "type": "scatter",
         "x": [
          3355,
          3355,
          3365,
          3365
         ],
         "xaxis": "x",
         "y": [
          0,
          20,
          20,
          0
         ],
         "yaxis": "y"
        },
        {
         "hoverinfo": "text",
         "marker": {
          "color": "rgb(61,153,112)"
         },
         "mode": "lines",
         "type": "scatter",
         "x": [
          3340,
          3340,
          3360,
          3360
         ],
         "xaxis": "x",
         "y": [
          19.999999999999545,
          59.999999999999545,
          59.999999999999545,
          20
         ],
         "yaxis": "y"
        },
        {
         "hoverinfo": "text",
         "marker": {
          "color": "rgb(61,153,112)"
         },
         "mode": "lines",
         "type": "scatter",
         "x": [
          3310,
          3310,
          3350,
          3350
         ],
         "xaxis": "x",
         "y": [
          59.999999999991815,
          139.9999999999909,
          139.9999999999909,
          59.999999999999545
         ],
         "yaxis": "y"
        },
        {
         "hoverinfo": "text",
         "marker": {
          "color": "rgb(61,153,112)"
         },
         "mode": "lines",
         "type": "scatter",
         "x": [
          3250,
          3250,
          3330,
          3330
         ],
         "xaxis": "x",
         "y": [
          139.99999999768988,
          299.9999999976717,
          299.9999999976717,
          139.9999999999909
         ],
         "yaxis": "y"
        },
        {
         "hoverinfo": "text",
         "marker": {
          "color": "rgb(61,153,112)"
         },
         "mode": "lines",
         "type": "scatter",
         "x": [
          3375,
          3375,
          3385,
          3385
         ],
         "xaxis": "x",
         "y": [
          0,
          20,
          20,
          0
         ],
         "yaxis": "y"
        },
        {
         "hoverinfo": "text",
         "marker": {
          "color": "rgb(61,153,112)"
         },
         "mode": "lines",
         "type": "scatter",
         "x": [
          3395,
          3395,
          3405,
          3405
         ],
         "xaxis": "x",
         "y": [
          0,
          20,
          20,
          0
         ],
         "yaxis": "y"
        },
        {
         "hoverinfo": "text",
         "marker": {
          "color": "rgb(61,153,112)"
         },
         "mode": "lines",
         "type": "scatter",
         "x": [
          3380,
          3380,
          3400,
          3400
         ],
         "xaxis": "x",
         "y": [
          20,
          60,
          60,
          20
         ],
         "yaxis": "y"
        },
        {
         "hoverinfo": "text",
         "marker": {
          "color": "rgb(61,153,112)"
         },
         "mode": "lines",
         "type": "scatter",
         "x": [
          3415,
          3415,
          3425,
          3425
         ],
         "xaxis": "x",
         "y": [
          0,
          20,
          20,
          0
         ],
         "yaxis": "y"
        },
        {
         "hoverinfo": "text",
         "marker": {
          "color": "rgb(61,153,112)"
         },
         "mode": "lines",
         "type": "scatter",
         "x": [
          3435,
          3435,
          3445,
          3445
         ],
         "xaxis": "x",
         "y": [
          0,
          20,
          20,
          0
         ],
         "yaxis": "y"
        },
        {
         "hoverinfo": "text",
         "marker": {
          "color": "rgb(61,153,112)"
         },
         "mode": "lines",
         "type": "scatter",
         "x": [
          3420,
          3420,
          3440,
          3440
         ],
         "xaxis": "x",
         "y": [
          20,
          60,
          60,
          20
         ],
         "yaxis": "y"
        },
        {
         "hoverinfo": "text",
         "marker": {
          "color": "rgb(61,153,112)"
         },
         "mode": "lines",
         "type": "scatter",
         "x": [
          3390,
          3390,
          3430,
          3430
         ],
         "xaxis": "x",
         "y": [
          60,
          140,
          140,
          60
         ],
         "yaxis": "y"
        },
        {
         "hoverinfo": "text",
         "marker": {
          "color": "rgb(61,153,112)"
         },
         "mode": "lines",
         "type": "scatter",
         "x": [
          3455,
          3455,
          3465,
          3465
         ],
         "xaxis": "x",
         "y": [
          0,
          20,
          20,
          0
         ],
         "yaxis": "y"
        },
        {
         "hoverinfo": "text",
         "marker": {
          "color": "rgb(61,153,112)"
         },
         "mode": "lines",
         "type": "scatter",
         "x": [
          3475,
          3475,
          3485,
          3485
         ],
         "xaxis": "x",
         "y": [
          0,
          20,
          20,
          0
         ],
         "yaxis": "y"
        },
        {
         "hoverinfo": "text",
         "marker": {
          "color": "rgb(61,153,112)"
         },
         "mode": "lines",
         "type": "scatter",
         "x": [
          3460,
          3460,
          3480,
          3480
         ],
         "xaxis": "x",
         "y": [
          20,
          60,
          60,
          20
         ],
         "yaxis": "y"
        },
        {
         "hoverinfo": "text",
         "marker": {
          "color": "rgb(61,153,112)"
         },
         "mode": "lines",
         "type": "scatter",
         "x": [
          3495,
          3495,
          3505,
          3505
         ],
         "xaxis": "x",
         "y": [
          0,
          20,
          20,
          0
         ],
         "yaxis": "y"
        },
        {
         "hoverinfo": "text",
         "marker": {
          "color": "rgb(61,153,112)"
         },
         "mode": "lines",
         "type": "scatter",
         "x": [
          3515,
          3515,
          3525,
          3525
         ],
         "xaxis": "x",
         "y": [
          0,
          20,
          20,
          0
         ],
         "yaxis": "y"
        },
        {
         "hoverinfo": "text",
         "marker": {
          "color": "rgb(61,153,112)"
         },
         "mode": "lines",
         "type": "scatter",
         "x": [
          3500,
          3500,
          3520,
          3520
         ],
         "xaxis": "x",
         "y": [
          20,
          60,
          60,
          20
         ],
         "yaxis": "y"
        },
        {
         "hoverinfo": "text",
         "marker": {
          "color": "rgb(61,153,112)"
         },
         "mode": "lines",
         "type": "scatter",
         "x": [
          3470,
          3470,
          3510,
          3510
         ],
         "xaxis": "x",
         "y": [
          60,
          140,
          140,
          60
         ],
         "yaxis": "y"
        },
        {
         "hoverinfo": "text",
         "marker": {
          "color": "rgb(61,153,112)"
         },
         "mode": "lines",
         "type": "scatter",
         "x": [
          3410,
          3410,
          3490,
          3490
         ],
         "xaxis": "x",
         "y": [
          140,
          300,
          300,
          140
         ],
         "yaxis": "y"
        },
        {
         "hoverinfo": "text",
         "marker": {
          "color": "rgb(61,153,112)"
         },
         "mode": "lines",
         "type": "scatter",
         "x": [
          3290,
          3290,
          3450,
          3450
         ],
         "xaxis": "x",
         "y": [
          299.9999999976717,
          619.9999999976717,
          619.9999999976717,
          300
         ],
         "yaxis": "y"
        },
        {
         "hoverinfo": "text",
         "marker": {
          "color": "rgb(61,153,112)"
         },
         "mode": "lines",
         "type": "scatter",
         "x": [
          3050,
          3050,
          3370,
          3370
         ],
         "xaxis": "x",
         "y": [
          610.0819617113655,
          1250.0399993600204,
          1250.0399993600204,
          619.9999999976717
         ],
         "yaxis": "y"
        },
        {
         "hoverinfo": "text",
         "marker": {
          "color": "rgb(61,153,112)"
         },
         "mode": "lines",
         "type": "scatter",
         "x": [
          2673.4765625,
          2673.4765625,
          3210,
          3210
         ],
         "xaxis": "x",
         "y": [
          1080.4800266606946,
          2330.0214591286494,
          2330.0214591286494,
          1250.0399993600204
         ],
         "yaxis": "y"
        },
        {
         "hoverinfo": "text",
         "marker": {
          "color": "rgb(61,153,112)"
         },
         "mode": "lines",
         "type": "scatter",
         "x": [
          2355,
          2355,
          2941.73828125,
          2941.73828125
         ],
         "xaxis": "x",
         "y": [
          0,
          5090.395597220069,
          5090.395597220069,
          2330.0214591286494
         ],
         "yaxis": "y"
        },
        {
         "hoverinfo": "text",
         "marker": {
          "color": "rgb(61,153,112)"
         },
         "mode": "lines",
         "type": "scatter",
         "x": [
          1087.9296875,
          1087.9296875,
          2648.369140625,
          2648.369140625
         ],
         "xaxis": "x",
         "y": [
          4661.287787016512,
          7011.309021177498,
          7011.309021177498,
          5090.395597220069
         ],
         "yaxis": "y"
        },
        {
         "hoverinfo": "text",
         "marker": {
          "color": "rgb(255,65,54)"
         },
         "mode": "lines",
         "type": "scatter",
         "x": [
          3555,
          3555,
          3565,
          3565
         ],
         "xaxis": "x",
         "y": [
          0,
          22.360679774997898,
          22.360679774997898,
          0
         ],
         "yaxis": "y"
        },
        {
         "hoverinfo": "text",
         "marker": {
          "color": "rgb(255,65,54)"
         },
         "mode": "lines",
         "type": "scatter",
         "x": [
          3545,
          3545,
          3560,
          3560
         ],
         "xaxis": "x",
         "y": [
          0,
          40,
          40,
          22.360679774997898
         ],
         "yaxis": "y"
        },
        {
         "hoverinfo": "text",
         "marker": {
          "color": "rgb(255,65,54)"
         },
         "mode": "lines",
         "type": "scatter",
         "x": [
          3535,
          3535,
          3552.5,
          3552.5
         ],
         "xaxis": "x",
         "y": [
          0,
          66.84432707792038,
          66.84432707792038,
          40
         ],
         "yaxis": "y"
        },
        {
         "hoverinfo": "text",
         "marker": {
          "color": "rgb(255,65,54)"
         },
         "mode": "lines",
         "type": "scatter",
         "x": [
          3605,
          3605,
          3615,
          3615
         ],
         "xaxis": "x",
         "y": [
          0,
          15.811388300841896,
          15.811388300841896,
          0
         ],
         "yaxis": "y"
        },
        {
         "hoverinfo": "text",
         "marker": {
          "color": "rgb(255,65,54)"
         },
         "mode": "lines",
         "type": "scatter",
         "x": [
          3595,
          3595,
          3610,
          3610
         ],
         "xaxis": "x",
         "y": [
          0,
          33.354160160315836,
          33.354160160315836,
          15.811388300841896
         ],
         "yaxis": "y"
        },
        {
         "hoverinfo": "text",
         "marker": {
          "color": "rgb(255,65,54)"
         },
         "mode": "lines",
         "type": "scatter",
         "x": [
          3585,
          3585,
          3602.5,
          3602.5
         ],
         "xaxis": "x",
         "y": [
          0,
          54.45755227697991,
          54.45755227697991,
          33.354160160315836
         ],
         "yaxis": "y"
        },
        {
         "hoverinfo": "text",
         "marker": {
          "color": "rgb(255,65,54)"
         },
         "mode": "lines",
         "type": "scatter",
         "x": [
          3575,
          3575,
          3593.75,
          3593.75
         ],
         "xaxis": "x",
         "y": [
          0,
          87.14912910135706,
          87.14912910135706,
          54.45755227697991
         ],
         "yaxis": "y"
        },
        {
         "hoverinfo": "text",
         "marker": {
          "color": "rgb(255,65,54)"
         },
         "mode": "lines",
         "type": "scatter",
         "x": [
          3543.75,
          3543.75,
          3584.375,
          3584.375
         ],
         "xaxis": "x",
         "y": [
          66.84432707792038,
          129.30572571670984,
          129.30572571670984,
          87.14912910135706
         ],
         "yaxis": "y"
        },
        {
         "hoverinfo": "text",
         "marker": {
          "color": "rgb(255,65,54)"
         },
         "mode": "lines",
         "type": "scatter",
         "x": [
          3635,
          3635,
          3645,
          3645
         ],
         "xaxis": "x",
         "y": [
          0,
          15.811388300841896,
          15.811388300841896,
          0
         ],
         "yaxis": "y"
        },
        {
         "hoverinfo": "text",
         "marker": {
          "color": "rgb(255,65,54)"
         },
         "mode": "lines",
         "type": "scatter",
         "x": [
          3625,
          3625,
          3640,
          3640
         ],
         "xaxis": "x",
         "y": [
          0,
          33.354160160315836,
          33.354160160315836,
          15.811388300841896
         ],
         "yaxis": "y"
        },
        {
         "hoverinfo": "text",
         "marker": {
          "color": "rgb(255,65,54)"
         },
         "mode": "lines",
         "type": "scatter",
         "x": [
          3655,
          3655,
          3665,
          3665
         ],
         "xaxis": "x",
         "y": [
          0,
          15.811388300841896,
          15.811388300841896,
          0
         ],
         "yaxis": "y"
        },
        {
         "hoverinfo": "text",
         "marker": {
          "color": "rgb(255,65,54)"
         },
         "mode": "lines",
         "type": "scatter",
         "x": [
          3685,
          3685,
          3695,
          3695
         ],
         "xaxis": "x",
         "y": [
          0,
          16.677080080157918,
          16.677080080157918,
          0
         ],
         "yaxis": "y"
        },
        {
         "hoverinfo": "text",
         "marker": {
          "color": "rgb(255,65,54)"
         },
         "mode": "lines",
         "type": "scatter",
         "x": [
          3675,
          3675,
          3690,
          3690
         ],
         "xaxis": "x",
         "y": [
          0,
          26.516504294495533,
          26.516504294495533,
          16.677080080157918
         ],
         "yaxis": "y"
        },
        {
         "hoverinfo": "text",
         "marker": {
          "color": "rgb(255,65,54)"
         },
         "mode": "lines",
         "type": "scatter",
         "x": [
          3660,
          3660,
          3682.5,
          3682.5
         ],
         "xaxis": "x",
         "y": [
          15.811388300841896,
          65.78848683470383,
          65.78848683470383,
          26.516504294495533
         ],
         "yaxis": "y"
        },
        {
         "hoverinfo": "text",
         "marker": {
          "color": "rgb(255,65,54)"
         },
         "mode": "lines",
         "type": "scatter",
         "x": [
          3632.5,
          3632.5,
          3671.25,
          3671.25
         ],
         "xaxis": "x",
         "y": [
          33.354160160315836,
          144.66556259179308,
          144.66556259179308,
          65.78848683470383
         ],
         "yaxis": "y"
        },
        {
         "hoverinfo": "text",
         "marker": {
          "color": "rgb(255,65,54)"
         },
         "mode": "lines",
         "type": "scatter",
         "x": [
          3564.0625,
          3564.0625,
          3651.875,
          3651.875
         ],
         "xaxis": "x",
         "y": [
          129.30572571670984,
          304.6222686582516,
          304.6222686582516,
          144.66556259179308
         ],
         "yaxis": "y"
        },
        {
         "hoverinfo": "text",
         "marker": {
          "color": "rgb(255,65,54)"
         },
         "mode": "lines",
         "type": "scatter",
         "x": [
          3705,
          3705,
          3715,
          3715
         ],
         "xaxis": "x",
         "y": [
          0,
          18.791620472966134,
          18.791620472966134,
          0
         ],
         "yaxis": "y"
        },
        {
         "hoverinfo": "text",
         "marker": {
          "color": "rgb(255,65,54)"
         },
         "mode": "lines",
         "type": "scatter",
         "x": [
          3725,
          3725,
          3735,
          3735
         ],
         "xaxis": "x",
         "y": [
          0,
          34.21625276275881,
          34.21625276275881,
          0
         ],
         "yaxis": "y"
        },
        {
         "hoverinfo": "text",
         "marker": {
          "color": "rgb(255,65,54)"
         },
         "mode": "lines",
         "type": "scatter",
         "x": [
          3710,
          3710,
          3730,
          3730
         ],
         "xaxis": "x",
         "y": [
          18.791620472966134,
          42.78454835714641,
          42.78454835714641,
          34.21625276275881
         ],
         "yaxis": "y"
        },
        {
         "hoverinfo": "text",
         "marker": {
          "color": "rgb(255,65,54)"
         },
         "mode": "lines",
         "type": "scatter",
         "x": [
          3755,
          3755,
          3765,
          3765
         ],
         "xaxis": "x",
         "y": [
          0,
          15.811388300841896,
          15.811388300841896,
          0
         ],
         "yaxis": "y"
        },
        {
         "hoverinfo": "text",
         "marker": {
          "color": "rgb(255,65,54)"
         },
         "mode": "lines",
         "type": "scatter",
         "x": [
          3745,
          3745,
          3760,
          3760
         ],
         "xaxis": "x",
         "y": [
          0,
          53.91870327168486,
          53.91870327168486,
          15.811388300841896
         ],
         "yaxis": "y"
        },
        {
         "hoverinfo": "text",
         "marker": {
          "color": "rgb(255,65,54)"
         },
         "mode": "lines",
         "type": "scatter",
         "x": [
          3720,
          3720,
          3752.5,
          3752.5
         ],
         "xaxis": "x",
         "y": [
          42.78454835714641,
          77.23872288237293,
          77.23872288237293,
          53.91870327168486
         ],
         "yaxis": "y"
        },
        {
         "hoverinfo": "text",
         "marker": {
          "color": "rgb(255,65,54)"
         },
         "mode": "lines",
         "type": "scatter",
         "x": [
          3785,
          3785,
          3795,
          3795
         ],
         "xaxis": "x",
         "y": [
          0,
          15.811388300841896,
          15.811388300841896,
          0
         ],
         "yaxis": "y"
        },
        {
         "hoverinfo": "text",
         "marker": {
          "color": "rgb(255,65,54)"
         },
         "mode": "lines",
         "type": "scatter",
         "x": [
          3775,
          3775,
          3790,
          3790
         ],
         "xaxis": "x",
         "y": [
          0,
          30.20761493398643,
          30.20761493398643,
          15.811388300841896
         ],
         "yaxis": "y"
        },
        {
         "hoverinfo": "text",
         "marker": {
          "color": "rgb(255,65,54)"
         },
         "mode": "lines",
         "type": "scatter",
         "x": [
          3805,
          3805,
          3815,
          3815
         ],
         "xaxis": "x",
         "y": [
          0,
          51.986068032995625,
          51.986068032995625,
          0
         ],
         "yaxis": "y"
        },
        {
         "hoverinfo": "text",
         "marker": {
          "color": "rgb(255,65,54)"
         },
         "mode": "lines",
         "type": "scatter",
         "x": [
          3782.5,
          3782.5,
          3810,
          3810
         ],
         "xaxis": "x",
         "y": [
          30.20761493398643,
          90.95528445082918,
          90.95528445082918,
          51.986068032995625
         ],
         "yaxis": "y"
        },
        {
         "hoverinfo": "text",
         "marker": {
          "color": "rgb(255,65,54)"
         },
         "mode": "lines",
         "type": "scatter",
         "x": [
          3736.25,
          3736.25,
          3796.25,
          3796.25
         ],
         "xaxis": "x",
         "y": [
          77.23872288237293,
          195.0640920313116,
          195.0640920313116,
          90.95528445082918
         ],
         "yaxis": "y"
        },
        {
         "hoverinfo": "text",
         "marker": {
          "color": "rgb(255,65,54)"
         },
         "mode": "lines",
         "type": "scatter",
         "x": [
          3825,
          3825,
          3835,
          3835
         ],
         "xaxis": "x",
         "y": [
          0,
          26.235114827269197,
          26.235114827269197,
          0
         ],
         "yaxis": "y"
        },
        {
         "hoverinfo": "text",
         "marker": {
          "color": "rgb(255,65,54)"
         },
         "mode": "lines",
         "type": "scatter",
         "x": [
          3865,
          3865,
          3875,
          3875
         ],
         "xaxis": "x",
         "y": [
          0,
          15.811388300841896,
          15.811388300841896,
          0
         ],
         "yaxis": "y"
        },
        {
         "hoverinfo": "text",
         "marker": {
          "color": "rgb(255,65,54)"
         },
         "mode": "lines",
         "type": "scatter",
         "x": [
          3855,
          3855,
          3870,
          3870
         ],
         "xaxis": "x",
         "y": [
          0,
          30.20761493398643,
          30.20761493398643,
          15.811388300841896
         ],
         "yaxis": "y"
        },
        {
         "hoverinfo": "text",
         "marker": {
          "color": "rgb(255,65,54)"
         },
         "mode": "lines",
         "type": "scatter",
         "x": [
          3845,
          3845,
          3862.5,
          3862.5
         ],
         "xaxis": "x",
         "y": [
          0,
          55.226805085936306,
          55.226805085936306,
          30.20761493398643
         ],
         "yaxis": "y"
        },
        {
         "hoverinfo": "text",
         "marker": {
          "color": "rgb(255,65,54)"
         },
         "mode": "lines",
         "type": "scatter",
         "x": [
          3830,
          3830,
          3853.75,
          3853.75
         ],
         "xaxis": "x",
         "y": [
          26.235114827269197,
          85.80956386091238,
          85.80956386091238,
          55.226805085936306
         ],
         "yaxis": "y"
        },
        {
         "hoverinfo": "text",
         "marker": {
          "color": "rgb(255,65,54)"
         },
         "mode": "lines",
         "type": "scatter",
         "x": [
          3905,
          3905,
          3915,
          3915
         ],
         "xaxis": "x",
         "y": [
          0,
          15.811388300841896,
          15.811388300841896,
          0
         ],
         "yaxis": "y"
        },
        {
         "hoverinfo": "text",
         "marker": {
          "color": "rgb(255,65,54)"
         },
         "mode": "lines",
         "type": "scatter",
         "x": [
          3895,
          3895,
          3910,
          3910
         ],
         "xaxis": "x",
         "y": [
          0,
          33.354160160315836,
          33.354160160315836,
          15.811388300841896
         ],
         "yaxis": "y"
        },
        {
         "hoverinfo": "text",
         "marker": {
          "color": "rgb(255,65,54)"
         },
         "mode": "lines",
         "type": "scatter",
         "x": [
          3885,
          3885,
          3902.5,
          3902.5
         ],
         "xaxis": "x",
         "y": [
          0,
          63.09714732061981,
          63.09714732061981,
          33.354160160315836
         ],
         "yaxis": "y"
        },
        {
         "hoverinfo": "text",
         "marker": {
          "color": "rgb(255,65,54)"
         },
         "mode": "lines",
         "type": "scatter",
         "x": [
          3955,
          3955,
          3965,
          3965
         ],
         "xaxis": "x",
         "y": [
          0,
          15.811388300841896,
          15.811388300841896,
          0
         ],
         "yaxis": "y"
        },
        {
         "hoverinfo": "text",
         "marker": {
          "color": "rgb(255,65,54)"
         },
         "mode": "lines",
         "type": "scatter",
         "x": [
          3945,
          3945,
          3960,
          3960
         ],
         "xaxis": "x",
         "y": [
          0,
          30.20761493398643,
          30.20761493398643,
          15.811388300841896
         ],
         "yaxis": "y"
        },
        {
         "hoverinfo": "text",
         "marker": {
          "color": "rgb(255,65,54)"
         },
         "mode": "lines",
         "type": "scatter",
         "x": [
          3935,
          3935,
          3952.5,
          3952.5
         ],
         "xaxis": "x",
         "y": [
          0,
          55.226805085936306,
          55.226805085936306,
          30.20761493398643
         ],
         "yaxis": "y"
        },
        {
         "hoverinfo": "text",
         "marker": {
          "color": "rgb(255,65,54)"
         },
         "mode": "lines",
         "type": "scatter",
         "x": [
          3925,
          3925,
          3943.75,
          3943.75
         ],
         "xaxis": "x",
         "y": [
          0,
          67.98580964068898,
          67.98580964068898,
          55.226805085936306
         ],
         "yaxis": "y"
        },
        {
         "hoverinfo": "text",
         "marker": {
          "color": "rgb(255,65,54)"
         },
         "mode": "lines",
         "type": "scatter",
         "x": [
          3893.75,
          3893.75,
          3934.375,
          3934.375
         ],
         "xaxis": "x",
         "y": [
          63.09714732061981,
          132.71209439986998,
          132.71209439986998,
          67.98580964068898
         ],
         "yaxis": "y"
        },
        {
         "hoverinfo": "text",
         "marker": {
          "color": "rgb(255,65,54)"
         },
         "mode": "lines",
         "type": "scatter",
         "x": [
          3841.875,
          3841.875,
          3914.0625,
          3914.0625
         ],
         "xaxis": "x",
         "y": [
          85.80956386091238,
          272.6031914706796,
          272.6031914706796,
          132.71209439986998
         ],
         "yaxis": "y"
        },
        {
         "hoverinfo": "text",
         "marker": {
          "color": "rgb(255,65,54)"
         },
         "mode": "lines",
         "type": "scatter",
         "x": [
          3766.25,
          3766.25,
          3877.96875,
          3877.96875
         ],
         "xaxis": "x",
         "y": [
          195.0640920313116,
          512.5548751109485,
          512.5548751109485,
          272.6031914706796
         ],
         "yaxis": "y"
        },
        {
         "hoverinfo": "text",
         "marker": {
          "color": "rgb(255,65,54)"
         },
         "mode": "lines",
         "type": "scatter",
         "x": [
          3607.96875,
          3607.96875,
          3822.109375,
          3822.109375
         ],
         "xaxis": "x",
         "y": [
          304.6222686582516,
          872.5322343615736,
          872.5322343615736,
          512.5548751109485
         ],
         "yaxis": "y"
        },
        {
         "hoverinfo": "text",
         "marker": {
          "color": "rgb(255,65,54)"
         },
         "mode": "lines",
         "type": "scatter",
         "x": [
          3975,
          3975,
          3985,
          3985
         ],
         "xaxis": "x",
         "y": [
          0,
          15.811388300841896,
          15.811388300841896,
          0
         ],
         "yaxis": "y"
        },
        {
         "hoverinfo": "text",
         "marker": {
          "color": "rgb(255,65,54)"
         },
         "mode": "lines",
         "type": "scatter",
         "x": [
          3995,
          3995,
          4005,
          4005
         ],
         "xaxis": "x",
         "y": [
          0,
          29.662818687710715,
          29.662818687710715,
          0
         ],
         "yaxis": "y"
        },
        {
         "hoverinfo": "text",
         "marker": {
          "color": "rgb(255,65,54)"
         },
         "mode": "lines",
         "type": "scatter",
         "x": [
          3980,
          3980,
          4000,
          4000
         ],
         "xaxis": "x",
         "y": [
          15.811388300841896,
          45.46848152841702,
          45.46848152841702,
          29.662818687710715
         ],
         "yaxis": "y"
        },
        {
         "hoverinfo": "text",
         "marker": {
          "color": "rgb(255,65,54)"
         },
         "mode": "lines",
         "type": "scatter",
         "x": [
          4015,
          4015,
          4025,
          4025
         ],
         "xaxis": "x",
         "y": [
          0,
          15.811388300841896,
          15.811388300841896,
          0
         ],
         "yaxis": "y"
        },
        {
         "hoverinfo": "text",
         "marker": {
          "color": "rgb(255,65,54)"
         },
         "mode": "lines",
         "type": "scatter",
         "x": [
          4045,
          4045,
          4055,
          4055
         ],
         "xaxis": "x",
         "y": [
          0,
          25.739075352467502,
          25.739075352467502,
          0
         ],
         "yaxis": "y"
        },
        {
         "hoverinfo": "text",
         "marker": {
          "color": "rgb(255,65,54)"
         },
         "mode": "lines",
         "type": "scatter",
         "x": [
          4035,
          4035,
          4050,
          4050
         ],
         "xaxis": "x",
         "y": [
          0,
          42.01934078492903,
          42.01934078492903,
          25.739075352467502
         ],
         "yaxis": "y"
        },
        {
         "hoverinfo": "text",
         "marker": {
          "color": "rgb(255,65,54)"
         },
         "mode": "lines",
         "type": "scatter",
         "x": [
          4020,
          4020,
          4042.5,
          4042.5
         ],
         "xaxis": "x",
         "y": [
          15.811388300841896,
          81.49003006503311,
          81.49003006503311,
          42.01934078492903
         ],
         "yaxis": "y"
        },
        {
         "hoverinfo": "text",
         "marker": {
          "color": "rgb(255,65,54)"
         },
         "mode": "lines",
         "type": "scatter",
         "x": [
          3990,
          3990,
          4031.25,
          4031.25
         ],
         "xaxis": "x",
         "y": [
          45.46848152841702,
          142.7581269578023,
          142.7581269578023,
          81.49003006503311
         ],
         "yaxis": "y"
        },
        {
         "hoverinfo": "text",
         "marker": {
          "color": "rgb(255,65,54)"
         },
         "mode": "lines",
         "type": "scatter",
         "x": [
          4065,
          4065,
          4075,
          4075
         ],
         "xaxis": "x",
         "y": [
          0,
          15.811388300841896,
          15.811388300841896,
          0
         ],
         "yaxis": "y"
        },
        {
         "hoverinfo": "text",
         "marker": {
          "color": "rgb(255,65,54)"
         },
         "mode": "lines",
         "type": "scatter",
         "x": [
          4095,
          4095,
          4105,
          4105
         ],
         "xaxis": "x",
         "y": [
          0,
          15.811388300841896,
          15.811388300841896,
          0
         ],
         "yaxis": "y"
        },
        {
         "hoverinfo": "text",
         "marker": {
          "color": "rgb(255,65,54)"
         },
         "mode": "lines",
         "type": "scatter",
         "x": [
          4085,
          4085,
          4100,
          4100
         ],
         "xaxis": "x",
         "y": [
          0,
          41.012574291307295,
          41.012574291307295,
          15.811388300841896
         ],
         "yaxis": "y"
        },
        {
         "hoverinfo": "text",
         "marker": {
          "color": "rgb(255,65,54)"
         },
         "mode": "lines",
         "type": "scatter",
         "x": [
          4070,
          4070,
          4092.5,
          4092.5
         ],
         "xaxis": "x",
         "y": [
          15.811388300841896,
          77.18180647017793,
          77.18180647017793,
          41.012574291307295
         ],
         "yaxis": "y"
        },
        {
         "hoverinfo": "text",
         "marker": {
          "color": "rgb(255,65,54)"
         },
         "mode": "lines",
         "type": "scatter",
         "x": [
          4115,
          4115,
          4125,
          4125
         ],
         "xaxis": "x",
         "y": [
          0,
          40,
          40,
          0
         ],
         "yaxis": "y"
        },
        {
         "hoverinfo": "text",
         "marker": {
          "color": "rgb(255,65,54)"
         },
         "mode": "lines",
         "type": "scatter",
         "x": [
          4145,
          4145,
          4155,
          4155
         ],
         "xaxis": "x",
         "y": [
          0,
          24.558603380485625,
          24.558603380485625,
          0
         ],
         "yaxis": "y"
        },
        {
         "hoverinfo": "text",
         "marker": {
          "color": "rgb(255,65,54)"
         },
         "mode": "lines",
         "type": "scatter",
         "x": [
          4135,
          4135,
          4150,
          4150
         ],
         "xaxis": "x",
         "y": [
          0,
          49.93941642129992,
          49.93941642129992,
          24.558603380485625
         ],
         "yaxis": "y"
        },
        {
         "hoverinfo": "text",
         "marker": {
          "color": "rgb(255,65,54)"
         },
         "mode": "lines",
         "type": "scatter",
         "x": [
          4120,
          4120,
          4142.5,
          4142.5
         ],
         "xaxis": "x",
         "y": [
          40,
          87.82084035125148,
          87.82084035125148,
          49.93941642129992
         ],
         "yaxis": "y"
        },
        {
         "hoverinfo": "text",
         "marker": {
          "color": "rgb(255,65,54)"
         },
         "mode": "lines",
         "type": "scatter",
         "x": [
          4081.25,
          4081.25,
          4131.25,
          4131.25
         ],
         "xaxis": "x",
         "y": [
          77.18180647017793,
          180,
          180,
          87.82084035125148
         ],
         "yaxis": "y"
        },
        {
         "hoverinfo": "text",
         "marker": {
          "color": "rgb(255,65,54)"
         },
         "mode": "lines",
         "type": "scatter",
         "x": [
          4010.625,
          4010.625,
          4106.25,
          4106.25
         ],
         "xaxis": "x",
         "y": [
          142.7581269578023,
          362.0322952617625,
          362.0322952617625,
          180
         ],
         "yaxis": "y"
        },
        {
         "hoverinfo": "text",
         "marker": {
          "color": "rgb(255,65,54)"
         },
         "mode": "lines",
         "type": "scatter",
         "x": [
          4165,
          4165,
          4175,
          4175
         ],
         "xaxis": "x",
         "y": [
          0,
          15.811388300841896,
          15.811388300841896,
          0
         ],
         "yaxis": "y"
        },
        {
         "hoverinfo": "text",
         "marker": {
          "color": "rgb(255,65,54)"
         },
         "mode": "lines",
         "type": "scatter",
         "x": [
          4195,
          4195,
          4205,
          4205
         ],
         "xaxis": "x",
         "y": [
          0,
          24.558603380485625,
          24.558603380485625,
          0
         ],
         "yaxis": "y"
        },
        {
         "hoverinfo": "text",
         "marker": {
          "color": "rgb(255,65,54)"
         },
         "mode": "lines",
         "type": "scatter",
         "x": [
          4185,
          4185,
          4200,
          4200
         ],
         "xaxis": "x",
         "y": [
          0,
          48.088460154178364,
          48.088460154178364,
          24.558603380485625
         ],
         "yaxis": "y"
        },
        {
         "hoverinfo": "text",
         "marker": {
          "color": "rgb(255,65,54)"
         },
         "mode": "lines",
         "type": "scatter",
         "x": [
          4170,
          4170,
          4192.5,
          4192.5
         ],
         "xaxis": "x",
         "y": [
          15.811388300841896,
          80,
          80,
          48.088460154178364
         ],
         "yaxis": "y"
        },
        {
         "hoverinfo": "text",
         "marker": {
          "color": "rgb(255,65,54)"
         },
         "mode": "lines",
         "type": "scatter",
         "x": [
          4225,
          4225,
          4235,
          4235
         ],
         "xaxis": "x",
         "y": [
          0,
          15.811388300841896,
          15.811388300841896,
          0
         ],
         "yaxis": "y"
        },
        {
         "hoverinfo": "text",
         "marker": {
          "color": "rgb(255,65,54)"
         },
         "mode": "lines",
         "type": "scatter",
         "x": [
          4215,
          4215,
          4230,
          4230
         ],
         "xaxis": "x",
         "y": [
          0,
          50.14042780032895,
          50.14042780032895,
          15.811388300841896
         ],
         "yaxis": "y"
        },
        {
         "hoverinfo": "text",
         "marker": {
          "color": "rgb(255,65,54)"
         },
         "mode": "lines",
         "type": "scatter",
         "x": [
          4265,
          4265,
          4275,
          4275
         ],
         "xaxis": "x",
         "y": [
          0,
          24.558603380485625,
          24.558603380485625,
          0
         ],
         "yaxis": "y"
        },
        {
         "hoverinfo": "text",
         "marker": {
          "color": "rgb(255,65,54)"
         },
         "mode": "lines",
         "type": "scatter",
         "x": [
          4255,
          4255,
          4270,
          4270
         ],
         "xaxis": "x",
         "y": [
          0,
          48.088460154178364,
          48.088460154178364,
          24.558603380485625
         ],
         "yaxis": "y"
        },
        {
         "hoverinfo": "text",
         "marker": {
          "color": "rgb(255,65,54)"
         },
         "mode": "lines",
         "type": "scatter",
         "x": [
          4245,
          4245,
          4262.5,
          4262.5
         ],
         "xaxis": "x",
         "y": [
          0,
          61.5490150205509,
          61.5490150205509,
          48.088460154178364
         ],
         "yaxis": "y"
        },
        {
         "hoverinfo": "text",
         "marker": {
          "color": "rgb(255,65,54)"
         },
         "mode": "lines",
         "type": "scatter",
         "x": [
          4222.5,
          4222.5,
          4253.75,
          4253.75
         ],
         "xaxis": "x",
         "y": [
          50.14042780032895,
          97.54005587449701,
          97.54005587449701,
          61.5490150205509
         ],
         "yaxis": "y"
        },
        {
         "hoverinfo": "text",
         "marker": {
          "color": "rgb(255,65,54)"
         },
         "mode": "lines",
         "type": "scatter",
         "x": [
          4181.25,
          4181.25,
          4238.125,
          4238.125
         ],
         "xaxis": "x",
         "y": [
          80,
          200,
          200,
          97.54005587449701
         ],
         "yaxis": "y"
        },
        {
         "hoverinfo": "text",
         "marker": {
          "color": "rgb(255,65,54)"
         },
         "mode": "lines",
         "type": "scatter",
         "x": [
          4295,
          4295,
          4305,
          4305
         ],
         "xaxis": "x",
         "y": [
          0,
          236.08232310202726,
          236.08232310202726,
          0
         ],
         "yaxis": "y"
        },
        {
         "hoverinfo": "text",
         "marker": {
          "color": "rgb(255,65,54)"
         },
         "mode": "lines",
         "type": "scatter",
         "x": [
          4285,
          4285,
          4300,
          4300
         ],
         "xaxis": "x",
         "y": [
          0,
          345.26718187496886,
          345.26718187496886,
          236.08232310202726
         ],
         "yaxis": "y"
        },
        {
         "hoverinfo": "text",
         "marker": {
          "color": "rgb(255,65,54)"
         },
         "mode": "lines",
         "type": "scatter",
         "x": [
          4209.6875,
          4209.6875,
          4292.5,
          4292.5
         ],
         "xaxis": "x",
         "y": [
          200,
          500.7105821091989,
          500.7105821091989,
          345.26718187496886
         ],
         "yaxis": "y"
        },
        {
         "hoverinfo": "text",
         "marker": {
          "color": "rgb(255,65,54)"
         },
         "mode": "lines",
         "type": "scatter",
         "x": [
          4315,
          4315,
          4325,
          4325
         ],
         "xaxis": "x",
         "y": [
          0,
          239.23877953633104,
          239.23877953633104,
          0
         ],
         "yaxis": "y"
        },
        {
         "hoverinfo": "text",
         "marker": {
          "color": "rgb(255,65,54)"
         },
         "mode": "lines",
         "type": "scatter",
         "x": [
          4345,
          4345,
          4355,
          4355
         ],
         "xaxis": "x",
         "y": [
          0,
          24.558603380485625,
          24.558603380485625,
          0
         ],
         "yaxis": "y"
        },
        {
         "hoverinfo": "text",
         "marker": {
          "color": "rgb(255,65,54)"
         },
         "mode": "lines",
         "type": "scatter",
         "x": [
          4335,
          4335,
          4350,
          4350
         ],
         "xaxis": "x",
         "y": [
          0,
          48.088460154178364,
          48.088460154178364,
          24.558603380485625
         ],
         "yaxis": "y"
        },
        {
         "hoverinfo": "text",
         "marker": {
          "color": "rgb(255,65,54)"
         },
         "mode": "lines",
         "type": "scatter",
         "x": [
          4375,
          4375,
          4385,
          4385
         ],
         "xaxis": "x",
         "y": [
          0,
          25.495097567963924,
          25.495097567963924,
          0
         ],
         "yaxis": "y"
        },
        {
         "hoverinfo": "text",
         "marker": {
          "color": "rgb(255,65,54)"
         },
         "mode": "lines",
         "type": "scatter",
         "x": [
          4365,
          4365,
          4380,
          4380
         ],
         "xaxis": "x",
         "y": [
          0,
          43.01162633521314,
          43.01162633521314,
          25.495097567963924
         ],
         "yaxis": "y"
        },
        {
         "hoverinfo": "text",
         "marker": {
          "color": "rgb(255,65,54)"
         },
         "mode": "lines",
         "type": "scatter",
         "x": [
          4405,
          4405,
          4415,
          4415
         ],
         "xaxis": "x",
         "y": [
          0,
          15.811388300841896,
          15.811388300841896,
          0
         ],
         "yaxis": "y"
        },
        {
         "hoverinfo": "text",
         "marker": {
          "color": "rgb(255,65,54)"
         },
         "mode": "lines",
         "type": "scatter",
         "x": [
          4395,
          4395,
          4410,
          4410
         ],
         "xaxis": "x",
         "y": [
          0,
          56.40949609773163,
          56.40949609773163,
          15.811388300841896
         ],
         "yaxis": "y"
        },
        {
         "hoverinfo": "text",
         "marker": {
          "color": "rgb(255,65,54)"
         },
         "mode": "lines",
         "type": "scatter",
         "x": [
          4372.5,
          4372.5,
          4402.5,
          4402.5
         ],
         "xaxis": "x",
         "y": [
          43.01162633521314,
          95.13148795220224,
          95.13148795220224,
          56.40949609773163
         ],
         "yaxis": "y"
        },
        {
         "hoverinfo": "text",
         "marker": {
          "color": "rgb(255,65,54)"
         },
         "mode": "lines",
         "type": "scatter",
         "x": [
          4342.5,
          4342.5,
          4387.5,
          4387.5
         ],
         "xaxis": "x",
         "y": [
          48.088460154178364,
          160,
          160,
          95.13148795220224
         ],
         "yaxis": "y"
        },
        {
         "hoverinfo": "text",
         "marker": {
          "color": "rgb(255,65,54)"
         },
         "mode": "lines",
         "type": "scatter",
         "x": [
          4425,
          4425,
          4435,
          4435
         ],
         "xaxis": "x",
         "y": [
          0,
          22.360679774997898,
          22.360679774997898,
          0
         ],
         "yaxis": "y"
        },
        {
         "hoverinfo": "text",
         "marker": {
          "color": "rgb(255,65,54)"
         },
         "mode": "lines",
         "type": "scatter",
         "x": [
          4445,
          4445,
          4455,
          4455
         ],
         "xaxis": "x",
         "y": [
          0,
          22.360679774997898,
          22.360679774997898,
          0
         ],
         "yaxis": "y"
        },
        {
         "hoverinfo": "text",
         "marker": {
          "color": "rgb(255,65,54)"
         },
         "mode": "lines",
         "type": "scatter",
         "x": [
          4430,
          4430,
          4450,
          4450
         ],
         "xaxis": "x",
         "y": [
          22.360679774997898,
          53.85164807134504,
          53.85164807134504,
          22.360679774997898
         ],
         "yaxis": "y"
        },
        {
         "hoverinfo": "text",
         "marker": {
          "color": "rgb(255,65,54)"
         },
         "mode": "lines",
         "type": "scatter",
         "x": [
          4465,
          4465,
          4475,
          4475
         ],
         "xaxis": "x",
         "y": [
          0,
          15.811388300841896,
          15.811388300841896,
          0
         ],
         "yaxis": "y"
        },
        {
         "hoverinfo": "text",
         "marker": {
          "color": "rgb(255,65,54)"
         },
         "mode": "lines",
         "type": "scatter",
         "x": [
          4495,
          4495,
          4505,
          4505
         ],
         "xaxis": "x",
         "y": [
          0,
          15.811388300841896,
          15.811388300841896,
          0
         ],
         "yaxis": "y"
        },
        {
         "hoverinfo": "text",
         "marker": {
          "color": "rgb(255,65,54)"
         },
         "mode": "lines",
         "type": "scatter",
         "x": [
          4485,
          4485,
          4500,
          4500
         ],
         "xaxis": "x",
         "y": [
          0,
          55.65132803896058,
          55.65132803896058,
          15.811388300841896
         ],
         "yaxis": "y"
        },
        {
         "hoverinfo": "text",
         "marker": {
          "color": "rgb(255,65,54)"
         },
         "mode": "lines",
         "type": "scatter",
         "x": [
          4470,
          4470,
          4492.5,
          4492.5
         ],
         "xaxis": "x",
         "y": [
          15.811388300841896,
          81.56788775308577,
          81.56788775308577,
          55.65132803896058
         ],
         "yaxis": "y"
        },
        {
         "hoverinfo": "text",
         "marker": {
          "color": "rgb(255,65,54)"
         },
         "mode": "lines",
         "type": "scatter",
         "x": [
          4440,
          4440,
          4481.25,
          4481.25
         ],
         "xaxis": "x",
         "y": [
          53.85164807134504,
          171.1724276862369,
          171.1724276862369,
          81.56788775308577
         ],
         "yaxis": "y"
        },
        {
         "hoverinfo": "text",
         "marker": {
          "color": "rgb(255,65,54)"
         },
         "mode": "lines",
         "type": "scatter",
         "x": [
          4365,
          4365,
          4460.625,
          4460.625
         ],
         "xaxis": "x",
         "y": [
          160,
          360,
          360,
          171.1724276862369
         ],
         "yaxis": "y"
        },
        {
         "hoverinfo": "text",
         "marker": {
          "color": "rgb(255,65,54)"
         },
         "mode": "lines",
         "type": "scatter",
         "x": [
          4320,
          4320,
          4412.8125,
          4412.8125
         ],
         "xaxis": "x",
         "y": [
          239.23877953633104,
          548.8170879951165,
          548.8170879951165,
          360
         ],
         "yaxis": "y"
        },
        {
         "hoverinfo": "text",
         "marker": {
          "color": "rgb(255,65,54)"
         },
         "mode": "lines",
         "type": "scatter",
         "x": [
          4251.09375,
          4251.09375,
          4366.40625,
          4366.40625
         ],
         "xaxis": "x",
         "y": [
          500.7105821091989,
          736.03147829161,
          736.03147829161,
          548.8170879951165
         ],
         "yaxis": "y"
        },
        {
         "hoverinfo": "text",
         "marker": {
          "color": "rgb(255,65,54)"
         },
         "mode": "lines",
         "type": "scatter",
         "x": [
          4058.4375,
          4058.4375,
          4308.75,
          4308.75
         ],
         "xaxis": "x",
         "y": [
          362.0322952617625,
          1067.0894460467023,
          1067.0894460467023,
          736.03147829161
         ],
         "yaxis": "y"
        },
        {
         "hoverinfo": "text",
         "marker": {
          "color": "rgb(255,65,54)"
         },
         "mode": "lines",
         "type": "scatter",
         "x": [
          3715.0390625,
          3715.0390625,
          4183.59375,
          4183.59375
         ],
         "xaxis": "x",
         "y": [
          872.5322343615736,
          1921.6509523876857,
          1921.6509523876857,
          1067.0894460467023
         ],
         "yaxis": "y"
        },
        {
         "hoverinfo": "text",
         "marker": {
          "color": "rgb(255,65,54)"
         },
         "mode": "lines",
         "type": "scatter",
         "x": [
          4535,
          4535,
          4545,
          4545
         ],
         "xaxis": "x",
         "y": [
          0,
          25.739075352467502,
          25.739075352467502,
          0
         ],
         "yaxis": "y"
        },
        {
         "hoverinfo": "text",
         "marker": {
          "color": "rgb(255,65,54)"
         },
         "mode": "lines",
         "type": "scatter",
         "x": [
          4525,
          4525,
          4540,
          4540
         ],
         "xaxis": "x",
         "y": [
          0,
          56.81659088681756,
          56.81659088681756,
          25.739075352467502
         ],
         "yaxis": "y"
        },
        {
         "hoverinfo": "text",
         "marker": {
          "color": "rgb(255,65,54)"
         },
         "mode": "lines",
         "type": "scatter",
         "x": [
          4575,
          4575,
          4585,
          4585
         ],
         "xaxis": "x",
         "y": [
          0,
          15.811388300841896,
          15.811388300841896,
          0
         ],
         "yaxis": "y"
        },
        {
         "hoverinfo": "text",
         "marker": {
          "color": "rgb(255,65,54)"
         },
         "mode": "lines",
         "type": "scatter",
         "x": [
          4565,
          4565,
          4580,
          4580
         ],
         "xaxis": "x",
         "y": [
          0,
          61.74544517614235,
          61.74544517614235,
          15.811388300841896
         ],
         "yaxis": "y"
        },
        {
         "hoverinfo": "text",
         "marker": {
          "color": "rgb(255,65,54)"
         },
         "mode": "lines",
         "type": "scatter",
         "x": [
          4555,
          4555,
          4572.5,
          4572.5
         ],
         "xaxis": "x",
         "y": [
          0,
          90.31195934094221,
          90.31195934094221,
          61.74544517614235
         ],
         "yaxis": "y"
        },
        {
         "hoverinfo": "text",
         "marker": {
          "color": "rgb(255,65,54)"
         },
         "mode": "lines",
         "type": "scatter",
         "x": [
          4532.5,
          4532.5,
          4563.75,
          4563.75
         ],
         "xaxis": "x",
         "y": [
          56.81659088681756,
          128.4644892567592,
          128.4644892567592,
          90.31195934094221
         ],
         "yaxis": "y"
        },
        {
         "hoverinfo": "text",
         "marker": {
          "color": "rgb(255,65,54)"
         },
         "mode": "lines",
         "type": "scatter",
         "x": [
          4595,
          4595,
          4605,
          4605
         ],
         "xaxis": "x",
         "y": [
          0,
          15.811388300841896,
          15.811388300841896,
          0
         ],
         "yaxis": "y"
        },
        {
         "hoverinfo": "text",
         "marker": {
          "color": "rgb(255,65,54)"
         },
         "mode": "lines",
         "type": "scatter",
         "x": [
          4615,
          4615,
          4625,
          4625
         ],
         "xaxis": "x",
         "y": [
          0,
          25.739075352467502,
          25.739075352467502,
          0
         ],
         "yaxis": "y"
        },
        {
         "hoverinfo": "text",
         "marker": {
          "color": "rgb(255,65,54)"
         },
         "mode": "lines",
         "type": "scatter",
         "x": [
          4600,
          4600,
          4620,
          4620
         ],
         "xaxis": "x",
         "y": [
          15.811388300841896,
          60,
          60,
          25.739075352467502
         ],
         "yaxis": "y"
        },
        {
         "hoverinfo": "text",
         "marker": {
          "color": "rgb(255,65,54)"
         },
         "mode": "lines",
         "type": "scatter",
         "x": [
          4645,
          4645,
          4655,
          4655
         ],
         "xaxis": "x",
         "y": [
          0,
          22.360679774997898,
          22.360679774997898,
          0
         ],
         "yaxis": "y"
        },
        {
         "hoverinfo": "text",
         "marker": {
          "color": "rgb(255,65,54)"
         },
         "mode": "lines",
         "type": "scatter",
         "x": [
          4635,
          4635,
          4650,
          4650
         ],
         "xaxis": "x",
         "y": [
          0,
          56.40257086339239,
          56.40257086339239,
          22.360679774997898
         ],
         "yaxis": "y"
        },
        {
         "hoverinfo": "text",
         "marker": {
          "color": "rgb(255,65,54)"
         },
         "mode": "lines",
         "type": "scatter",
         "x": [
          4665,
          4665,
          4675,
          4675
         ],
         "xaxis": "x",
         "y": [
          0,
          15.811388300841896,
          15.811388300841896,
          0
         ],
         "yaxis": "y"
        },
        {
         "hoverinfo": "text",
         "marker": {
          "color": "rgb(255,65,54)"
         },
         "mode": "lines",
         "type": "scatter",
         "x": [
          4685,
          4685,
          4695,
          4695
         ],
         "xaxis": "x",
         "y": [
          0,
          25.739075352467502,
          25.739075352467502,
          0
         ],
         "yaxis": "y"
        },
        {
         "hoverinfo": "text",
         "marker": {
          "color": "rgb(255,65,54)"
         },
         "mode": "lines",
         "type": "scatter",
         "x": [
          4670,
          4670,
          4690,
          4690
         ],
         "xaxis": "x",
         "y": [
          15.811388300841896,
          60,
          60,
          25.739075352467502
         ],
         "yaxis": "y"
        },
        {
         "hoverinfo": "text",
         "marker": {
          "color": "rgb(255,65,54)"
         },
         "mode": "lines",
         "type": "scatter",
         "x": [
          4642.5,
          4642.5,
          4680,
          4680
         ],
         "xaxis": "x",
         "y": [
          56.40257086339239,
          120.41594578792295,
          120.41594578792295,
          60
         ],
         "yaxis": "y"
        },
        {
         "hoverinfo": "text",
         "marker": {
          "color": "rgb(255,65,54)"
         },
         "mode": "lines",
         "type": "scatter",
         "x": [
          4610,
          4610,
          4661.25,
          4661.25
         ],
         "xaxis": "x",
         "y": [
          60,
          200,
          200,
          120.41594578792295
         ],
         "yaxis": "y"
        },
        {
         "hoverinfo": "text",
         "marker": {
          "color": "rgb(255,65,54)"
         },
         "mode": "lines",
         "type": "scatter",
         "x": [
          4548.125,
          4548.125,
          4635.625,
          4635.625
         ],
         "xaxis": "x",
         "y": [
          128.4644892567592,
          324.9278766126415,
          324.9278766126415,
          200
         ],
         "yaxis": "y"
        },
        {
         "hoverinfo": "text",
         "marker": {
          "color": "rgb(255,65,54)"
         },
         "mode": "lines",
         "type": "scatter",
         "x": [
          4735,
          4735,
          4745,
          4745
         ],
         "xaxis": "x",
         "y": [
          0,
          22.360679774997898,
          22.360679774997898,
          0
         ],
         "yaxis": "y"
        },
        {
         "hoverinfo": "text",
         "marker": {
          "color": "rgb(255,65,54)"
         },
         "mode": "lines",
         "type": "scatter",
         "x": [
          4725,
          4725,
          4740,
          4740
         ],
         "xaxis": "x",
         "y": [
          0,
          40,
          40,
          22.360679774997898
         ],
         "yaxis": "y"
        },
        {
         "hoverinfo": "text",
         "marker": {
          "color": "rgb(255,65,54)"
         },
         "mode": "lines",
         "type": "scatter",
         "x": [
          4755,
          4755,
          4765,
          4765
         ],
         "xaxis": "x",
         "y": [
          0,
          25.739075352467502,
          25.739075352467502,
          0
         ],
         "yaxis": "y"
        },
        {
         "hoverinfo": "text",
         "marker": {
          "color": "rgb(255,65,54)"
         },
         "mode": "lines",
         "type": "scatter",
         "x": [
          4785,
          4785,
          4795,
          4795
         ],
         "xaxis": "x",
         "y": [
          0,
          15.811388300841896,
          15.811388300841896,
          0
         ],
         "yaxis": "y"
        },
        {
         "hoverinfo": "text",
         "marker": {
          "color": "rgb(255,65,54)"
         },
         "mode": "lines",
         "type": "scatter",
         "x": [
          4775,
          4775,
          4790,
          4790
         ],
         "xaxis": "x",
         "y": [
          0,
          42.75657844121768,
          42.75657844121768,
          15.811388300841896
         ],
         "yaxis": "y"
        },
        {
         "hoverinfo": "text",
         "marker": {
          "color": "rgb(255,65,54)"
         },
         "mode": "lines",
         "type": "scatter",
         "x": [
          4760,
          4760,
          4782.5,
          4782.5
         ],
         "xaxis": "x",
         "y": [
          25.739075352467502,
          81.10564098754168,
          81.10564098754168,
          42.75657844121768
         ],
         "yaxis": "y"
        },
        {
         "hoverinfo": "text",
         "marker": {
          "color": "rgb(255,65,54)"
         },
         "mode": "lines",
         "type": "scatter",
         "x": [
          4732.5,
          4732.5,
          4771.25,
          4771.25
         ],
         "xaxis": "x",
         "y": [
          40,
          140,
          140,
          81.10564098754168
         ],
         "yaxis": "y"
        },
        {
         "hoverinfo": "text",
         "marker": {
          "color": "rgb(255,65,54)"
         },
         "mode": "lines",
         "type": "scatter",
         "x": [
          4715,
          4715,
          4751.875,
          4751.875
         ],
         "xaxis": "x",
         "y": [
          0,
          162.5246751097545,
          162.5246751097545,
          140
         ],
         "yaxis": "y"
        },
        {
         "hoverinfo": "text",
         "marker": {
          "color": "rgb(255,65,54)"
         },
         "mode": "lines",
         "type": "scatter",
         "x": [
          4815,
          4815,
          4825,
          4825
         ],
         "xaxis": "x",
         "y": [
          0,
          15.811388300841896,
          15.811388300841896,
          0
         ],
         "yaxis": "y"
        },
        {
         "hoverinfo": "text",
         "marker": {
          "color": "rgb(255,65,54)"
         },
         "mode": "lines",
         "type": "scatter",
         "x": [
          4805,
          4805,
          4820,
          4820
         ],
         "xaxis": "x",
         "y": [
          0,
          31.052500905724163,
          31.052500905724163,
          15.811388300841896
         ],
         "yaxis": "y"
        },
        {
         "hoverinfo": "text",
         "marker": {
          "color": "rgb(255,65,54)"
         },
         "mode": "lines",
         "type": "scatter",
         "x": [
          4835,
          4835,
          4845,
          4845
         ],
         "xaxis": "x",
         "y": [
          0,
          35.18922065064812,
          35.18922065064812,
          0
         ],
         "yaxis": "y"
        },
        {
         "hoverinfo": "text",
         "marker": {
          "color": "rgb(255,65,54)"
         },
         "mode": "lines",
         "type": "scatter",
         "x": [
          4812.5,
          4812.5,
          4840,
          4840
         ],
         "xaxis": "x",
         "y": [
          31.052500905724163,
          58.645185757229896,
          58.645185757229896,
          35.18922065064812
         ],
         "yaxis": "y"
        },
        {
         "hoverinfo": "text",
         "marker": {
          "color": "rgb(255,65,54)"
         },
         "mode": "lines",
         "type": "scatter",
         "x": [
          4865,
          4865,
          4875,
          4875
         ],
         "xaxis": "x",
         "y": [
          0,
          15.811388300841896,
          15.811388300841896,
          0
         ],
         "yaxis": "y"
        },
        {
         "hoverinfo": "text",
         "marker": {
          "color": "rgb(255,65,54)"
         },
         "mode": "lines",
         "type": "scatter",
         "x": [
          4895,
          4895,
          4905,
          4905
         ],
         "xaxis": "x",
         "y": [
          0,
          22.980970388562795,
          22.980970388562795,
          0
         ],
         "yaxis": "y"
        },
        {
         "hoverinfo": "text",
         "marker": {
          "color": "rgb(255,65,54)"
         },
         "mode": "lines",
         "type": "scatter",
         "x": [
          4885,
          4885,
          4900,
          4900
         ],
         "xaxis": "x",
         "y": [
          0,
          32.45188746436792,
          32.45188746436792,
          22.980970388562795
         ],
         "yaxis": "y"
        },
        {
         "hoverinfo": "text",
         "marker": {
          "color": "rgb(255,65,54)"
         },
         "mode": "lines",
         "type": "scatter",
         "x": [
          4870,
          4870,
          4892.5,
          4892.5
         ],
         "xaxis": "x",
         "y": [
          15.811388300841896,
          71.95918982312128,
          71.95918982312128,
          32.45188746436792
         ],
         "yaxis": "y"
        },
        {
         "hoverinfo": "text",
         "marker": {
          "color": "rgb(255,65,54)"
         },
         "mode": "lines",
         "type": "scatter",
         "x": [
          4855,
          4855,
          4881.25,
          4881.25
         ],
         "xaxis": "x",
         "y": [
          0,
          127.57829244477682,
          127.57829244477682,
          71.95918982312128
         ],
         "yaxis": "y"
        },
        {
         "hoverinfo": "text",
         "marker": {
          "color": "rgb(255,65,54)"
         },
         "mode": "lines",
         "type": "scatter",
         "x": [
          4826.25,
          4826.25,
          4868.125,
          4868.125
         ],
         "xaxis": "x",
         "y": [
          58.645185757229896,
          178.17118370579738,
          178.17118370579738,
          127.57829244477682
         ],
         "yaxis": "y"
        },
        {
         "hoverinfo": "text",
         "marker": {
          "color": "rgb(255,65,54)"
         },
         "mode": "lines",
         "type": "scatter",
         "x": [
          4733.4375,
          4733.4375,
          4847.1875,
          4847.1875
         ],
         "xaxis": "x",
         "y": [
          162.5246751097545,
          335.0373113550191,
          335.0373113550191,
          178.17118370579738
         ],
         "yaxis": "y"
        },
        {
         "hoverinfo": "text",
         "marker": {
          "color": "rgb(255,65,54)"
         },
         "mode": "lines",
         "type": "scatter",
         "x": [
          4705,
          4705,
          4790.3125,
          4790.3125
         ],
         "xaxis": "x",
         "y": [
          0,
          580.8340245392826,
          580.8340245392826,
          335.0373113550191
         ],
         "yaxis": "y"
        },
        {
         "hoverinfo": "text",
         "marker": {
          "color": "rgb(255,65,54)"
         },
         "mode": "lines",
         "type": "scatter",
         "x": [
          4591.875,
          4591.875,
          4747.65625,
          4747.65625
         ],
         "xaxis": "x",
         "y": [
          324.9278766126415,
          722.8956529126455,
          722.8956529126455,
          580.8340245392826
         ],
         "yaxis": "y"
        },
        {
         "hoverinfo": "text",
         "marker": {
          "color": "rgb(255,65,54)"
         },
         "mode": "lines",
         "type": "scatter",
         "x": [
          4925,
          4925,
          4935,
          4935
         ],
         "xaxis": "x",
         "y": [
          0,
          23.335193378243087,
          23.335193378243087,
          0
         ],
         "yaxis": "y"
        },
        {
         "hoverinfo": "text",
         "marker": {
          "color": "rgb(255,65,54)"
         },
         "mode": "lines",
         "type": "scatter",
         "x": [
          4915,
          4915,
          4930,
          4930
         ],
         "xaxis": "x",
         "y": [
          0,
          40,
          40,
          23.335193378243087
         ],
         "yaxis": "y"
        },
        {
         "hoverinfo": "text",
         "marker": {
          "color": "rgb(255,65,54)"
         },
         "mode": "lines",
         "type": "scatter",
         "x": [
          4945,
          4945,
          4955,
          4955
         ],
         "xaxis": "x",
         "y": [
          0,
          15.811388300841896,
          15.811388300841896,
          0
         ],
         "yaxis": "y"
        },
        {
         "hoverinfo": "text",
         "marker": {
          "color": "rgb(255,65,54)"
         },
         "mode": "lines",
         "type": "scatter",
         "x": [
          4965,
          4965,
          4975,
          4975
         ],
         "xaxis": "x",
         "y": [
          0,
          24.558603380485625,
          24.558603380485625,
          0
         ],
         "yaxis": "y"
        },
        {
         "hoverinfo": "text",
         "marker": {
          "color": "rgb(255,65,54)"
         },
         "mode": "lines",
         "type": "scatter",
         "x": [
          4950,
          4950,
          4970,
          4970
         ],
         "xaxis": "x",
         "y": [
          15.811388300841896,
          57.906174109502345,
          57.906174109502345,
          24.558603380485625
         ],
         "yaxis": "y"
        },
        {
         "hoverinfo": "text",
         "marker": {
          "color": "rgb(255,65,54)"
         },
         "mode": "lines",
         "type": "scatter",
         "x": [
          4922.5,
          4922.5,
          4960,
          4960
         ],
         "xaxis": "x",
         "y": [
          40,
          120,
          120,
          57.906174109502345
         ],
         "yaxis": "y"
        },
        {
         "hoverinfo": "text",
         "marker": {
          "color": "rgb(255,65,54)"
         },
         "mode": "lines",
         "type": "scatter",
         "x": [
          4995,
          4995,
          5005,
          5005
         ],
         "xaxis": "x",
         "y": [
          0,
          15.811388300841896,
          15.811388300841896,
          0
         ],
         "yaxis": "y"
        },
        {
         "hoverinfo": "text",
         "marker": {
          "color": "rgb(255,65,54)"
         },
         "mode": "lines",
         "type": "scatter",
         "x": [
          5015,
          5015,
          5025,
          5025
         ],
         "xaxis": "x",
         "y": [
          0,
          22.360679774997898,
          22.360679774997898,
          0
         ],
         "yaxis": "y"
        },
        {
         "hoverinfo": "text",
         "marker": {
          "color": "rgb(255,65,54)"
         },
         "mode": "lines",
         "type": "scatter",
         "x": [
          5000,
          5000,
          5020,
          5020
         ],
         "xaxis": "x",
         "y": [
          15.811388300841896,
          47.43416490252569,
          47.43416490252569,
          22.360679774997898
         ],
         "yaxis": "y"
        },
        {
         "hoverinfo": "text",
         "marker": {
          "color": "rgb(255,65,54)"
         },
         "mode": "lines",
         "type": "scatter",
         "x": [
          5035,
          5035,
          5045,
          5045
         ],
         "xaxis": "x",
         "y": [
          0,
          15.811388300841896,
          15.811388300841896,
          0
         ],
         "yaxis": "y"
        },
        {
         "hoverinfo": "text",
         "marker": {
          "color": "rgb(255,65,54)"
         },
         "mode": "lines",
         "type": "scatter",
         "x": [
          5055,
          5055,
          5065,
          5065
         ],
         "xaxis": "x",
         "y": [
          0,
          28.076346806520252,
          28.076346806520252,
          0
         ],
         "yaxis": "y"
        },
        {
         "hoverinfo": "text",
         "marker": {
          "color": "rgb(255,65,54)"
         },
         "mode": "lines",
         "type": "scatter",
         "x": [
          5040,
          5040,
          5060,
          5060
         ],
         "xaxis": "x",
         "y": [
          15.811388300841896,
          57.45242597140699,
          57.45242597140699,
          28.076346806520252
         ],
         "yaxis": "y"
        },
        {
         "hoverinfo": "text",
         "marker": {
          "color": "rgb(255,65,54)"
         },
         "mode": "lines",
         "type": "scatter",
         "x": [
          5095,
          5095,
          5105,
          5105
         ],
         "xaxis": "x",
         "y": [
          0,
          22.360679774997898,
          22.360679774997898,
          0
         ],
         "yaxis": "y"
        },
        {
         "hoverinfo": "text",
         "marker": {
          "color": "rgb(255,65,54)"
         },
         "mode": "lines",
         "type": "scatter",
         "x": [
          5085,
          5085,
          5100,
          5100
         ],
         "xaxis": "x",
         "y": [
          0,
          40,
          40,
          22.360679774997898
         ],
         "yaxis": "y"
        },
        {
         "hoverinfo": "text",
         "marker": {
          "color": "rgb(255,65,54)"
         },
         "mode": "lines",
         "type": "scatter",
         "x": [
          5075,
          5075,
          5092.5,
          5092.5
         ],
         "xaxis": "x",
         "y": [
          0,
          60.33759193073585,
          60.33759193073585,
          40
         ],
         "yaxis": "y"
        },
        {
         "hoverinfo": "text",
         "marker": {
          "color": "rgb(255,65,54)"
         },
         "mode": "lines",
         "type": "scatter",
         "x": [
          5050,
          5050,
          5083.75,
          5083.75
         ],
         "xaxis": "x",
         "y": [
          57.45242597140699,
          102.42375212810747,
          102.42375212810747,
          60.33759193073585
         ],
         "yaxis": "y"
        },
        {
         "hoverinfo": "text",
         "marker": {
          "color": "rgb(255,65,54)"
         },
         "mode": "lines",
         "type": "scatter",
         "x": [
          5010,
          5010,
          5066.875,
          5066.875
         ],
         "xaxis": "x",
         "y": [
          47.43416490252569,
          195.0640920313116,
          195.0640920313116,
          102.42375212810747
         ],
         "yaxis": "y"
        },
        {
         "hoverinfo": "text",
         "marker": {
          "color": "rgb(255,65,54)"
         },
         "mode": "lines",
         "type": "scatter",
         "x": [
          4985,
          4985,
          5038.4375,
          5038.4375
         ],
         "xaxis": "x",
         "y": [
          0,
          305.90135807011484,
          305.90135807011484,
          195.0640920313116
         ],
         "yaxis": "y"
        },
        {
         "hoverinfo": "text",
         "marker": {
          "color": "rgb(255,65,54)"
         },
         "mode": "lines",
         "type": "scatter",
         "x": [
          4941.25,
          4941.25,
          5011.71875,
          5011.71875
         ],
         "xaxis": "x",
         "y": [
          120,
          355.0352095215346,
          355.0352095215346,
          305.90135807011484
         ],
         "yaxis": "y"
        },
        {
         "hoverinfo": "text",
         "marker": {
          "color": "rgb(255,65,54)"
         },
         "mode": "lines",
         "type": "scatter",
         "x": [
          5135,
          5135,
          5145,
          5145
         ],
         "xaxis": "x",
         "y": [
          0,
          15.811388300841896,
          15.811388300841896,
          0
         ],
         "yaxis": "y"
        },
        {
         "hoverinfo": "text",
         "marker": {
          "color": "rgb(255,65,54)"
         },
         "mode": "lines",
         "type": "scatter",
         "x": [
          5155,
          5155,
          5165,
          5165
         ],
         "xaxis": "x",
         "y": [
          0,
          18.791620472966134,
          18.791620472966134,
          0
         ],
         "yaxis": "y"
        },
        {
         "hoverinfo": "text",
         "marker": {
          "color": "rgb(255,65,54)"
         },
         "mode": "lines",
         "type": "scatter",
         "x": [
          5140,
          5140,
          5160,
          5160
         ],
         "xaxis": "x",
         "y": [
          15.811388300841896,
          51.99158585771355,
          51.99158585771355,
          18.791620472966134
         ],
         "yaxis": "y"
        },
        {
         "hoverinfo": "text",
         "marker": {
          "color": "rgb(255,65,54)"
         },
         "mode": "lines",
         "type": "scatter",
         "x": [
          5125,
          5125,
          5150,
          5150
         ],
         "xaxis": "x",
         "y": [
          0,
          74.98567571543248,
          74.98567571543248,
          51.99158585771355
         ],
         "yaxis": "y"
        },
        {
         "hoverinfo": "text",
         "marker": {
          "color": "rgb(255,65,54)"
         },
         "mode": "lines",
         "type": "scatter",
         "x": [
          5115,
          5115,
          5137.5,
          5137.5
         ],
         "xaxis": "x",
         "y": [
          0,
          159.58813108132838,
          159.58813108132838,
          74.98567571543248
         ],
         "yaxis": "y"
        },
        {
         "hoverinfo": "text",
         "marker": {
          "color": "rgb(255,65,54)"
         },
         "mode": "lines",
         "type": "scatter",
         "x": [
          5195,
          5195,
          5205,
          5205
         ],
         "xaxis": "x",
         "y": [
          0,
          23.335193378243087,
          23.335193378243087,
          0
         ],
         "yaxis": "y"
        },
        {
         "hoverinfo": "text",
         "marker": {
          "color": "rgb(255,65,54)"
         },
         "mode": "lines",
         "type": "scatter",
         "x": [
          5185,
          5185,
          5200,
          5200
         ],
         "xaxis": "x",
         "y": [
          0,
          40,
          40,
          23.335193378243087
         ],
         "yaxis": "y"
        },
        {
         "hoverinfo": "text",
         "marker": {
          "color": "rgb(255,65,54)"
         },
         "mode": "lines",
         "type": "scatter",
         "x": [
          5215,
          5215,
          5225,
          5225
         ],
         "xaxis": "x",
         "y": [
          0,
          15.811388300841896,
          15.811388300841896,
          0
         ],
         "yaxis": "y"
        },
        {
         "hoverinfo": "text",
         "marker": {
          "color": "rgb(255,65,54)"
         },
         "mode": "lines",
         "type": "scatter",
         "x": [
          5235,
          5235,
          5245,
          5245
         ],
         "xaxis": "x",
         "y": [
          0,
          24.558603380485625,
          24.558603380485625,
          0
         ],
         "yaxis": "y"
        },
        {
         "hoverinfo": "text",
         "marker": {
          "color": "rgb(255,65,54)"
         },
         "mode": "lines",
         "type": "scatter",
         "x": [
          5220,
          5220,
          5240,
          5240
         ],
         "xaxis": "x",
         "y": [
          15.811388300841896,
          57.906174109502345,
          57.906174109502345,
          24.558603380485625
         ],
         "yaxis": "y"
        },
        {
         "hoverinfo": "text",
         "marker": {
          "color": "rgb(255,65,54)"
         },
         "mode": "lines",
         "type": "scatter",
         "x": [
          5192.5,
          5192.5,
          5230,
          5230
         ],
         "xaxis": "x",
         "y": [
          40,
          120,
          120,
          57.906174109502345
         ],
         "yaxis": "y"
        },
        {
         "hoverinfo": "text",
         "marker": {
          "color": "rgb(255,65,54)"
         },
         "mode": "lines",
         "type": "scatter",
         "x": [
          5175,
          5175,
          5211.25,
          5211.25
         ],
         "xaxis": "x",
         "y": [
          0,
          168.07344121134963,
          168.07344121134963,
          120
         ],
         "yaxis": "y"
        },
        {
         "hoverinfo": "text",
         "marker": {
          "color": "rgb(255,65,54)"
         },
         "mode": "lines",
         "type": "scatter",
         "x": [
          5126.25,
          5126.25,
          5193.125,
          5193.125
         ],
         "xaxis": "x",
         "y": [
          159.58813108132838,
          239.56913737380958,
          239.56913737380958,
          168.07344121134963
         ],
         "yaxis": "y"
        },
        {
         "hoverinfo": "text",
         "marker": {
          "color": "rgb(255,65,54)"
         },
         "mode": "lines",
         "type": "scatter",
         "x": [
          5255,
          5255,
          5265,
          5265
         ],
         "xaxis": "x",
         "y": [
          0,
          15.811388300841896,
          15.811388300841896,
          0
         ],
         "yaxis": "y"
        },
        {
         "hoverinfo": "text",
         "marker": {
          "color": "rgb(255,65,54)"
         },
         "mode": "lines",
         "type": "scatter",
         "x": [
          5275,
          5275,
          5285,
          5285
         ],
         "xaxis": "x",
         "y": [
          0,
          22.360679774997898,
          22.360679774997898,
          0
         ],
         "yaxis": "y"
        },
        {
         "hoverinfo": "text",
         "marker": {
          "color": "rgb(255,65,54)"
         },
         "mode": "lines",
         "type": "scatter",
         "x": [
          5260,
          5260,
          5280,
          5280
         ],
         "xaxis": "x",
         "y": [
          15.811388300841896,
          47.43416490252569,
          47.43416490252569,
          22.360679774997898
         ],
         "yaxis": "y"
        },
        {
         "hoverinfo": "text",
         "marker": {
          "color": "rgb(255,65,54)"
         },
         "mode": "lines",
         "type": "scatter",
         "x": [
          5295,
          5295,
          5305,
          5305
         ],
         "xaxis": "x",
         "y": [
          0,
          15.811388300841896,
          15.811388300841896,
          0
         ],
         "yaxis": "y"
        },
        {
         "hoverinfo": "text",
         "marker": {
          "color": "rgb(255,65,54)"
         },
         "mode": "lines",
         "type": "scatter",
         "x": [
          5315,
          5315,
          5325,
          5325
         ],
         "xaxis": "x",
         "y": [
          0,
          25.739075352467502,
          25.739075352467502,
          0
         ],
         "yaxis": "y"
        },
        {
         "hoverinfo": "text",
         "marker": {
          "color": "rgb(255,65,54)"
         },
         "mode": "lines",
         "type": "scatter",
         "x": [
          5300,
          5300,
          5320,
          5320
         ],
         "xaxis": "x",
         "y": [
          15.811388300841896,
          60,
          60,
          25.739075352467502
         ],
         "yaxis": "y"
        },
        {
         "hoverinfo": "text",
         "marker": {
          "color": "rgb(255,65,54)"
         },
         "mode": "lines",
         "type": "scatter",
         "x": [
          5365,
          5365,
          5375,
          5375
         ],
         "xaxis": "x",
         "y": [
          0,
          15.811388300841896,
          15.811388300841896,
          0
         ],
         "yaxis": "y"
        },
        {
         "hoverinfo": "text",
         "marker": {
          "color": "rgb(255,65,54)"
         },
         "mode": "lines",
         "type": "scatter",
         "x": [
          5355,
          5355,
          5370,
          5370
         ],
         "xaxis": "x",
         "y": [
          0,
          33.354160160315836,
          33.354160160315836,
          15.811388300841896
         ],
         "yaxis": "y"
        },
        {
         "hoverinfo": "text",
         "marker": {
          "color": "rgb(255,65,54)"
         },
         "mode": "lines",
         "type": "scatter",
         "x": [
          5345,
          5345,
          5362.5,
          5362.5
         ],
         "xaxis": "x",
         "y": [
          0,
          51.02082907989638,
          51.02082907989638,
          33.354160160315836
         ],
         "yaxis": "y"
        },
        {
         "hoverinfo": "text",
         "marker": {
          "color": "rgb(255,65,54)"
         },
         "mode": "lines",
         "type": "scatter",
         "x": [
          5335,
          5335,
          5353.75,
          5353.75
         ],
         "xaxis": "x",
         "y": [
          0,
          76.01911766128308,
          76.01911766128308,
          51.02082907989638
         ],
         "yaxis": "y"
        },
        {
         "hoverinfo": "text",
         "marker": {
          "color": "rgb(255,65,54)"
         },
         "mode": "lines",
         "type": "scatter",
         "x": [
          5310,
          5310,
          5344.375,
          5344.375
         ],
         "xaxis": "x",
         "y": [
          60,
          154.96975511369953,
          154.96975511369953,
          76.01911766128308
         ],
         "yaxis": "y"
        },
        {
         "hoverinfo": "text",
         "marker": {
          "color": "rgb(255,65,54)"
         },
         "mode": "lines",
         "type": "scatter",
         "x": [
          5270,
          5270,
          5327.1875,
          5327.1875
         ],
         "xaxis": "x",
         "y": [
          47.43416490252569,
          240,
          240,
          154.96975511369953
         ],
         "yaxis": "y"
        },
        {
         "hoverinfo": "text",
         "marker": {
          "color": "rgb(255,65,54)"
         },
         "mode": "lines",
         "type": "scatter",
         "x": [
          5159.6875,
          5159.6875,
          5298.59375,
          5298.59375
         ],
         "xaxis": "x",
         "y": [
          239.56913737380958,
          491.32792002897617,
          491.32792002897617,
          240
         ],
         "yaxis": "y"
        },
        {
         "hoverinfo": "text",
         "marker": {
          "color": "rgb(255,65,54)"
         },
         "mode": "lines",
         "type": "scatter",
         "x": [
          4976.484375,
          4976.484375,
          5229.140625,
          5229.140625
         ],
         "xaxis": "x",
         "y": [
          355.0352095215346,
          895.0139663714751,
          895.0139663714751,
          491.32792002897617
         ],
         "yaxis": "y"
        },
        {
         "hoverinfo": "text",
         "marker": {
          "color": "rgb(255,65,54)"
         },
         "mode": "lines",
         "type": "scatter",
         "x": [
          4669.765625,
          4669.765625,
          5102.8125,
          5102.8125
         ],
         "xaxis": "x",
         "y": [
          722.8956529126455,
          1681.9566358857176,
          1681.9566358857176,
          895.0139663714751
         ],
         "yaxis": "y"
        },
        {
         "hoverinfo": "text",
         "marker": {
          "color": "rgb(255,65,54)"
         },
         "mode": "lines",
         "type": "scatter",
         "x": [
          4515,
          4515,
          4886.2890625,
          4886.2890625
         ],
         "xaxis": "x",
         "y": [
          0,
          2738.545078801247,
          2738.545078801247,
          1681.9566358857176
         ],
         "yaxis": "y"
        },
        {
         "hoverinfo": "text",
         "marker": {
          "color": "rgb(255,65,54)"
         },
         "mode": "lines",
         "type": "scatter",
         "x": [
          3949.31640625,
          3949.31640625,
          4700.64453125,
          4700.64453125
         ],
         "xaxis": "x",
         "y": [
          1921.6509523876857,
          3661.574541778441,
          3661.574541778441,
          2738.545078801247
         ],
         "yaxis": "y"
        },
        {
         "hoverinfo": "text",
         "marker": {
          "color": "rgb(255,65,54)"
         },
         "mode": "lines",
         "type": "scatter",
         "x": [
          5405,
          5405,
          5415,
          5415
         ],
         "xaxis": "x",
         "y": [
          0,
          15.811388300841896,
          15.811388300841896,
          0
         ],
         "yaxis": "y"
        },
        {
         "hoverinfo": "text",
         "marker": {
          "color": "rgb(255,65,54)"
         },
         "mode": "lines",
         "type": "scatter",
         "x": [
          5425,
          5425,
          5435,
          5435
         ],
         "xaxis": "x",
         "y": [
          0,
          18.791620472966134,
          18.791620472966134,
          0
         ],
         "yaxis": "y"
        },
        {
         "hoverinfo": "text",
         "marker": {
          "color": "rgb(255,65,54)"
         },
         "mode": "lines",
         "type": "scatter",
         "x": [
          5410,
          5410,
          5430,
          5430
         ],
         "xaxis": "x",
         "y": [
          15.811388300841896,
          51.99158585771355,
          51.99158585771355,
          18.791620472966134
         ],
         "yaxis": "y"
        },
        {
         "hoverinfo": "text",
         "marker": {
          "color": "rgb(255,65,54)"
         },
         "mode": "lines",
         "type": "scatter",
         "x": [
          5395,
          5395,
          5420,
          5420
         ],
         "xaxis": "x",
         "y": [
          0,
          123.52647110032731,
          123.52647110032731,
          51.99158585771355
         ],
         "yaxis": "y"
        },
        {
         "hoverinfo": "text",
         "marker": {
          "color": "rgb(255,65,54)"
         },
         "mode": "lines",
         "type": "scatter",
         "x": [
          5445,
          5445,
          5455,
          5455
         ],
         "xaxis": "x",
         "y": [
          0,
          15.811388300841896,
          15.811388300841896,
          0
         ],
         "yaxis": "y"
        },
        {
         "hoverinfo": "text",
         "marker": {
          "color": "rgb(255,65,54)"
         },
         "mode": "lines",
         "type": "scatter",
         "x": [
          5475,
          5475,
          5485,
          5485
         ],
         "xaxis": "x",
         "y": [
          0,
          22.360679774997898,
          22.360679774997898,
          0
         ],
         "yaxis": "y"
        },
        {
         "hoverinfo": "text",
         "marker": {
          "color": "rgb(255,65,54)"
         },
         "mode": "lines",
         "type": "scatter",
         "x": [
          5465,
          5465,
          5480,
          5480
         ],
         "xaxis": "x",
         "y": [
          0,
          32.59601202601324,
          32.59601202601324,
          22.360679774997898
         ],
         "yaxis": "y"
        },
        {
         "hoverinfo": "text",
         "marker": {
          "color": "rgb(255,65,54)"
         },
         "mode": "lines",
         "type": "scatter",
         "x": [
          5450,
          5450,
          5472.5,
          5472.5
         ],
         "xaxis": "x",
         "y": [
          15.811388300841896,
          49.62358310319802,
          49.62358310319802,
          32.59601202601324
         ],
         "yaxis": "y"
        },
        {
         "hoverinfo": "text",
         "marker": {
          "color": "rgb(255,65,54)"
         },
         "mode": "lines",
         "type": "scatter",
         "x": [
          5535,
          5535,
          5545,
          5545
         ],
         "xaxis": "x",
         "y": [
          0,
          15.811388300841896,
          15.811388300841896,
          0
         ],
         "yaxis": "y"
        },
        {
         "hoverinfo": "text",
         "marker": {
          "color": "rgb(255,65,54)"
         },
         "mode": "lines",
         "type": "scatter",
         "x": [
          5525,
          5525,
          5540,
          5540
         ],
         "xaxis": "x",
         "y": [
          0,
          28.339460121886585,
          28.339460121886585,
          15.811388300841896
         ],
         "yaxis": "y"
        },
        {
         "hoverinfo": "text",
         "marker": {
          "color": "rgb(255,65,54)"
         },
         "mode": "lines",
         "type": "scatter",
         "x": [
          5515,
          5515,
          5532.5,
          5532.5
         ],
         "xaxis": "x",
         "y": [
          0,
          31.47419578003543,
          31.47419578003543,
          28.339460121886585
         ],
         "yaxis": "y"
        },
        {
         "hoverinfo": "text",
         "marker": {
          "color": "rgb(255,65,54)"
         },
         "mode": "lines",
         "type": "scatter",
         "x": [
          5505,
          5505,
          5523.75,
          5523.75
         ],
         "xaxis": "x",
         "y": [
          0,
          62.474994997999,
          62.474994997999,
          31.47419578003543
         ],
         "yaxis": "y"
        },
        {
         "hoverinfo": "text",
         "marker": {
          "color": "rgb(255,65,54)"
         },
         "mode": "lines",
         "type": "scatter",
         "x": [
          5495,
          5495,
          5514.375,
          5514.375
         ],
         "xaxis": "x",
         "y": [
          0,
          97.55206942961281,
          97.55206942961281,
          62.474994997999
         ],
         "yaxis": "y"
        },
        {
         "hoverinfo": "text",
         "marker": {
          "color": "rgb(255,65,54)"
         },
         "mode": "lines",
         "type": "scatter",
         "x": [
          5461.25,
          5461.25,
          5504.6875,
          5504.6875
         ],
         "xaxis": "x",
         "y": [
          49.62358310319802,
          160.16592958553952,
          160.16592958553952,
          97.55206942961281
         ],
         "yaxis": "y"
        },
        {
         "hoverinfo": "text",
         "marker": {
          "color": "rgb(255,65,54)"
         },
         "mode": "lines",
         "type": "scatter",
         "x": [
          5407.5,
          5407.5,
          5482.96875,
          5482.96875
         ],
         "xaxis": "x",
         "y": [
          123.52647110032731,
          271.3910923372394,
          271.3910923372394,
          160.16592958553952
         ],
         "yaxis": "y"
        },
        {
         "hoverinfo": "text",
         "marker": {
          "color": "rgb(255,65,54)"
         },
         "mode": "lines",
         "type": "scatter",
         "x": [
          5385,
          5385,
          5445.234375,
          5445.234375
         ],
         "xaxis": "x",
         "y": [
          0,
          442.14785051350043,
          442.14785051350043,
          271.3910923372394
         ],
         "yaxis": "y"
        },
        {
         "hoverinfo": "text",
         "marker": {
          "color": "rgb(255,65,54)"
         },
         "mode": "lines",
         "type": "scatter",
         "x": [
          5565,
          5565,
          5575,
          5575
         ],
         "xaxis": "x",
         "y": [
          0,
          15.811388300841896,
          15.811388300841896,
          0
         ],
         "yaxis": "y"
        },
        {
         "hoverinfo": "text",
         "marker": {
          "color": "rgb(255,65,54)"
         },
         "mode": "lines",
         "type": "scatter",
         "x": [
          5555,
          5555,
          5570,
          5570
         ],
         "xaxis": "x",
         "y": [
          0,
          51.53882032022076,
          51.53882032022076,
          15.811388300841896
         ],
         "yaxis": "y"
        },
        {
         "hoverinfo": "text",
         "marker": {
          "color": "rgb(255,65,54)"
         },
         "mode": "lines",
         "type": "scatter",
         "x": [
          5595,
          5595,
          5605,
          5605
         ],
         "xaxis": "x",
         "y": [
          0,
          25.739075352467502,
          25.739075352467502,
          0
         ],
         "yaxis": "y"
        },
        {
         "hoverinfo": "text",
         "marker": {
          "color": "rgb(255,65,54)"
         },
         "mode": "lines",
         "type": "scatter",
         "x": [
          5585,
          5585,
          5600,
          5600
         ],
         "xaxis": "x",
         "y": [
          0,
          77.44453660523769,
          77.44453660523769,
          25.739075352467502
         ],
         "yaxis": "y"
        },
        {
         "hoverinfo": "text",
         "marker": {
          "color": "rgb(255,65,54)"
         },
         "mode": "lines",
         "type": "scatter",
         "x": [
          5562.5,
          5562.5,
          5592.5,
          5592.5
         ],
         "xaxis": "x",
         "y": [
          51.53882032022076,
          103.55025953613057,
          103.55025953613057,
          77.44453660523769
         ],
         "yaxis": "y"
        },
        {
         "hoverinfo": "text",
         "marker": {
          "color": "rgb(255,65,54)"
         },
         "mode": "lines",
         "type": "scatter",
         "x": [
          5615,
          5615,
          5625,
          5625
         ],
         "xaxis": "x",
         "y": [
          0,
          15.811388300841896,
          15.811388300841896,
          0
         ],
         "yaxis": "y"
        },
        {
         "hoverinfo": "text",
         "marker": {
          "color": "rgb(255,65,54)"
         },
         "mode": "lines",
         "type": "scatter",
         "x": [
          5645,
          5645,
          5655,
          5655
         ],
         "xaxis": "x",
         "y": [
          0,
          24.558603380485625,
          24.558603380485625,
          0
         ],
         "yaxis": "y"
        },
        {
         "hoverinfo": "text",
         "marker": {
          "color": "rgb(255,65,54)"
         },
         "mode": "lines",
         "type": "scatter",
         "x": [
          5635,
          5635,
          5650,
          5650
         ],
         "xaxis": "x",
         "y": [
          0,
          48.088460154178364,
          48.088460154178364,
          24.558603380485625
         ],
         "yaxis": "y"
        },
        {
         "hoverinfo": "text",
         "marker": {
          "color": "rgb(255,65,54)"
         },
         "mode": "lines",
         "type": "scatter",
         "x": [
          5620,
          5620,
          5642.5,
          5642.5
         ],
         "xaxis": "x",
         "y": [
          15.811388300841896,
          80,
          80,
          48.088460154178364
         ],
         "yaxis": "y"
        },
        {
         "hoverinfo": "text",
         "marker": {
          "color": "rgb(255,65,54)"
         },
         "mode": "lines",
         "type": "scatter",
         "x": [
          5685,
          5685,
          5695,
          5695
         ],
         "xaxis": "x",
         "y": [
          0,
          15.811388300841896,
          15.811388300841896,
          0
         ],
         "yaxis": "y"
        },
        {
         "hoverinfo": "text",
         "marker": {
          "color": "rgb(255,65,54)"
         },
         "mode": "lines",
         "type": "scatter",
         "x": [
          5675,
          5675,
          5690,
          5690
         ],
         "xaxis": "x",
         "y": [
          0,
          33.354160160315836,
          33.354160160315836,
          15.811388300841896
         ],
         "yaxis": "y"
        },
        {
         "hoverinfo": "text",
         "marker": {
          "color": "rgb(255,65,54)"
         },
         "mode": "lines",
         "type": "scatter",
         "x": [
          5665,
          5665,
          5682.5,
          5682.5
         ],
         "xaxis": "x",
         "y": [
          0,
          118.86589739071505,
          118.86589739071505,
          33.354160160315836
         ],
         "yaxis": "y"
        },
        {
         "hoverinfo": "text",
         "marker": {
          "color": "rgb(255,65,54)"
         },
         "mode": "lines",
         "type": "scatter",
         "x": [
          5631.25,
          5631.25,
          5673.75,
          5673.75
         ],
         "xaxis": "x",
         "y": [
          80,
          152.6843148460247,
          152.6843148460247,
          118.86589739071505
         ],
         "yaxis": "y"
        },
        {
         "hoverinfo": "text",
         "marker": {
          "color": "rgb(255,65,54)"
         },
         "mode": "lines",
         "type": "scatter",
         "x": [
          5577.5,
          5577.5,
          5652.5,
          5652.5
         ],
         "xaxis": "x",
         "y": [
          103.55025953613057,
          272.5917276807937,
          272.5917276807937,
          152.6843148460247
         ],
         "yaxis": "y"
        },
        {
         "hoverinfo": "text",
         "marker": {
          "color": "rgb(255,65,54)"
         },
         "mode": "lines",
         "type": "scatter",
         "x": [
          5735,
          5735,
          5745,
          5745
         ],
         "xaxis": "x",
         "y": [
          0,
          15.811388300841896,
          15.811388300841896,
          0
         ],
         "yaxis": "y"
        },
        {
         "hoverinfo": "text",
         "marker": {
          "color": "rgb(255,65,54)"
         },
         "mode": "lines",
         "type": "scatter",
         "x": [
          5725,
          5725,
          5740,
          5740
         ],
         "xaxis": "x",
         "y": [
          0,
          30.20761493398643,
          30.20761493398643,
          15.811388300841896
         ],
         "yaxis": "y"
        },
        {
         "hoverinfo": "text",
         "marker": {
          "color": "rgb(255,65,54)"
         },
         "mode": "lines",
         "type": "scatter",
         "x": [
          5715,
          5715,
          5732.5,
          5732.5
         ],
         "xaxis": "x",
         "y": [
          0,
          55.226805085936306,
          55.226805085936306,
          30.20761493398643
         ],
         "yaxis": "y"
        },
        {
         "hoverinfo": "text",
         "marker": {
          "color": "rgb(255,65,54)"
         },
         "mode": "lines",
         "type": "scatter",
         "x": [
          5755,
          5755,
          5765,
          5765
         ],
         "xaxis": "x",
         "y": [
          0,
          18.791620472966134,
          18.791620472966134,
          0
         ],
         "yaxis": "y"
        },
        {
         "hoverinfo": "text",
         "marker": {
          "color": "rgb(255,65,54)"
         },
         "mode": "lines",
         "type": "scatter",
         "x": [
          5785,
          5785,
          5795,
          5795
         ],
         "xaxis": "x",
         "y": [
          0,
          15.811388300841896,
          15.811388300841896,
          0
         ],
         "yaxis": "y"
        },
        {
         "hoverinfo": "text",
         "marker": {
          "color": "rgb(255,65,54)"
         },
         "mode": "lines",
         "type": "scatter",
         "x": [
          5775,
          5775,
          5790,
          5790
         ],
         "xaxis": "x",
         "y": [
          0,
          40.0195264839553,
          40.0195264839553,
          15.811388300841896
         ],
         "yaxis": "y"
        },
        {
         "hoverinfo": "text",
         "marker": {
          "color": "rgb(255,65,54)"
         },
         "mode": "lines",
         "type": "scatter",
         "x": [
          5760,
          5760,
          5782.5,
          5782.5
         ],
         "xaxis": "x",
         "y": [
          18.791620472966134,
          58.96238207535377,
          58.96238207535377,
          40.0195264839553
         ],
         "yaxis": "y"
        },
        {
         "hoverinfo": "text",
         "marker": {
          "color": "rgb(255,65,54)"
         },
         "mode": "lines",
         "type": "scatter",
         "x": [
          5723.75,
          5723.75,
          5771.25,
          5771.25
         ],
         "xaxis": "x",
         "y": [
          55.226805085936306,
          157.68342493743594,
          157.68342493743594,
          58.96238207535377
         ],
         "yaxis": "y"
        },
        {
         "hoverinfo": "text",
         "marker": {
          "color": "rgb(255,65,54)"
         },
         "mode": "lines",
         "type": "scatter",
         "x": [
          5705,
          5705,
          5747.5,
          5747.5
         ],
         "xaxis": "x",
         "y": [
          0,
          390.52231462831446,
          390.52231462831446,
          157.68342493743594
         ],
         "yaxis": "y"
        },
        {
         "hoverinfo": "text",
         "marker": {
          "color": "rgb(255,65,54)"
         },
         "mode": "lines",
         "type": "scatter",
         "x": [
          5615,
          5615,
          5726.25,
          5726.25
         ],
         "xaxis": "x",
         "y": [
          272.5917276807937,
          452.56215042798266,
          452.56215042798266,
          390.52231462831446
         ],
         "yaxis": "y"
        },
        {
         "hoverinfo": "text",
         "marker": {
          "color": "rgb(255,65,54)"
         },
         "mode": "lines",
         "type": "scatter",
         "x": [
          5415.1171875,
          5415.1171875,
          5670.625,
          5670.625
         ],
         "xaxis": "x",
         "y": [
          442.14785051350043,
          782.6213670128526,
          782.6213670128526,
          452.56215042798266
         ],
         "yaxis": "y"
        },
        {
         "hoverinfo": "text",
         "marker": {
          "color": "rgb(255,65,54)"
         },
         "mode": "lines",
         "type": "scatter",
         "x": [
          5805,
          5805,
          5815,
          5815
         ],
         "xaxis": "x",
         "y": [
          0,
          15.811388300841896,
          15.811388300841896,
          0
         ],
         "yaxis": "y"
        },
        {
         "hoverinfo": "text",
         "marker": {
          "color": "rgb(255,65,54)"
         },
         "mode": "lines",
         "type": "scatter",
         "x": [
          5825,
          5825,
          5835,
          5835
         ],
         "xaxis": "x",
         "y": [
          0,
          18.791620472966134,
          18.791620472966134,
          0
         ],
         "yaxis": "y"
        },
        {
         "hoverinfo": "text",
         "marker": {
          "color": "rgb(255,65,54)"
         },
         "mode": "lines",
         "type": "scatter",
         "x": [
          5810,
          5810,
          5830,
          5830
         ],
         "xaxis": "x",
         "y": [
          15.811388300841896,
          51.99158585771355,
          51.99158585771355,
          18.791620472966134
         ],
         "yaxis": "y"
        },
        {
         "hoverinfo": "text",
         "marker": {
          "color": "rgb(255,65,54)"
         },
         "mode": "lines",
         "type": "scatter",
         "x": [
          5845,
          5845,
          5855,
          5855
         ],
         "xaxis": "x",
         "y": [
          0,
          19.689980002529204,
          19.689980002529204,
          0
         ],
         "yaxis": "y"
        },
        {
         "hoverinfo": "text",
         "marker": {
          "color": "rgb(255,65,54)"
         },
         "mode": "lines",
         "type": "scatter",
         "x": [
          5875,
          5875,
          5885,
          5885
         ],
         "xaxis": "x",
         "y": [
          0,
          17.611600070159724,
          17.611600070159724,
          0
         ],
         "yaxis": "y"
        },
        {
         "hoverinfo": "text",
         "marker": {
          "color": "rgb(255,65,54)"
         },
         "mode": "lines",
         "type": "scatter",
         "x": [
          5865,
          5865,
          5880,
          5880
         ],
         "xaxis": "x",
         "y": [
          0,
          28.940435866189024,
          28.940435866189024,
          17.611600070159724
         ],
         "yaxis": "y"
        },
        {
         "hoverinfo": "text",
         "marker": {
          "color": "rgb(255,65,54)"
         },
         "mode": "lines",
         "type": "scatter",
         "x": [
          5850,
          5850,
          5872.5,
          5872.5
         ],
         "xaxis": "x",
         "y": [
          19.689980002529204,
          72.40168778786341,
          72.40168778786341,
          28.940435866189024
         ],
         "yaxis": "y"
        },
        {
         "hoverinfo": "text",
         "marker": {
          "color": "rgb(255,65,54)"
         },
         "mode": "lines",
         "type": "scatter",
         "x": [
          5820,
          5820,
          5861.25,
          5861.25
         ],
         "xaxis": "x",
         "y": [
          51.99158585771355,
          143.63858624001855,
          143.63858624001855,
          72.40168778786341
         ],
         "yaxis": "y"
        },
        {
         "hoverinfo": "text",
         "marker": {
          "color": "rgb(255,65,54)"
         },
         "mode": "lines",
         "type": "scatter",
         "x": [
          5905,
          5905,
          5915,
          5915
         ],
         "xaxis": "x",
         "y": [
          0,
          27.263680418783697,
          27.263680418783697,
          0
         ],
         "yaxis": "y"
        },
        {
         "hoverinfo": "text",
         "marker": {
          "color": "rgb(255,65,54)"
         },
         "mode": "lines",
         "type": "scatter",
         "x": [
          5895,
          5895,
          5910,
          5910
         ],
         "xaxis": "x",
         "y": [
          0,
          58.38932604183227,
          58.38932604183227,
          27.263680418783697
         ],
         "yaxis": "y"
        },
        {
         "hoverinfo": "text",
         "marker": {
          "color": "rgb(255,65,54)"
         },
         "mode": "lines",
         "type": "scatter",
         "x": [
          5925,
          5925,
          5935,
          5935
         ],
         "xaxis": "x",
         "y": [
          0,
          27.038940041437517,
          27.038940041437517,
          0
         ],
         "yaxis": "y"
        },
        {
         "hoverinfo": "text",
         "marker": {
          "color": "rgb(255,65,54)"
         },
         "mode": "lines",
         "type": "scatter",
         "x": [
          5945,
          5945,
          5955,
          5955
         ],
         "xaxis": "x",
         "y": [
          0,
          33.97872000813323,
          33.97872000813323,
          0
         ],
         "yaxis": "y"
        },
        {
         "hoverinfo": "text",
         "marker": {
          "color": "rgb(255,65,54)"
         },
         "mode": "lines",
         "type": "scatter",
         "x": [
          5975,
          5975,
          5985,
          5985
         ],
         "xaxis": "x",
         "y": [
          0,
          15.811388300841896,
          15.811388300841896,
          0
         ],
         "yaxis": "y"
        },
        {
         "hoverinfo": "text",
         "marker": {
          "color": "rgb(255,65,54)"
         },
         "mode": "lines",
         "type": "scatter",
         "x": [
          5965,
          5965,
          5980,
          5980
         ],
         "xaxis": "x",
         "y": [
          0,
          37.10588041214328,
          37.10588041214328,
          15.811388300841896
         ],
         "yaxis": "y"
        },
        {
         "hoverinfo": "text",
         "marker": {
          "color": "rgb(255,65,54)"
         },
         "mode": "lines",
         "type": "scatter",
         "x": [
          5950,
          5950,
          5972.5,
          5972.5
         ],
         "xaxis": "x",
         "y": [
          33.97872000813323,
          65.87668013918338,
          65.87668013918338,
          37.10588041214328
         ],
         "yaxis": "y"
        },
        {
         "hoverinfo": "text",
         "marker": {
          "color": "rgb(255,65,54)"
         },
         "mode": "lines",
         "type": "scatter",
         "x": [
          5930,
          5930,
          5961.25,
          5961.25
         ],
         "xaxis": "x",
         "y": [
          27.038940041437517,
          112.40813531214562,
          112.40813531214562,
          65.87668013918338
         ],
         "yaxis": "y"
        },
        {
         "hoverinfo": "text",
         "marker": {
          "color": "rgb(255,65,54)"
         },
         "mode": "lines",
         "type": "scatter",
         "x": [
          5902.5,
          5902.5,
          5945.625,
          5945.625
         ],
         "xaxis": "x",
         "y": [
          58.38932604183227,
          198.4020080139969,
          198.4020080139969,
          112.40813531214562
         ],
         "yaxis": "y"
        },
        {
         "hoverinfo": "text",
         "marker": {
          "color": "rgb(255,65,54)"
         },
         "mode": "lines",
         "type": "scatter",
         "x": [
          5840.625,
          5840.625,
          5924.0625,
          5924.0625
         ],
         "xaxis": "x",
         "y": [
          143.63858624001855,
          365.15078343832073,
          365.15078343832073,
          198.4020080139969
         ],
         "yaxis": "y"
        },
        {
         "hoverinfo": "text",
         "marker": {
          "color": "rgb(255,65,54)"
         },
         "mode": "lines",
         "type": "scatter",
         "x": [
          6005,
          6005,
          6015,
          6015
         ],
         "xaxis": "x",
         "y": [
          0,
          15.811388300841896,
          15.811388300841896,
          0
         ],
         "yaxis": "y"
        },
        {
         "hoverinfo": "text",
         "marker": {
          "color": "rgb(255,65,54)"
         },
         "mode": "lines",
         "type": "scatter",
         "x": [
          6025,
          6025,
          6035,
          6035
         ],
         "xaxis": "x",
         "y": [
          0,
          18.791620472966134,
          18.791620472966134,
          0
         ],
         "yaxis": "y"
        },
        {
         "hoverinfo": "text",
         "marker": {
          "color": "rgb(255,65,54)"
         },
         "mode": "lines",
         "type": "scatter",
         "x": [
          6010,
          6010,
          6030,
          6030
         ],
         "xaxis": "x",
         "y": [
          15.811388300841896,
          51.99158585771355,
          51.99158585771355,
          18.791620472966134
         ],
         "yaxis": "y"
        },
        {
         "hoverinfo": "text",
         "marker": {
          "color": "rgb(255,65,54)"
         },
         "mode": "lines",
         "type": "scatter",
         "x": [
          5995,
          5995,
          6020,
          6020
         ],
         "xaxis": "x",
         "y": [
          0,
          66.43289906458246,
          66.43289906458246,
          51.99158585771355
         ],
         "yaxis": "y"
        },
        {
         "hoverinfo": "text",
         "marker": {
          "color": "rgb(255,65,54)"
         },
         "mode": "lines",
         "type": "scatter",
         "x": [
          6055,
          6055,
          6065,
          6065
         ],
         "xaxis": "x",
         "y": [
          0,
          19.689980002529204,
          19.689980002529204,
          0
         ],
         "yaxis": "y"
        },
        {
         "hoverinfo": "text",
         "marker": {
          "color": "rgb(255,65,54)"
         },
         "mode": "lines",
         "type": "scatter",
         "x": [
          6045,
          6045,
          6060,
          6060
         ],
         "xaxis": "x",
         "y": [
          0,
          70.00558013472926,
          70.00558013472926,
          19.689980002529204
         ],
         "yaxis": "y"
        },
        {
         "hoverinfo": "text",
         "marker": {
          "color": "rgb(255,65,54)"
         },
         "mode": "lines",
         "type": "scatter",
         "x": [
          6007.5,
          6007.5,
          6052.5,
          6052.5
         ],
         "xaxis": "x",
         "y": [
          66.43289906458246,
          140,
          140,
          70.00558013472926
         ],
         "yaxis": "y"
        },
        {
         "hoverinfo": "text",
         "marker": {
          "color": "rgb(255,65,54)"
         },
         "mode": "lines",
         "type": "scatter",
         "x": [
          6085,
          6085,
          6095,
          6095
         ],
         "xaxis": "x",
         "y": [
          0,
          24.558603380485625,
          24.558603380485625,
          0
         ],
         "yaxis": "y"
        },
        {
         "hoverinfo": "text",
         "marker": {
          "color": "rgb(255,65,54)"
         },
         "mode": "lines",
         "type": "scatter",
         "x": [
          6075,
          6075,
          6090,
          6090
         ],
         "xaxis": "x",
         "y": [
          0,
          48.088460154178364,
          48.088460154178364,
          24.558603380485625
         ],
         "yaxis": "y"
        },
        {
         "hoverinfo": "text",
         "marker": {
          "color": "rgb(255,65,54)"
         },
         "mode": "lines",
         "type": "scatter",
         "x": [
          6115,
          6115,
          6125,
          6125
         ],
         "xaxis": "x",
         "y": [
          0,
          15.811388300841896,
          15.811388300841896,
          0
         ],
         "yaxis": "y"
        },
        {
         "hoverinfo": "text",
         "marker": {
          "color": "rgb(255,65,54)"
         },
         "mode": "lines",
         "type": "scatter",
         "x": [
          6105,
          6105,
          6120,
          6120
         ],
         "xaxis": "x",
         "y": [
          0,
          33.354160160315836,
          33.354160160315836,
          15.811388300841896
         ],
         "yaxis": "y"
        },
        {
         "hoverinfo": "text",
         "marker": {
          "color": "rgb(255,65,54)"
         },
         "mode": "lines",
         "type": "scatter",
         "x": [
          6145,
          6145,
          6155,
          6155
         ],
         "xaxis": "x",
         "y": [
          0,
          15.811388300841896,
          15.811388300841896,
          0
         ],
         "yaxis": "y"
        },
        {
         "hoverinfo": "text",
         "marker": {
          "color": "rgb(255,65,54)"
         },
         "mode": "lines",
         "type": "scatter",
         "x": [
          6135,
          6135,
          6150,
          6150
         ],
         "xaxis": "x",
         "y": [
          0,
          71.05036995045315,
          71.05036995045315,
          15.811388300841896
         ],
         "yaxis": "y"
        },
        {
         "hoverinfo": "text",
         "marker": {
          "color": "rgb(255,65,54)"
         },
         "mode": "lines",
         "type": "scatter",
         "x": [
          6112.5,
          6112.5,
          6142.5,
          6142.5
         ],
         "xaxis": "x",
         "y": [
          33.354160160315836,
          95.13148795220224,
          95.13148795220224,
          71.05036995045315
         ],
         "yaxis": "y"
        },
        {
         "hoverinfo": "text",
         "marker": {
          "color": "rgb(255,65,54)"
         },
         "mode": "lines",
         "type": "scatter",
         "x": [
          6082.5,
          6082.5,
          6127.5,
          6127.5
         ],
         "xaxis": "x",
         "y": [
          48.088460154178364,
          160,
          160,
          95.13148795220224
         ],
         "yaxis": "y"
        },
        {
         "hoverinfo": "text",
         "marker": {
          "color": "rgb(255,65,54)"
         },
         "mode": "lines",
         "type": "scatter",
         "x": [
          6185,
          6185,
          6195,
          6195
         ],
         "xaxis": "x",
         "y": [
          0,
          18.791620472966134,
          18.791620472966134,
          0
         ],
         "yaxis": "y"
        },
        {
         "hoverinfo": "text",
         "marker": {
          "color": "rgb(255,65,54)"
         },
         "mode": "lines",
         "type": "scatter",
         "x": [
          6175,
          6175,
          6190,
          6190
         ],
         "xaxis": "x",
         "y": [
          0,
          32.59601202601324,
          32.59601202601324,
          18.791620472966134
         ],
         "yaxis": "y"
        },
        {
         "hoverinfo": "text",
         "marker": {
          "color": "rgb(255,65,54)"
         },
         "mode": "lines",
         "type": "scatter",
         "x": [
          6205,
          6205,
          6215,
          6215
         ],
         "xaxis": "x",
         "y": [
          0,
          15.811388300841896,
          15.811388300841896,
          0
         ],
         "yaxis": "y"
        },
        {
         "hoverinfo": "text",
         "marker": {
          "color": "rgb(255,65,54)"
         },
         "mode": "lines",
         "type": "scatter",
         "x": [
          6225,
          6225,
          6235,
          6235
         ],
         "xaxis": "x",
         "y": [
          0,
          22.360679774997898,
          22.360679774997898,
          0
         ],
         "yaxis": "y"
        },
        {
         "hoverinfo": "text",
         "marker": {
          "color": "rgb(255,65,54)"
         },
         "mode": "lines",
         "type": "scatter",
         "x": [
          6210,
          6210,
          6230,
          6230
         ],
         "xaxis": "x",
         "y": [
          15.811388300841896,
          47.43416490252569,
          47.43416490252569,
          22.360679774997898
         ],
         "yaxis": "y"
        },
        {
         "hoverinfo": "text",
         "marker": {
          "color": "rgb(255,65,54)"
         },
         "mode": "lines",
         "type": "scatter",
         "x": [
          6182.5,
          6182.5,
          6220,
          6220
         ],
         "xaxis": "x",
         "y": [
          32.59601202601324,
          102.97147663309485,
          102.97147663309485,
          47.43416490252569
         ],
         "yaxis": "y"
        },
        {
         "hoverinfo": "text",
         "marker": {
          "color": "rgb(255,65,54)"
         },
         "mode": "lines",
         "type": "scatter",
         "x": [
          6165,
          6165,
          6201.25,
          6201.25
         ],
         "xaxis": "x",
         "y": [
          0,
          169.40739723045195,
          169.40739723045195,
          102.97147663309485
         ],
         "yaxis": "y"
        },
        {
         "hoverinfo": "text",
         "marker": {
          "color": "rgb(255,65,54)"
         },
         "mode": "lines",
         "type": "scatter",
         "x": [
          6105,
          6105,
          6183.125,
          6183.125
         ],
         "xaxis": "x",
         "y": [
          160,
          301.83294220478984,
          301.83294220478984,
          169.40739723045195
         ],
         "yaxis": "y"
        },
        {
         "hoverinfo": "text",
         "marker": {
          "color": "rgb(255,65,54)"
         },
         "mode": "lines",
         "type": "scatter",
         "x": [
          6030,
          6030,
          6144.0625,
          6144.0625
         ],
         "xaxis": "x",
         "y": [
          140,
          500,
          500,
          301.83294220478984
         ],
         "yaxis": "y"
        },
        {
         "hoverinfo": "text",
         "marker": {
          "color": "rgb(255,65,54)"
         },
         "mode": "lines",
         "type": "scatter",
         "x": [
          5882.34375,
          5882.34375,
          6087.03125,
          6087.03125
         ],
         "xaxis": "x",
         "y": [
          365.15078343832073,
          880,
          880,
          500
         ],
         "yaxis": "y"
        },
        {
         "hoverinfo": "text",
         "marker": {
          "color": "rgb(255,65,54)"
         },
         "mode": "lines",
         "type": "scatter",
         "x": [
          5542.87109375,
          5542.87109375,
          5984.6875,
          5984.6875
         ],
         "xaxis": "x",
         "y": [
          782.6213670128526,
          1692.516617348261,
          1692.516617348261,
          880
         ],
         "yaxis": "y"
        },
        {
         "hoverinfo": "text",
         "marker": {
          "color": "rgb(255,65,54)"
         },
         "mode": "lines",
         "type": "scatter",
         "x": [
          6245,
          6245,
          6255,
          6255
         ],
         "xaxis": "x",
         "y": [
          0,
          17.545977548287244,
          17.545977548287244,
          0
         ],
         "yaxis": "y"
        },
        {
         "hoverinfo": "text",
         "marker": {
          "color": "rgb(255,65,54)"
         },
         "mode": "lines",
         "type": "scatter",
         "x": [
          6265,
          6265,
          6275,
          6275
         ],
         "xaxis": "x",
         "y": [
          0,
          25.252629813546154,
          25.252629813546154,
          0
         ],
         "yaxis": "y"
        },
        {
         "hoverinfo": "text",
         "marker": {
          "color": "rgb(255,65,54)"
         },
         "mode": "lines",
         "type": "scatter",
         "x": [
          6250,
          6250,
          6270,
          6270
         ],
         "xaxis": "x",
         "y": [
          17.545977548287244,
          52.63793264486173,
          52.63793264486173,
          25.252629813546154
         ],
         "yaxis": "y"
        },
        {
         "hoverinfo": "text",
         "marker": {
          "color": "rgb(255,65,54)"
         },
         "mode": "lines",
         "type": "scatter",
         "x": [
          6295,
          6295,
          6305,
          6305
         ],
         "xaxis": "x",
         "y": [
          0,
          15.811388300841896,
          15.811388300841896,
          0
         ],
         "yaxis": "y"
        },
        {
         "hoverinfo": "text",
         "marker": {
          "color": "rgb(255,65,54)"
         },
         "mode": "lines",
         "type": "scatter",
         "x": [
          6315,
          6315,
          6325,
          6325
         ],
         "xaxis": "x",
         "y": [
          0,
          18.791620472966134,
          18.791620472966134,
          0
         ],
         "yaxis": "y"
        },
        {
         "hoverinfo": "text",
         "marker": {
          "color": "rgb(255,65,54)"
         },
         "mode": "lines",
         "type": "scatter",
         "x": [
          6300,
          6300,
          6320,
          6320
         ],
         "xaxis": "x",
         "y": [
          15.811388300841896,
          51.99158585771355,
          51.99158585771355,
          18.791620472966134
         ],
         "yaxis": "y"
        },
        {
         "hoverinfo": "text",
         "marker": {
          "color": "rgb(255,65,54)"
         },
         "mode": "lines",
         "type": "scatter",
         "x": [
          6285,
          6285,
          6310,
          6310
         ],
         "xaxis": "x",
         "y": [
          0,
          93.78547505894103,
          93.78547505894103,
          51.99158585771355
         ],
         "yaxis": "y"
        },
        {
         "hoverinfo": "text",
         "marker": {
          "color": "rgb(255,65,54)"
         },
         "mode": "lines",
         "type": "scatter",
         "x": [
          6260,
          6260,
          6297.5,
          6297.5
         ],
         "xaxis": "x",
         "y": [
          52.63793264486173,
          134.4506055472836,
          134.4506055472836,
          93.78547505894103
         ],
         "yaxis": "y"
        },
        {
         "hoverinfo": "text",
         "marker": {
          "color": "rgb(255,65,54)"
         },
         "mode": "lines",
         "type": "scatter",
         "x": [
          6355,
          6355,
          6365,
          6365
         ],
         "xaxis": "x",
         "y": [
          0,
          15.811388300841896,
          15.811388300841896,
          0
         ],
         "yaxis": "y"
        },
        {
         "hoverinfo": "text",
         "marker": {
          "color": "rgb(255,65,54)"
         },
         "mode": "lines",
         "type": "scatter",
         "x": [
          6345,
          6345,
          6360,
          6360
         ],
         "xaxis": "x",
         "y": [
          0,
          40.311288741492746,
          40.311288741492746,
          15.811388300841896
         ],
         "yaxis": "y"
        },
        {
         "hoverinfo": "text",
         "marker": {
          "color": "rgb(255,65,54)"
         },
         "mode": "lines",
         "type": "scatter",
         "x": [
          6375,
          6375,
          6385,
          6385
         ],
         "xaxis": "x",
         "y": [
          0,
          15.811388300841896,
          15.811388300841896,
          0
         ],
         "yaxis": "y"
        },
        {
         "hoverinfo": "text",
         "marker": {
          "color": "rgb(255,65,54)"
         },
         "mode": "lines",
         "type": "scatter",
         "x": [
          6395,
          6395,
          6405,
          6405
         ],
         "xaxis": "x",
         "y": [
          0,
          22.360679774997898,
          22.360679774997898,
          0
         ],
         "yaxis": "y"
        },
        {
         "hoverinfo": "text",
         "marker": {
          "color": "rgb(255,65,54)"
         },
         "mode": "lines",
         "type": "scatter",
         "x": [
          6380,
          6380,
          6400,
          6400
         ],
         "xaxis": "x",
         "y": [
          15.811388300841896,
          47.43416490252569,
          47.43416490252569,
          22.360679774997898
         ],
         "yaxis": "y"
        },
        {
         "hoverinfo": "text",
         "marker": {
          "color": "rgb(255,65,54)"
         },
         "mode": "lines",
         "type": "scatter",
         "x": [
          6352.5,
          6352.5,
          6390,
          6390
         ],
         "xaxis": "x",
         "y": [
          40.311288741492746,
          115.10864433221339,
          115.10864433221339,
          47.43416490252569
         ],
         "yaxis": "y"
        },
        {
         "hoverinfo": "text",
         "marker": {
          "color": "rgb(255,65,54)"
         },
         "mode": "lines",
         "type": "scatter",
         "x": [
          6335,
          6335,
          6371.25,
          6371.25
         ],
         "xaxis": "x",
         "y": [
          0,
          214.9967140124072,
          214.9967140124072,
          115.10864433221339
         ],
         "yaxis": "y"
        },
        {
         "hoverinfo": "text",
         "marker": {
          "color": "rgb(255,65,54)"
         },
         "mode": "lines",
         "type": "scatter",
         "x": [
          6278.75,
          6278.75,
          6353.125,
          6353.125
         ],
         "xaxis": "x",
         "y": [
          134.4506055472836,
          340.89288938922266,
          340.89288938922266,
          214.9967140124072
         ],
         "yaxis": "y"
        },
        {
         "hoverinfo": "text",
         "marker": {
          "color": "rgb(255,65,54)"
         },
         "mode": "lines",
         "type": "scatter",
         "x": [
          6445,
          6445,
          6455,
          6455
         ],
         "xaxis": "x",
         "y": [
          0,
          15.811388300841896,
          15.811388300841896,
          0
         ],
         "yaxis": "y"
        },
        {
         "hoverinfo": "text",
         "marker": {
          "color": "rgb(255,65,54)"
         },
         "mode": "lines",
         "type": "scatter",
         "x": [
          6435,
          6435,
          6450,
          6450
         ],
         "xaxis": "x",
         "y": [
          0,
          28.627456226496967,
          28.627456226496967,
          15.811388300841896
         ],
         "yaxis": "y"
        },
        {
         "hoverinfo": "text",
         "marker": {
          "color": "rgb(255,65,54)"
         },
         "mode": "lines",
         "type": "scatter",
         "x": [
          6425,
          6425,
          6442.5,
          6442.5
         ],
         "xaxis": "x",
         "y": [
          0,
          35.22250700901343,
          35.22250700901343,
          28.627456226496967
         ],
         "yaxis": "y"
        },
        {
         "hoverinfo": "text",
         "marker": {
          "color": "rgb(255,65,54)"
         },
         "mode": "lines",
         "type": "scatter",
         "x": [
          6415,
          6415,
          6433.75,
          6433.75
         ],
         "xaxis": "x",
         "y": [
          0,
          67.69971900329425,
          67.69971900329425,
          35.22250700901343
         ],
         "yaxis": "y"
        },
        {
         "hoverinfo": "text",
         "marker": {
          "color": "rgb(255,65,54)"
         },
         "mode": "lines",
         "type": "scatter",
         "x": [
          6465,
          6465,
          6475,
          6475
         ],
         "xaxis": "x",
         "y": [
          0,
          15.811388300841896,
          15.811388300841896,
          0
         ],
         "yaxis": "y"
        },
        {
         "hoverinfo": "text",
         "marker": {
          "color": "rgb(255,65,54)"
         },
         "mode": "lines",
         "type": "scatter",
         "x": [
          6505,
          6505,
          6515,
          6515
         ],
         "xaxis": "x",
         "y": [
          0,
          15.811388300841896,
          15.811388300841896,
          0
         ],
         "yaxis": "y"
        },
        {
         "hoverinfo": "text",
         "marker": {
          "color": "rgb(255,65,54)"
         },
         "mode": "lines",
         "type": "scatter",
         "x": [
          6495,
          6495,
          6510,
          6510
         ],
         "xaxis": "x",
         "y": [
          0,
          33.354160160315836,
          33.354160160315836,
          15.811388300841896
         ],
         "yaxis": "y"
        },
        {
         "hoverinfo": "text",
         "marker": {
          "color": "rgb(255,65,54)"
         },
         "mode": "lines",
         "type": "scatter",
         "x": [
          6485,
          6485,
          6502.5,
          6502.5
         ],
         "xaxis": "x",
         "y": [
          0,
          66.22788545997827,
          66.22788545997827,
          33.354160160315836
         ],
         "yaxis": "y"
        },
        {
         "hoverinfo": "text",
         "marker": {
          "color": "rgb(255,65,54)"
         },
         "mode": "lines",
         "type": "scatter",
         "x": [
          6470,
          6470,
          6493.75,
          6493.75
         ],
         "xaxis": "x",
         "y": [
          15.811388300841896,
          105.35004894398483,
          105.35004894398483,
          66.22788545997827
         ],
         "yaxis": "y"
        },
        {
         "hoverinfo": "text",
         "marker": {
          "color": "rgb(255,65,54)"
         },
         "mode": "lines",
         "type": "scatter",
         "x": [
          6424.375,
          6424.375,
          6481.875,
          6481.875
         ],
         "xaxis": "x",
         "y": [
          67.69971900329425,
          172.95809305471948,
          172.95809305471948,
          105.35004894398483
         ],
         "yaxis": "y"
        },
        {
         "hoverinfo": "text",
         "marker": {
          "color": "rgb(255,65,54)"
         },
         "mode": "lines",
         "type": "scatter",
         "x": [
          6535,
          6535,
          6545,
          6545
         ],
         "xaxis": "x",
         "y": [
          0,
          15.811388300841896,
          15.811388300841896,
          0
         ],
         "yaxis": "y"
        },
        {
         "hoverinfo": "text",
         "marker": {
          "color": "rgb(255,65,54)"
         },
         "mode": "lines",
         "type": "scatter",
         "x": [
          6555,
          6555,
          6565,
          6565
         ],
         "xaxis": "x",
         "y": [
          0,
          15.811388300841896,
          15.811388300841896,
          0
         ],
         "yaxis": "y"
        },
        {
         "hoverinfo": "text",
         "marker": {
          "color": "rgb(255,65,54)"
         },
         "mode": "lines",
         "type": "scatter",
         "x": [
          6575,
          6575,
          6585,
          6585
         ],
         "xaxis": "x",
         "y": [
          0,
          22.360679774997898,
          22.360679774997898,
          0
         ],
         "yaxis": "y"
        },
        {
         "hoverinfo": "text",
         "marker": {
          "color": "rgb(255,65,54)"
         },
         "mode": "lines",
         "type": "scatter",
         "x": [
          6560,
          6560,
          6580,
          6580
         ],
         "xaxis": "x",
         "y": [
          15.811388300841896,
          47.43416490252569,
          47.43416490252569,
          22.360679774997898
         ],
         "yaxis": "y"
        },
        {
         "hoverinfo": "text",
         "marker": {
          "color": "rgb(255,65,54)"
         },
         "mode": "lines",
         "type": "scatter",
         "x": [
          6540,
          6540,
          6570,
          6570
         ],
         "xaxis": "x",
         "y": [
          15.811388300841896,
          106.06601717798213,
          106.06601717798213,
          47.43416490252569
         ],
         "yaxis": "y"
        },
        {
         "hoverinfo": "text",
         "marker": {
          "color": "rgb(255,65,54)"
         },
         "mode": "lines",
         "type": "scatter",
         "x": [
          6525,
          6525,
          6555,
          6555
         ],
         "xaxis": "x",
         "y": [
          0,
          159.2418638154121,
          159.2418638154121,
          106.06601717798213
         ],
         "yaxis": "y"
        },
        {
         "hoverinfo": "text",
         "marker": {
          "color": "rgb(255,65,54)"
         },
         "mode": "lines",
         "type": "scatter",
         "x": [
          6595,
          6595,
          6605,
          6605
         ],
         "xaxis": "x",
         "y": [
          0,
          96.05755479402863,
          96.05755479402863,
          0
         ],
         "yaxis": "y"
        },
        {
         "hoverinfo": "text",
         "marker": {
          "color": "rgb(255,65,54)"
         },
         "mode": "lines",
         "type": "scatter",
         "x": [
          6635,
          6635,
          6645,
          6645
         ],
         "xaxis": "x",
         "y": [
          0,
          15.811388300841896,
          15.811388300841896,
          0
         ],
         "yaxis": "y"
        },
        {
         "hoverinfo": "text",
         "marker": {
          "color": "rgb(255,65,54)"
         },
         "mode": "lines",
         "type": "scatter",
         "x": [
          6625,
          6625,
          6640,
          6640
         ],
         "xaxis": "x",
         "y": [
          0,
          33.354160160315836,
          33.354160160315836,
          15.811388300841896
         ],
         "yaxis": "y"
        },
        {
         "hoverinfo": "text",
         "marker": {
          "color": "rgb(255,65,54)"
         },
         "mode": "lines",
         "type": "scatter",
         "x": [
          6615,
          6615,
          6632.5,
          6632.5
         ],
         "xaxis": "x",
         "y": [
          0,
          51.02082907989638,
          51.02082907989638,
          33.354160160315836
         ],
         "yaxis": "y"
        },
        {
         "hoverinfo": "text",
         "marker": {
          "color": "rgb(255,65,54)"
         },
         "mode": "lines",
         "type": "scatter",
         "x": [
          6655,
          6655,
          6665,
          6665
         ],
         "xaxis": "x",
         "y": [
          0,
          15.811388300841896,
          15.811388300841896,
          0
         ],
         "yaxis": "y"
        },
        {
         "hoverinfo": "text",
         "marker": {
          "color": "rgb(255,65,54)"
         },
         "mode": "lines",
         "type": "scatter",
         "x": [
          6685,
          6685,
          6695,
          6695
         ],
         "xaxis": "x",
         "y": [
          0,
          18.791620472966134,
          18.791620472966134,
          0
         ],
         "yaxis": "y"
        },
        {
         "hoverinfo": "text",
         "marker": {
          "color": "rgb(255,65,54)"
         },
         "mode": "lines",
         "type": "scatter",
         "x": [
          6675,
          6675,
          6690,
          6690
         ],
         "xaxis": "x",
         "y": [
          0,
          38.171078711506176,
          38.171078711506176,
          18.791620472966134
         ],
         "yaxis": "y"
        },
        {
         "hoverinfo": "text",
         "marker": {
          "color": "rgb(255,65,54)"
         },
         "mode": "lines",
         "type": "scatter",
         "x": [
          6660,
          6660,
          6682.5,
          6682.5
         ],
         "xaxis": "x",
         "y": [
          15.811388300841896,
          71.24451733291482,
          71.24451733291482,
          38.171078711506176
         ],
         "yaxis": "y"
        },
        {
         "hoverinfo": "text",
         "marker": {
          "color": "rgb(255,65,54)"
         },
         "mode": "lines",
         "type": "scatter",
         "x": [
          6623.75,
          6623.75,
          6671.25,
          6671.25
         ],
         "xaxis": "x",
         "y": [
          51.02082907989638,
          163.69989691505612,
          163.69989691505612,
          71.24451733291482
         ],
         "yaxis": "y"
        },
        {
         "hoverinfo": "text",
         "marker": {
          "color": "rgb(255,65,54)"
         },
         "mode": "lines",
         "type": "scatter",
         "x": [
          6600,
          6600,
          6647.5,
          6647.5
         ],
         "xaxis": "x",
         "y": [
          96.05755479402863,
          189.9213527733462,
          189.9213527733462,
          163.69989691505612
         ],
         "yaxis": "y"
        },
        {
         "hoverinfo": "text",
         "marker": {
          "color": "rgb(255,65,54)"
         },
         "mode": "lines",
         "type": "scatter",
         "x": [
          6540,
          6540,
          6623.75,
          6623.75
         ],
         "xaxis": "x",
         "y": [
          159.2418638154121,
          310.76644164066363,
          310.76644164066363,
          189.9213527733462
         ],
         "yaxis": "y"
        },
        {
         "hoverinfo": "text",
         "marker": {
          "color": "rgb(255,65,54)"
         },
         "mode": "lines",
         "type": "scatter",
         "x": [
          6453.125,
          6453.125,
          6581.875,
          6581.875
         ],
         "xaxis": "x",
         "y": [
          172.95809305471948,
          530.707811559242,
          530.707811559242,
          310.76644164066363
         ],
         "yaxis": "y"
        },
        {
         "hoverinfo": "text",
         "marker": {
          "color": "rgb(255,65,54)"
         },
         "mode": "lines",
         "type": "scatter",
         "x": [
          6315.9375,
          6315.9375,
          6517.5,
          6517.5
         ],
         "xaxis": "x",
         "y": [
          340.89288938922266,
          896.293884650081,
          896.293884650081,
          530.707811559242
         ],
         "yaxis": "y"
        },
        {
         "hoverinfo": "text",
         "marker": {
          "color": "rgb(255,65,54)"
         },
         "mode": "lines",
         "type": "scatter",
         "x": [
          6715,
          6715,
          6725,
          6725
         ],
         "xaxis": "x",
         "y": [
          0,
          15.811388300841896,
          15.811388300841896,
          0
         ],
         "yaxis": "y"
        },
        {
         "hoverinfo": "text",
         "marker": {
          "color": "rgb(255,65,54)"
         },
         "mode": "lines",
         "type": "scatter",
         "x": [
          6705,
          6705,
          6720,
          6720
         ],
         "xaxis": "x",
         "y": [
          0,
          33.354160160315836,
          33.354160160315836,
          15.811388300841896
         ],
         "yaxis": "y"
        },
        {
         "hoverinfo": "text",
         "marker": {
          "color": "rgb(255,65,54)"
         },
         "mode": "lines",
         "type": "scatter",
         "x": [
          6735,
          6735,
          6745,
          6745
         ],
         "xaxis": "x",
         "y": [
          0,
          15.811388300841896,
          15.811388300841896,
          0
         ],
         "yaxis": "y"
        },
        {
         "hoverinfo": "text",
         "marker": {
          "color": "rgb(255,65,54)"
         },
         "mode": "lines",
         "type": "scatter",
         "x": [
          6775,
          6775,
          6785,
          6785
         ],
         "xaxis": "x",
         "y": [
          0,
          15.811388300841896,
          15.811388300841896,
          0
         ],
         "yaxis": "y"
        },
        {
         "hoverinfo": "text",
         "marker": {
          "color": "rgb(255,65,54)"
         },
         "mode": "lines",
         "type": "scatter",
         "x": [
          6765,
          6765,
          6780,
          6780
         ],
         "xaxis": "x",
         "y": [
          0,
          33.54101966249684,
          33.54101966249684,
          15.811388300841896
         ],
         "yaxis": "y"
        },
        {
         "hoverinfo": "text",
         "marker": {
          "color": "rgb(255,65,54)"
         },
         "mode": "lines",
         "type": "scatter",
         "x": [
          6755,
          6755,
          6772.5,
          6772.5
         ],
         "xaxis": "x",
         "y": [
          0,
          58.76329636771579,
          58.76329636771579,
          33.54101966249684
         ],
         "yaxis": "y"
        },
        {
         "hoverinfo": "text",
         "marker": {
          "color": "rgb(255,65,54)"
         },
         "mode": "lines",
         "type": "scatter",
         "x": [
          6740,
          6740,
          6763.75,
          6763.75
         ],
         "xaxis": "x",
         "y": [
          15.811388300841896,
          108.00752288613974,
          108.00752288613974,
          58.76329636771579
         ],
         "yaxis": "y"
        },
        {
         "hoverinfo": "text",
         "marker": {
          "color": "rgb(255,65,54)"
         },
         "mode": "lines",
         "type": "scatter",
         "x": [
          6712.5,
          6712.5,
          6751.875,
          6751.875
         ],
         "xaxis": "x",
         "y": [
          33.354160160315836,
          152.6843148460247,
          152.6843148460247,
          108.00752288613974
         ],
         "yaxis": "y"
        },
        {
         "hoverinfo": "text",
         "marker": {
          "color": "rgb(255,65,54)"
         },
         "mode": "lines",
         "type": "scatter",
         "x": [
          6815,
          6815,
          6825,
          6825
         ],
         "xaxis": "x",
         "y": [
          0,
          15.811388300841896,
          15.811388300841896,
          0
         ],
         "yaxis": "y"
        },
        {
         "hoverinfo": "text",
         "marker": {
          "color": "rgb(255,65,54)"
         },
         "mode": "lines",
         "type": "scatter",
         "x": [
          6805,
          6805,
          6820,
          6820
         ],
         "xaxis": "x",
         "y": [
          0,
          33.54101966249684,
          33.54101966249684,
          15.811388300841896
         ],
         "yaxis": "y"
        },
        {
         "hoverinfo": "text",
         "marker": {
          "color": "rgb(255,65,54)"
         },
         "mode": "lines",
         "type": "scatter",
         "x": [
          6845,
          6845,
          6855,
          6855
         ],
         "xaxis": "x",
         "y": [
          0,
          15.811388300841896,
          15.811388300841896,
          0
         ],
         "yaxis": "y"
        },
        {
         "hoverinfo": "text",
         "marker": {
          "color": "rgb(255,65,54)"
         },
         "mode": "lines",
         "type": "scatter",
         "x": [
          6835,
          6835,
          6850,
          6850
         ],
         "xaxis": "x",
         "y": [
          0,
          36.27154532136727,
          36.27154532136727,
          15.811388300841896
         ],
         "yaxis": "y"
        },
        {
         "hoverinfo": "text",
         "marker": {
          "color": "rgb(255,65,54)"
         },
         "mode": "lines",
         "type": "scatter",
         "x": [
          6812.5,
          6812.5,
          6842.5,
          6842.5
         ],
         "xaxis": "x",
         "y": [
          33.54101966249684,
          82.40524861924754,
          82.40524861924754,
          36.27154532136727
         ],
         "yaxis": "y"
        },
        {
         "hoverinfo": "text",
         "marker": {
          "color": "rgb(255,65,54)"
         },
         "mode": "lines",
         "type": "scatter",
         "x": [
          6795,
          6795,
          6827.5,
          6827.5
         ],
         "xaxis": "x",
         "y": [
          0,
          165.52842113403062,
          165.52842113403062,
          82.40524861924754
         ],
         "yaxis": "y"
        },
        {
         "hoverinfo": "text",
         "marker": {
          "color": "rgb(255,65,54)"
         },
         "mode": "lines",
         "type": "scatter",
         "x": [
          6732.1875,
          6732.1875,
          6811.25,
          6811.25
         ],
         "xaxis": "x",
         "y": [
          152.6843148460247,
          275.2555630682148,
          275.2555630682148,
          165.52842113403062
         ],
         "yaxis": "y"
        },
        {
         "hoverinfo": "text",
         "marker": {
          "color": "rgb(255,65,54)"
         },
         "mode": "lines",
         "type": "scatter",
         "x": [
          6875,
          6875,
          6885,
          6885
         ],
         "xaxis": "x",
         "y": [
          0,
          22.360679774997898,
          22.360679774997898,
          0
         ],
         "yaxis": "y"
        },
        {
         "hoverinfo": "text",
         "marker": {
          "color": "rgb(255,65,54)"
         },
         "mode": "lines",
         "type": "scatter",
         "x": [
          6865,
          6865,
          6880,
          6880
         ],
         "xaxis": "x",
         "y": [
          0,
          40,
          40,
          22.360679774997898
         ],
         "yaxis": "y"
        },
        {
         "hoverinfo": "text",
         "marker": {
          "color": "rgb(255,65,54)"
         },
         "mode": "lines",
         "type": "scatter",
         "x": [
          6915,
          6915,
          6925,
          6925
         ],
         "xaxis": "x",
         "y": [
          0,
          15.811388300841896,
          15.811388300841896,
          0
         ],
         "yaxis": "y"
        },
        {
         "hoverinfo": "text",
         "marker": {
          "color": "rgb(255,65,54)"
         },
         "mode": "lines",
         "type": "scatter",
         "x": [
          6905,
          6905,
          6920,
          6920
         ],
         "xaxis": "x",
         "y": [
          0,
          33.354160160315836,
          33.354160160315836,
          15.811388300841896
         ],
         "yaxis": "y"
        },
        {
         "hoverinfo": "text",
         "marker": {
          "color": "rgb(255,65,54)"
         },
         "mode": "lines",
         "type": "scatter",
         "x": [
          6895,
          6895,
          6912.5,
          6912.5
         ],
         "xaxis": "x",
         "y": [
          0,
          54.45755227697991,
          54.45755227697991,
          33.354160160315836
         ],
         "yaxis": "y"
        },
        {
         "hoverinfo": "text",
         "marker": {
          "color": "rgb(255,65,54)"
         },
         "mode": "lines",
         "type": "scatter",
         "x": [
          6872.5,
          6872.5,
          6903.75,
          6903.75
         ],
         "xaxis": "x",
         "y": [
          40,
          112.74972283779681,
          112.74972283779681,
          54.45755227697991
         ],
         "yaxis": "y"
        },
        {
         "hoverinfo": "text",
         "marker": {
          "color": "rgb(255,65,54)"
         },
         "mode": "lines",
         "type": "scatter",
         "x": [
          6935,
          6935,
          6945,
          6945
         ],
         "xaxis": "x",
         "y": [
          0,
          18.791620472966134,
          18.791620472966134,
          0
         ],
         "yaxis": "y"
        },
        {
         "hoverinfo": "text",
         "marker": {
          "color": "rgb(255,65,54)"
         },
         "mode": "lines",
         "type": "scatter",
         "x": [
          6965,
          6965,
          6975,
          6975
         ],
         "xaxis": "x",
         "y": [
          0,
          15.811388300841896,
          15.811388300841896,
          0
         ],
         "yaxis": "y"
        },
        {
         "hoverinfo": "text",
         "marker": {
          "color": "rgb(255,65,54)"
         },
         "mode": "lines",
         "type": "scatter",
         "x": [
          6955,
          6955,
          6970,
          6970
         ],
         "xaxis": "x",
         "y": [
          0,
          47.211293670053145,
          47.211293670053145,
          15.811388300841896
         ],
         "yaxis": "y"
        },
        {
         "hoverinfo": "text",
         "marker": {
          "color": "rgb(255,65,54)"
         },
         "mode": "lines",
         "type": "scatter",
         "x": [
          6940,
          6940,
          6962.5,
          6962.5
         ],
         "xaxis": "x",
         "y": [
          18.791620472966134,
          68.47102489374612,
          68.47102489374612,
          47.211293670053145
         ],
         "yaxis": "y"
        },
        {
         "hoverinfo": "text",
         "marker": {
          "color": "rgb(255,65,54)"
         },
         "mode": "lines",
         "type": "scatter",
         "x": [
          6995,
          6995,
          7005,
          7005
         ],
         "xaxis": "x",
         "y": [
          0,
          15.811388300841896,
          15.811388300841896,
          0
         ],
         "yaxis": "y"
        },
        {
         "hoverinfo": "text",
         "marker": {
          "color": "rgb(255,65,54)"
         },
         "mode": "lines",
         "type": "scatter",
         "x": [
          7015,
          7015,
          7025,
          7025
         ],
         "xaxis": "x",
         "y": [
          0,
          25.739075352467502,
          25.739075352467502,
          0
         ],
         "yaxis": "y"
        },
        {
         "hoverinfo": "text",
         "marker": {
          "color": "rgb(255,65,54)"
         },
         "mode": "lines",
         "type": "scatter",
         "x": [
          7000,
          7000,
          7020,
          7020
         ],
         "xaxis": "x",
         "y": [
          15.811388300841896,
          60,
          60,
          25.739075352467502
         ],
         "yaxis": "y"
        },
        {
         "hoverinfo": "text",
         "marker": {
          "color": "rgb(255,65,54)"
         },
         "mode": "lines",
         "type": "scatter",
         "x": [
          6985,
          6985,
          7010,
          7010
         ],
         "xaxis": "x",
         "y": [
          0,
          103.0975342212412,
          103.0975342212412,
          60
         ],
         "yaxis": "y"
        },
        {
         "hoverinfo": "text",
         "marker": {
          "color": "rgb(255,65,54)"
         },
         "mode": "lines",
         "type": "scatter",
         "x": [
          6951.25,
          6951.25,
          6997.5,
          6997.5
         ],
         "xaxis": "x",
         "y": [
          68.47102489374612,
          168.68343594585687,
          168.68343594585687,
          103.0975342212412
         ],
         "yaxis": "y"
        },
        {
         "hoverinfo": "text",
         "marker": {
          "color": "rgb(255,65,54)"
         },
         "mode": "lines",
         "type": "scatter",
         "x": [
          6888.125,
          6888.125,
          6974.375,
          6974.375
         ],
         "xaxis": "x",
         "y": [
          112.74972283779681,
          311.3729676770288,
          311.3729676770288,
          168.68343594585687
         ],
         "yaxis": "y"
        },
        {
         "hoverinfo": "text",
         "marker": {
          "color": "rgb(255,65,54)"
         },
         "mode": "lines",
         "type": "scatter",
         "x": [
          6771.71875,
          6771.71875,
          6931.25,
          6931.25
         ],
         "xaxis": "x",
         "y": [
          275.2555630682148,
          633.0975438271736,
          633.0975438271736,
          311.3729676770288
         ],
         "yaxis": "y"
        },
        {
         "hoverinfo": "text",
         "marker": {
          "color": "rgb(255,65,54)"
         },
         "mode": "lines",
         "type": "scatter",
         "x": [
          7035,
          7035,
          7045,
          7045
         ],
         "xaxis": "x",
         "y": [
          0,
          762.4837102699964,
          762.4837102699964,
          0
         ],
         "yaxis": "y"
        },
        {
         "hoverinfo": "text",
         "marker": {
          "color": "rgb(255,65,54)"
         },
         "mode": "lines",
         "type": "scatter",
         "x": [
          6851.484375,
          6851.484375,
          7040,
          7040
         ],
         "xaxis": "x",
         "y": [
          633.0975438271736,
          1052.0993152271365,
          1052.0993152271365,
          762.4837102699964
         ],
         "yaxis": "y"
        },
        {
         "hoverinfo": "text",
         "marker": {
          "color": "rgb(255,65,54)"
         },
         "mode": "lines",
         "type": "scatter",
         "x": [
          6416.71875,
          6416.71875,
          6945.7421875,
          6945.7421875
         ],
         "xaxis": "x",
         "y": [
          896.293884650081,
          1709.5990231246406,
          1709.5990231246406,
          1052.0993152271365
         ],
         "yaxis": "y"
        },
        {
         "hoverinfo": "text",
         "marker": {
          "color": "rgb(255,65,54)"
         },
         "mode": "lines",
         "type": "scatter",
         "x": [
          5763.779296875,
          5763.779296875,
          6681.23046875,
          6681.23046875
         ],
         "xaxis": "x",
         "y": [
          1692.516617348261,
          3290.638354673755,
          3290.638354673755,
          1709.5990231246406
         ],
         "yaxis": "y"
        },
        {
         "hoverinfo": "text",
         "marker": {
          "color": "rgb(255,65,54)"
         },
         "mode": "lines",
         "type": "scatter",
         "x": [
          7075,
          7075,
          7085,
          7085
         ],
         "xaxis": "x",
         "y": [
          0,
          28.398809614247845,
          28.398809614247845,
          0
         ],
         "yaxis": "y"
        },
        {
         "hoverinfo": "text",
         "marker": {
          "color": "rgb(255,65,54)"
         },
         "mode": "lines",
         "type": "scatter",
         "x": [
          7065,
          7065,
          7080,
          7080
         ],
         "xaxis": "x",
         "y": [
          0,
          36.25251296820068,
          36.25251296820068,
          28.398809614247845
         ],
         "yaxis": "y"
        },
        {
         "hoverinfo": "text",
         "marker": {
          "color": "rgb(255,65,54)"
         },
         "mode": "lines",
         "type": "scatter",
         "x": [
          7115,
          7115,
          7125,
          7125
         ],
         "xaxis": "x",
         "y": [
          0,
          15.811388300841896,
          15.811388300841896,
          0
         ],
         "yaxis": "y"
        },
        {
         "hoverinfo": "text",
         "marker": {
          "color": "rgb(255,65,54)"
         },
         "mode": "lines",
         "type": "scatter",
         "x": [
          7105,
          7105,
          7120,
          7120
         ],
         "xaxis": "x",
         "y": [
          0,
          33.54101966249684,
          33.54101966249684,
          15.811388300841896
         ],
         "yaxis": "y"
        },
        {
         "hoverinfo": "text",
         "marker": {
          "color": "rgb(255,65,54)"
         },
         "mode": "lines",
         "type": "scatter",
         "x": [
          7095,
          7095,
          7112.5,
          7112.5
         ],
         "xaxis": "x",
         "y": [
          0,
          52.42152013575076,
          52.42152013575076,
          33.54101966249684
         ],
         "yaxis": "y"
        },
        {
         "hoverinfo": "text",
         "marker": {
          "color": "rgb(255,65,54)"
         },
         "mode": "lines",
         "type": "scatter",
         "x": [
          7145,
          7145,
          7155,
          7155
         ],
         "xaxis": "x",
         "y": [
          0,
          15.811388300841896,
          15.811388300841896,
          0
         ],
         "yaxis": "y"
        },
        {
         "hoverinfo": "text",
         "marker": {
          "color": "rgb(255,65,54)"
         },
         "mode": "lines",
         "type": "scatter",
         "x": [
          7135,
          7135,
          7150,
          7150
         ],
         "xaxis": "x",
         "y": [
          0,
          78.68966319264361,
          78.68966319264361,
          15.811388300841896
         ],
         "yaxis": "y"
        },
        {
         "hoverinfo": "text",
         "marker": {
          "color": "rgb(255,65,54)"
         },
         "mode": "lines",
         "type": "scatter",
         "x": [
          7103.75,
          7103.75,
          7142.5,
          7142.5
         ],
         "xaxis": "x",
         "y": [
          52.42152013575076,
          95.30577282562582,
          95.30577282562582,
          78.68966319264361
         ],
         "yaxis": "y"
        },
        {
         "hoverinfo": "text",
         "marker": {
          "color": "rgb(255,65,54)"
         },
         "mode": "lines",
         "type": "scatter",
         "x": [
          7072.5,
          7072.5,
          7123.125,
          7123.125
         ],
         "xaxis": "x",
         "y": [
          36.25251296820068,
          159.69349041572934,
          159.69349041572934,
          95.30577282562582
         ],
         "yaxis": "y"
        },
        {
         "hoverinfo": "text",
         "marker": {
          "color": "rgb(255,65,54)"
         },
         "mode": "lines",
         "type": "scatter",
         "x": [
          7175,
          7175,
          7185,
          7185
         ],
         "xaxis": "x",
         "y": [
          0,
          15.811388300841896,
          15.811388300841896,
          0
         ],
         "yaxis": "y"
        },
        {
         "hoverinfo": "text",
         "marker": {
          "color": "rgb(255,65,54)"
         },
         "mode": "lines",
         "type": "scatter",
         "x": [
          7165,
          7165,
          7180,
          7180
         ],
         "xaxis": "x",
         "y": [
          0,
          42.995202494889,
          42.995202494889,
          15.811388300841896
         ],
         "yaxis": "y"
        },
        {
         "hoverinfo": "text",
         "marker": {
          "color": "rgb(255,65,54)"
         },
         "mode": "lines",
         "type": "scatter",
         "x": [
          7195,
          7195,
          7205,
          7205
         ],
         "xaxis": "x",
         "y": [
          0,
          49.81308363834054,
          49.81308363834054,
          0
         ],
         "yaxis": "y"
        },
        {
         "hoverinfo": "text",
         "marker": {
          "color": "rgb(255,65,54)"
         },
         "mode": "lines",
         "type": "scatter",
         "x": [
          7172.5,
          7172.5,
          7200,
          7200
         ],
         "xaxis": "x",
         "y": [
          42.995202494889,
          74.44034388273204,
          74.44034388273204,
          49.81308363834054
         ],
         "yaxis": "y"
        },
        {
         "hoverinfo": "text",
         "marker": {
          "color": "rgb(255,65,54)"
         },
         "mode": "lines",
         "type": "scatter",
         "x": [
          7225,
          7225,
          7235,
          7235
         ],
         "xaxis": "x",
         "y": [
          0,
          15.811388300841896,
          15.811388300841896,
          0
         ],
         "yaxis": "y"
        },
        {
         "hoverinfo": "text",
         "marker": {
          "color": "rgb(255,65,54)"
         },
         "mode": "lines",
         "type": "scatter",
         "x": [
          7215,
          7215,
          7230,
          7230
         ],
         "xaxis": "x",
         "y": [
          0,
          44.969170292637315,
          44.969170292637315,
          15.811388300841896
         ],
         "yaxis": "y"
        },
        {
         "hoverinfo": "text",
         "marker": {
          "color": "rgb(255,65,54)"
         },
         "mode": "lines",
         "type": "scatter",
         "x": [
          7265,
          7265,
          7275,
          7275
         ],
         "xaxis": "x",
         "y": [
          0,
          15.811388300841896,
          15.811388300841896,
          0
         ],
         "yaxis": "y"
        },
        {
         "hoverinfo": "text",
         "marker": {
          "color": "rgb(255,65,54)"
         },
         "mode": "lines",
         "type": "scatter",
         "x": [
          7255,
          7255,
          7270,
          7270
         ],
         "xaxis": "x",
         "y": [
          0,
          33.54101966249684,
          33.54101966249684,
          15.811388300841896
         ],
         "yaxis": "y"
        },
        {
         "hoverinfo": "text",
         "marker": {
          "color": "rgb(255,65,54)"
         },
         "mode": "lines",
         "type": "scatter",
         "x": [
          7245,
          7245,
          7262.5,
          7262.5
         ],
         "xaxis": "x",
         "y": [
          0,
          54.36294891378736,
          54.36294891378736,
          33.54101966249684
         ],
         "yaxis": "y"
        },
        {
         "hoverinfo": "text",
         "marker": {
          "color": "rgb(255,65,54)"
         },
         "mode": "lines",
         "type": "scatter",
         "x": [
          7222.5,
          7222.5,
          7253.75,
          7253.75
         ],
         "xaxis": "x",
         "y": [
          44.969170292637315,
          91.81682556448929,
          91.81682556448929,
          54.36294891378736
         ],
         "yaxis": "y"
        },
        {
         "hoverinfo": "text",
         "marker": {
          "color": "rgb(255,65,54)"
         },
         "mode": "lines",
         "type": "scatter",
         "x": [
          7186.25,
          7186.25,
          7238.125,
          7238.125
         ],
         "xaxis": "x",
         "y": [
          74.44034388273204,
          187.37796408140576,
          187.37796408140576,
          91.81682556448929
         ],
         "yaxis": "y"
        },
        {
         "hoverinfo": "text",
         "marker": {
          "color": "rgb(255,65,54)"
         },
         "mode": "lines",
         "type": "scatter",
         "x": [
          7097.8125,
          7097.8125,
          7212.1875,
          7212.1875
         ],
         "xaxis": "x",
         "y": [
          159.69349041572934,
          395.03164430207363,
          395.03164430207363,
          187.37796408140576
         ],
         "yaxis": "y"
        },
        {
         "hoverinfo": "text",
         "marker": {
          "color": "rgb(255,65,54)"
         },
         "mode": "lines",
         "type": "scatter",
         "x": [
          7295,
          7295,
          7305,
          7305
         ],
         "xaxis": "x",
         "y": [
          0,
          28.315490101609868,
          28.315490101609868,
          0
         ],
         "yaxis": "y"
        },
        {
         "hoverinfo": "text",
         "marker": {
          "color": "rgb(255,65,54)"
         },
         "mode": "lines",
         "type": "scatter",
         "x": [
          7285,
          7285,
          7300,
          7300
         ],
         "xaxis": "x",
         "y": [
          0,
          30.43963973496346,
          30.43963973496346,
          28.315490101609868
         ],
         "yaxis": "y"
        },
        {
         "hoverinfo": "text",
         "marker": {
          "color": "rgb(255,65,54)"
         },
         "mode": "lines",
         "type": "scatter",
         "x": [
          7315,
          7315,
          7325,
          7325
         ],
         "xaxis": "x",
         "y": [
          0,
          46.48092000607445,
          46.48092000607445,
          0
         ],
         "yaxis": "y"
        },
        {
         "hoverinfo": "text",
         "marker": {
          "color": "rgb(255,65,54)"
         },
         "mode": "lines",
         "type": "scatter",
         "x": [
          7292.5,
          7292.5,
          7320,
          7320
         ],
         "xaxis": "x",
         "y": [
          30.43963973496346,
          92.49808670333384,
          92.49808670333384,
          46.48092000607445
         ],
         "yaxis": "y"
        },
        {
         "hoverinfo": "text",
         "marker": {
          "color": "rgb(255,65,54)"
         },
         "mode": "lines",
         "type": "scatter",
         "x": [
          7355,
          7355,
          7365,
          7365
         ],
         "xaxis": "x",
         "y": [
          0,
          15.811388300841896,
          15.811388300841896,
          0
         ],
         "yaxis": "y"
        },
        {
         "hoverinfo": "text",
         "marker": {
          "color": "rgb(255,65,54)"
         },
         "mode": "lines",
         "type": "scatter",
         "x": [
          7345,
          7345,
          7360,
          7360
         ],
         "xaxis": "x",
         "y": [
          0,
          30.20761493398643,
          30.20761493398643,
          15.811388300841896
         ],
         "yaxis": "y"
        },
        {
         "hoverinfo": "text",
         "marker": {
          "color": "rgb(255,65,54)"
         },
         "mode": "lines",
         "type": "scatter",
         "x": [
          7385,
          7385,
          7395,
          7395
         ],
         "xaxis": "x",
         "y": [
          0,
          22.360679774997898,
          22.360679774997898,
          0
         ],
         "yaxis": "y"
        },
        {
         "hoverinfo": "text",
         "marker": {
          "color": "rgb(255,65,54)"
         },
         "mode": "lines",
         "type": "scatter",
         "x": [
          7375,
          7375,
          7390,
          7390
         ],
         "xaxis": "x",
         "y": [
          0,
          45.859840819610355,
          45.859840819610355,
          22.360679774997898
         ],
         "yaxis": "y"
        },
        {
         "hoverinfo": "text",
         "marker": {
          "color": "rgb(255,65,54)"
         },
         "mode": "lines",
         "type": "scatter",
         "x": [
          7352.5,
          7352.5,
          7382.5,
          7382.5
         ],
         "xaxis": "x",
         "y": [
          30.20761493398643,
          68.6476510887299,
          68.6476510887299,
          45.859840819610355
         ],
         "yaxis": "y"
        },
        {
         "hoverinfo": "text",
         "marker": {
          "color": "rgb(255,65,54)"
         },
         "mode": "lines",
         "type": "scatter",
         "x": [
          7335,
          7335,
          7367.5,
          7367.5
         ],
         "xaxis": "x",
         "y": [
          0,
          112.00747952342238,
          112.00747952342238,
          68.6476510887299
         ],
         "yaxis": "y"
        },
        {
         "hoverinfo": "text",
         "marker": {
          "color": "rgb(255,65,54)"
         },
         "mode": "lines",
         "type": "scatter",
         "x": [
          7306.25,
          7306.25,
          7351.25,
          7351.25
         ],
         "xaxis": "x",
         "y": [
          92.49808670333384,
          204.02713533636864,
          204.02713533636864,
          112.00747952342238
         ],
         "yaxis": "y"
        },
        {
         "hoverinfo": "text",
         "marker": {
          "color": "rgb(255,65,54)"
         },
         "mode": "lines",
         "type": "scatter",
         "x": [
          7415,
          7415,
          7425,
          7425
         ],
         "xaxis": "x",
         "y": [
          0,
          15.811388300841896,
          15.811388300841896,
          0
         ],
         "yaxis": "y"
        },
        {
         "hoverinfo": "text",
         "marker": {
          "color": "rgb(255,65,54)"
         },
         "mode": "lines",
         "type": "scatter",
         "x": [
          7445,
          7445,
          7455,
          7455
         ],
         "xaxis": "x",
         "y": [
          0,
          18.791620472966134,
          18.791620472966134,
          0
         ],
         "yaxis": "y"
        },
        {
         "hoverinfo": "text",
         "marker": {
          "color": "rgb(255,65,54)"
         },
         "mode": "lines",
         "type": "scatter",
         "x": [
          7435,
          7435,
          7450,
          7450
         ],
         "xaxis": "x",
         "y": [
          0,
          38.171078711506176,
          38.171078711506176,
          18.791620472966134
         ],
         "yaxis": "y"
        },
        {
         "hoverinfo": "text",
         "marker": {
          "color": "rgb(255,65,54)"
         },
         "mode": "lines",
         "type": "scatter",
         "x": [
          7420,
          7420,
          7442.5,
          7442.5
         ],
         "xaxis": "x",
         "y": [
          15.811388300841896,
          71.24451733291482,
          71.24451733291482,
          38.171078711506176
         ],
         "yaxis": "y"
        },
        {
         "hoverinfo": "text",
         "marker": {
          "color": "rgb(255,65,54)"
         },
         "mode": "lines",
         "type": "scatter",
         "x": [
          7405,
          7405,
          7431.25,
          7431.25
         ],
         "xaxis": "x",
         "y": [
          0,
          120,
          120,
          71.24451733291482
         ],
         "yaxis": "y"
        },
        {
         "hoverinfo": "text",
         "marker": {
          "color": "rgb(255,65,54)"
         },
         "mode": "lines",
         "type": "scatter",
         "x": [
          7485,
          7485,
          7495,
          7495
         ],
         "xaxis": "x",
         "y": [
          0,
          19.922028185685562,
          19.922028185685562,
          0
         ],
         "yaxis": "y"
        },
        {
         "hoverinfo": "text",
         "marker": {
          "color": "rgb(255,65,54)"
         },
         "mode": "lines",
         "type": "scatter",
         "x": [
          7475,
          7475,
          7490,
          7490
         ],
         "xaxis": "x",
         "y": [
          0,
          48.16766606298335,
          48.16766606298335,
          19.922028185685562
         ],
         "yaxis": "y"
        },
        {
         "hoverinfo": "text",
         "marker": {
          "color": "rgb(255,65,54)"
         },
         "mode": "lines",
         "type": "scatter",
         "x": [
          7465,
          7465,
          7482.5,
          7482.5
         ],
         "xaxis": "x",
         "y": [
          0,
          50.97098157009769,
          50.97098157009769,
          48.16766606298335
         ],
         "yaxis": "y"
        },
        {
         "hoverinfo": "text",
         "marker": {
          "color": "rgb(255,65,54)"
         },
         "mode": "lines",
         "type": "scatter",
         "x": [
          7505,
          7505,
          7515,
          7515
         ],
         "xaxis": "x",
         "y": [
          0,
          15.811388300841896,
          15.811388300841896,
          0
         ],
         "yaxis": "y"
        },
        {
         "hoverinfo": "text",
         "marker": {
          "color": "rgb(255,65,54)"
         },
         "mode": "lines",
         "type": "scatter",
         "x": [
          7525,
          7525,
          7535,
          7535
         ],
         "xaxis": "x",
         "y": [
          0,
          18.791620472966134,
          18.791620472966134,
          0
         ],
         "yaxis": "y"
        },
        {
         "hoverinfo": "text",
         "marker": {
          "color": "rgb(255,65,54)"
         },
         "mode": "lines",
         "type": "scatter",
         "x": [
          7510,
          7510,
          7530,
          7530
         ],
         "xaxis": "x",
         "y": [
          15.811388300841896,
          51.99158585771355,
          51.99158585771355,
          18.791620472966134
         ],
         "yaxis": "y"
        },
        {
         "hoverinfo": "text",
         "marker": {
          "color": "rgb(255,65,54)"
         },
         "mode": "lines",
         "type": "scatter",
         "x": [
          7555,
          7555,
          7565,
          7565
         ],
         "xaxis": "x",
         "y": [
          0,
          19.689980002529204,
          19.689980002529204,
          0
         ],
         "yaxis": "y"
        },
        {
         "hoverinfo": "text",
         "marker": {
          "color": "rgb(255,65,54)"
         },
         "mode": "lines",
         "type": "scatter",
         "x": [
          7545,
          7545,
          7560,
          7560
         ],
         "xaxis": "x",
         "y": [
          0,
          79.50164063878061,
          79.50164063878061,
          19.689980002529204
         ],
         "yaxis": "y"
        },
        {
         "hoverinfo": "text",
         "marker": {
          "color": "rgb(255,65,54)"
         },
         "mode": "lines",
         "type": "scatter",
         "x": [
          7520,
          7520,
          7552.5,
          7552.5
         ],
         "xaxis": "x",
         "y": [
          51.99158585771355,
          90.8305857764883,
          90.8305857764883,
          79.50164063878061
         ],
         "yaxis": "y"
        },
        {
         "hoverinfo": "text",
         "marker": {
          "color": "rgb(255,65,54)"
         },
         "mode": "lines",
         "type": "scatter",
         "x": [
          7473.75,
          7473.75,
          7536.25,
          7536.25
         ],
         "xaxis": "x",
         "y": [
          50.97098157009769,
          157.97284612429397,
          157.97284612429397,
          90.8305857764883
         ],
         "yaxis": "y"
        },
        {
         "hoverinfo": "text",
         "marker": {
          "color": "rgb(255,65,54)"
         },
         "mode": "lines",
         "type": "scatter",
         "x": [
          7418.125,
          7418.125,
          7505,
          7505
         ],
         "xaxis": "x",
         "y": [
          120,
          315.8457615872182,
          315.8457615872182,
          157.97284612429397
         ],
         "yaxis": "y"
        },
        {
         "hoverinfo": "text",
         "marker": {
          "color": "rgb(255,65,54)"
         },
         "mode": "lines",
         "type": "scatter",
         "x": [
          7328.75,
          7328.75,
          7461.5625,
          7461.5625
         ],
         "xaxis": "x",
         "y": [
          204.02713533636864,
          549.246084562002,
          549.246084562002,
          315.8457615872182
         ],
         "yaxis": "y"
        },
        {
         "hoverinfo": "text",
         "marker": {
          "color": "rgb(255,65,54)"
         },
         "mode": "lines",
         "type": "scatter",
         "x": [
          7155,
          7155,
          7395.15625,
          7395.15625
         ],
         "xaxis": "x",
         "y": [
          395.03164430207363,
          995.0125627347627,
          995.0125627347627,
          549.246084562002
         ],
         "yaxis": "y"
        },
        {
         "hoverinfo": "text",
         "marker": {
          "color": "rgb(255,65,54)"
         },
         "mode": "lines",
         "type": "scatter",
         "x": [
          7055,
          7055,
          7275.078125,
          7275.078125
         ],
         "xaxis": "x",
         "y": [
          0,
          1302.327697818602,
          1302.327697818602,
          995.0125627347627
         ],
         "yaxis": "y"
        },
        {
         "hoverinfo": "text",
         "marker": {
          "color": "rgb(255,65,54)"
         },
         "mode": "lines",
         "type": "scatter",
         "x": [
          7595,
          7595,
          7605,
          7605
         ],
         "xaxis": "x",
         "y": [
          0,
          15.811388300841896,
          15.811388300841896,
          0
         ],
         "yaxis": "y"
        },
        {
         "hoverinfo": "text",
         "marker": {
          "color": "rgb(255,65,54)"
         },
         "mode": "lines",
         "type": "scatter",
         "x": [
          7585,
          7585,
          7600,
          7600
         ],
         "xaxis": "x",
         "y": [
          0,
          33.54101966249684,
          33.54101966249684,
          15.811388300841896
         ],
         "yaxis": "y"
        },
        {
         "hoverinfo": "text",
         "marker": {
          "color": "rgb(255,65,54)"
         },
         "mode": "lines",
         "type": "scatter",
         "x": [
          7625,
          7625,
          7635,
          7635
         ],
         "xaxis": "x",
         "y": [
          0,
          15.811388300841896,
          15.811388300841896,
          0
         ],
         "yaxis": "y"
        },
        {
         "hoverinfo": "text",
         "marker": {
          "color": "rgb(255,65,54)"
         },
         "mode": "lines",
         "type": "scatter",
         "x": [
          7615,
          7615,
          7630,
          7630
         ],
         "xaxis": "x",
         "y": [
          0,
          41.16468450018778,
          41.16468450018778,
          15.811388300841896
         ],
         "yaxis": "y"
        },
        {
         "hoverinfo": "text",
         "marker": {
          "color": "rgb(255,65,54)"
         },
         "mode": "lines",
         "type": "scatter",
         "x": [
          7592.5,
          7592.5,
          7622.5,
          7622.5
         ],
         "xaxis": "x",
         "y": [
          33.54101966249684,
          88.14494455157369,
          88.14494455157369,
          41.16468450018778
         ],
         "yaxis": "y"
        },
        {
         "hoverinfo": "text",
         "marker": {
          "color": "rgb(255,65,54)"
         },
         "mode": "lines",
         "type": "scatter",
         "x": [
          7655,
          7655,
          7665,
          7665
         ],
         "xaxis": "x",
         "y": [
          0,
          16.677080080157918,
          16.677080080157918,
          0
         ],
         "yaxis": "y"
        },
        {
         "hoverinfo": "text",
         "marker": {
          "color": "rgb(255,65,54)"
         },
         "mode": "lines",
         "type": "scatter",
         "x": [
          7645,
          7645,
          7660,
          7660
         ],
         "xaxis": "x",
         "y": [
          0,
          26.516504294495533,
          26.516504294495533,
          16.677080080157918
         ],
         "yaxis": "y"
        },
        {
         "hoverinfo": "text",
         "marker": {
          "color": "rgb(255,65,54)"
         },
         "mode": "lines",
         "type": "scatter",
         "x": [
          7685,
          7685,
          7695,
          7695
         ],
         "xaxis": "x",
         "y": [
          0,
          15.811388300841896,
          15.811388300841896,
          0
         ],
         "yaxis": "y"
        },
        {
         "hoverinfo": "text",
         "marker": {
          "color": "rgb(255,65,54)"
         },
         "mode": "lines",
         "type": "scatter",
         "x": [
          7675,
          7675,
          7690,
          7690
         ],
         "xaxis": "x",
         "y": [
          0,
          55.226805085936306,
          55.226805085936306,
          15.811388300841896
         ],
         "yaxis": "y"
        },
        {
         "hoverinfo": "text",
         "marker": {
          "color": "rgb(255,65,54)"
         },
         "mode": "lines",
         "type": "scatter",
         "x": [
          7652.5,
          7652.5,
          7682.5,
          7682.5
         ],
         "xaxis": "x",
         "y": [
          26.516504294495533,
          105.01487989804112,
          105.01487989804112,
          55.226805085936306
         ],
         "yaxis": "y"
        },
        {
         "hoverinfo": "text",
         "marker": {
          "color": "rgb(255,65,54)"
         },
         "mode": "lines",
         "type": "scatter",
         "x": [
          7607.5,
          7607.5,
          7667.5,
          7667.5
         ],
         "xaxis": "x",
         "y": [
          88.14494455157369,
          235.05318547086316,
          235.05318547086316,
          105.01487989804112
         ],
         "yaxis": "y"
        },
        {
         "hoverinfo": "text",
         "marker": {
          "color": "rgb(255,65,54)"
         },
         "mode": "lines",
         "type": "scatter",
         "x": [
          7725,
          7725,
          7735,
          7735
         ],
         "xaxis": "x",
         "y": [
          0,
          15.811388300841896,
          15.811388300841896,
          0
         ],
         "yaxis": "y"
        },
        {
         "hoverinfo": "text",
         "marker": {
          "color": "rgb(255,65,54)"
         },
         "mode": "lines",
         "type": "scatter",
         "x": [
          7715,
          7715,
          7730,
          7730
         ],
         "xaxis": "x",
         "y": [
          0,
          36.06634511563377,
          36.06634511563377,
          15.811388300841896
         ],
         "yaxis": "y"
        },
        {
         "hoverinfo": "text",
         "marker": {
          "color": "rgb(255,65,54)"
         },
         "mode": "lines",
         "type": "scatter",
         "x": [
          7705,
          7705,
          7722.5,
          7722.5
         ],
         "xaxis": "x",
         "y": [
          0,
          92.94235444618347,
          92.94235444618347,
          36.06634511563377
         ],
         "yaxis": "y"
        },
        {
         "hoverinfo": "text",
         "marker": {
          "color": "rgb(255,65,54)"
         },
         "mode": "lines",
         "type": "scatter",
         "x": [
          7755,
          7755,
          7765,
          7765
         ],
         "xaxis": "x",
         "y": [
          0,
          15.811388300841896,
          15.811388300841896,
          0
         ],
         "yaxis": "y"
        },
        {
         "hoverinfo": "text",
         "marker": {
          "color": "rgb(255,65,54)"
         },
         "mode": "lines",
         "type": "scatter",
         "x": [
          7775,
          7775,
          7785,
          7785
         ],
         "xaxis": "x",
         "y": [
          0,
          18.791620472966134,
          18.791620472966134,
          0
         ],
         "yaxis": "y"
        },
        {
         "hoverinfo": "text",
         "marker": {
          "color": "rgb(255,65,54)"
         },
         "mode": "lines",
         "type": "scatter",
         "x": [
          7760,
          7760,
          7780,
          7780
         ],
         "xaxis": "x",
         "y": [
          15.811388300841896,
          51.99158585771355,
          51.99158585771355,
          18.791620472966134
         ],
         "yaxis": "y"
        },
        {
         "hoverinfo": "text",
         "marker": {
          "color": "rgb(255,65,54)"
         },
         "mode": "lines",
         "type": "scatter",
         "x": [
          7745,
          7745,
          7770,
          7770
         ],
         "xaxis": "x",
         "y": [
          0,
          112.19576919385152,
          112.19576919385152,
          51.99158585771355
         ],
         "yaxis": "y"
        },
        {
         "hoverinfo": "text",
         "marker": {
          "color": "rgb(255,65,54)"
         },
         "mode": "lines",
         "type": "scatter",
         "x": [
          7713.75,
          7713.75,
          7757.5,
          7757.5
         ],
         "xaxis": "x",
         "y": [
          92.94235444618347,
          162.9477005821193,
          162.9477005821193,
          112.19576919385152
         ],
         "yaxis": "y"
        },
        {
         "hoverinfo": "text",
         "marker": {
          "color": "rgb(255,65,54)"
         },
         "mode": "lines",
         "type": "scatter",
         "x": [
          7815,
          7815,
          7825,
          7825
         ],
         "xaxis": "x",
         "y": [
          0,
          22.360679774997898,
          22.360679774997898,
          0
         ],
         "yaxis": "y"
        },
        {
         "hoverinfo": "text",
         "marker": {
          "color": "rgb(255,65,54)"
         },
         "mode": "lines",
         "type": "scatter",
         "x": [
          7805,
          7805,
          7820,
          7820
         ],
         "xaxis": "x",
         "y": [
          0,
          40,
          40,
          22.360679774997898
         ],
         "yaxis": "y"
        },
        {
         "hoverinfo": "text",
         "marker": {
          "color": "rgb(255,65,54)"
         },
         "mode": "lines",
         "type": "scatter",
         "x": [
          7835,
          7835,
          7845,
          7845
         ],
         "xaxis": "x",
         "y": [
          0,
          22.360679774997898,
          22.360679774997898,
          0
         ],
         "yaxis": "y"
        },
        {
         "hoverinfo": "text",
         "marker": {
          "color": "rgb(255,65,54)"
         },
         "mode": "lines",
         "type": "scatter",
         "x": [
          7865,
          7865,
          7875,
          7875
         ],
         "xaxis": "x",
         "y": [
          0,
          15.811388300841896,
          15.811388300841896,
          0
         ],
         "yaxis": "y"
        },
        {
         "hoverinfo": "text",
         "marker": {
          "color": "rgb(255,65,54)"
         },
         "mode": "lines",
         "type": "scatter",
         "x": [
          7855,
          7855,
          7870,
          7870
         ],
         "xaxis": "x",
         "y": [
          0,
          30.20761493398643,
          30.20761493398643,
          15.811388300841896
         ],
         "yaxis": "y"
        },
        {
         "hoverinfo": "text",
         "marker": {
          "color": "rgb(255,65,54)"
         },
         "mode": "lines",
         "type": "scatter",
         "x": [
          7840,
          7840,
          7862.5,
          7862.5
         ],
         "xaxis": "x",
         "y": [
          22.360679774997898,
          68.6476510887299,
          68.6476510887299,
          30.20761493398643
         ],
         "yaxis": "y"
        },
        {
         "hoverinfo": "text",
         "marker": {
          "color": "rgb(255,65,54)"
         },
         "mode": "lines",
         "type": "scatter",
         "x": [
          7812.5,
          7812.5,
          7851.25,
          7851.25
         ],
         "xaxis": "x",
         "y": [
          40,
          148.02871343087463,
          148.02871343087463,
          68.6476510887299
         ],
         "yaxis": "y"
        },
        {
         "hoverinfo": "text",
         "marker": {
          "color": "rgb(255,65,54)"
         },
         "mode": "lines",
         "type": "scatter",
         "x": [
          7795,
          7795,
          7831.875,
          7831.875
         ],
         "xaxis": "x",
         "y": [
          0,
          176.90094774336288,
          176.90094774336288,
          148.02871343087463
         ],
         "yaxis": "y"
        },
        {
         "hoverinfo": "text",
         "marker": {
          "color": "rgb(255,65,54)"
         },
         "mode": "lines",
         "type": "scatter",
         "x": [
          7735.625,
          7735.625,
          7813.4375,
          7813.4375
         ],
         "xaxis": "x",
         "y": [
          162.9477005821193,
          338.7920868689232,
          338.7920868689232,
          176.90094774336288
         ],
         "yaxis": "y"
        },
        {
         "hoverinfo": "text",
         "marker": {
          "color": "rgb(255,65,54)"
         },
         "mode": "lines",
         "type": "scatter",
         "x": [
          7637.5,
          7637.5,
          7774.53125,
          7774.53125
         ],
         "xaxis": "x",
         "y": [
          235.05318547086316,
          587.6329636771579,
          587.6329636771579,
          338.7920868689232
         ],
         "yaxis": "y"
        },
        {
         "hoverinfo": "text",
         "marker": {
          "color": "rgb(255,65,54)"
         },
         "mode": "lines",
         "type": "scatter",
         "x": [
          7575,
          7575,
          7706.015625,
          7706.015625
         ],
         "xaxis": "x",
         "y": [
          0,
          1477.0540356355564,
          1477.0540356355564,
          587.6329636771579
         ],
         "yaxis": "y"
        },
        {
         "hoverinfo": "text",
         "marker": {
          "color": "rgb(255,65,54)"
         },
         "mode": "lines",
         "type": "scatter",
         "x": [
          7165.0390625,
          7165.0390625,
          7640.5078125,
          7640.5078125
         ],
         "xaxis": "x",
         "y": [
          1302.327697818602,
          2045.3084559379924,
          2045.3084559379924,
          1477.0540356355564
         ],
         "yaxis": "y"
        },
        {
         "hoverinfo": "text",
         "marker": {
          "color": "rgb(255,65,54)"
         },
         "mode": "lines",
         "type": "scatter",
         "x": [
          7925,
          7925,
          7935,
          7935
         ],
         "xaxis": "x",
         "y": [
          0,
          15.811388300841896,
          15.811388300841896,
          0
         ],
         "yaxis": "y"
        },
        {
         "hoverinfo": "text",
         "marker": {
          "color": "rgb(255,65,54)"
         },
         "mode": "lines",
         "type": "scatter",
         "x": [
          7915,
          7915,
          7930,
          7930
         ],
         "xaxis": "x",
         "y": [
          0,
          33.354160160315836,
          33.354160160315836,
          15.811388300841896
         ],
         "yaxis": "y"
        },
        {
         "hoverinfo": "text",
         "marker": {
          "color": "rgb(255,65,54)"
         },
         "mode": "lines",
         "type": "scatter",
         "x": [
          7905,
          7905,
          7922.5,
          7922.5
         ],
         "xaxis": "x",
         "y": [
          0,
          49.30770730829005,
          49.30770730829005,
          33.354160160315836
         ],
         "yaxis": "y"
        },
        {
         "hoverinfo": "text",
         "marker": {
          "color": "rgb(255,65,54)"
         },
         "mode": "lines",
         "type": "scatter",
         "x": [
          7895,
          7895,
          7913.75,
          7913.75
         ],
         "xaxis": "x",
         "y": [
          0,
          70.71067811865476,
          70.71067811865476,
          49.30770730829005
         ],
         "yaxis": "y"
        },
        {
         "hoverinfo": "text",
         "marker": {
          "color": "rgb(255,65,54)"
         },
         "mode": "lines",
         "type": "scatter",
         "x": [
          7945,
          7945,
          7955,
          7955
         ],
         "xaxis": "x",
         "y": [
          0,
          22.360679774997898,
          22.360679774997898,
          0
         ],
         "yaxis": "y"
        },
        {
         "hoverinfo": "text",
         "marker": {
          "color": "rgb(255,65,54)"
         },
         "mode": "lines",
         "type": "scatter",
         "x": [
          7975,
          7975,
          7985,
          7985
         ],
         "xaxis": "x",
         "y": [
          0,
          22.360679774997898,
          22.360679774997898,
          0
         ],
         "yaxis": "y"
        },
        {
         "hoverinfo": "text",
         "marker": {
          "color": "rgb(255,65,54)"
         },
         "mode": "lines",
         "type": "scatter",
         "x": [
          7965,
          7965,
          7980,
          7980
         ],
         "xaxis": "x",
         "y": [
          0,
          40,
          40,
          22.360679774997898
         ],
         "yaxis": "y"
        },
        {
         "hoverinfo": "text",
         "marker": {
          "color": "rgb(255,65,54)"
         },
         "mode": "lines",
         "type": "scatter",
         "x": [
          7950,
          7950,
          7972.5,
          7972.5
         ],
         "xaxis": "x",
         "y": [
          22.360679774997898,
          80,
          80,
          40
         ],
         "yaxis": "y"
        },
        {
         "hoverinfo": "text",
         "marker": {
          "color": "rgb(255,65,54)"
         },
         "mode": "lines",
         "type": "scatter",
         "x": [
          7904.375,
          7904.375,
          7961.25,
          7961.25
         ],
         "xaxis": "x",
         "y": [
          70.71067811865476,
          173.07873930670976,
          173.07873930670976,
          80
         ],
         "yaxis": "y"
        },
        {
         "hoverinfo": "text",
         "marker": {
          "color": "rgb(255,65,54)"
         },
         "mode": "lines",
         "type": "scatter",
         "x": [
          8005,
          8005,
          8015,
          8015
         ],
         "xaxis": "x",
         "y": [
          0,
          27.1247929859612,
          27.1247929859612,
          0
         ],
         "yaxis": "y"
        },
        {
         "hoverinfo": "text",
         "marker": {
          "color": "rgb(255,65,54)"
         },
         "mode": "lines",
         "type": "scatter",
         "x": [
          8035,
          8035,
          8045,
          8045
         ],
         "xaxis": "x",
         "y": [
          0,
          24.670682563013937,
          24.670682563013937,
          0
         ],
         "yaxis": "y"
        },
        {
         "hoverinfo": "text",
         "marker": {
          "color": "rgb(255,65,54)"
         },
         "mode": "lines",
         "type": "scatter",
         "x": [
          8025,
          8025,
          8040,
          8040
         ],
         "xaxis": "x",
         "y": [
          0,
          34.449493147577655,
          34.449493147577655,
          24.670682563013937
         ],
         "yaxis": "y"
        },
        {
         "hoverinfo": "text",
         "marker": {
          "color": "rgb(255,65,54)"
         },
         "mode": "lines",
         "type": "scatter",
         "x": [
          8010,
          8010,
          8032.5,
          8032.5
         ],
         "xaxis": "x",
         "y": [
          27.1247929859612,
          71.44649782026583,
          71.44649782026583,
          34.449493147577655
         ],
         "yaxis": "y"
        },
        {
         "hoverinfo": "text",
         "marker": {
          "color": "rgb(255,65,54)"
         },
         "mode": "lines",
         "type": "scatter",
         "x": [
          8055,
          8055,
          8065,
          8065
         ],
         "xaxis": "x",
         "y": [
          0,
          26.235114827269197,
          26.235114827269197,
          0
         ],
         "yaxis": "y"
        },
        {
         "hoverinfo": "text",
         "marker": {
          "color": "rgb(255,65,54)"
         },
         "mode": "lines",
         "type": "scatter",
         "x": [
          8095,
          8095,
          8105,
          8105
         ],
         "xaxis": "x",
         "y": [
          0,
          15.811388300841896,
          15.811388300841896,
          0
         ],
         "yaxis": "y"
        },
        {
         "hoverinfo": "text",
         "marker": {
          "color": "rgb(255,65,54)"
         },
         "mode": "lines",
         "type": "scatter",
         "x": [
          8085,
          8085,
          8100,
          8100
         ],
         "xaxis": "x",
         "y": [
          0,
          30.20761493398643,
          30.20761493398643,
          15.811388300841896
         ],
         "yaxis": "y"
        },
        {
         "hoverinfo": "text",
         "marker": {
          "color": "rgb(255,65,54)"
         },
         "mode": "lines",
         "type": "scatter",
         "x": [
          8075,
          8075,
          8092.5,
          8092.5
         ],
         "xaxis": "x",
         "y": [
          0,
          55.226805085936306,
          55.226805085936306,
          30.20761493398643
         ],
         "yaxis": "y"
        },
        {
         "hoverinfo": "text",
         "marker": {
          "color": "rgb(255,65,54)"
         },
         "mode": "lines",
         "type": "scatter",
         "x": [
          8060,
          8060,
          8083.75,
          8083.75
         ],
         "xaxis": "x",
         "y": [
          26.235114827269197,
          85.80956386091238,
          85.80956386091238,
          55.226805085936306
         ],
         "yaxis": "y"
        },
        {
         "hoverinfo": "text",
         "marker": {
          "color": "rgb(255,65,54)"
         },
         "mode": "lines",
         "type": "scatter",
         "x": [
          8021.25,
          8021.25,
          8071.875,
          8071.875
         ],
         "xaxis": "x",
         "y": [
          71.44649782026583,
          185.0206188362023,
          185.0206188362023,
          85.80956386091238
         ],
         "yaxis": "y"
        },
        {
         "hoverinfo": "text",
         "marker": {
          "color": "rgb(255,65,54)"
         },
         "mode": "lines",
         "type": "scatter",
         "x": [
          7995,
          7995,
          8046.5625,
          8046.5625
         ],
         "xaxis": "x",
         "y": [
          0,
          358.48907345782595,
          358.48907345782595,
          185.0206188362023
         ],
         "yaxis": "y"
        },
        {
         "hoverinfo": "text",
         "marker": {
          "color": "rgb(255,65,54)"
         },
         "mode": "lines",
         "type": "scatter",
         "x": [
          7932.8125,
          7932.8125,
          8020.78125,
          8020.78125
         ],
         "xaxis": "x",
         "y": [
          173.07873930670976,
          393.0860131949892,
          393.0860131949892,
          358.48907345782595
         ],
         "yaxis": "y"
        },
        {
         "hoverinfo": "text",
         "marker": {
          "color": "rgb(255,65,54)"
         },
         "mode": "lines",
         "type": "scatter",
         "x": [
          8115,
          8115,
          8125,
          8125
         ],
         "xaxis": "x",
         "y": [
          0,
          22.360679774997898,
          22.360679774997898,
          0
         ],
         "yaxis": "y"
        },
        {
         "hoverinfo": "text",
         "marker": {
          "color": "rgb(255,65,54)"
         },
         "mode": "lines",
         "type": "scatter",
         "x": [
          8135,
          8135,
          8145,
          8145
         ],
         "xaxis": "x",
         "y": [
          0,
          25.739075352467502,
          25.739075352467502,
          0
         ],
         "yaxis": "y"
        },
        {
         "hoverinfo": "text",
         "marker": {
          "color": "rgb(255,65,54)"
         },
         "mode": "lines",
         "type": "scatter",
         "x": [
          8120,
          8120,
          8140,
          8140
         ],
         "xaxis": "x",
         "y": [
          22.360679774997898,
          57.118298293979315,
          57.118298293979315,
          25.739075352467502
         ],
         "yaxis": "y"
        },
        {
         "hoverinfo": "text",
         "marker": {
          "color": "rgb(255,65,54)"
         },
         "mode": "lines",
         "type": "scatter",
         "x": [
          8165,
          8165,
          8175,
          8175
         ],
         "xaxis": "x",
         "y": [
          0,
          15.811388300841896,
          15.811388300841896,
          0
         ],
         "yaxis": "y"
        },
        {
         "hoverinfo": "text",
         "marker": {
          "color": "rgb(255,65,54)"
         },
         "mode": "lines",
         "type": "scatter",
         "x": [
          8195,
          8195,
          8205,
          8205
         ],
         "xaxis": "x",
         "y": [
          0,
          24.558603380485625,
          24.558603380485625,
          0
         ],
         "yaxis": "y"
        },
        {
         "hoverinfo": "text",
         "marker": {
          "color": "rgb(255,65,54)"
         },
         "mode": "lines",
         "type": "scatter",
         "x": [
          8185,
          8185,
          8200,
          8200
         ],
         "xaxis": "x",
         "y": [
          0,
          48.088460154178364,
          48.088460154178364,
          24.558603380485625
         ],
         "yaxis": "y"
        },
        {
         "hoverinfo": "text",
         "marker": {
          "color": "rgb(255,65,54)"
         },
         "mode": "lines",
         "type": "scatter",
         "x": [
          8170,
          8170,
          8192.5,
          8192.5
         ],
         "xaxis": "x",
         "y": [
          15.811388300841896,
          80,
          80,
          48.088460154178364
         ],
         "yaxis": "y"
        },
        {
         "hoverinfo": "text",
         "marker": {
          "color": "rgb(255,65,54)"
         },
         "mode": "lines",
         "type": "scatter",
         "x": [
          8155,
          8155,
          8181.25,
          8181.25
         ],
         "xaxis": "x",
         "y": [
          0,
          118.28217882726459,
          118.28217882726459,
          80
         ],
         "yaxis": "y"
        },
        {
         "hoverinfo": "text",
         "marker": {
          "color": "rgb(255,65,54)"
         },
         "mode": "lines",
         "type": "scatter",
         "x": [
          8130,
          8130,
          8168.125,
          8168.125
         ],
         "xaxis": "x",
         "y": [
          57.118298293979315,
          173.96120257114802,
          173.96120257114802,
          118.28217882726459
         ],
         "yaxis": "y"
        },
        {
         "hoverinfo": "text",
         "marker": {
          "color": "rgb(255,65,54)"
         },
         "mode": "lines",
         "type": "scatter",
         "x": [
          8215,
          8215,
          8225,
          8225
         ],
         "xaxis": "x",
         "y": [
          0,
          15.811388300841896,
          15.811388300841896,
          0
         ],
         "yaxis": "y"
        },
        {
         "hoverinfo": "text",
         "marker": {
          "color": "rgb(255,65,54)"
         },
         "mode": "lines",
         "type": "scatter",
         "x": [
          8245,
          8245,
          8255,
          8255
         ],
         "xaxis": "x",
         "y": [
          0,
          15.811388300841896,
          15.811388300841896,
          0
         ],
         "yaxis": "y"
        },
        {
         "hoverinfo": "text",
         "marker": {
          "color": "rgb(255,65,54)"
         },
         "mode": "lines",
         "type": "scatter",
         "x": [
          8235,
          8235,
          8250,
          8250
         ],
         "xaxis": "x",
         "y": [
          0,
          35.22250700901343,
          35.22250700901343,
          15.811388300841896
         ],
         "yaxis": "y"
        },
        {
         "hoverinfo": "text",
         "marker": {
          "color": "rgb(255,65,54)"
         },
         "mode": "lines",
         "type": "scatter",
         "x": [
          8220,
          8220,
          8242.5,
          8242.5
         ],
         "xaxis": "x",
         "y": [
          15.811388300841896,
          92.68562455958313,
          92.68562455958313,
          35.22250700901343
         ],
         "yaxis": "y"
        },
        {
         "hoverinfo": "text",
         "marker": {
          "color": "rgb(255,65,54)"
         },
         "mode": "lines",
         "type": "scatter",
         "x": [
          8275,
          8275,
          8285,
          8285
         ],
         "xaxis": "x",
         "y": [
          0,
          15.811388300841896,
          15.811388300841896,
          0
         ],
         "yaxis": "y"
        },
        {
         "hoverinfo": "text",
         "marker": {
          "color": "rgb(255,65,54)"
         },
         "mode": "lines",
         "type": "scatter",
         "x": [
          8265,
          8265,
          8280,
          8280
         ],
         "xaxis": "x",
         "y": [
          0,
          31.937565454464483,
          31.937565454464483,
          15.811388300841896
         ],
         "yaxis": "y"
        },
        {
         "hoverinfo": "text",
         "marker": {
          "color": "rgb(255,65,54)"
         },
         "mode": "lines",
         "type": "scatter",
         "x": [
          8295,
          8295,
          8305,
          8305
         ],
         "xaxis": "x",
         "y": [
          0,
          37.09090823413216,
          37.09090823413216,
          0
         ],
         "yaxis": "y"
        },
        {
         "hoverinfo": "text",
         "marker": {
          "color": "rgb(255,65,54)"
         },
         "mode": "lines",
         "type": "scatter",
         "x": [
          8272.5,
          8272.5,
          8300,
          8300
         ],
         "xaxis": "x",
         "y": [
          31.937565454464483,
          58.14589914308836,
          58.14589914308836,
          37.09090823413216
         ],
         "yaxis": "y"
        },
        {
         "hoverinfo": "text",
         "marker": {
          "color": "rgb(255,65,54)"
         },
         "mode": "lines",
         "type": "scatter",
         "x": [
          8335,
          8335,
          8345,
          8345
         ],
         "xaxis": "x",
         "y": [
          0,
          15.811388300841896,
          15.811388300841896,
          0
         ],
         "yaxis": "y"
        },
        {
         "hoverinfo": "text",
         "marker": {
          "color": "rgb(255,65,54)"
         },
         "mode": "lines",
         "type": "scatter",
         "x": [
          8325,
          8325,
          8340,
          8340
         ],
         "xaxis": "x",
         "y": [
          0,
          33.354160160315836,
          33.354160160315836,
          15.811388300841896
         ],
         "yaxis": "y"
        },
        {
         "hoverinfo": "text",
         "marker": {
          "color": "rgb(255,65,54)"
         },
         "mode": "lines",
         "type": "scatter",
         "x": [
          8315,
          8315,
          8332.5,
          8332.5
         ],
         "xaxis": "x",
         "y": [
          0,
          61.226255524403506,
          61.226255524403506,
          33.354160160315836
         ],
         "yaxis": "y"
        },
        {
         "hoverinfo": "text",
         "marker": {
          "color": "rgb(255,65,54)"
         },
         "mode": "lines",
         "type": "scatter",
         "x": [
          8286.25,
          8286.25,
          8323.75,
          8323.75
         ],
         "xaxis": "x",
         "y": [
          58.14589914308836,
          152.6843148460247,
          152.6843148460247,
          61.226255524403506
         ],
         "yaxis": "y"
        },
        {
         "hoverinfo": "text",
         "marker": {
          "color": "rgb(255,65,54)"
         },
         "mode": "lines",
         "type": "scatter",
         "x": [
          8231.25,
          8231.25,
          8305,
          8305
         ],
         "xaxis": "x",
         "y": [
          92.68562455958313,
          275.04545078950133,
          275.04545078950133,
          152.6843148460247
         ],
         "yaxis": "y"
        },
        {
         "hoverinfo": "text",
         "marker": {
          "color": "rgb(255,65,54)"
         },
         "mode": "lines",
         "type": "scatter",
         "x": [
          8149.0625,
          8149.0625,
          8268.125,
          8268.125
         ],
         "xaxis": "x",
         "y": [
          173.96120257114802,
          480,
          480,
          275.04545078950133
         ],
         "yaxis": "y"
        },
        {
         "hoverinfo": "text",
         "marker": {
          "color": "rgb(255,65,54)"
         },
         "mode": "lines",
         "type": "scatter",
         "x": [
          7976.796875,
          7976.796875,
          8208.59375,
          8208.59375
         ],
         "xaxis": "x",
         "y": [
          393.0860131949892,
          910.5801721979235,
          910.5801721979235,
          480
         ],
         "yaxis": "y"
        },
        {
         "hoverinfo": "text",
         "marker": {
          "color": "rgb(255,65,54)"
         },
         "mode": "lines",
         "type": "scatter",
         "x": [
          8355,
          8355,
          8365,
          8365
         ],
         "xaxis": "x",
         "y": [
          0,
          515.8374994946938,
          515.8374994946938,
          0
         ],
         "yaxis": "y"
        },
        {
         "hoverinfo": "text",
         "marker": {
          "color": "rgb(255,65,54)"
         },
         "mode": "lines",
         "type": "scatter",
         "x": [
          8385,
          8385,
          8395,
          8395
         ],
         "xaxis": "x",
         "y": [
          0,
          15.811388300841896,
          15.811388300841896,
          0
         ],
         "yaxis": "y"
        },
        {
         "hoverinfo": "text",
         "marker": {
          "color": "rgb(255,65,54)"
         },
         "mode": "lines",
         "type": "scatter",
         "x": [
          8375,
          8375,
          8390,
          8390
         ],
         "xaxis": "x",
         "y": [
          0,
          36.06634511563377,
          36.06634511563377,
          15.811388300841896
         ],
         "yaxis": "y"
        },
        {
         "hoverinfo": "text",
         "marker": {
          "color": "rgb(255,65,54)"
         },
         "mode": "lines",
         "type": "scatter",
         "x": [
          8415,
          8415,
          8425,
          8425
         ],
         "xaxis": "x",
         "y": [
          0,
          15.811388300841896,
          15.811388300841896,
          0
         ],
         "yaxis": "y"
        },
        {
         "hoverinfo": "text",
         "marker": {
          "color": "rgb(255,65,54)"
         },
         "mode": "lines",
         "type": "scatter",
         "x": [
          8435,
          8435,
          8445,
          8445
         ],
         "xaxis": "x",
         "y": [
          0,
          18.791620472966134,
          18.791620472966134,
          0
         ],
         "yaxis": "y"
        },
        {
         "hoverinfo": "text",
         "marker": {
          "color": "rgb(255,65,54)"
         },
         "mode": "lines",
         "type": "scatter",
         "x": [
          8420,
          8420,
          8440,
          8440
         ],
         "xaxis": "x",
         "y": [
          15.811388300841896,
          51.99158585771355,
          51.99158585771355,
          18.791620472966134
         ],
         "yaxis": "y"
        },
        {
         "hoverinfo": "text",
         "marker": {
          "color": "rgb(255,65,54)"
         },
         "mode": "lines",
         "type": "scatter",
         "x": [
          8405,
          8405,
          8430,
          8430
         ],
         "xaxis": "x",
         "y": [
          0,
          68.68889329797067,
          68.68889329797067,
          51.99158585771355
         ],
         "yaxis": "y"
        },
        {
         "hoverinfo": "text",
         "marker": {
          "color": "rgb(255,65,54)"
         },
         "mode": "lines",
         "type": "scatter",
         "x": [
          8382.5,
          8382.5,
          8417.5,
          8417.5
         ],
         "xaxis": "x",
         "y": [
          36.06634511563377,
          120.43946223103124,
          120.43946223103124,
          68.68889329797067
         ],
         "yaxis": "y"
        },
        {
         "hoverinfo": "text",
         "marker": {
          "color": "rgb(255,65,54)"
         },
         "mode": "lines",
         "type": "scatter",
         "x": [
          8455,
          8455,
          8465,
          8465
         ],
         "xaxis": "x",
         "y": [
          0,
          15.811388300841896,
          15.811388300841896,
          0
         ],
         "yaxis": "y"
        },
        {
         "hoverinfo": "text",
         "marker": {
          "color": "rgb(255,65,54)"
         },
         "mode": "lines",
         "type": "scatter",
         "x": [
          8475,
          8475,
          8485,
          8485
         ],
         "xaxis": "x",
         "y": [
          0,
          17.161912772182475,
          17.161912772182475,
          0
         ],
         "yaxis": "y"
        },
        {
         "hoverinfo": "text",
         "marker": {
          "color": "rgb(255,65,54)"
         },
         "mode": "lines",
         "type": "scatter",
         "x": [
          8495,
          8495,
          8505,
          8505
         ],
         "xaxis": "x",
         "y": [
          0,
          24.558603380485625,
          24.558603380485625,
          0
         ],
         "yaxis": "y"
        },
        {
         "hoverinfo": "text",
         "marker": {
          "color": "rgb(255,65,54)"
         },
         "mode": "lines",
         "type": "scatter",
         "x": [
          8480,
          8480,
          8500,
          8500
         ],
         "xaxis": "x",
         "y": [
          17.161912772182475,
          51.485738316547426,
          51.485738316547426,
          24.558603380485625
         ],
         "yaxis": "y"
        },
        {
         "hoverinfo": "text",
         "marker": {
          "color": "rgb(255,65,54)"
         },
         "mode": "lines",
         "type": "scatter",
         "x": [
          8460,
          8460,
          8490,
          8490
         ],
         "xaxis": "x",
         "y": [
          15.811388300841896,
          84.82058270254927,
          84.82058270254927,
          51.485738316547426
         ],
         "yaxis": "y"
        },
        {
         "hoverinfo": "text",
         "marker": {
          "color": "rgb(255,65,54)"
         },
         "mode": "lines",
         "type": "scatter",
         "x": [
          8515,
          8515,
          8525,
          8525
         ],
         "xaxis": "x",
         "y": [
          0,
          176.8042540854018,
          176.8042540854018,
          0
         ],
         "yaxis": "y"
        },
        {
         "hoverinfo": "text",
         "marker": {
          "color": "rgb(255,65,54)"
         },
         "mode": "lines",
         "type": "scatter",
         "x": [
          8475,
          8475,
          8520,
          8520
         ],
         "xaxis": "x",
         "y": [
          84.82058270254927,
          234.83509527465492,
          234.83509527465492,
          176.8042540854018
         ],
         "yaxis": "y"
        },
        {
         "hoverinfo": "text",
         "marker": {
          "color": "rgb(255,65,54)"
         },
         "mode": "lines",
         "type": "scatter",
         "x": [
          8400,
          8400,
          8497.5,
          8497.5
         ],
         "xaxis": "x",
         "y": [
          120.43946223103124,
          310.1055187178355,
          310.1055187178355,
          234.83509527465492
         ],
         "yaxis": "y"
        },
        {
         "hoverinfo": "text",
         "marker": {
          "color": "rgb(255,65,54)"
         },
         "mode": "lines",
         "type": "scatter",
         "x": [
          8535,
          8535,
          8545,
          8545
         ],
         "xaxis": "x",
         "y": [
          0,
          33.891485840842094,
          33.891485840842094,
          0
         ],
         "yaxis": "y"
        },
        {
         "hoverinfo": "text",
         "marker": {
          "color": "rgb(255,65,54)"
         },
         "mode": "lines",
         "type": "scatter",
         "x": [
          8555,
          8555,
          8565,
          8565
         ],
         "xaxis": "x",
         "y": [
          0,
          15.811388300841896,
          15.811388300841896,
          0
         ],
         "yaxis": "y"
        },
        {
         "hoverinfo": "text",
         "marker": {
          "color": "rgb(255,65,54)"
         },
         "mode": "lines",
         "type": "scatter",
         "x": [
          8575,
          8575,
          8585,
          8585
         ],
         "xaxis": "x",
         "y": [
          0,
          24.558603380485625,
          24.558603380485625,
          0
         ],
         "yaxis": "y"
        },
        {
         "hoverinfo": "text",
         "marker": {
          "color": "rgb(255,65,54)"
         },
         "mode": "lines",
         "type": "scatter",
         "x": [
          8560,
          8560,
          8580,
          8580
         ],
         "xaxis": "x",
         "y": [
          15.811388300841896,
          57.906174109502345,
          57.906174109502345,
          24.558603380485625
         ],
         "yaxis": "y"
        },
        {
         "hoverinfo": "text",
         "marker": {
          "color": "rgb(255,65,54)"
         },
         "mode": "lines",
         "type": "scatter",
         "x": [
          8540,
          8540,
          8570,
          8570
         ],
         "xaxis": "x",
         "y": [
          33.891485840842094,
          124.77557979228148,
          124.77557979228148,
          57.906174109502345
         ],
         "yaxis": "y"
        },
        {
         "hoverinfo": "text",
         "marker": {
          "color": "rgb(255,65,54)"
         },
         "mode": "lines",
         "type": "scatter",
         "x": [
          8595,
          8595,
          8605,
          8605
         ],
         "xaxis": "x",
         "y": [
          0,
          36.66785035968157,
          36.66785035968157,
          0
         ],
         "yaxis": "y"
        },
        {
         "hoverinfo": "text",
         "marker": {
          "color": "rgb(255,65,54)"
         },
         "mode": "lines",
         "type": "scatter",
         "x": [
          8625,
          8625,
          8635,
          8635
         ],
         "xaxis": "x",
         "y": [
          0,
          22.360679774997898,
          22.360679774997898,
          0
         ],
         "yaxis": "y"
        },
        {
         "hoverinfo": "text",
         "marker": {
          "color": "rgb(255,65,54)"
         },
         "mode": "lines",
         "type": "scatter",
         "x": [
          8615,
          8615,
          8630,
          8630
         ],
         "xaxis": "x",
         "y": [
          0,
          40,
          40,
          22.360679774997898
         ],
         "yaxis": "y"
        },
        {
         "hoverinfo": "text",
         "marker": {
          "color": "rgb(255,65,54)"
         },
         "mode": "lines",
         "type": "scatter",
         "x": [
          8600,
          8600,
          8622.5,
          8622.5
         ],
         "xaxis": "x",
         "y": [
          36.66785035968157,
          80,
          80,
          40
         ],
         "yaxis": "y"
        },
        {
         "hoverinfo": "text",
         "marker": {
          "color": "rgb(255,65,54)"
         },
         "mode": "lines",
         "type": "scatter",
         "x": [
          8645,
          8645,
          8655,
          8655
         ],
         "xaxis": "x",
         "y": [
          0,
          23.335193378243087,
          23.335193378243087,
          0
         ],
         "yaxis": "y"
        },
        {
         "hoverinfo": "text",
         "marker": {
          "color": "rgb(255,65,54)"
         },
         "mode": "lines",
         "type": "scatter",
         "x": [
          8695,
          8695,
          8705,
          8705
         ],
         "xaxis": "x",
         "y": [
          0,
          15.811388300841896,
          15.811388300841896,
          0
         ],
         "yaxis": "y"
        },
        {
         "hoverinfo": "text",
         "marker": {
          "color": "rgb(255,65,54)"
         },
         "mode": "lines",
         "type": "scatter",
         "x": [
          8685,
          8685,
          8700,
          8700
         ],
         "xaxis": "x",
         "y": [
          0,
          30.20761493398643,
          30.20761493398643,
          15.811388300841896
         ],
         "yaxis": "y"
        },
        {
         "hoverinfo": "text",
         "marker": {
          "color": "rgb(255,65,54)"
         },
         "mode": "lines",
         "type": "scatter",
         "x": [
          8675,
          8675,
          8692.5,
          8692.5
         ],
         "xaxis": "x",
         "y": [
          0,
          37.29108472544075,
          37.29108472544075,
          30.20761493398643
         ],
         "yaxis": "y"
        },
        {
         "hoverinfo": "text",
         "marker": {
          "color": "rgb(255,65,54)"
         },
         "mode": "lines",
         "type": "scatter",
         "x": [
          8665,
          8665,
          8683.75,
          8683.75
         ],
         "xaxis": "x",
         "y": [
          0,
          68.94291116568839,
          68.94291116568839,
          37.29108472544075
         ],
         "yaxis": "y"
        },
        {
         "hoverinfo": "text",
         "marker": {
          "color": "rgb(255,65,54)"
         },
         "mode": "lines",
         "type": "scatter",
         "x": [
          8650,
          8650,
          8674.375,
          8674.375
         ],
         "xaxis": "x",
         "y": [
          23.335193378243087,
          100,
          100,
          68.94291116568839
         ],
         "yaxis": "y"
        },
        {
         "hoverinfo": "text",
         "marker": {
          "color": "rgb(255,65,54)"
         },
         "mode": "lines",
         "type": "scatter",
         "x": [
          8611.25,
          8611.25,
          8662.1875,
          8662.1875
         ],
         "xaxis": "x",
         "y": [
          80,
          220,
          220,
          100
         ],
         "yaxis": "y"
        },
        {
         "hoverinfo": "text",
         "marker": {
          "color": "rgb(255,65,54)"
         },
         "mode": "lines",
         "type": "scatter",
         "x": [
          8555,
          8555,
          8636.71875,
          8636.71875
         ],
         "xaxis": "x",
         "y": [
          124.77557979228148,
          368.89853999778853,
          368.89853999778853,
          220
         ],
         "yaxis": "y"
        },
        {
         "hoverinfo": "text",
         "marker": {
          "color": "rgb(255,65,54)"
         },
         "mode": "lines",
         "type": "scatter",
         "x": [
          8448.75,
          8448.75,
          8595.859375,
          8595.859375
         ],
         "xaxis": "x",
         "y": [
          310.1055187178355,
          640,
          640,
          368.89853999778853
         ],
         "yaxis": "y"
        },
        {
         "hoverinfo": "text",
         "marker": {
          "color": "rgb(255,65,54)"
         },
         "mode": "lines",
         "type": "scatter",
         "x": [
          8360,
          8360,
          8522.3046875,
          8522.3046875
         ],
         "xaxis": "x",
         "y": [
          515.8374994946938,
          999.6651469417901,
          999.6651469417901,
          640
         ],
         "yaxis": "y"
        },
        {
         "hoverinfo": "text",
         "marker": {
          "color": "rgb(255,65,54)"
         },
         "mode": "lines",
         "type": "scatter",
         "x": [
          8092.6953125,
          8092.6953125,
          8441.15234375,
          8441.15234375
         ],
         "xaxis": "x",
         "y": [
          910.5801721979235,
          1590.332119401479,
          1590.332119401479,
          999.6651469417901
         ],
         "yaxis": "y"
        },
        {
         "hoverinfo": "text",
         "marker": {
          "color": "rgb(255,65,54)"
         },
         "mode": "lines",
         "type": "scatter",
         "x": [
          7885,
          7885,
          8266.923828125,
          8266.923828125
         ],
         "xaxis": "x",
         "y": [
          0,
          2174.085376172505,
          2174.085376172505,
          1590.332119401479
         ],
         "yaxis": "y"
        },
        {
         "hoverinfo": "text",
         "marker": {
          "color": "rgb(255,65,54)"
         },
         "mode": "lines",
         "type": "scatter",
         "x": [
          7402.7734375,
          7402.7734375,
          8075.9619140625,
          8075.9619140625
         ],
         "xaxis": "x",
         "y": [
          2045.3084559379924,
          3519.8653757073707,
          3519.8653757073707,
          2174.085376172505
         ],
         "yaxis": "y"
        },
        {
         "hoverinfo": "text",
         "marker": {
          "color": "rgb(255,65,54)"
         },
         "mode": "lines",
         "type": "scatter",
         "x": [
          6222.5048828125,
          6222.5048828125,
          7739.36767578125,
          7739.36767578125
         ],
         "xaxis": "x",
         "y": [
          3290.638354673755,
          6662.629996781308,
          6662.629996781308,
          3519.8653757073707
         ],
         "yaxis": "y"
        },
        {
         "hoverinfo": "text",
         "marker": {
          "color": "rgb(255,65,54)"
         },
         "mode": "lines",
         "type": "scatter",
         "x": [
          4324.98046875,
          4324.98046875,
          6980.936279296875,
          6980.936279296875
         ],
         "xaxis": "x",
         "y": [
          3661.574541778441,
          10321.365128944912,
          10321.365128944912,
          6662.629996781308
         ],
         "yaxis": "y"
        },
        {
         "hoverinfo": "text",
         "marker": {
          "color": "rgb(0,116,217)"
         },
         "mode": "lines",
         "type": "scatter",
         "x": [
          1868.1494140625,
          1868.1494140625,
          5652.9583740234375,
          5652.9583740234375
         ],
         "xaxis": "x",
         "y": [
          7011.309021177498,
          17371.273867257274,
          17371.273867257274,
          10321.365128944912
         ],
         "yaxis": "y"
        }
       ],
       "layout": {
        "autosize": false,
        "height": 500,
        "hovermode": "closest",
        "showlegend": false,
        "template": {
         "data": {
          "bar": [
           {
            "error_x": {
             "color": "#2a3f5f"
            },
            "error_y": {
             "color": "#2a3f5f"
            },
            "marker": {
             "line": {
              "color": "#E5ECF6",
              "width": 0.5
             },
             "pattern": {
              "fillmode": "overlay",
              "size": 10,
              "solidity": 0.2
             }
            },
            "type": "bar"
           }
          ],
          "barpolar": [
           {
            "marker": {
             "line": {
              "color": "#E5ECF6",
              "width": 0.5
             },
             "pattern": {
              "fillmode": "overlay",
              "size": 10,
              "solidity": 0.2
             }
            },
            "type": "barpolar"
           }
          ],
          "carpet": [
           {
            "aaxis": {
             "endlinecolor": "#2a3f5f",
             "gridcolor": "white",
             "linecolor": "white",
             "minorgridcolor": "white",
             "startlinecolor": "#2a3f5f"
            },
            "baxis": {
             "endlinecolor": "#2a3f5f",
             "gridcolor": "white",
             "linecolor": "white",
             "minorgridcolor": "white",
             "startlinecolor": "#2a3f5f"
            },
            "type": "carpet"
           }
          ],
          "choropleth": [
           {
            "colorbar": {
             "outlinewidth": 0,
             "ticks": ""
            },
            "type": "choropleth"
           }
          ],
          "contour": [
           {
            "colorbar": {
             "outlinewidth": 0,
             "ticks": ""
            },
            "colorscale": [
             [
              0,
              "#0d0887"
             ],
             [
              0.1111111111111111,
              "#46039f"
             ],
             [
              0.2222222222222222,
              "#7201a8"
             ],
             [
              0.3333333333333333,
              "#9c179e"
             ],
             [
              0.4444444444444444,
              "#bd3786"
             ],
             [
              0.5555555555555556,
              "#d8576b"
             ],
             [
              0.6666666666666666,
              "#ed7953"
             ],
             [
              0.7777777777777778,
              "#fb9f3a"
             ],
             [
              0.8888888888888888,
              "#fdca26"
             ],
             [
              1,
              "#f0f921"
             ]
            ],
            "type": "contour"
           }
          ],
          "contourcarpet": [
           {
            "colorbar": {
             "outlinewidth": 0,
             "ticks": ""
            },
            "type": "contourcarpet"
           }
          ],
          "heatmap": [
           {
            "colorbar": {
             "outlinewidth": 0,
             "ticks": ""
            },
            "colorscale": [
             [
              0,
              "#0d0887"
             ],
             [
              0.1111111111111111,
              "#46039f"
             ],
             [
              0.2222222222222222,
              "#7201a8"
             ],
             [
              0.3333333333333333,
              "#9c179e"
             ],
             [
              0.4444444444444444,
              "#bd3786"
             ],
             [
              0.5555555555555556,
              "#d8576b"
             ],
             [
              0.6666666666666666,
              "#ed7953"
             ],
             [
              0.7777777777777778,
              "#fb9f3a"
             ],
             [
              0.8888888888888888,
              "#fdca26"
             ],
             [
              1,
              "#f0f921"
             ]
            ],
            "type": "heatmap"
           }
          ],
          "heatmapgl": [
           {
            "colorbar": {
             "outlinewidth": 0,
             "ticks": ""
            },
            "colorscale": [
             [
              0,
              "#0d0887"
             ],
             [
              0.1111111111111111,
              "#46039f"
             ],
             [
              0.2222222222222222,
              "#7201a8"
             ],
             [
              0.3333333333333333,
              "#9c179e"
             ],
             [
              0.4444444444444444,
              "#bd3786"
             ],
             [
              0.5555555555555556,
              "#d8576b"
             ],
             [
              0.6666666666666666,
              "#ed7953"
             ],
             [
              0.7777777777777778,
              "#fb9f3a"
             ],
             [
              0.8888888888888888,
              "#fdca26"
             ],
             [
              1,
              "#f0f921"
             ]
            ],
            "type": "heatmapgl"
           }
          ],
          "histogram": [
           {
            "marker": {
             "pattern": {
              "fillmode": "overlay",
              "size": 10,
              "solidity": 0.2
             }
            },
            "type": "histogram"
           }
          ],
          "histogram2d": [
           {
            "colorbar": {
             "outlinewidth": 0,
             "ticks": ""
            },
            "colorscale": [
             [
              0,
              "#0d0887"
             ],
             [
              0.1111111111111111,
              "#46039f"
             ],
             [
              0.2222222222222222,
              "#7201a8"
             ],
             [
              0.3333333333333333,
              "#9c179e"
             ],
             [
              0.4444444444444444,
              "#bd3786"
             ],
             [
              0.5555555555555556,
              "#d8576b"
             ],
             [
              0.6666666666666666,
              "#ed7953"
             ],
             [
              0.7777777777777778,
              "#fb9f3a"
             ],
             [
              0.8888888888888888,
              "#fdca26"
             ],
             [
              1,
              "#f0f921"
             ]
            ],
            "type": "histogram2d"
           }
          ],
          "histogram2dcontour": [
           {
            "colorbar": {
             "outlinewidth": 0,
             "ticks": ""
            },
            "colorscale": [
             [
              0,
              "#0d0887"
             ],
             [
              0.1111111111111111,
              "#46039f"
             ],
             [
              0.2222222222222222,
              "#7201a8"
             ],
             [
              0.3333333333333333,
              "#9c179e"
             ],
             [
              0.4444444444444444,
              "#bd3786"
             ],
             [
              0.5555555555555556,
              "#d8576b"
             ],
             [
              0.6666666666666666,
              "#ed7953"
             ],
             [
              0.7777777777777778,
              "#fb9f3a"
             ],
             [
              0.8888888888888888,
              "#fdca26"
             ],
             [
              1,
              "#f0f921"
             ]
            ],
            "type": "histogram2dcontour"
           }
          ],
          "mesh3d": [
           {
            "colorbar": {
             "outlinewidth": 0,
             "ticks": ""
            },
            "type": "mesh3d"
           }
          ],
          "parcoords": [
           {
            "line": {
             "colorbar": {
              "outlinewidth": 0,
              "ticks": ""
             }
            },
            "type": "parcoords"
           }
          ],
          "pie": [
           {
            "automargin": true,
            "type": "pie"
           }
          ],
          "scatter": [
           {
            "fillpattern": {
             "fillmode": "overlay",
             "size": 10,
             "solidity": 0.2
            },
            "type": "scatter"
           }
          ],
          "scatter3d": [
           {
            "line": {
             "colorbar": {
              "outlinewidth": 0,
              "ticks": ""
             }
            },
            "marker": {
             "colorbar": {
              "outlinewidth": 0,
              "ticks": ""
             }
            },
            "type": "scatter3d"
           }
          ],
          "scattercarpet": [
           {
            "marker": {
             "colorbar": {
              "outlinewidth": 0,
              "ticks": ""
             }
            },
            "type": "scattercarpet"
           }
          ],
          "scattergeo": [
           {
            "marker": {
             "colorbar": {
              "outlinewidth": 0,
              "ticks": ""
             }
            },
            "type": "scattergeo"
           }
          ],
          "scattergl": [
           {
            "marker": {
             "colorbar": {
              "outlinewidth": 0,
              "ticks": ""
             }
            },
            "type": "scattergl"
           }
          ],
          "scattermapbox": [
           {
            "marker": {
             "colorbar": {
              "outlinewidth": 0,
              "ticks": ""
             }
            },
            "type": "scattermapbox"
           }
          ],
          "scatterpolar": [
           {
            "marker": {
             "colorbar": {
              "outlinewidth": 0,
              "ticks": ""
             }
            },
            "type": "scatterpolar"
           }
          ],
          "scatterpolargl": [
           {
            "marker": {
             "colorbar": {
              "outlinewidth": 0,
              "ticks": ""
             }
            },
            "type": "scatterpolargl"
           }
          ],
          "scatterternary": [
           {
            "marker": {
             "colorbar": {
              "outlinewidth": 0,
              "ticks": ""
             }
            },
            "type": "scatterternary"
           }
          ],
          "surface": [
           {
            "colorbar": {
             "outlinewidth": 0,
             "ticks": ""
            },
            "colorscale": [
             [
              0,
              "#0d0887"
             ],
             [
              0.1111111111111111,
              "#46039f"
             ],
             [
              0.2222222222222222,
              "#7201a8"
             ],
             [
              0.3333333333333333,
              "#9c179e"
             ],
             [
              0.4444444444444444,
              "#bd3786"
             ],
             [
              0.5555555555555556,
              "#d8576b"
             ],
             [
              0.6666666666666666,
              "#ed7953"
             ],
             [
              0.7777777777777778,
              "#fb9f3a"
             ],
             [
              0.8888888888888888,
              "#fdca26"
             ],
             [
              1,
              "#f0f921"
             ]
            ],
            "type": "surface"
           }
          ],
          "table": [
           {
            "cells": {
             "fill": {
              "color": "#EBF0F8"
             },
             "line": {
              "color": "white"
             }
            },
            "header": {
             "fill": {
              "color": "#C8D4E3"
             },
             "line": {
              "color": "white"
             }
            },
            "type": "table"
           }
          ]
         },
         "layout": {
          "annotationdefaults": {
           "arrowcolor": "#2a3f5f",
           "arrowhead": 0,
           "arrowwidth": 1
          },
          "autotypenumbers": "strict",
          "coloraxis": {
           "colorbar": {
            "outlinewidth": 0,
            "ticks": ""
           }
          },
          "colorscale": {
           "diverging": [
            [
             0,
             "#8e0152"
            ],
            [
             0.1,
             "#c51b7d"
            ],
            [
             0.2,
             "#de77ae"
            ],
            [
             0.3,
             "#f1b6da"
            ],
            [
             0.4,
             "#fde0ef"
            ],
            [
             0.5,
             "#f7f7f7"
            ],
            [
             0.6,
             "#e6f5d0"
            ],
            [
             0.7,
             "#b8e186"
            ],
            [
             0.8,
             "#7fbc41"
            ],
            [
             0.9,
             "#4d9221"
            ],
            [
             1,
             "#276419"
            ]
           ],
           "sequential": [
            [
             0,
             "#0d0887"
            ],
            [
             0.1111111111111111,
             "#46039f"
            ],
            [
             0.2222222222222222,
             "#7201a8"
            ],
            [
             0.3333333333333333,
             "#9c179e"
            ],
            [
             0.4444444444444444,
             "#bd3786"
            ],
            [
             0.5555555555555556,
             "#d8576b"
            ],
            [
             0.6666666666666666,
             "#ed7953"
            ],
            [
             0.7777777777777778,
             "#fb9f3a"
            ],
            [
             0.8888888888888888,
             "#fdca26"
            ],
            [
             1,
             "#f0f921"
            ]
           ],
           "sequentialminus": [
            [
             0,
             "#0d0887"
            ],
            [
             0.1111111111111111,
             "#46039f"
            ],
            [
             0.2222222222222222,
             "#7201a8"
            ],
            [
             0.3333333333333333,
             "#9c179e"
            ],
            [
             0.4444444444444444,
             "#bd3786"
            ],
            [
             0.5555555555555556,
             "#d8576b"
            ],
            [
             0.6666666666666666,
             "#ed7953"
            ],
            [
             0.7777777777777778,
             "#fb9f3a"
            ],
            [
             0.8888888888888888,
             "#fdca26"
            ],
            [
             1,
             "#f0f921"
            ]
           ]
          },
          "colorway": [
           "#636efa",
           "#EF553B",
           "#00cc96",
           "#ab63fa",
           "#FFA15A",
           "#19d3f3",
           "#FF6692",
           "#B6E880",
           "#FF97FF",
           "#FECB52"
          ],
          "font": {
           "color": "#2a3f5f"
          },
          "geo": {
           "bgcolor": "white",
           "lakecolor": "white",
           "landcolor": "#E5ECF6",
           "showlakes": true,
           "showland": true,
           "subunitcolor": "white"
          },
          "hoverlabel": {
           "align": "left"
          },
          "hovermode": "closest",
          "mapbox": {
           "style": "light"
          },
          "paper_bgcolor": "white",
          "plot_bgcolor": "#E5ECF6",
          "polar": {
           "angularaxis": {
            "gridcolor": "white",
            "linecolor": "white",
            "ticks": ""
           },
           "bgcolor": "#E5ECF6",
           "radialaxis": {
            "gridcolor": "white",
            "linecolor": "white",
            "ticks": ""
           }
          },
          "scene": {
           "xaxis": {
            "backgroundcolor": "#E5ECF6",
            "gridcolor": "white",
            "gridwidth": 2,
            "linecolor": "white",
            "showbackground": true,
            "ticks": "",
            "zerolinecolor": "white"
           },
           "yaxis": {
            "backgroundcolor": "#E5ECF6",
            "gridcolor": "white",
            "gridwidth": 2,
            "linecolor": "white",
            "showbackground": true,
            "ticks": "",
            "zerolinecolor": "white"
           },
           "zaxis": {
            "backgroundcolor": "#E5ECF6",
            "gridcolor": "white",
            "gridwidth": 2,
            "linecolor": "white",
            "showbackground": true,
            "ticks": "",
            "zerolinecolor": "white"
           }
          },
          "shapedefaults": {
           "line": {
            "color": "#2a3f5f"
           }
          },
          "ternary": {
           "aaxis": {
            "gridcolor": "white",
            "linecolor": "white",
            "ticks": ""
           },
           "baxis": {
            "gridcolor": "white",
            "linecolor": "white",
            "ticks": ""
           },
           "bgcolor": "#E5ECF6",
           "caxis": {
            "gridcolor": "white",
            "linecolor": "white",
            "ticks": ""
           }
          },
          "title": {
           "x": 0.05
          },
          "xaxis": {
           "automargin": true,
           "gridcolor": "white",
           "linecolor": "white",
           "ticks": "",
           "title": {
            "standoff": 15
           },
           "zerolinecolor": "white",
           "zerolinewidth": 2
          },
          "yaxis": {
           "automargin": true,
           "gridcolor": "white",
           "linecolor": "white",
           "ticks": "",
           "title": {
            "standoff": 15
           },
           "zerolinecolor": "white",
           "zerolinewidth": 2
          }
         }
        },
        "width": 800,
        "xaxis": {
         "mirror": "allticks",
         "rangemode": "tozero",
         "showgrid": false,
         "showline": true,
         "showticklabels": true,
         "tickmode": "array",
         "ticks": "outside",
         "ticktext": [
          "12",
          "13",
          "297",
          "298",
          "296",
          "8",
          "9",
          "10",
          "11",
          "295",
          "0",
          "1",
          "2",
          "3",
          "4",
          "5",
          "6",
          "7",
          "293",
          "294",
          "291",
          "292",
          "289",
          "290",
          "288",
          "286",
          "287",
          "270",
          "271",
          "272",
          "273",
          "274",
          "275",
          "276",
          "277",
          "278",
          "279",
          "280",
          "281",
          "282",
          "283",
          "284",
          "285",
          "206",
          "207",
          "208",
          "209",
          "210",
          "211",
          "212",
          "213",
          "214",
          "215",
          "216",
          "217",
          "218",
          "219",
          "220",
          "221",
          "222",
          "223",
          "224",
          "225",
          "226",
          "227",
          "228",
          "229",
          "230",
          "231",
          "232",
          "233",
          "234",
          "235",
          "236",
          "237",
          "238",
          "239",
          "240",
          "241",
          "242",
          "243",
          "244",
          "245",
          "246",
          "247",
          "248",
          "249",
          "250",
          "251",
          "252",
          "253",
          "254",
          "255",
          "256",
          "257",
          "258",
          "259",
          "260",
          "261",
          "262",
          "263",
          "264",
          "265",
          "266",
          "267",
          "268",
          "269",
          "78",
          "79",
          "80",
          "81",
          "82",
          "83",
          "84",
          "85",
          "86",
          "87",
          "88",
          "89",
          "90",
          "91",
          "92",
          "93",
          "94",
          "95",
          "96",
          "97",
          "98",
          "99",
          "100",
          "101",
          "102",
          "103",
          "104",
          "105",
          "106",
          "107",
          "108",
          "109",
          "110",
          "111",
          "112",
          "113",
          "114",
          "115",
          "116",
          "117",
          "118",
          "119",
          "120",
          "121",
          "122",
          "123",
          "124",
          "125",
          "126",
          "127",
          "128",
          "129",
          "130",
          "131",
          "132",
          "133",
          "134",
          "135",
          "136",
          "137",
          "138",
          "139",
          "140",
          "141",
          "142",
          "143",
          "144",
          "145",
          "146",
          "147",
          "148",
          "149",
          "150",
          "151",
          "152",
          "153",
          "154",
          "155",
          "156",
          "157",
          "158",
          "159",
          "160",
          "161",
          "162",
          "163",
          "164",
          "165",
          "166",
          "167",
          "168",
          "169",
          "170",
          "171",
          "172",
          "173",
          "174",
          "175",
          "176",
          "177",
          "178",
          "179",
          "180",
          "181",
          "182",
          "183",
          "184",
          "185",
          "186",
          "187",
          "188",
          "189",
          "190",
          "191",
          "192",
          "193",
          "194",
          "195",
          "196",
          "197",
          "198",
          "199",
          "200",
          "201",
          "202",
          "203",
          "204",
          "205",
          "870",
          "311",
          "310",
          "312",
          "313",
          "308",
          "309",
          "305",
          "306",
          "303",
          "304",
          "307",
          "299",
          "302",
          "300",
          "301",
          "338",
          "327",
          "328",
          "325",
          "329",
          "330",
          "324",
          "326",
          "321",
          "322",
          "320",
          "323",
          "316",
          "317",
          "314",
          "318",
          "315",
          "319",
          "339",
          "340",
          "331",
          "337",
          "333",
          "334",
          "335",
          "332",
          "336",
          "343",
          "344",
          "345",
          "341",
          "342",
          "367",
          "347",
          "346",
          "348",
          "436",
          "437",
          "14",
          "15",
          "16",
          "17",
          "18",
          "19",
          "20",
          "21",
          "22",
          "23",
          "24",
          "25",
          "26",
          "27",
          "28",
          "29",
          "30",
          "31",
          "32",
          "33",
          "34",
          "35",
          "36",
          "37",
          "38",
          "39",
          "40",
          "41",
          "42",
          "43",
          "44",
          "45",
          "46",
          "47",
          "48",
          "49",
          "50",
          "51",
          "52",
          "53",
          "54",
          "55",
          "56",
          "57",
          "58",
          "59",
          "60",
          "61",
          "62",
          "63",
          "64",
          "65",
          "66",
          "67",
          "68",
          "69",
          "70",
          "71",
          "72",
          "73",
          "74",
          "75",
          "76",
          "77",
          "541",
          "531",
          "530",
          "532",
          "542",
          "533",
          "529",
          "527",
          "528",
          "526",
          "524",
          "525",
          "515",
          "516",
          "517",
          "514",
          "518",
          "511",
          "512",
          "513",
          "520",
          "519",
          "509",
          "510",
          "508",
          "505",
          "506",
          "507",
          "521",
          "499",
          "500",
          "497",
          "498",
          "495",
          "496",
          "494",
          "489",
          "487",
          "488",
          "501",
          "492",
          "493",
          "490",
          "491",
          "438",
          "439",
          "445",
          "446",
          "441",
          "442",
          "444",
          "440",
          "443",
          "453",
          "454",
          "455",
          "449",
          "450",
          "447",
          "448",
          "456",
          "451",
          "452",
          "480",
          "481",
          "479",
          "482",
          "483",
          "484",
          "475",
          "476",
          "485",
          "474",
          "477",
          "478",
          "522",
          "502",
          "503",
          "504",
          "523",
          "457",
          "460",
          "461",
          "462",
          "463",
          "468",
          "469",
          "458",
          "459",
          "464",
          "467",
          "465",
          "466",
          "470",
          "471",
          "486",
          "472",
          "473",
          "869",
          "366",
          "349",
          "352",
          "364",
          "365",
          "350",
          "351",
          "360",
          "361",
          "358",
          "362",
          "363",
          "357",
          "359",
          "354",
          "355",
          "353",
          "356",
          "435",
          "399",
          "383",
          "382",
          "384",
          "378",
          "381",
          "385",
          "379",
          "380",
          "377",
          "368",
          "369",
          "370",
          "376",
          "386",
          "372",
          "373",
          "374",
          "371",
          "375",
          "400",
          "401",
          "406",
          "402",
          "403",
          "404",
          "405",
          "434",
          "393",
          "396",
          "394",
          "395",
          "387",
          "388",
          "392",
          "398",
          "397",
          "390",
          "389",
          "391",
          "433",
          "418",
          "407",
          "408",
          "409",
          "410",
          "432",
          "411",
          "412",
          "417",
          "413",
          "414",
          "415",
          "416",
          "426",
          "429",
          "427",
          "428",
          "420",
          "421",
          "419",
          "422",
          "431",
          "430",
          "425",
          "423",
          "424",
          "863",
          "818",
          "801",
          "802",
          "803",
          "804",
          "811",
          "814",
          "816",
          "812",
          "813",
          "817",
          "808",
          "809",
          "810",
          "806",
          "807",
          "793",
          "786",
          "787",
          "794",
          "785",
          "788",
          "781",
          "782",
          "780",
          "783",
          "784",
          "795",
          "778",
          "776",
          "777",
          "819",
          "791",
          "792",
          "789",
          "790",
          "799",
          "800",
          "805",
          "797",
          "798",
          "847",
          "848",
          "849",
          "850",
          "851",
          "852",
          "853",
          "846",
          "854",
          "860",
          "842",
          "859",
          "855",
          "856",
          "845",
          "857",
          "858",
          "843",
          "844",
          "833",
          "820",
          "821",
          "822",
          "823",
          "815",
          "824",
          "825",
          "834",
          "837",
          "838",
          "841",
          "839",
          "840",
          "861",
          "835",
          "836",
          "862",
          "831",
          "826",
          "832",
          "827",
          "830",
          "828",
          "829",
          "728",
          "735",
          "733",
          "734",
          "743",
          "729",
          "730",
          "731",
          "732",
          "761",
          "742",
          "736",
          "737",
          "738",
          "741",
          "739",
          "740",
          "725",
          "720",
          "721",
          "715",
          "716",
          "722",
          "723",
          "724",
          "719",
          "717",
          "718",
          "726",
          "713",
          "714",
          "707",
          "710",
          "708",
          "709",
          "712",
          "727",
          "711",
          "706",
          "704",
          "705",
          "699",
          "700",
          "703",
          "701",
          "702",
          "764",
          "762",
          "763",
          "767",
          "768",
          "770",
          "769",
          "765",
          "766",
          "796",
          "775",
          "771",
          "772",
          "779",
          "773",
          "774",
          "757",
          "756",
          "758",
          "759",
          "755",
          "753",
          "754",
          "746",
          "747",
          "752",
          "744",
          "745",
          "760",
          "749",
          "750",
          "748",
          "751",
          "864",
          "865",
          "866",
          "688",
          "656",
          "689",
          "687",
          "661",
          "657",
          "658",
          "686",
          "659",
          "660",
          "693",
          "648",
          "649",
          "650",
          "692",
          "690",
          "653",
          "654",
          "691",
          "655",
          "651",
          "652",
          "682",
          "669",
          "683",
          "667",
          "684",
          "685",
          "666",
          "662",
          "665",
          "668",
          "663",
          "664",
          "678",
          "694",
          "695",
          "698",
          "696",
          "697",
          "681",
          "680",
          "676",
          "677",
          "670",
          "671",
          "672",
          "673",
          "679",
          "674",
          "675",
          "867",
          "634",
          "630",
          "631",
          "640",
          "632",
          "633",
          "638",
          "635",
          "639",
          "647",
          "636",
          "637",
          "642",
          "629",
          "623",
          "624",
          "641",
          "625",
          "626",
          "627",
          "628",
          "643",
          "621",
          "620",
          "622",
          "614",
          "615",
          "617",
          "613",
          "616",
          "868",
          "619",
          "618",
          "612",
          "610",
          "611",
          "605",
          "607",
          "608",
          "606",
          "609",
          "644",
          "591",
          "601",
          "599",
          "592",
          "600",
          "597",
          "598",
          "595",
          "596",
          "593",
          "594",
          "573",
          "575",
          "574",
          "578",
          "579",
          "568",
          "569",
          "567",
          "570",
          "571",
          "576",
          "577",
          "587",
          "582",
          "583",
          "603",
          "588",
          "589",
          "590",
          "602",
          "604",
          "586",
          "584",
          "585",
          "645",
          "646",
          "566",
          "560",
          "561",
          "572",
          "562",
          "563",
          "564",
          "565",
          "554",
          "555",
          "553",
          "558",
          "556",
          "557",
          "580",
          "581",
          "552",
          "559",
          "547",
          "548",
          "549",
          "550",
          "546",
          "551",
          "544",
          "543",
          "545",
          "534",
          "540",
          "537",
          "539",
          "538",
          "535",
          "536"
         ],
         "tickvals": [
          5,
          15,
          25,
          35,
          45,
          55,
          65,
          75,
          85,
          95,
          105,
          115,
          125,
          135,
          145,
          155,
          165,
          175,
          185,
          195,
          205,
          215,
          225,
          235,
          245,
          255,
          265,
          275,
          285,
          295,
          305,
          315,
          325,
          335,
          345,
          355,
          365,
          375,
          385,
          395,
          405,
          415,
          425,
          435,
          445,
          455,
          465,
          475,
          485,
          495,
          505,
          515,
          525,
          535,
          545,
          555,
          565,
          575,
          585,
          595,
          605,
          615,
          625,
          635,
          645,
          655,
          665,
          675,
          685,
          695,
          705,
          715,
          725,
          735,
          745,
          755,
          765,
          775,
          785,
          795,
          805,
          815,
          825,
          835,
          845,
          855,
          865,
          875,
          885,
          895,
          905,
          915,
          925,
          935,
          945,
          955,
          965,
          975,
          985,
          995,
          1005,
          1015,
          1025,
          1035,
          1045,
          1055,
          1065,
          1075,
          1085,
          1095,
          1105,
          1115,
          1125,
          1135,
          1145,
          1155,
          1165,
          1175,
          1185,
          1195,
          1205,
          1215,
          1225,
          1235,
          1245,
          1255,
          1265,
          1275,
          1285,
          1295,
          1305,
          1315,
          1325,
          1335,
          1345,
          1355,
          1365,
          1375,
          1385,
          1395,
          1405,
          1415,
          1425,
          1435,
          1445,
          1455,
          1465,
          1475,
          1485,
          1495,
          1505,
          1515,
          1525,
          1535,
          1545,
          1555,
          1565,
          1575,
          1585,
          1595,
          1605,
          1615,
          1625,
          1635,
          1645,
          1655,
          1665,
          1675,
          1685,
          1695,
          1705,
          1715,
          1725,
          1735,
          1745,
          1755,
          1765,
          1775,
          1785,
          1795,
          1805,
          1815,
          1825,
          1835,
          1845,
          1855,
          1865,
          1875,
          1885,
          1895,
          1905,
          1915,
          1925,
          1935,
          1945,
          1955,
          1965,
          1975,
          1985,
          1995,
          2005,
          2015,
          2025,
          2035,
          2045,
          2055,
          2065,
          2075,
          2085,
          2095,
          2105,
          2115,
          2125,
          2135,
          2145,
          2155,
          2165,
          2175,
          2185,
          2195,
          2205,
          2215,
          2225,
          2235,
          2245,
          2255,
          2265,
          2275,
          2285,
          2295,
          2305,
          2315,
          2325,
          2335,
          2345,
          2355,
          2365,
          2375,
          2385,
          2395,
          2405,
          2415,
          2425,
          2435,
          2445,
          2455,
          2465,
          2475,
          2485,
          2495,
          2505,
          2515,
          2525,
          2535,
          2545,
          2555,
          2565,
          2575,
          2585,
          2595,
          2605,
          2615,
          2625,
          2635,
          2645,
          2655,
          2665,
          2675,
          2685,
          2695,
          2705,
          2715,
          2725,
          2735,
          2745,
          2755,
          2765,
          2775,
          2785,
          2795,
          2805,
          2815,
          2825,
          2835,
          2845,
          2855,
          2865,
          2875,
          2885,
          2895,
          2905,
          2915,
          2925,
          2935,
          2945,
          2955,
          2965,
          2975,
          2985,
          2995,
          3005,
          3015,
          3025,
          3035,
          3045,
          3055,
          3065,
          3075,
          3085,
          3095,
          3105,
          3115,
          3125,
          3135,
          3145,
          3155,
          3165,
          3175,
          3185,
          3195,
          3205,
          3215,
          3225,
          3235,
          3245,
          3255,
          3265,
          3275,
          3285,
          3295,
          3305,
          3315,
          3325,
          3335,
          3345,
          3355,
          3365,
          3375,
          3385,
          3395,
          3405,
          3415,
          3425,
          3435,
          3445,
          3455,
          3465,
          3475,
          3485,
          3495,
          3505,
          3515,
          3525,
          3535,
          3545,
          3555,
          3565,
          3575,
          3585,
          3595,
          3605,
          3615,
          3625,
          3635,
          3645,
          3655,
          3665,
          3675,
          3685,
          3695,
          3705,
          3715,
          3725,
          3735,
          3745,
          3755,
          3765,
          3775,
          3785,
          3795,
          3805,
          3815,
          3825,
          3835,
          3845,
          3855,
          3865,
          3875,
          3885,
          3895,
          3905,
          3915,
          3925,
          3935,
          3945,
          3955,
          3965,
          3975,
          3985,
          3995,
          4005,
          4015,
          4025,
          4035,
          4045,
          4055,
          4065,
          4075,
          4085,
          4095,
          4105,
          4115,
          4125,
          4135,
          4145,
          4155,
          4165,
          4175,
          4185,
          4195,
          4205,
          4215,
          4225,
          4235,
          4245,
          4255,
          4265,
          4275,
          4285,
          4295,
          4305,
          4315,
          4325,
          4335,
          4345,
          4355,
          4365,
          4375,
          4385,
          4395,
          4405,
          4415,
          4425,
          4435,
          4445,
          4455,
          4465,
          4475,
          4485,
          4495,
          4505,
          4515,
          4525,
          4535,
          4545,
          4555,
          4565,
          4575,
          4585,
          4595,
          4605,
          4615,
          4625,
          4635,
          4645,
          4655,
          4665,
          4675,
          4685,
          4695,
          4705,
          4715,
          4725,
          4735,
          4745,
          4755,
          4765,
          4775,
          4785,
          4795,
          4805,
          4815,
          4825,
          4835,
          4845,
          4855,
          4865,
          4875,
          4885,
          4895,
          4905,
          4915,
          4925,
          4935,
          4945,
          4955,
          4965,
          4975,
          4985,
          4995,
          5005,
          5015,
          5025,
          5035,
          5045,
          5055,
          5065,
          5075,
          5085,
          5095,
          5105,
          5115,
          5125,
          5135,
          5145,
          5155,
          5165,
          5175,
          5185,
          5195,
          5205,
          5215,
          5225,
          5235,
          5245,
          5255,
          5265,
          5275,
          5285,
          5295,
          5305,
          5315,
          5325,
          5335,
          5345,
          5355,
          5365,
          5375,
          5385,
          5395,
          5405,
          5415,
          5425,
          5435,
          5445,
          5455,
          5465,
          5475,
          5485,
          5495,
          5505,
          5515,
          5525,
          5535,
          5545,
          5555,
          5565,
          5575,
          5585,
          5595,
          5605,
          5615,
          5625,
          5635,
          5645,
          5655,
          5665,
          5675,
          5685,
          5695,
          5705,
          5715,
          5725,
          5735,
          5745,
          5755,
          5765,
          5775,
          5785,
          5795,
          5805,
          5815,
          5825,
          5835,
          5845,
          5855,
          5865,
          5875,
          5885,
          5895,
          5905,
          5915,
          5925,
          5935,
          5945,
          5955,
          5965,
          5975,
          5985,
          5995,
          6005,
          6015,
          6025,
          6035,
          6045,
          6055,
          6065,
          6075,
          6085,
          6095,
          6105,
          6115,
          6125,
          6135,
          6145,
          6155,
          6165,
          6175,
          6185,
          6195,
          6205,
          6215,
          6225,
          6235,
          6245,
          6255,
          6265,
          6275,
          6285,
          6295,
          6305,
          6315,
          6325,
          6335,
          6345,
          6355,
          6365,
          6375,
          6385,
          6395,
          6405,
          6415,
          6425,
          6435,
          6445,
          6455,
          6465,
          6475,
          6485,
          6495,
          6505,
          6515,
          6525,
          6535,
          6545,
          6555,
          6565,
          6575,
          6585,
          6595,
          6605,
          6615,
          6625,
          6635,
          6645,
          6655,
          6665,
          6675,
          6685,
          6695,
          6705,
          6715,
          6725,
          6735,
          6745,
          6755,
          6765,
          6775,
          6785,
          6795,
          6805,
          6815,
          6825,
          6835,
          6845,
          6855,
          6865,
          6875,
          6885,
          6895,
          6905,
          6915,
          6925,
          6935,
          6945,
          6955,
          6965,
          6975,
          6985,
          6995,
          7005,
          7015,
          7025,
          7035,
          7045,
          7055,
          7065,
          7075,
          7085,
          7095,
          7105,
          7115,
          7125,
          7135,
          7145,
          7155,
          7165,
          7175,
          7185,
          7195,
          7205,
          7215,
          7225,
          7235,
          7245,
          7255,
          7265,
          7275,
          7285,
          7295,
          7305,
          7315,
          7325,
          7335,
          7345,
          7355,
          7365,
          7375,
          7385,
          7395,
          7405,
          7415,
          7425,
          7435,
          7445,
          7455,
          7465,
          7475,
          7485,
          7495,
          7505,
          7515,
          7525,
          7535,
          7545,
          7555,
          7565,
          7575,
          7585,
          7595,
          7605,
          7615,
          7625,
          7635,
          7645,
          7655,
          7665,
          7675,
          7685,
          7695,
          7705,
          7715,
          7725,
          7735,
          7745,
          7755,
          7765,
          7775,
          7785,
          7795,
          7805,
          7815,
          7825,
          7835,
          7845,
          7855,
          7865,
          7875,
          7885,
          7895,
          7905,
          7915,
          7925,
          7935,
          7945,
          7955,
          7965,
          7975,
          7985,
          7995,
          8005,
          8015,
          8025,
          8035,
          8045,
          8055,
          8065,
          8075,
          8085,
          8095,
          8105,
          8115,
          8125,
          8135,
          8145,
          8155,
          8165,
          8175,
          8185,
          8195,
          8205,
          8215,
          8225,
          8235,
          8245,
          8255,
          8265,
          8275,
          8285,
          8295,
          8305,
          8315,
          8325,
          8335,
          8345,
          8355,
          8365,
          8375,
          8385,
          8395,
          8405,
          8415,
          8425,
          8435,
          8445,
          8455,
          8465,
          8475,
          8485,
          8495,
          8505,
          8515,
          8525,
          8535,
          8545,
          8555,
          8565,
          8575,
          8585,
          8595,
          8605,
          8615,
          8625,
          8635,
          8645,
          8655,
          8665,
          8675,
          8685,
          8695,
          8705
         ],
         "type": "linear",
         "zeroline": false
        },
        "yaxis": {
         "mirror": "allticks",
         "rangemode": "tozero",
         "showgrid": false,
         "showline": true,
         "showticklabels": true,
         "ticks": "outside",
         "type": "linear",
         "zeroline": false
        }
       }
      }
     },
     "metadata": {},
     "output_type": "display_data"
    },
    {
     "data": {
      "image/png": "[encoded data removed]",
      "text/plain": [
       "<Figure size 640x480 with 1 Axes>"
      ]
     },
     "metadata": {},
     "output_type": "display_data"
    }
   ],
   "source": [
    "X = dendrogram(linkage_matrix)\n",
    "#fig = ff.create_dendrogram(np.array(X[\"icoord\"]))\n",
    "#fig.update_layout(width=800, height=500)"
   ]
  },
  {
   "cell_type": "code",
   "execution_count": 12,
   "metadata": {},
   "outputs": [
    {
     "name": "stdout",
     "output_type": "stream",
     "text": [
      "     catalog_id   0\n",
      "0          11.0   6\n",
      "1          14.0   6\n",
      "2          16.0  32\n",
      "3          18.0   6\n",
      "4          19.0   1\n",
      "..          ...  ..\n",
      "867      2965.0  29\n",
      "868      2967.0   1\n",
      "869      2968.0  33\n",
      "870      2969.0  38\n",
      "871      2970.0  37\n",
      "\n",
      "[872 rows x 2 columns]\n"
     ]
    }
   ],
   "source": [
    "t = 2.5\n",
    "\n",
    "res = fcluster(linkage_matrix, criterion = \"distance\", t = t)\n",
    "df = pd.DataFrame(res, index = pivot_combined.columns).reset_index()"
   ]
  },
  {
   "cell_type": "markdown",
   "metadata": {},
   "source": [
    "### Analysis of Sizing Features\n",
    "\n",
    "In order to understand how to clustering was done, we are taking a look at each cluster top sizes as well as size dimension.\n",
    "\n",
    "The result has 25 clusters and the max cluster has 135 labels."
   ]
  },
  {
   "cell_type": "code",
   "execution_count": 13,
   "metadata": {},
   "outputs": [
    {
     "data": {
      "text/html": [
       "<div>\n",
       "<style scoped>\n",
       "    .dataframe tbody tr th:only-of-type {\n",
       "        vertical-align: middle;\n",
       "    }\n",
       "\n",
       "    .dataframe tbody tr th {\n",
       "        vertical-align: top;\n",
       "    }\n",
       "\n",
       "    .dataframe thead th {\n",
       "        text-align: right;\n",
       "    }\n",
       "</style>\n",
       "<table border=\"1\" class=\"dataframe\">\n",
       "  <thead>\n",
       "    <tr style=\"text-align: right;\">\n",
       "      <th></th>\n",
       "      <th>0</th>\n",
       "      <th>catalog_id</th>\n",
       "      <th>catalog_id_length</th>\n",
       "    </tr>\n",
       "  </thead>\n",
       "  <tbody>\n",
       "    <tr>\n",
       "      <th>0</th>\n",
       "      <td>1</td>\n",
       "      <td>[19.0, 26.0, 87.0, 89.0, 94.0, 98.0, 99.0, 140...</td>\n",
       "      <td>300</td>\n",
       "    </tr>\n",
       "    <tr>\n",
       "      <th>1</th>\n",
       "      <td>2</td>\n",
       "      <td>[120.0, 124.0, 229.0, 1100.0, 1103.0, 1178.0, ...</td>\n",
       "      <td>10</td>\n",
       "    </tr>\n",
       "    <tr>\n",
       "      <th>2</th>\n",
       "      <td>3</td>\n",
       "      <td>[1067.0, 1126.0, 1129.0, 1263.0, 1773.0, 1780....</td>\n",
       "      <td>7</td>\n",
       "    </tr>\n",
       "    <tr>\n",
       "      <th>3</th>\n",
       "      <td>4</td>\n",
       "      <td>[123.0, 192.0, 193.0, 197.0, 203.0, 220.0, 574...</td>\n",
       "      <td>27</td>\n",
       "    </tr>\n",
       "    <tr>\n",
       "      <th>4</th>\n",
       "      <td>5</td>\n",
       "      <td>[198.0, 199.0, 200.0, 204.0, 218.0, 222.0, 223...</td>\n",
       "      <td>28</td>\n",
       "    </tr>\n",
       "    <tr>\n",
       "      <th>5</th>\n",
       "      <td>6</td>\n",
       "      <td>[11.0, 14.0, 18.0, 176.0, 178.0, 179.0, 184.0,...</td>\n",
       "      <td>68</td>\n",
       "    </tr>\n",
       "    <tr>\n",
       "      <th>6</th>\n",
       "      <td>7</td>\n",
       "      <td>[259.0, 261.0, 263.0, 1816.0, 1817.0, 1818.0, ...</td>\n",
       "      <td>10</td>\n",
       "    </tr>\n",
       "    <tr>\n",
       "      <th>7</th>\n",
       "      <td>8</td>\n",
       "      <td>[83.0, 271.0, 272.0, 1225.0, 1230.0, 1786.0, 1...</td>\n",
       "      <td>11</td>\n",
       "    </tr>\n",
       "    <tr>\n",
       "      <th>8</th>\n",
       "      <td>9</td>\n",
       "      <td>[84.0, 92.0, 264.0, 265.0, 266.0, 267.0, 268.0...</td>\n",
       "      <td>48</td>\n",
       "    </tr>\n",
       "    <tr>\n",
       "      <th>9</th>\n",
       "      <td>10</td>\n",
       "      <td>[1544.0, 1665.0, 2512.0, 2542.0, 2556.0]</td>\n",
       "      <td>5</td>\n",
       "    </tr>\n",
       "    <tr>\n",
       "      <th>10</th>\n",
       "      <td>11</td>\n",
       "      <td>[119.0, 260.0, 1439.0, 1444.0, 1536.0, 1543.0,...</td>\n",
       "      <td>13</td>\n",
       "    </tr>\n",
       "    <tr>\n",
       "      <th>11</th>\n",
       "      <td>12</td>\n",
       "      <td>[1673.0, 1702.0, 1883.0, 2082.0]</td>\n",
       "      <td>4</td>\n",
       "    </tr>\n",
       "    <tr>\n",
       "      <th>12</th>\n",
       "      <td>13</td>\n",
       "      <td>[1514.0, 1515.0, 1516.0, 1517.0, 1565.0, 1570....</td>\n",
       "      <td>16</td>\n",
       "    </tr>\n",
       "    <tr>\n",
       "      <th>13</th>\n",
       "      <td>14</td>\n",
       "      <td>[1755.0, 2080.0, 2544.0, 2573.0]</td>\n",
       "      <td>4</td>\n",
       "    </tr>\n",
       "    <tr>\n",
       "      <th>14</th>\n",
       "      <td>15</td>\n",
       "      <td>[1590.0, 1593.0, 1751.0, 1759.0, 1871.0, 2557.0]</td>\n",
       "      <td>6</td>\n",
       "    </tr>\n",
       "    <tr>\n",
       "      <th>15</th>\n",
       "      <td>16</td>\n",
       "      <td>[1518.0, 1538.0, 1539.0, 1758.0, 1762.0, 1872....</td>\n",
       "      <td>9</td>\n",
       "    </tr>\n",
       "    <tr>\n",
       "      <th>16</th>\n",
       "      <td>17</td>\n",
       "      <td>[1598.0, 1667.0, 1760.0, 1878.0, 1886.0, 2560....</td>\n",
       "      <td>8</td>\n",
       "    </tr>\n",
       "    <tr>\n",
       "      <th>17</th>\n",
       "      <td>18</td>\n",
       "      <td>[1519.0, 1521.0, 1604.0, 1740.0, 2561.0, 2564.0]</td>\n",
       "      <td>6</td>\n",
       "    </tr>\n",
       "    <tr>\n",
       "      <th>18</th>\n",
       "      <td>19</td>\n",
       "      <td>[1549.0, 1625.0, 1761.0, 2609.0]</td>\n",
       "      <td>4</td>\n",
       "    </tr>\n",
       "    <tr>\n",
       "      <th>19</th>\n",
       "      <td>20</td>\n",
       "      <td>[1541.0, 1698.0, 2546.0]</td>\n",
       "      <td>3</td>\n",
       "    </tr>\n",
       "    <tr>\n",
       "      <th>20</th>\n",
       "      <td>21</td>\n",
       "      <td>[1551.0, 1553.0, 1554.0, 1559.0, 1597.0, 1670....</td>\n",
       "      <td>7</td>\n",
       "    </tr>\n",
       "    <tr>\n",
       "      <th>21</th>\n",
       "      <td>22</td>\n",
       "      <td>[1201.0, 1250.0, 1253.0, 1254.0, 1542.0, 1548....</td>\n",
       "      <td>16</td>\n",
       "    </tr>\n",
       "    <tr>\n",
       "      <th>22</th>\n",
       "      <td>23</td>\n",
       "      <td>[2577.0]</td>\n",
       "      <td>1</td>\n",
       "    </tr>\n",
       "    <tr>\n",
       "      <th>23</th>\n",
       "      <td>24</td>\n",
       "      <td>[1197.0, 1649.0, 1669.0, 2547.0, 2582.0, 2610.0]</td>\n",
       "      <td>6</td>\n",
       "    </tr>\n",
       "    <tr>\n",
       "      <th>24</th>\n",
       "      <td>25</td>\n",
       "      <td>[1205.0, 1540.0, 1562.0, 1592.0, 1663.0, 1666....</td>\n",
       "      <td>10</td>\n",
       "    </tr>\n",
       "    <tr>\n",
       "      <th>25</th>\n",
       "      <td>26</td>\n",
       "      <td>[1510.0, 1568.0, 2083.0, 2604.0]</td>\n",
       "      <td>4</td>\n",
       "    </tr>\n",
       "    <tr>\n",
       "      <th>26</th>\n",
       "      <td>27</td>\n",
       "      <td>[1560.0, 1578.0, 1606.0, 1647.0, 1701.0, 1880....</td>\n",
       "      <td>8</td>\n",
       "    </tr>\n",
       "    <tr>\n",
       "      <th>27</th>\n",
       "      <td>28</td>\n",
       "      <td>[1204.0, 1248.0, 1535.0, 1537.0, 1646.0, 1870....</td>\n",
       "      <td>12</td>\n",
       "    </tr>\n",
       "    <tr>\n",
       "      <th>28</th>\n",
       "      <td>29</td>\n",
       "      <td>[22.0, 86.0, 88.0, 90.0, 91.0, 97.0, 230.0, 23...</td>\n",
       "      <td>48</td>\n",
       "    </tr>\n",
       "    <tr>\n",
       "      <th>29</th>\n",
       "      <td>30</td>\n",
       "      <td>[2622.0, 2630.0, 2641.0, 2711.0, 2745.0, 2953.0]</td>\n",
       "      <td>6</td>\n",
       "    </tr>\n",
       "    <tr>\n",
       "      <th>30</th>\n",
       "      <td>31</td>\n",
       "      <td>[211.0, 215.0, 543.0, 2618.0, 2619.0, 2621.0, ...</td>\n",
       "      <td>15</td>\n",
       "    </tr>\n",
       "    <tr>\n",
       "      <th>31</th>\n",
       "      <td>32</td>\n",
       "      <td>[16.0, 1049.0, 2620.0, 2639.0, 2642.0, 2643.0,...</td>\n",
       "      <td>14</td>\n",
       "    </tr>\n",
       "    <tr>\n",
       "      <th>32</th>\n",
       "      <td>33</td>\n",
       "      <td>[1238.0, 2657.0, 2659.0, 2661.0, 2662.0, 2677....</td>\n",
       "      <td>9</td>\n",
       "    </tr>\n",
       "    <tr>\n",
       "      <th>33</th>\n",
       "      <td>34</td>\n",
       "      <td>[1242.0, 1452.0, 1467.0, 2656.0, 2672.0, 2676....</td>\n",
       "      <td>8</td>\n",
       "    </tr>\n",
       "    <tr>\n",
       "      <th>34</th>\n",
       "      <td>35</td>\n",
       "      <td>[2654.0, 2663.0, 2670.0, 2675.0, 2681.0]</td>\n",
       "      <td>5</td>\n",
       "    </tr>\n",
       "    <tr>\n",
       "      <th>35</th>\n",
       "      <td>36</td>\n",
       "      <td>[1231.0, 1453.0, 2669.0, 2674.0, 2685.0]</td>\n",
       "      <td>5</td>\n",
       "    </tr>\n",
       "    <tr>\n",
       "      <th>36</th>\n",
       "      <td>37</td>\n",
       "      <td>[1795.0, 2666.0, 2673.0, 2970.0]</td>\n",
       "      <td>4</td>\n",
       "    </tr>\n",
       "    <tr>\n",
       "      <th>37</th>\n",
       "      <td>38</td>\n",
       "      <td>[2664.0, 2680.0, 2682.0, 2969.0]</td>\n",
       "      <td>4</td>\n",
       "    </tr>\n",
       "    <tr>\n",
       "      <th>38</th>\n",
       "      <td>39</td>\n",
       "      <td>[2696.0, 2697.0, 2698.0, 2742.0]</td>\n",
       "      <td>4</td>\n",
       "    </tr>\n",
       "    <tr>\n",
       "      <th>39</th>\n",
       "      <td>40</td>\n",
       "      <td>[1533.0, 1534.0, 2709.0, 2715.0, 2722.0, 2749.0]</td>\n",
       "      <td>6</td>\n",
       "    </tr>\n",
       "    <tr>\n",
       "      <th>40</th>\n",
       "      <td>41</td>\n",
       "      <td>[2690.0, 2708.0, 2712.0, 2720.0, 2727.0, 2753.0]</td>\n",
       "      <td>6</td>\n",
       "    </tr>\n",
       "    <tr>\n",
       "      <th>41</th>\n",
       "      <td>42</td>\n",
       "      <td>[1660.0, 2695.0, 2730.0, 2752.0]</td>\n",
       "      <td>4</td>\n",
       "    </tr>\n",
       "    <tr>\n",
       "      <th>42</th>\n",
       "      <td>43</td>\n",
       "      <td>[1255.0, 1525.0, 1653.0, 1661.0, 2705.0, 2717.0]</td>\n",
       "      <td>6</td>\n",
       "    </tr>\n",
       "    <tr>\n",
       "      <th>43</th>\n",
       "      <td>44</td>\n",
       "      <td>[1526.0, 1528.0, 2702.0, 2726.0, 2750.0]</td>\n",
       "      <td>5</td>\n",
       "    </tr>\n",
       "    <tr>\n",
       "      <th>44</th>\n",
       "      <td>45</td>\n",
       "      <td>[1657.0, 2718.0, 2721.0, 2729.0, 2733.0]</td>\n",
       "      <td>5</td>\n",
       "    </tr>\n",
       "    <tr>\n",
       "      <th>45</th>\n",
       "      <td>46</td>\n",
       "      <td>[2647.0, 2707.0, 2732.0, 2735.0, 2737.0]</td>\n",
       "      <td>5</td>\n",
       "    </tr>\n",
       "    <tr>\n",
       "      <th>46</th>\n",
       "      <td>47</td>\n",
       "      <td>[1530.0, 1655.0, 2728.0, 2734.0, 2744.0]</td>\n",
       "      <td>5</td>\n",
       "    </tr>\n",
       "    <tr>\n",
       "      <th>47</th>\n",
       "      <td>48</td>\n",
       "      <td>[213.0, 2649.0, 2650.0, 2701.0, 2713.0, 2738.0]</td>\n",
       "      <td>6</td>\n",
       "    </tr>\n",
       "    <tr>\n",
       "      <th>48</th>\n",
       "      <td>49</td>\n",
       "      <td>[1193.0, 1256.0, 2704.0, 2714.0, 2719.0, 2746....</td>\n",
       "      <td>7</td>\n",
       "    </tr>\n",
       "    <tr>\n",
       "      <th>49</th>\n",
       "      <td>50</td>\n",
       "      <td>[1790.0, 1830.0, 2121.0, 2124.0, 2552.0, 2912....</td>\n",
       "      <td>7</td>\n",
       "    </tr>\n",
       "    <tr>\n",
       "      <th>50</th>\n",
       "      <td>51</td>\n",
       "      <td>[1206.0, 1474.0, 1617.0, 1618.0, 1789.0, 1829....</td>\n",
       "      <td>8</td>\n",
       "    </tr>\n",
       "    <tr>\n",
       "      <th>51</th>\n",
       "      <td>52</td>\n",
       "      <td>[20.0, 96.0, 242.0, 553.0, 1581.0, 1743.0]</td>\n",
       "      <td>6</td>\n",
       "    </tr>\n",
       "    <tr>\n",
       "      <th>52</th>\n",
       "      <td>53</td>\n",
       "      <td>[1925.0, 1944.0, 1974.0, 2123.0]</td>\n",
       "      <td>4</td>\n",
       "    </tr>\n",
       "    <tr>\n",
       "      <th>53</th>\n",
       "      <td>54</td>\n",
       "      <td>[1946.0, 1955.0]</td>\n",
       "      <td>2</td>\n",
       "    </tr>\n",
       "    <tr>\n",
       "      <th>54</th>\n",
       "      <td>55</td>\n",
       "      <td>[1233.0, 1503.0, 1600.0, 1626.0, 1674.0, 1678....</td>\n",
       "      <td>16</td>\n",
       "    </tr>\n",
       "    <tr>\n",
       "      <th>55</th>\n",
       "      <td>56</td>\n",
       "      <td>[1757.0]</td>\n",
       "      <td>1</td>\n",
       "    </tr>\n",
       "  </tbody>\n",
       "</table>\n",
       "</div>"
      ],
      "text/plain": [
       "     0                                         catalog_id  catalog_id_length\n",
       "0    1  [19.0, 26.0, 87.0, 89.0, 94.0, 98.0, 99.0, 140...                300\n",
       "1    2  [120.0, 124.0, 229.0, 1100.0, 1103.0, 1178.0, ...                 10\n",
       "2    3  [1067.0, 1126.0, 1129.0, 1263.0, 1773.0, 1780....                  7\n",
       "3    4  [123.0, 192.0, 193.0, 197.0, 203.0, 220.0, 574...                 27\n",
       "4    5  [198.0, 199.0, 200.0, 204.0, 218.0, 222.0, 223...                 28\n",
       "5    6  [11.0, 14.0, 18.0, 176.0, 178.0, 179.0, 184.0,...                 68\n",
       "6    7  [259.0, 261.0, 263.0, 1816.0, 1817.0, 1818.0, ...                 10\n",
       "7    8  [83.0, 271.0, 272.0, 1225.0, 1230.0, 1786.0, 1...                 11\n",
       "8    9  [84.0, 92.0, 264.0, 265.0, 266.0, 267.0, 268.0...                 48\n",
       "9   10           [1544.0, 1665.0, 2512.0, 2542.0, 2556.0]                  5\n",
       "10  11  [119.0, 260.0, 1439.0, 1444.0, 1536.0, 1543.0,...                 13\n",
       "11  12                   [1673.0, 1702.0, 1883.0, 2082.0]                  4\n",
       "12  13  [1514.0, 1515.0, 1516.0, 1517.0, 1565.0, 1570....                 16\n",
       "13  14                   [1755.0, 2080.0, 2544.0, 2573.0]                  4\n",
       "14  15   [1590.0, 1593.0, 1751.0, 1759.0, 1871.0, 2557.0]                  6\n",
       "15  16  [1518.0, 1538.0, 1539.0, 1758.0, 1762.0, 1872....                  9\n",
       "16  17  [1598.0, 1667.0, 1760.0, 1878.0, 1886.0, 2560....                  8\n",
       "17  18   [1519.0, 1521.0, 1604.0, 1740.0, 2561.0, 2564.0]                  6\n",
       "18  19                   [1549.0, 1625.0, 1761.0, 2609.0]                  4\n",
       "19  20                           [1541.0, 1698.0, 2546.0]                  3\n",
       "20  21  [1551.0, 1553.0, 1554.0, 1559.0, 1597.0, 1670....                  7\n",
       "21  22  [1201.0, 1250.0, 1253.0, 1254.0, 1542.0, 1548....                 16\n",
       "22  23                                           [2577.0]                  1\n",
       "23  24   [1197.0, 1649.0, 1669.0, 2547.0, 2582.0, 2610.0]                  6\n",
       "24  25  [1205.0, 1540.0, 1562.0, 1592.0, 1663.0, 1666....                 10\n",
       "25  26                   [1510.0, 1568.0, 2083.0, 2604.0]                  4\n",
       "26  27  [1560.0, 1578.0, 1606.0, 1647.0, 1701.0, 1880....                  8\n",
       "27  28  [1204.0, 1248.0, 1535.0, 1537.0, 1646.0, 1870....                 12\n",
       "28  29  [22.0, 86.0, 88.0, 90.0, 91.0, 97.0, 230.0, 23...                 48\n",
       "29  30   [2622.0, 2630.0, 2641.0, 2711.0, 2745.0, 2953.0]                  6\n",
       "30  31  [211.0, 215.0, 543.0, 2618.0, 2619.0, 2621.0, ...                 15\n",
       "31  32  [16.0, 1049.0, 2620.0, 2639.0, 2642.0, 2643.0,...                 14\n",
       "32  33  [1238.0, 2657.0, 2659.0, 2661.0, 2662.0, 2677....                  9\n",
       "33  34  [1242.0, 1452.0, 1467.0, 2656.0, 2672.0, 2676....                  8\n",
       "34  35           [2654.0, 2663.0, 2670.0, 2675.0, 2681.0]                  5\n",
       "35  36           [1231.0, 1453.0, 2669.0, 2674.0, 2685.0]                  5\n",
       "36  37                   [1795.0, 2666.0, 2673.0, 2970.0]                  4\n",
       "37  38                   [2664.0, 2680.0, 2682.0, 2969.0]                  4\n",
       "38  39                   [2696.0, 2697.0, 2698.0, 2742.0]                  4\n",
       "39  40   [1533.0, 1534.0, 2709.0, 2715.0, 2722.0, 2749.0]                  6\n",
       "40  41   [2690.0, 2708.0, 2712.0, 2720.0, 2727.0, 2753.0]                  6\n",
       "41  42                   [1660.0, 2695.0, 2730.0, 2752.0]                  4\n",
       "42  43   [1255.0, 1525.0, 1653.0, 1661.0, 2705.0, 2717.0]                  6\n",
       "43  44           [1526.0, 1528.0, 2702.0, 2726.0, 2750.0]                  5\n",
       "44  45           [1657.0, 2718.0, 2721.0, 2729.0, 2733.0]                  5\n",
       "45  46           [2647.0, 2707.0, 2732.0, 2735.0, 2737.0]                  5\n",
       "46  47           [1530.0, 1655.0, 2728.0, 2734.0, 2744.0]                  5\n",
       "47  48    [213.0, 2649.0, 2650.0, 2701.0, 2713.0, 2738.0]                  6\n",
       "48  49  [1193.0, 1256.0, 2704.0, 2714.0, 2719.0, 2746....                  7\n",
       "49  50  [1790.0, 1830.0, 2121.0, 2124.0, 2552.0, 2912....                  7\n",
       "50  51  [1206.0, 1474.0, 1617.0, 1618.0, 1789.0, 1829....                  8\n",
       "51  52         [20.0, 96.0, 242.0, 553.0, 1581.0, 1743.0]                  6\n",
       "52  53                   [1925.0, 1944.0, 1974.0, 2123.0]                  4\n",
       "53  54                                   [1946.0, 1955.0]                  2\n",
       "54  55  [1233.0, 1503.0, 1600.0, 1626.0, 1674.0, 1678....                 16\n",
       "55  56                                           [1757.0]                  1"
      ]
     },
     "execution_count": 13,
     "metadata": {},
     "output_type": "execute_result"
    }
   ],
   "source": [
    "grouped_data = df.groupby(0)['catalog_id'].apply(list).reset_index()\n",
    "grouped_data['catalog_id_length'] = grouped_data['catalog_id'].apply(lambda x: len(x))\n",
    "grouped_data.head(5)"
   ]
  },
  {
   "cell_type": "markdown",
   "metadata": {},
   "source": [
    "## Visualizing the clusters\n",
    "\n",
    "### t-Distributed Stochastic Neighbor Embedding (manifold embedding technique)\n",
    "\n",
    "t-Distributed Stochastic Neighbor Embedding (t-SNE) is a powerful dimensionality reduction technique used for visualizing high-dimensional data in lower-dimensional space. The main objectives of t-SNE are:\n",
    "- Preservation of local structure (locality)\n",
    "This means the points closer in high dimensional space should appear closer in a lower dimensional embedding.\n",
    "- Robustness to noise and outliers\n",
    "- Non linear embedding\n",
    "Self explanatory. It captures complex non linear relationships in the data, suitable for visualization of intricate manifolds.\n",
    "- Unsupervised learning"
   ]
  },
  {
   "cell_type": "code",
   "execution_count": 15,
   "metadata": {},
   "outputs": [
    {
     "data": {
      "application/vnd.plotly.v1+json": {
       "config": {
        "plotlyServerURL": "https://plot.ly"
       },
       "data": [
        {
         "hovertemplate": "PC1=%{x}<br>PC2=%{y}<br>Cluster=%{marker.color}<extra></extra>",
         "legendgroup": "",
         "marker": {
          "color": [
           6,
           6,
           32,
           6,
           1,
           52,
           29,
           1,
           8,
           9,
           29,
           1,
           29,
           1,
           29,
           29,
           9,
           1,
           52,
           29,
           1,
           1,
           11,
           2,
           4,
           2,
           1,
           1,
           1,
           1,
           1,
           1,
           1,
           1,
           1,
           1,
           1,
           1,
           1,
           1,
           1,
           1,
           1,
           1,
           6,
           6,
           6,
           6,
           6,
           6,
           6,
           6,
           6,
           4,
           4,
           6,
           6,
           6,
           4,
           5,
           5,
           5,
           4,
           5,
           6,
           31,
           48,
           31,
           5,
           6,
           4,
           6,
           5,
           5,
           6,
           6,
           5,
           6,
           2,
           29,
           29,
           29,
           1,
           52,
           1,
           1,
           1,
           1,
           1,
           7,
           11,
           7,
           7,
           9,
           9,
           9,
           9,
           9,
           8,
           8,
           29,
           29,
           6,
           6,
           6,
           5,
           6,
           6,
           31,
           1,
           52,
           9,
           6,
           6,
           6,
           4,
           4,
           5,
           6,
           6,
           6,
           9,
           9,
           9,
           9,
           9,
           9,
           9,
           1,
           1,
           1,
           1,
           1,
           1,
           1,
           1,
           1,
           1,
           6,
           6,
           6,
           6,
           5,
           6,
           5,
           32,
           5,
           5,
           4,
           6,
           6,
           5,
           4,
           5,
           6,
           3,
           6,
           6,
           4,
           6,
           6,
           4,
           6,
           4,
           6,
           6,
           2,
           4,
           2,
           1,
           5,
           3,
           6,
           3,
           4,
           6,
           4,
           1,
           5,
           2,
           4,
           2,
           4,
           2,
           4,
           4,
           49,
           24,
           22,
           28,
           25,
           51,
           1,
           9,
           9,
           8,
           9,
           9,
           8,
           36,
           55,
           33,
           34,
           29,
           28,
           22,
           22,
           22,
           43,
           49,
           1,
           1,
           29,
           3,
           1,
           11,
           1,
           1,
           29,
           29,
           11,
           2,
           1,
           34,
           36,
           34,
           1,
           1,
           29,
           29,
           51,
           9,
           1,
           29,
           55,
           1,
           1,
           1,
           26,
           1,
           1,
           13,
           13,
           13,
           13,
           16,
           18,
           18,
           43,
           44,
           44,
           47,
           40,
           40,
           28,
           11,
           28,
           16,
           16,
           25,
           20,
           22,
           11,
           10,
           22,
           19,
           22,
           21,
           21,
           21,
           21,
           27,
           1,
           25,
           1,
           13,
           1,
           26,
           29,
           13,
           29,
           1,
           1,
           29,
           27,
           1,
           1,
           52,
           1,
           1,
           1,
           1,
           1,
           1,
           1,
           15,
           1,
           25,
           15,
           13,
           21,
           17,
           1,
           55,
           13,
           1,
           18,
           1,
           27,
           1,
           1,
           1,
           1,
           1,
           6,
           51,
           51,
           1,
           1,
           1,
           19,
           55,
           1,
           29,
           1,
           1,
           29,
           1,
           1,
           13,
           13,
           13,
           13,
           28,
           27,
           24,
           43,
           47,
           45,
           42,
           43,
           22,
           25,
           22,
           10,
           25,
           17,
           22,
           24,
           21,
           25,
           25,
           12,
           55,
           29,
           55,
           1,
           1,
           1,
           1,
           1,
           1,
           1,
           29,
           1,
           1,
           1,
           25,
           22,
           20,
           27,
           12,
           55,
           29,
           29,
           29,
           18,
           1,
           52,
           1,
           1,
           1,
           29,
           22,
           15,
           13,
           14,
           56,
           16,
           15,
           17,
           19,
           16,
           29,
           29,
           29,
           29,
           29,
           29,
           29,
           29,
           29,
           1,
           3,
           6,
           6,
           6,
           5,
           6,
           3,
           2,
           3,
           1,
           1,
           8,
           11,
           11,
           51,
           50,
           37,
           1,
           1,
           1,
           1,
           9,
           9,
           9,
           9,
           9,
           9,
           9,
           9,
           9,
           9,
           9,
           9,
           9,
           8,
           9,
           7,
           7,
           7,
           7,
           7,
           9,
           8,
           7,
           7,
           9,
           1,
           1,
           55,
           51,
           50,
           5,
           4,
           6,
           6,
           4,
           6,
           6,
           6,
           6,
           6,
           6,
           5,
           1,
           1,
           1,
           1,
           1,
           1,
           8,
           9,
           51,
           1,
           1,
           6,
           9,
           11,
           11,
           9,
           28,
           15,
           16,
           5,
           13,
           22,
           17,
           27,
           1,
           12,
           17,
           28,
           1,
           1,
           6,
           4,
           53,
           1,
           1,
           1,
           1,
           1,
           55,
           55,
           53,
           55,
           54,
           1,
           1,
           1,
           1,
           1,
           1,
           1,
           1,
           54,
           1,
           1,
           1,
           1,
           1,
           1,
           1,
           1,
           1,
           1,
           1,
           1,
           1,
           1,
           1,
           53,
           1,
           1,
           1,
           1,
           1,
           1,
           1,
           11,
           8,
           13,
           14,
           12,
           26,
           29,
           29,
           1,
           1,
           1,
           1,
           1,
           55,
           29,
           50,
           53,
           50,
           1,
           1,
           1,
           1,
           1,
           29,
           1,
           1,
           1,
           1,
           1,
           1,
           1,
           1,
           1,
           1,
           1,
           1,
           1,
           1,
           1,
           1,
           1,
           1,
           1,
           1,
           1,
           1,
           1,
           1,
           1,
           1,
           1,
           1,
           1,
           1,
           1,
           1,
           1,
           1,
           1,
           1,
           1,
           1,
           1,
           1,
           1,
           1,
           1,
           1,
           1,
           1,
           1,
           1,
           1,
           1,
           1,
           1,
           1,
           1,
           1,
           1,
           1,
           1,
           1,
           1,
           1,
           1,
           1,
           1,
           1,
           1,
           1,
           1,
           1,
           1,
           1,
           1,
           1,
           1,
           1,
           1,
           1,
           1,
           1,
           1,
           1,
           1,
           1,
           1,
           1,
           1,
           1,
           1,
           11,
           1,
           1,
           1,
           1,
           1,
           1,
           1,
           1,
           1,
           1,
           1,
           1,
           1,
           29,
           29,
           1,
           10,
           1,
           1,
           1,
           9,
           55,
           1,
           6,
           5,
           4,
           5,
           4,
           6,
           4,
           6,
           5,
           51,
           9,
           9,
           9,
           9,
           9,
           8,
           21,
           28,
           10,
           16,
           14,
           22,
           20,
           24,
           22,
           27,
           9,
           9,
           50,
           9,
           55,
           10,
           15,
           28,
           17,
           18,
           16,
           28,
           18,
           13,
           16,
           14,
           28,
           27,
           28,
           23,
           24,
           5,
           17,
           26,
           25,
           19,
           24,
           22,
           17,
           5,
           31,
           31,
           32,
           31,
           30,
           31,
           30,
           31,
           32,
           55,
           30,
           32,
           32,
           32,
           31,
           46,
           32,
           48,
           48,
           31,
           32,
           32,
           35,
           32,
           34,
           33,
           33,
           33,
           33,
           35,
           38,
           37,
           36,
           35,
           34,
           37,
           36,
           35,
           34,
           33,
           34,
           38,
           35,
           38,
           33,
           33,
           36,
           34,
           41,
           31,
           42,
           39,
           39,
           39,
           48,
           44,
           49,
           43,
           46,
           41,
           40,
           32,
           30,
           41,
           48,
           49,
           40,
           43,
           45,
           49,
           41,
           45,
           40,
           44,
           41,
           47,
           45,
           42,
           46,
           45,
           47,
           46,
           46,
           48,
           39,
           47,
           30,
           49,
           40,
           44,
           49,
           42,
           41,
           11,
           50,
           55,
           50,
           1,
           1,
           1,
           1,
           1,
           1,
           1,
           1,
           5,
           4,
           6,
           1,
           1,
           29,
           29,
           1,
           1,
           1,
           1,
           1,
           1,
           1,
           1,
           31,
           32,
           31,
           31,
           30,
           31,
           32,
           1,
           1,
           1,
           1,
           1,
           1,
           29,
           29,
           1,
           33,
           38,
           37
          ],
          "coloraxis": "coloraxis",
          "symbol": "circle"
         },
         "mode": "markers",
         "name": "",
         "orientation": "v",
         "showlegend": false,
         "type": "scatter",
         "x": [
          48.779682,
          47.297028,
          -31.398525,
          51.086853,
          2.4718034,
          22.794897,
          30.892117,
          3.120856,
          4.19476,
          3.0421972,
          31.645573,
          2.7351005,
          32.4439,
          2.1951587,
          28.536463,
          28.957975,
          11.950392,
          1.9181211,
          22.858866,
          31.552368,
          3.277071,
          2.1735744,
          12.621383,
          47.273884,
          59.596413,
          42.276623,
          1.8930757,
          2.6426537,
          3.9850187,
          4.241436,
          3.65914,
          2.9343734,
          2.5913131,
          1.7241868,
          0.21829577,
          2.810714,
          2.5912488,
          5.5893645,
          2.6294456,
          2.5339212,
          2.9566298,
          3.9850187,
          1.9645166,
          2.7655835,
          45.582226,
          54.074486,
          57.331512,
          47.522,
          49.14246,
          55.072643,
          52.51667,
          44.241493,
          53.220036,
          56.95239,
          57.597347,
          51.36441,
          60.521854,
          51.390068,
          51.138206,
          45.54306,
          43.392017,
          49.47491,
          52.520653,
          44.331993,
          53.585022,
          -35.395576,
          -25.376173,
          -35.57163,
          42.130035,
          60.174393,
          55.193577,
          50.66902,
          42.837654,
          46.089367,
          51.965694,
          52.68393,
          46.710087,
          46.57901,
          42.602203,
          30.99424,
          30.085419,
          27.844063,
          3.321366,
          24.82059,
          3.9850187,
          3.9850187,
          4.94647,
          3.213355,
          2.9823754,
          19.5275,
          8.954574,
          16.945082,
          20.958708,
          10.859361,
          0.6869288,
          10.05834,
          3.369106,
          9.587025,
          3.7302234,
          6.23857,
          29.977388,
          30.103981,
          47.595226,
          60.560566,
          54.051807,
          44.345547,
          46.986786,
          49.06411,
          -34.375973,
          1.9688811,
          24.145428,
          1.0771942,
          45.636787,
          57.19989,
          47.429657,
          53.660873,
          54.373844,
          44.53388,
          47.69227,
          48.048725,
          50.38921,
          0.7391073,
          3.5170636,
          8.4565,
          1.869194,
          1.3521738,
          6.8793445,
          10.745272,
          -1.2176826,
          5.9607973,
          5.9607973,
          5.9607973,
          5.9607973,
          5.9607973,
          5.9607973,
          5.9607973,
          5.9607973,
          5.9607973,
          40.81814,
          42.04022,
          49.54864,
          52.38508,
          46.023384,
          55.24942,
          44.207912,
          -30.044127,
          49.039913,
          46.462055,
          51.689785,
          46.196167,
          46.699963,
          50.135864,
          59.892204,
          44.402702,
          54.502014,
          48.95212,
          48.683243,
          47.38232,
          60.791492,
          47.624386,
          50.40274,
          59.010387,
          43.15869,
          52.849766,
          53.673622,
          48.519623,
          42.12816,
          56.802544,
          43.026833,
          5.9607973,
          48.922447,
          39.75568,
          57.36125,
          50.17491,
          53.459026,
          50.362705,
          55.24778,
          5.9607973,
          47.633472,
          42.51081,
          60.988186,
          47.850758,
          60.65836,
          42.142952,
          58.42747,
          61.146427,
          -20.811073,
          -15.144306,
          -23.990606,
          -19.169563,
          -17.177216,
          4.783344,
          5.9607973,
          9.224006,
          10.593398,
          0.9851873,
          7.2731223,
          10.736392,
          1.1339068,
          -44.48616,
          -6.5721707,
          -44.449978,
          -42.30875,
          27.285366,
          -19.765808,
          -23.007309,
          -25.16064,
          -20.484837,
          -14.975086,
          -20.526825,
          5.9607973,
          5.9607973,
          28.872252,
          38.759083,
          5.9607973,
          9.269932,
          5.9607973,
          5.9607973,
          31.942139,
          29.925703,
          14.967243,
          44.062664,
          5.9607973,
          -44.607597,
          -40.388916,
          -42.33619,
          5.9607973,
          5.9607973,
          31.276741,
          32.781834,
          3.1393616,
          11.011647,
          5.9607973,
          23.839064,
          5.9607973,
          5.9607973,
          -8.442745,
          5.9607973,
          -26.67992,
          5.9607973,
          5.9607973,
          -24.871517,
          -26.942451,
          -24.73029,
          -26.984333,
          -8.431826,
          -12.261475,
          -27.012775,
          -15.169333,
          -16.9412,
          -18.815243,
          -23.132402,
          -20.088358,
          -18.20968,
          -20.40276,
          11.706211,
          -19.654314,
          -11.501121,
          -8.669667,
          -16.547522,
          -20.399128,
          -22.325989,
          1.6788224,
          -0.72336483,
          -13.2275305,
          -8.138428,
          -23.092163,
          -25.092978,
          -23.126743,
          -23.908728,
          -24.241476,
          -18.99337,
          5.9607973,
          -16.811739,
          5.9607973,
          -24.50032,
          5.9607973,
          -26.752403,
          23.650484,
          25.68651,
          28.47022,
          5.9607973,
          5.9607973,
          28.003336,
          -17.322338,
          5.9607973,
          5.9607973,
          23.978949,
          5.9607973,
          5.9607973,
          5.9607973,
          5.9607973,
          5.9607973,
          5.9607973,
          5.9607973,
          15.078138,
          5.9607973,
          -16.491327,
          17.278517,
          -25.002571,
          -23.901184,
          -14.605352,
          5.9607973,
          7.3397098,
          -21.06048,
          5.9607973,
          23.548254,
          5.9607973,
          -17.43467,
          5.9607973,
          5.9607973,
          5.9607973,
          5.9607973,
          5.9607973,
          42.091255,
          4.7833643,
          4.1032114,
          5.9607973,
          5.9607973,
          5.9607973,
          -7.481555,
          -6.4027925,
          5.9607973,
          19.50989,
          5.9607973,
          5.9607973,
          21.90514,
          5.9607973,
          5.9607973,
          -25.364004,
          -26.097279,
          -25.554462,
          -26.014252,
          -18.195293,
          -18.894802,
          -13.600115,
          -15.816857,
          -24.509558,
          -17.075233,
          -19.038605,
          -17.002674,
          -22.882978,
          -17.320189,
          -23.129213,
          1.3140653,
          -18.123302,
          -15.505456,
          -22.925564,
          -12.7555,
          -21.575478,
          -16.69013,
          -16.097609,
          -26.969116,
          -10.841795,
          26.300144,
          -1.9386915,
          5.9607973,
          5.9607973,
          5.9607973,
          5.9607973,
          5.9607973,
          5.9607973,
          5.9607973,
          23.653803,
          5.9607973,
          5.9607973,
          5.9607973,
          -17.374376,
          -19.936579,
          -13.347712,
          -19.406237,
          -28.11203,
          -10.841747,
          20.948582,
          26.2014,
          24.047428,
          -12.153564,
          5.9607973,
          23.93413,
          5.9607973,
          -3.6332238,
          5.9607973,
          27.91779,
          -22.86385,
          15.885272,
          -24.249725,
          -8.073994,
          7.534383,
          -8.527508,
          -6.662751,
          -15.089078,
          -7.8376207,
          -8.845843,
          21.403158,
          25.507494,
          26.29009,
          21.876907,
          23.68253,
          22.556652,
          26.587471,
          19.365559,
          27.976706,
          5.9607973,
          49.141632,
          52.08339,
          41.14548,
          45.806023,
          41.242302,
          46.98055,
          49.150585,
          47.347664,
          50.15286,
          5.9607973,
          5.9607973,
          3.840766,
          8.604757,
          10.179439,
          0.22202434,
          5.754682,
          -43.974743,
          5.9607973,
          5.9607973,
          5.9607973,
          5.9607973,
          9.222074,
          8.237873,
          7.0072627,
          5.686369,
          6.458923,
          1.9633654,
          1.9757134,
          10.027839,
          6.9689817,
          7.0333815,
          6.7289677,
          6.8989425,
          9.58747,
          5.3581657,
          8.615243,
          22.002413,
          20.659946,
          20.99308,
          20.795366,
          20.694408,
          1.6325583,
          5.2647376,
          18.822968,
          18.892004,
          1.171295,
          5.9607973,
          5.9607973,
          27.681717,
          4.585804,
          6.1263685,
          43.280178,
          52.59935,
          42.790375,
          48.89368,
          58.754128,
          54.094074,
          57.206383,
          48.62053,
          48.75795,
          50.07249,
          56.786842,
          42.10661,
          5.9607973,
          5.9607973,
          5.9607973,
          5.9607973,
          5.9607973,
          -3.066745,
          4.846407,
          6.9628806,
          4.346125,
          5.9607973,
          5.9607973,
          55.77091,
          7.573831,
          13.327087,
          1.1927829,
          7.885524,
          -18.543392,
          15.435914,
          -9.319859,
          48.337036,
          -26.626015,
          -13.174087,
          -12.989162,
          -18.395657,
          5.9607973,
          -27.664131,
          -14.481754,
          -18.134407,
          5.9607973,
          5.9607973,
          50.565094,
          59.242596,
          -17.329258,
          5.9607973,
          5.9607973,
          -5.3104877,
          5.9607973,
          5.9607973,
          -13.0785,
          -13.086303,
          -17.388523,
          -34.478634,
          -9.727306,
          5.9607973,
          5.9607973,
          5.9607973,
          5.9607973,
          5.9607973,
          5.9607973,
          5.9607973,
          5.9607973,
          -9.724686,
          5.9607973,
          5.9607973,
          5.9607973,
          5.9607973,
          5.9607973,
          -4.2663302,
          5.9607973,
          5.9607973,
          5.9607973,
          5.9607973,
          5.9607973,
          5.9607973,
          5.9607973,
          5.9607973,
          5.9607973,
          -17.643875,
          5.9607973,
          5.9607973,
          5.9607973,
          5.9607973,
          5.9607973,
          5.9607973,
          5.9607973,
          13.728654,
          1.1466507,
          -24.244331,
          -15.69429,
          -27.999628,
          -20.344275,
          25.031328,
          23.708729,
          5.9607973,
          5.9607973,
          5.9607973,
          5.9607973,
          5.9607973,
          17.939098,
          27.285366,
          5.9432883,
          -17.41227,
          5.538359,
          5.9607973,
          5.9607973,
          5.9607973,
          5.9607973,
          5.9607973,
          27.285366,
          -3.6332238,
          7.051511,
          5.9607973,
          5.9607973,
          5.9607973,
          5.9607973,
          -3.814327,
          5.9607973,
          5.9607973,
          5.9607973,
          5.9607973,
          5.9607973,
          5.9607973,
          5.9607973,
          5.9607973,
          5.9607973,
          5.9607973,
          5.9607973,
          5.9607973,
          5.9607973,
          5.9607973,
          5.9607973,
          5.9607973,
          5.9607973,
          5.9607973,
          -5.4466915,
          5.9607973,
          5.9607973,
          5.9607973,
          5.9607973,
          5.9607973,
          5.9607973,
          5.9607973,
          -6.5937266,
          5.9607973,
          5.9607973,
          5.9607973,
          5.9607973,
          5.9607973,
          5.9607973,
          5.9607973,
          5.9607973,
          5.9607973,
          5.9607973,
          -2.6276488,
          5.9607973,
          5.9607973,
          5.9607973,
          5.9607973,
          5.9607973,
          5.9607973,
          5.9607973,
          5.9607973,
          5.9607973,
          5.9607973,
          5.9607973,
          5.9607973,
          5.9607973,
          5.9607973,
          5.9607973,
          5.9607973,
          5.9607973,
          5.9607973,
          5.9607973,
          5.9607973,
          5.9607973,
          5.9607973,
          5.9607973,
          5.9607973,
          5.9607973,
          5.9607973,
          5.9607973,
          5.9607973,
          5.9607973,
          5.9607973,
          5.9607973,
          5.9607973,
          5.9607973,
          5.9607973,
          5.9607973,
          5.9607973,
          5.9607973,
          7.068519,
          5.9607973,
          5.9607973,
          5.9607973,
          5.9607973,
          5.9607973,
          13.729352,
          5.9607973,
          -5.8063083,
          5.9607973,
          5.9607973,
          5.9607973,
          5.9607973,
          5.9607973,
          5.9607973,
          5.9607973,
          5.9607973,
          5.9607973,
          5.9607973,
          5.9607973,
          27.285366,
          30.34217,
          5.9607973,
          0.11754462,
          5.9607973,
          5.9607973,
          5.9607973,
          11.586127,
          4.175282,
          5.9607973,
          44.64249,
          46.36203,
          52.04198,
          42.096054,
          46.964127,
          60.573997,
          53.07637,
          41.672073,
          43.255123,
          4.236082,
          8.170428,
          7.174914,
          9.026543,
          6.510435,
          3.5942628,
          1.0251375,
          -23.090982,
          -17.141674,
          -11.329367,
          -11.215649,
          -15.69448,
          -12.700592,
          -20.383764,
          4.786961,
          -21.66064,
          -16.70986,
          9.179919,
          2.107649,
          6.348079,
          10.762509,
          17.88804,
          -0.27348232,
          14.07714,
          -19.803617,
          -13.633024,
          -14.849527,
          -7.0107193,
          -18.732998,
          -26.636904,
          -23.64089,
          -7.9611235,
          -7.6691675,
          -20.29782,
          -19.30093,
          -19.270765,
          -25.554832,
          -12.527219,
          44.779526,
          -15.520866,
          -19.396858,
          -15.318761,
          -7.3186245,
          -14.426922,
          -21.722734,
          -15.895726,
          45.856647,
          -34.138687,
          -36.833233,
          -32.874935,
          -34.581562,
          -37.97606,
          -36.045685,
          -37.983833,
          -34.803406,
          -32.979473,
          -6.4027925,
          -36.775494,
          -32.21061,
          -38.361713,
          -31.953457,
          -36.721684,
          -28.65839,
          -30.441988,
          -24.859623,
          -23.936663,
          -34.881073,
          -33.695377,
          -33.398983,
          -36.189713,
          -33.291435,
          -43.805943,
          -44.370995,
          -45.111794,
          -44.80855,
          -43.81317,
          -37.16302,
          -42.149586,
          -43.980347,
          -37.369427,
          -36.299114,
          -42.632683,
          -43.956562,
          -43.35741,
          -36.29908,
          -45.892796,
          -44.811737,
          -44.69036,
          -40.262035,
          -36.73663,
          -40.776802,
          -46.494606,
          -45.66135,
          -40.006676,
          -44.785084,
          -18.066128,
          -36.33917,
          -21.156496,
          -15.051853,
          -15.0178795,
          -14.824039,
          -23.723524,
          -18.63472,
          -20.4077,
          -15.182868,
          -27.923428,
          -21.452633,
          -22.072788,
          -35.340805,
          -38.48889,
          -20.4018,
          -22.939444,
          -21.56388,
          -19.549742,
          -15.285183,
          -18.84359,
          -27.279009,
          -18.545101,
          -17.425598,
          -19.283312,
          -17.268454,
          -17.557219,
          -22.20247,
          -17.83722,
          -17.026085,
          -27.108713,
          -19.80818,
          -23.05267,
          -28.357899,
          -28.65179,
          -23.95938,
          -15.419715,
          -23.45474,
          -37.980366,
          -20.775915,
          -22.834776,
          -18.463905,
          -33.183624,
          -17.208466,
          -21.610655,
          13.728654,
          5.95689,
          17.64014,
          6.9746222,
          5.9607973,
          5.9607973,
          5.9607973,
          5.9607973,
          5.9607973,
          5.9607973,
          5.9607973,
          5.9607973,
          45.547882,
          53.47012,
          50.973873,
          5.9607973,
          5.9607973,
          27.293129,
          29.170116,
          5.9607973,
          5.9607973,
          5.9607973,
          -8.801209,
          5.9607973,
          5.9607973,
          5.9607973,
          5.9607973,
          -34.75926,
          -32.58366,
          -33.77427,
          -33.198616,
          -37.602528,
          -32.538734,
          -33.483807,
          5.9607973,
          5.9607973,
          5.9607973,
          5.9607973,
          5.9607973,
          5.9607973,
          29.261007,
          27.293129,
          5.9607973,
          -45.082764,
          -41.44631,
          -44.114178
         ],
         "xaxis": "x",
         "y": [
          -22.9406,
          -23.014057,
          -31.459814,
          -17.15974,
          -5.370267,
          7.7614975,
          24.453144,
          -9.601056,
          57.97988,
          51.480553,
          28.208002,
          -8.613024,
          28.468285,
          -5.9061847,
          32.198334,
          26.48311,
          52.48585,
          -8.384198,
          7.819912,
          24.326252,
          -9.929596,
          -8.882898,
          47.31212,
          -36.622944,
          -10.94572,
          -34.001766,
          -7.8225093,
          -8.176314,
          -4.6654787,
          -10.597812,
          -10.258578,
          -9.049032,
          -7.8077846,
          -7.3168373,
          1.9727247,
          -6.436006,
          -7.3667073,
          -4.1562996,
          -7.079069,
          -9.460752,
          -4.924348,
          -4.6654787,
          -6.312635,
          -6.556478,
          -26.700253,
          -20.626343,
          -14.5420265,
          -25.354591,
          -25.850517,
          -15.823717,
          -21.990704,
          -27.738043,
          -19.838799,
          -11.443549,
          -11.193011,
          -16.905298,
          -13.06407,
          -21.841997,
          -13.06301,
          -16.579103,
          -13.191936,
          -13.686536,
          -10.246946,
          -11.460032,
          -16.186462,
          -31.950418,
          -35.432106,
          -35.6717,
          -13.055447,
          -13.728984,
          -11.890192,
          -22.221437,
          -13.735174,
          -14.039426,
          -21.559656,
          -15.894211,
          -11.610969,
          -27.183132,
          -34.374245,
          31.510267,
          32.487675,
          26.091366,
          -5.414635,
          9.397779,
          -4.6654787,
          -4.6654787,
          -4.2235675,
          -5.613587,
          -5.9752975,
          54.324806,
          47.955784,
          53.632412,
          54.326668,
          50.455883,
          52.151085,
          53.86894,
          50.315804,
          56.306984,
          58.687866,
          53.801186,
          30.619114,
          31.509186,
          -27.504707,
          -12.36224,
          -20.292137,
          -14.0385,
          -27.46608,
          -26.717663,
          -33.726173,
          -6.8835583,
          8.98475,
          53.719288,
          -29.012278,
          -16.719997,
          -23.247526,
          -9.790401,
          -10.847208,
          -16.791723,
          -31.710737,
          -27.353258,
          -27.464962,
          52.188,
          50.189316,
          58.304253,
          52.47717,
          53.201416,
          52.688717,
          58.243587,
          -6.023871,
          -7.591027,
          -7.591027,
          -7.591027,
          -7.591027,
          -7.591027,
          -7.591027,
          -7.591027,
          -7.591027,
          -7.591027,
          -27.782967,
          -30.890282,
          -31.292456,
          -20.8012,
          -15.370007,
          -21.105024,
          -15.598193,
          -31.025667,
          -14.913634,
          -14.958532,
          -12.409311,
          -28.132874,
          -25.335566,
          -13.724145,
          -10.470429,
          -14.4146185,
          -19.667763,
          -4.977279,
          -22.512514,
          -28.569954,
          -10.454614,
          -30.69848,
          -30.573717,
          -18.80185,
          -28.873966,
          -10.78299,
          -20.625248,
          -31.582499,
          -34.704575,
          -13.127464,
          -35.269764,
          -7.591027,
          -15.812828,
          -27.669962,
          -15.575092,
          -8.371096,
          -11.707094,
          -27.52834,
          -12.282011,
          -7.591027,
          -11.18683,
          -34.926956,
          -9.058734,
          -37.481304,
          -10.019051,
          -34.683716,
          -9.0637865,
          -9.068833,
          -40.516224,
          40.01081,
          33.804703,
          33.735382,
          40.492496,
          65.34315,
          -7.591027,
          56.835613,
          52.1668,
          57.654385,
          49.622387,
          52.00791,
          60.048687,
          -14.41243,
          -11.310833,
          -10.926832,
          -9.730578,
          25.5621,
          37.359093,
          36.60648,
          35.669544,
          32.640858,
          -36.359417,
          -41.220448,
          -7.591027,
          -7.591027,
          24.887957,
          -27.467978,
          -7.591027,
          49.176323,
          -7.591027,
          -7.591027,
          24.14923,
          30.848818,
          47.852745,
          -33.325836,
          -7.591027,
          -8.363513,
          -9.346114,
          -8.583715,
          -7.591027,
          -7.591027,
          27.492498,
          28.574343,
          63.083366,
          59.222313,
          -7.591027,
          28.242596,
          -7.591027,
          -7.591027,
          -9.463023,
          -7.591027,
          24.740618,
          -7.591027,
          -7.591027,
          17.156101,
          18.586939,
          18.322887,
          19.114706,
          32.828407,
          27.188248,
          31.5238,
          -30.62061,
          -33.039234,
          -33.4908,
          -29.121113,
          -44.374832,
          -43.947124,
          32.058376,
          50.33777,
          32.62594,
          31.343718,
          33.31907,
          42.54887,
          26.184147,
          32.391098,
          46.80035,
          44.99526,
          34.06065,
          23.870724,
          34.876904,
          28.318195,
          29.585718,
          26.847775,
          26.688559,
          31.20293,
          -7.591027,
          41.587173,
          -7.591027,
          20.450851,
          -7.591027,
          24.006876,
          20.682852,
          23.827797,
          28.620472,
          -7.591027,
          -7.591027,
          21.900318,
          28.05947,
          -7.591027,
          -7.591027,
          8.881475,
          -7.591027,
          -7.591027,
          -7.591027,
          -7.591027,
          -7.591027,
          -7.591027,
          -7.591027,
          26.104631,
          -7.591027,
          41.692036,
          26.438848,
          16.724625,
          25.270462,
          25.18312,
          -7.591027,
          18.159214,
          19.685244,
          -7.591027,
          29.775274,
          -7.591027,
          30.436083,
          -7.591027,
          -7.591027,
          -7.591027,
          -7.591027,
          -7.591027,
          -31.118002,
          65.343185,
          63.264256,
          -7.591027,
          -7.591027,
          -7.591027,
          23.523617,
          -6.9183383,
          -7.591027,
          26.209177,
          -7.591027,
          -7.591027,
          24.907536,
          -7.591027,
          -7.591027,
          18.45769,
          16.686266,
          17.166317,
          17.888695,
          34.72549,
          29.771084,
          40.22797,
          -30.32929,
          -28.311188,
          -30.220545,
          -40.4114,
          -38.68673,
          33.749203,
          37.702484,
          31.802351,
          45.449425,
          39.20474,
          26.521736,
          34.03889,
          40.938908,
          29.911034,
          38.87342,
          39.026745,
          20.770815,
          -2.932373,
          24.862633,
          -0.17939095,
          -7.591027,
          -7.591027,
          -7.591027,
          -7.591027,
          -7.591027,
          -7.591027,
          -7.591027,
          20.6896,
          -7.591027,
          -7.591027,
          -7.591027,
          38.56923,
          35.402504,
          24.834309,
          28.907423,
          19.144173,
          -2.9323092,
          26.393026,
          26.060669,
          27.517773,
          28.117603,
          -7.591027,
          8.831138,
          -7.591027,
          -10.641022,
          -7.591027,
          22.360231,
          36.94749,
          26.448484,
          18.152662,
          28.946556,
          18.289406,
          31.492619,
          29.947142,
          28.119852,
          23.713268,
          31.456978,
          26.028694,
          26.85339,
          27.922094,
          26.437479,
          29.160147,
          25.928596,
          27.01378,
          26.205576,
          30.260565,
          -7.591027,
          -4.575626,
          -16.403385,
          -27.02156,
          -32.408646,
          -13.129258,
          -29.223639,
          -4.125645,
          -36.751293,
          -6.3950973,
          -7.591027,
          -7.591027,
          56.930058,
          47.368523,
          48.904892,
          48.98396,
          38.910183,
          -5.4069605,
          -7.591027,
          -7.591027,
          -7.591027,
          -7.591027,
          57.36268,
          50.046944,
          58.643494,
          50.37962,
          56.843624,
          50.940506,
          52.340683,
          49.980263,
          51.84266,
          60.684265,
          51.73994,
          50.86961,
          58.557518,
          57.948124,
          60.01374,
          54.158108,
          54.325516,
          53.637787,
          53.3362,
          52.97683,
          48.589855,
          53.843384,
          53.24105,
          53.28934,
          48.666595,
          -7.591027,
          -7.591027,
          24.05478,
          64.50507,
          39.850243,
          -18.123646,
          -11.644065,
          -28.473314,
          -31.94316,
          -18.637428,
          -16.80705,
          -14.965121,
          -30.042765,
          -28.734018,
          -23.555239,
          -17.036612,
          -14.523557,
          -7.591027,
          -7.591027,
          -7.591027,
          -7.591027,
          -7.591027,
          -2.963253,
          58.30427,
          60.66586,
          63.92903,
          -7.591027,
          -7.591027,
          -17.220034,
          50.122036,
          48.580475,
          46.552097,
          52.425163,
          38.79293,
          26.49711,
          31.224459,
          -15.119185,
          17.972372,
          33.96816,
          28.366602,
          29.978836,
          -7.591027,
          20.033377,
          28.103409,
          34.429764,
          -7.591027,
          -7.591027,
          -25.07927,
          -11.001741,
          0.1743151,
          -7.591027,
          -7.591027,
          -1.4042069,
          -7.591027,
          -7.591027,
          -9.509949,
          -9.511002,
          0.10244791,
          86.79787,
          -15.697167,
          -7.591027,
          -7.591027,
          -7.591027,
          -7.591027,
          -7.591027,
          -7.591027,
          -7.591027,
          -7.591027,
          -15.689825,
          -7.591027,
          -7.591027,
          -7.591027,
          -7.591027,
          -7.591027,
          -5.085829,
          -7.591027,
          -7.591027,
          -7.591027,
          -7.591027,
          -7.591027,
          -7.591027,
          -7.591027,
          -7.591027,
          -7.591027,
          -0.2734835,
          -7.591027,
          -7.591027,
          -7.591027,
          -7.591027,
          -7.591027,
          -7.591027,
          -7.591027,
          47.920525,
          60.095345,
          20.250507,
          31.304243,
          20.359282,
          40.259018,
          25.076487,
          27.107603,
          -7.591027,
          -7.591027,
          -7.591027,
          -7.591027,
          -7.591027,
          42.03173,
          25.5621,
          39.676037,
          0.084802195,
          40.07321,
          -7.591027,
          -7.591027,
          -7.591027,
          -7.591027,
          -7.591027,
          25.5621,
          -10.641022,
          -31.725288,
          -7.591027,
          -7.591027,
          -7.591027,
          -7.591027,
          -7.487685,
          -7.591027,
          -7.591027,
          -7.591027,
          -7.591027,
          -7.591027,
          -7.591027,
          -7.591027,
          -7.591027,
          -7.591027,
          -7.591027,
          -7.591027,
          -7.591027,
          -7.591027,
          -7.591027,
          -7.591027,
          -7.591027,
          -7.591027,
          -7.591027,
          -13.536004,
          -7.591027,
          -7.591027,
          -7.591027,
          -7.591027,
          -7.591027,
          -7.591027,
          -7.591027,
          -3.941293,
          -7.591027,
          -7.591027,
          -7.591027,
          -7.591027,
          -7.591027,
          -7.591027,
          -7.591027,
          -7.591027,
          -7.591027,
          -7.591027,
          -14.108733,
          -7.591027,
          -7.591027,
          -7.591027,
          -7.591027,
          -7.591027,
          -7.591027,
          -7.591027,
          -7.591027,
          -7.591027,
          -7.591027,
          -7.591027,
          -7.591027,
          -7.591027,
          -7.591027,
          -7.591027,
          -7.591027,
          -7.591027,
          -7.591027,
          -7.591027,
          -7.591027,
          -7.591027,
          -7.591027,
          -7.591027,
          -7.591027,
          -7.591027,
          -7.591027,
          -7.591027,
          -7.591027,
          -7.591027,
          -7.591027,
          -7.591027,
          -7.591027,
          -7.591027,
          -7.591027,
          -7.591027,
          -7.591027,
          -7.591027,
          -31.824982,
          -7.591027,
          -7.591027,
          -7.591027,
          -7.591027,
          -7.591027,
          47.543465,
          -7.591027,
          -9.155514,
          -7.591027,
          -7.591027,
          -7.591027,
          -7.591027,
          -7.591027,
          -7.591027,
          -7.591027,
          -7.591027,
          -7.591027,
          -7.591027,
          -7.591027,
          25.5621,
          33.215843,
          -7.591027,
          46.205944,
          -7.591027,
          -7.591027,
          -7.591027,
          57.58143,
          40.86683,
          -7.591027,
          -26.965296,
          -22.645401,
          -11.879942,
          -15.44866,
          -16.986586,
          -12.439012,
          -28.404491,
          -28.341208,
          -18.157183,
          62.99331,
          58.43256,
          61.59026,
          56.46568,
          56.152176,
          51.742756,
          57.680855,
          29.512484,
          34.655254,
          40.475822,
          31.176662,
          31.112473,
          38.54739,
          26.406178,
          66.18258,
          34.723763,
          29.418983,
          58.875557,
          49.937878,
          40.443447,
          52.120842,
          42.098133,
          45.622707,
          27.363794,
          37.425537,
          28.494492,
          24.26474,
          32.433968,
          39.86679,
          31.58974,
          18.141737,
          31.34626,
          29.948088,
          37.98806,
          29.10369,
          39.646835,
          35.94003,
          40.22575,
          -12.192725,
          26.495668,
          40.863747,
          38.247784,
          23.53357,
          40.016945,
          32.59403,
          26.811749,
          -14.15057,
          -33.19963,
          -31.195911,
          -30.576654,
          -35.513187,
          -29.022848,
          -30.95344,
          -28.83104,
          -33.80757,
          -29.687881,
          -6.9183383,
          -35.74831,
          -35.03664,
          -32.171688,
          -30.480669,
          -32.923878,
          -30.793367,
          -32.15552,
          -35.28503,
          -35.221043,
          -30.686035,
          -28.634672,
          -28.490654,
          -10.366235,
          -31.26944,
          -10.36263,
          -12.314577,
          -12.956061,
          -11.855983,
          -11.147151,
          -10.911091,
          -12.464479,
          -5.3732386,
          -9.030784,
          -10.297925,
          -9.628108,
          -5.278032,
          -6.3270655,
          -10.29793,
          -9.530364,
          -11.625565,
          -9.840648,
          -13.4584255,
          -10.30113,
          -13.191845,
          -12.3701,
          -12.754538,
          -9.318495,
          -9.396041,
          -36.501926,
          -31.58243,
          -28.974655,
          -41.95379,
          -40.43035,
          -40.0767,
          -34.902233,
          -33.552917,
          -40.822056,
          -36.099632,
          -31.007809,
          -35.94835,
          -31.480467,
          -28.811058,
          -28.565586,
          -36.2649,
          -35.389698,
          -40.50816,
          -44.07848,
          -35.72628,
          -30.200785,
          -36.3991,
          -36.26508,
          -30.310614,
          -43.992817,
          -33.244156,
          -36.66814,
          -29.28286,
          -30.374046,
          -40.158924,
          -31.159042,
          -31.726164,
          -29.203365,
          -29.859228,
          -30.79019,
          -35.217384,
          -40.627945,
          -29.064987,
          -29.718662,
          -40.430435,
          -32.89351,
          -34.32542,
          -36.48117,
          -39.64847,
          -35.18843,
          47.920525,
          39.569584,
          42.487774,
          38.97193,
          -7.591027,
          -7.591027,
          -7.591027,
          -7.591027,
          -7.591027,
          -7.591027,
          -7.591027,
          -7.591027,
          -12.197117,
          -28.341375,
          -31.06149,
          -7.591027,
          -7.591027,
          26.256691,
          30.304527,
          -7.591027,
          -7.591027,
          -7.591027,
          -6.2075667,
          -7.591027,
          -7.591027,
          -7.591027,
          -7.591027,
          -33.135323,
          -31.798893,
          -34.94485,
          -34.21045,
          -28.856497,
          -33.58814,
          -30.549326,
          -7.591027,
          -7.591027,
          -7.591027,
          -7.591027,
          -7.591027,
          -7.591027,
          30.451754,
          26.256691,
          -7.591027,
          -12.184503,
          -12.652689,
          -5.511457
         ],
         "yaxis": "y"
        }
       ],
       "layout": {
        "coloraxis": {
         "colorbar": {
          "title": {
           "text": "Cluster"
          }
         },
         "colorscale": [
          [
           0,
           "#0d0887"
          ],
          [
           0.1111111111111111,
           "#46039f"
          ],
          [
           0.2222222222222222,
           "#7201a8"
          ],
          [
           0.3333333333333333,
           "#9c179e"
          ],
          [
           0.4444444444444444,
           "#bd3786"
          ],
          [
           0.5555555555555556,
           "#d8576b"
          ],
          [
           0.6666666666666666,
           "#ed7953"
          ],
          [
           0.7777777777777778,
           "#fb9f3a"
          ],
          [
           0.8888888888888888,
           "#fdca26"
          ],
          [
           1,
           "#f0f921"
          ]
         ]
        },
        "legend": {
         "tracegroupgap": 0
        },
        "template": {
         "data": {
          "bar": [
           {
            "error_x": {
             "color": "#2a3f5f"
            },
            "error_y": {
             "color": "#2a3f5f"
            },
            "marker": {
             "line": {
              "color": "#E5ECF6",
              "width": 0.5
             },
             "pattern": {
              "fillmode": "overlay",
              "size": 10,
              "solidity": 0.2
             }
            },
            "type": "bar"
           }
          ],
          "barpolar": [
           {
            "marker": {
             "line": {
              "color": "#E5ECF6",
              "width": 0.5
             },
             "pattern": {
              "fillmode": "overlay",
              "size": 10,
              "solidity": 0.2
             }
            },
            "type": "barpolar"
           }
          ],
          "carpet": [
           {
            "aaxis": {
             "endlinecolor": "#2a3f5f",
             "gridcolor": "white",
             "linecolor": "white",
             "minorgridcolor": "white",
             "startlinecolor": "#2a3f5f"
            },
            "baxis": {
             "endlinecolor": "#2a3f5f",
             "gridcolor": "white",
             "linecolor": "white",
             "minorgridcolor": "white",
             "startlinecolor": "#2a3f5f"
            },
            "type": "carpet"
           }
          ],
          "choropleth": [
           {
            "colorbar": {
             "outlinewidth": 0,
             "ticks": ""
            },
            "type": "choropleth"
           }
          ],
          "contour": [
           {
            "colorbar": {
             "outlinewidth": 0,
             "ticks": ""
            },
            "colorscale": [
             [
              0,
              "#0d0887"
             ],
             [
              0.1111111111111111,
              "#46039f"
             ],
             [
              0.2222222222222222,
              "#7201a8"
             ],
             [
              0.3333333333333333,
              "#9c179e"
             ],
             [
              0.4444444444444444,
              "#bd3786"
             ],
             [
              0.5555555555555556,
              "#d8576b"
             ],
             [
              0.6666666666666666,
              "#ed7953"
             ],
             [
              0.7777777777777778,
              "#fb9f3a"
             ],
             [
              0.8888888888888888,
              "#fdca26"
             ],
             [
              1,
              "#f0f921"
             ]
            ],
            "type": "contour"
           }
          ],
          "contourcarpet": [
           {
            "colorbar": {
             "outlinewidth": 0,
             "ticks": ""
            },
            "type": "contourcarpet"
           }
          ],
          "heatmap": [
           {
            "colorbar": {
             "outlinewidth": 0,
             "ticks": ""
            },
            "colorscale": [
             [
              0,
              "#0d0887"
             ],
             [
              0.1111111111111111,
              "#46039f"
             ],
             [
              0.2222222222222222,
              "#7201a8"
             ],
             [
              0.3333333333333333,
              "#9c179e"
             ],
             [
              0.4444444444444444,
              "#bd3786"
             ],
             [
              0.5555555555555556,
              "#d8576b"
             ],
             [
              0.6666666666666666,
              "#ed7953"
             ],
             [
              0.7777777777777778,
              "#fb9f3a"
             ],
             [
              0.8888888888888888,
              "#fdca26"
             ],
             [
              1,
              "#f0f921"
             ]
            ],
            "type": "heatmap"
           }
          ],
          "heatmapgl": [
           {
            "colorbar": {
             "outlinewidth": 0,
             "ticks": ""
            },
            "colorscale": [
             [
              0,
              "#0d0887"
             ],
             [
              0.1111111111111111,
              "#46039f"
             ],
             [
              0.2222222222222222,
              "#7201a8"
             ],
             [
              0.3333333333333333,
              "#9c179e"
             ],
             [
              0.4444444444444444,
              "#bd3786"
             ],
             [
              0.5555555555555556,
              "#d8576b"
             ],
             [
              0.6666666666666666,
              "#ed7953"
             ],
             [
              0.7777777777777778,
              "#fb9f3a"
             ],
             [
              0.8888888888888888,
              "#fdca26"
             ],
             [
              1,
              "#f0f921"
             ]
            ],
            "type": "heatmapgl"
           }
          ],
          "histogram": [
           {
            "marker": {
             "pattern": {
              "fillmode": "overlay",
              "size": 10,
              "solidity": 0.2
             }
            },
            "type": "histogram"
           }
          ],
          "histogram2d": [
           {
            "colorbar": {
             "outlinewidth": 0,
             "ticks": ""
            },
            "colorscale": [
             [
              0,
              "#0d0887"
             ],
             [
              0.1111111111111111,
              "#46039f"
             ],
             [
              0.2222222222222222,
              "#7201a8"
             ],
             [
              0.3333333333333333,
              "#9c179e"
             ],
             [
              0.4444444444444444,
              "#bd3786"
             ],
             [
              0.5555555555555556,
              "#d8576b"
             ],
             [
              0.6666666666666666,
              "#ed7953"
             ],
             [
              0.7777777777777778,
              "#fb9f3a"
             ],
             [
              0.8888888888888888,
              "#fdca26"
             ],
             [
              1,
              "#f0f921"
             ]
            ],
            "type": "histogram2d"
           }
          ],
          "histogram2dcontour": [
           {
            "colorbar": {
             "outlinewidth": 0,
             "ticks": ""
            },
            "colorscale": [
             [
              0,
              "#0d0887"
             ],
             [
              0.1111111111111111,
              "#46039f"
             ],
             [
              0.2222222222222222,
              "#7201a8"
             ],
             [
              0.3333333333333333,
              "#9c179e"
             ],
             [
              0.4444444444444444,
              "#bd3786"
             ],
             [
              0.5555555555555556,
              "#d8576b"
             ],
             [
              0.6666666666666666,
              "#ed7953"
             ],
             [
              0.7777777777777778,
              "#fb9f3a"
             ],
             [
              0.8888888888888888,
              "#fdca26"
             ],
             [
              1,
              "#f0f921"
             ]
            ],
            "type": "histogram2dcontour"
           }
          ],
          "mesh3d": [
           {
            "colorbar": {
             "outlinewidth": 0,
             "ticks": ""
            },
            "type": "mesh3d"
           }
          ],
          "parcoords": [
           {
            "line": {
             "colorbar": {
              "outlinewidth": 0,
              "ticks": ""
             }
            },
            "type": "parcoords"
           }
          ],
          "pie": [
           {
            "automargin": true,
            "type": "pie"
           }
          ],
          "scatter": [
           {
            "fillpattern": {
             "fillmode": "overlay",
             "size": 10,
             "solidity": 0.2
            },
            "type": "scatter"
           }
          ],
          "scatter3d": [
           {
            "line": {
             "colorbar": {
              "outlinewidth": 0,
              "ticks": ""
             }
            },
            "marker": {
             "colorbar": {
              "outlinewidth": 0,
              "ticks": ""
             }
            },
            "type": "scatter3d"
           }
          ],
          "scattercarpet": [
           {
            "marker": {
             "colorbar": {
              "outlinewidth": 0,
              "ticks": ""
             }
            },
            "type": "scattercarpet"
           }
          ],
          "scattergeo": [
           {
            "marker": {
             "colorbar": {
              "outlinewidth": 0,
              "ticks": ""
             }
            },
            "type": "scattergeo"
           }
          ],
          "scattergl": [
           {
            "marker": {
             "colorbar": {
              "outlinewidth": 0,
              "ticks": ""
             }
            },
            "type": "scattergl"
           }
          ],
          "scattermapbox": [
           {
            "marker": {
             "colorbar": {
              "outlinewidth": 0,
              "ticks": ""
             }
            },
            "type": "scattermapbox"
           }
          ],
          "scatterpolar": [
           {
            "marker": {
             "colorbar": {
              "outlinewidth": 0,
              "ticks": ""
             }
            },
            "type": "scatterpolar"
           }
          ],
          "scatterpolargl": [
           {
            "marker": {
             "colorbar": {
              "outlinewidth": 0,
              "ticks": ""
             }
            },
            "type": "scatterpolargl"
           }
          ],
          "scatterternary": [
           {
            "marker": {
             "colorbar": {
              "outlinewidth": 0,
              "ticks": ""
             }
            },
            "type": "scatterternary"
           }
          ],
          "surface": [
           {
            "colorbar": {
             "outlinewidth": 0,
             "ticks": ""
            },
            "colorscale": [
             [
              0,
              "#0d0887"
             ],
             [
              0.1111111111111111,
              "#46039f"
             ],
             [
              0.2222222222222222,
              "#7201a8"
             ],
             [
              0.3333333333333333,
              "#9c179e"
             ],
             [
              0.4444444444444444,
              "#bd3786"
             ],
             [
              0.5555555555555556,
              "#d8576b"
             ],
             [
              0.6666666666666666,
              "#ed7953"
             ],
             [
              0.7777777777777778,
              "#fb9f3a"
             ],
             [
              0.8888888888888888,
              "#fdca26"
             ],
             [
              1,
              "#f0f921"
             ]
            ],
            "type": "surface"
           }
          ],
          "table": [
           {
            "cells": {
             "fill": {
              "color": "#EBF0F8"
             },
             "line": {
              "color": "white"
             }
            },
            "header": {
             "fill": {
              "color": "#C8D4E3"
             },
             "line": {
              "color": "white"
             }
            },
            "type": "table"
           }
          ]
         },
         "layout": {
          "annotationdefaults": {
           "arrowcolor": "#2a3f5f",
           "arrowhead": 0,
           "arrowwidth": 1
          },
          "autotypenumbers": "strict",
          "coloraxis": {
           "colorbar": {
            "outlinewidth": 0,
            "ticks": ""
           }
          },
          "colorscale": {
           "diverging": [
            [
             0,
             "#8e0152"
            ],
            [
             0.1,
             "#c51b7d"
            ],
            [
             0.2,
             "#de77ae"
            ],
            [
             0.3,
             "#f1b6da"
            ],
            [
             0.4,
             "#fde0ef"
            ],
            [
             0.5,
             "#f7f7f7"
            ],
            [
             0.6,
             "#e6f5d0"
            ],
            [
             0.7,
             "#b8e186"
            ],
            [
             0.8,
             "#7fbc41"
            ],
            [
             0.9,
             "#4d9221"
            ],
            [
             1,
             "#276419"
            ]
           ],
           "sequential": [
            [
             0,
             "#0d0887"
            ],
            [
             0.1111111111111111,
             "#46039f"
            ],
            [
             0.2222222222222222,
             "#7201a8"
            ],
            [
             0.3333333333333333,
             "#9c179e"
            ],
            [
             0.4444444444444444,
             "#bd3786"
            ],
            [
             0.5555555555555556,
             "#d8576b"
            ],
            [
             0.6666666666666666,
             "#ed7953"
            ],
            [
             0.7777777777777778,
             "#fb9f3a"
            ],
            [
             0.8888888888888888,
             "#fdca26"
            ],
            [
             1,
             "#f0f921"
            ]
           ],
           "sequentialminus": [
            [
             0,
             "#0d0887"
            ],
            [
             0.1111111111111111,
             "#46039f"
            ],
            [
             0.2222222222222222,
             "#7201a8"
            ],
            [
             0.3333333333333333,
             "#9c179e"
            ],
            [
             0.4444444444444444,
             "#bd3786"
            ],
            [
             0.5555555555555556,
             "#d8576b"
            ],
            [
             0.6666666666666666,
             "#ed7953"
            ],
            [
             0.7777777777777778,
             "#fb9f3a"
            ],
            [
             0.8888888888888888,
             "#fdca26"
            ],
            [
             1,
             "#f0f921"
            ]
           ]
          },
          "colorway": [
           "#636efa",
           "#EF553B",
           "#00cc96",
           "#ab63fa",
           "#FFA15A",
           "#19d3f3",
           "#FF6692",
           "#B6E880",
           "#FF97FF",
           "#FECB52"
          ],
          "font": {
           "color": "#2a3f5f"
          },
          "geo": {
           "bgcolor": "white",
           "lakecolor": "white",
           "landcolor": "#E5ECF6",
           "showlakes": true,
           "showland": true,
           "subunitcolor": "white"
          },
          "hoverlabel": {
           "align": "left"
          },
          "hovermode": "closest",
          "mapbox": {
           "style": "light"
          },
          "paper_bgcolor": "white",
          "plot_bgcolor": "#E5ECF6",
          "polar": {
           "angularaxis": {
            "gridcolor": "white",
            "linecolor": "white",
            "ticks": ""
           },
           "bgcolor": "#E5ECF6",
           "radialaxis": {
            "gridcolor": "white",
            "linecolor": "white",
            "ticks": ""
           }
          },
          "scene": {
           "xaxis": {
            "backgroundcolor": "#E5ECF6",
            "gridcolor": "white",
            "gridwidth": 2,
            "linecolor": "white",
            "showbackground": true,
            "ticks": "",
            "zerolinecolor": "white"
           },
           "yaxis": {
            "backgroundcolor": "#E5ECF6",
            "gridcolor": "white",
            "gridwidth": 2,
            "linecolor": "white",
            "showbackground": true,
            "ticks": "",
            "zerolinecolor": "white"
           },
           "zaxis": {
            "backgroundcolor": "#E5ECF6",
            "gridcolor": "white",
            "gridwidth": 2,
            "linecolor": "white",
            "showbackground": true,
            "ticks": "",
            "zerolinecolor": "white"
           }
          },
          "shapedefaults": {
           "line": {
            "color": "#2a3f5f"
           }
          },
          "ternary": {
           "aaxis": {
            "gridcolor": "white",
            "linecolor": "white",
            "ticks": ""
           },
           "baxis": {
            "gridcolor": "white",
            "linecolor": "white",
            "ticks": ""
           },
           "bgcolor": "#E5ECF6",
           "caxis": {
            "gridcolor": "white",
            "linecolor": "white",
            "ticks": ""
           }
          },
          "title": {
           "x": 0.05
          },
          "xaxis": {
           "automargin": true,
           "gridcolor": "white",
           "linecolor": "white",
           "ticks": "",
           "title": {
            "standoff": 15
           },
           "zerolinecolor": "white",
           "zerolinewidth": 2
          },
          "yaxis": {
           "automargin": true,
           "gridcolor": "white",
           "linecolor": "white",
           "ticks": "",
           "title": {
            "standoff": 15
           },
           "zerolinecolor": "white",
           "zerolinewidth": 2
          }
         }
        },
        "title": {
         "text": "t-SNE Plot"
        },
        "xaxis": {
         "anchor": "y",
         "domain": [
          0,
          1
         ],
         "title": {
          "text": "PC1"
         }
        },
        "yaxis": {
         "anchor": "x",
         "domain": [
          0,
          1
         ],
         "title": {
          "text": "PC2"
         }
        }
       }
      }
     },
     "metadata": {},
     "output_type": "display_data"
    }
   ],
   "source": [
    "# Compute t-SNE embeddings\n",
    "tsne = TSNE(n_components=2, random_state=42, perplexity=10)\n",
    "X_tsne = tsne.fit_transform(pivot_combined.T)\n",
    "\n",
    "pca_df = pd.DataFrame(data=X_tsne, \n",
    "                      columns=['PC1', 'PC2'], \n",
    "                      index = pivot_combined.T.index)\n",
    "\n",
    "concat_df = pd.concat([pca_df, \n",
    "                       df.set_index(\"catalog_id\")], \n",
    "                      ignore_index= False, \n",
    "                      axis=1)\n",
    "concat_df = concat_df.rename(columns={0: 'Cluster'})\n",
    "concat_df.index = concat_df.index.astype(\"str\")\n",
    "\n",
    "fig = px.scatter(concat_df, x='PC1', y='PC2', color='Cluster', title='t-SNE Plot')\n",
    "fig"
   ]
  },
  {
   "cell_type": "markdown",
   "metadata": {},
   "source": [
    "### Visualizing the clustering on 2 dimensions using PCA\n",
    "\n",
    "PCA is a dimensionality reduction technique which can also be used to reduce the number of features in the dataset, while preserving its variance. PCA uses the covariance matrix and single value decomposition (SVD) to solve in order of the eigenvectors and eigen values of the covariance matrix. The eigen vectors represent the principal component (a new projection) and the eigenvalues the variance explained.\n",
    "\n",
    "In this example, the variance explain by the 2 components is merely 30%, which means that there is a loss of 70% of the information."
   ]
  },
  {
   "cell_type": "code",
   "execution_count": 17,
   "metadata": {},
   "outputs": [
    {
     "data": {
      "text/html": [
       "<div>\n",
       "<style scoped>\n",
       "    .dataframe tbody tr th:only-of-type {\n",
       "        vertical-align: middle;\n",
       "    }\n",
       "\n",
       "    .dataframe tbody tr th {\n",
       "        vertical-align: top;\n",
       "    }\n",
       "\n",
       "    .dataframe thead th {\n",
       "        text-align: right;\n",
       "    }\n",
       "</style>\n",
       "<table border=\"1\" class=\"dataframe\">\n",
       "  <thead>\n",
       "    <tr style=\"text-align: right;\">\n",
       "      <th></th>\n",
       "      <th>PC1</th>\n",
       "      <th>PC2</th>\n",
       "      <th>Cluster</th>\n",
       "    </tr>\n",
       "    <tr>\n",
       "      <th>catalog_id</th>\n",
       "      <th></th>\n",
       "      <th></th>\n",
       "      <th></th>\n",
       "    </tr>\n",
       "  </thead>\n",
       "  <tbody>\n",
       "    <tr>\n",
       "      <th>11.0</th>\n",
       "      <td>0.010080</td>\n",
       "      <td>1.544366</td>\n",
       "      <td>6</td>\n",
       "    </tr>\n",
       "    <tr>\n",
       "      <th>14.0</th>\n",
       "      <td>0.008981</td>\n",
       "      <td>1.567643</td>\n",
       "      <td>6</td>\n",
       "    </tr>\n",
       "    <tr>\n",
       "      <th>16.0</th>\n",
       "      <td>0.000027</td>\n",
       "      <td>0.000239</td>\n",
       "      <td>32</td>\n",
       "    </tr>\n",
       "    <tr>\n",
       "      <th>18.0</th>\n",
       "      <td>0.013278</td>\n",
       "      <td>1.484351</td>\n",
       "      <td>6</td>\n",
       "    </tr>\n",
       "    <tr>\n",
       "      <th>19.0</th>\n",
       "      <td>0.999813</td>\n",
       "      <td>-0.007454</td>\n",
       "      <td>1</td>\n",
       "    </tr>\n",
       "    <tr>\n",
       "      <th>...</th>\n",
       "      <td>...</td>\n",
       "      <td>...</td>\n",
       "      <td>...</td>\n",
       "    </tr>\n",
       "    <tr>\n",
       "      <th>2965.0</th>\n",
       "      <td>0.015340</td>\n",
       "      <td>0.107725</td>\n",
       "      <td>29</td>\n",
       "    </tr>\n",
       "    <tr>\n",
       "      <th>2967.0</th>\n",
       "      <td>0.999813</td>\n",
       "      <td>-0.007454</td>\n",
       "      <td>1</td>\n",
       "    </tr>\n",
       "    <tr>\n",
       "      <th>2968.0</th>\n",
       "      <td>0.000040</td>\n",
       "      <td>0.000190</td>\n",
       "      <td>33</td>\n",
       "    </tr>\n",
       "    <tr>\n",
       "      <th>2969.0</th>\n",
       "      <td>0.000044</td>\n",
       "      <td>0.000228</td>\n",
       "      <td>38</td>\n",
       "    </tr>\n",
       "    <tr>\n",
       "      <th>2970.0</th>\n",
       "      <td>0.000017</td>\n",
       "      <td>0.000120</td>\n",
       "      <td>37</td>\n",
       "    </tr>\n",
       "  </tbody>\n",
       "</table>\n",
       "<p>872 rows × 3 columns</p>\n",
       "</div>"
      ],
      "text/plain": [
       "                 PC1       PC2  Cluster\n",
       "catalog_id                             \n",
       "11.0        0.010080  1.544366        6\n",
       "14.0        0.008981  1.567643        6\n",
       "16.0        0.000027  0.000239       32\n",
       "18.0        0.013278  1.484351        6\n",
       "19.0        0.999813 -0.007454        1\n",
       "...              ...       ...      ...\n",
       "2965.0      0.015340  0.107725       29\n",
       "2967.0      0.999813 -0.007454        1\n",
       "2968.0      0.000040  0.000190       33\n",
       "2969.0      0.000044  0.000228       38\n",
       "2970.0      0.000017  0.000120       37\n",
       "\n",
       "[872 rows x 3 columns]"
      ]
     },
     "execution_count": 17,
     "metadata": {},
     "output_type": "execute_result"
    }
   ],
   "source": [
    "pca = TruncatedSVD(n_components=2)\n",
    "\n",
    "# Fit and transform the data\n",
    "pca_result = pca.fit_transform(pivot_combined.T)\n",
    "\n",
    "# Convert the result to a DataFrame\n",
    "pca_df = pd.DataFrame(data=pca_result, columns=['PC1', 'PC2'], index = pivot_combined.T.index)\n",
    "concat_df = pd.concat([pca_df, df.set_index(\"catalog_id\")], ignore_index= False, axis=1)\n",
    "concat_df = concat_df.rename(columns={0: 'Cluster'})\n",
    "concat_df\n"
   ]
  },
  {
   "cell_type": "code",
   "execution_count": 18,
   "metadata": {},
   "outputs": [
    {
     "data": {
      "application/vnd.plotly.v1+json": {
       "config": {
        "plotlyServerURL": "https://plot.ly"
       },
       "data": [
        {
         "hovertemplate": "PC1=%{x}<br>PC2=%{y}<br>Cluster=%{marker.color}<extra></extra>",
         "legendgroup": "",
         "marker": {
          "color": [
           6,
           6,
           32,
           6,
           1,
           52,
           29,
           1,
           8,
           9,
           29,
           1,
           29,
           1,
           29,
           29,
           9,
           1,
           52,
           29,
           1,
           1,
           11,
           2,
           4,
           2,
           1,
           1,
           1,
           1,
           1,
           1,
           1,
           1,
           1,
           1,
           1,
           1,
           1,
           1,
           1,
           1,
           1,
           1,
           6,
           6,
           6,
           6,
           6,
           6,
           6,
           6,
           6,
           4,
           4,
           6,
           6,
           6,
           4,
           5,
           5,
           5,
           4,
           5,
           6,
           31,
           48,
           31,
           5,
           6,
           4,
           6,
           5,
           5,
           6,
           6,
           5,
           6,
           2,
           29,
           29,
           29,
           1,
           52,
           1,
           1,
           1,
           1,
           1,
           7,
           11,
           7,
           7,
           9,
           9,
           9,
           9,
           9,
           8,
           8,
           29,
           29,
           6,
           6,
           6,
           5,
           6,
           6,
           31,
           1,
           52,
           9,
           6,
           6,
           6,
           4,
           4,
           5,
           6,
           6,
           6,
           9,
           9,
           9,
           9,
           9,
           9,
           9,
           1,
           1,
           1,
           1,
           1,
           1,
           1,
           1,
           1,
           1,
           6,
           6,
           6,
           6,
           5,
           6,
           5,
           32,
           5,
           5,
           4,
           6,
           6,
           5,
           4,
           5,
           6,
           3,
           6,
           6,
           4,
           6,
           6,
           4,
           6,
           4,
           6,
           6,
           2,
           4,
           2,
           1,
           5,
           3,
           6,
           3,
           4,
           6,
           4,
           1,
           5,
           2,
           4,
           2,
           4,
           2,
           4,
           4,
           49,
           24,
           22,
           28,
           25,
           51,
           1,
           9,
           9,
           8,
           9,
           9,
           8,
           36,
           55,
           33,
           34,
           29,
           28,
           22,
           22,
           22,
           43,
           49,
           1,
           1,
           29,
           3,
           1,
           11,
           1,
           1,
           29,
           29,
           11,
           2,
           1,
           34,
           36,
           34,
           1,
           1,
           29,
           29,
           51,
           9,
           1,
           29,
           55,
           1,
           1,
           1,
           26,
           1,
           1,
           13,
           13,
           13,
           13,
           16,
           18,
           18,
           43,
           44,
           44,
           47,
           40,
           40,
           28,
           11,
           28,
           16,
           16,
           25,
           20,
           22,
           11,
           10,
           22,
           19,
           22,
           21,
           21,
           21,
           21,
           27,
           1,
           25,
           1,
           13,
           1,
           26,
           29,
           13,
           29,
           1,
           1,
           29,
           27,
           1,
           1,
           52,
           1,
           1,
           1,
           1,
           1,
           1,
           1,
           15,
           1,
           25,
           15,
           13,
           21,
           17,
           1,
           55,
           13,
           1,
           18,
           1,
           27,
           1,
           1,
           1,
           1,
           1,
           6,
           51,
           51,
           1,
           1,
           1,
           19,
           55,
           1,
           29,
           1,
           1,
           29,
           1,
           1,
           13,
           13,
           13,
           13,
           28,
           27,
           24,
           43,
           47,
           45,
           42,
           43,
           22,
           25,
           22,
           10,
           25,
           17,
           22,
           24,
           21,
           25,
           25,
           12,
           55,
           29,
           55,
           1,
           1,
           1,
           1,
           1,
           1,
           1,
           29,
           1,
           1,
           1,
           25,
           22,
           20,
           27,
           12,
           55,
           29,
           29,
           29,
           18,
           1,
           52,
           1,
           1,
           1,
           29,
           22,
           15,
           13,
           14,
           56,
           16,
           15,
           17,
           19,
           16,
           29,
           29,
           29,
           29,
           29,
           29,
           29,
           29,
           29,
           1,
           3,
           6,
           6,
           6,
           5,
           6,
           3,
           2,
           3,
           1,
           1,
           8,
           11,
           11,
           51,
           50,
           37,
           1,
           1,
           1,
           1,
           9,
           9,
           9,
           9,
           9,
           9,
           9,
           9,
           9,
           9,
           9,
           9,
           9,
           8,
           9,
           7,
           7,
           7,
           7,
           7,
           9,
           8,
           7,
           7,
           9,
           1,
           1,
           55,
           51,
           50,
           5,
           4,
           6,
           6,
           4,
           6,
           6,
           6,
           6,
           6,
           6,
           5,
           1,
           1,
           1,
           1,
           1,
           1,
           8,
           9,
           51,
           1,
           1,
           6,
           9,
           11,
           11,
           9,
           28,
           15,
           16,
           5,
           13,
           22,
           17,
           27,
           1,
           12,
           17,
           28,
           1,
           1,
           6,
           4,
           53,
           1,
           1,
           1,
           1,
           1,
           55,
           55,
           53,
           55,
           54,
           1,
           1,
           1,
           1,
           1,
           1,
           1,
           1,
           54,
           1,
           1,
           1,
           1,
           1,
           1,
           1,
           1,
           1,
           1,
           1,
           1,
           1,
           1,
           1,
           53,
           1,
           1,
           1,
           1,
           1,
           1,
           1,
           11,
           8,
           13,
           14,
           12,
           26,
           29,
           29,
           1,
           1,
           1,
           1,
           1,
           55,
           29,
           50,
           53,
           50,
           1,
           1,
           1,
           1,
           1,
           29,
           1,
           1,
           1,
           1,
           1,
           1,
           1,
           1,
           1,
           1,
           1,
           1,
           1,
           1,
           1,
           1,
           1,
           1,
           1,
           1,
           1,
           1,
           1,
           1,
           1,
           1,
           1,
           1,
           1,
           1,
           1,
           1,
           1,
           1,
           1,
           1,
           1,
           1,
           1,
           1,
           1,
           1,
           1,
           1,
           1,
           1,
           1,
           1,
           1,
           1,
           1,
           1,
           1,
           1,
           1,
           1,
           1,
           1,
           1,
           1,
           1,
           1,
           1,
           1,
           1,
           1,
           1,
           1,
           1,
           1,
           1,
           1,
           1,
           1,
           1,
           1,
           1,
           1,
           1,
           1,
           1,
           1,
           1,
           1,
           1,
           1,
           1,
           1,
           11,
           1,
           1,
           1,
           1,
           1,
           1,
           1,
           1,
           1,
           1,
           1,
           1,
           1,
           29,
           29,
           1,
           10,
           1,
           1,
           1,
           9,
           55,
           1,
           6,
           5,
           4,
           5,
           4,
           6,
           4,
           6,
           5,
           51,
           9,
           9,
           9,
           9,
           9,
           8,
           21,
           28,
           10,
           16,
           14,
           22,
           20,
           24,
           22,
           27,
           9,
           9,
           50,
           9,
           55,
           10,
           15,
           28,
           17,
           18,
           16,
           28,
           18,
           13,
           16,
           14,
           28,
           27,
           28,
           23,
           24,
           5,
           17,
           26,
           25,
           19,
           24,
           22,
           17,
           5,
           31,
           31,
           32,
           31,
           30,
           31,
           30,
           31,
           32,
           55,
           30,
           32,
           32,
           32,
           31,
           46,
           32,
           48,
           48,
           31,
           32,
           32,
           35,
           32,
           34,
           33,
           33,
           33,
           33,
           35,
           38,
           37,
           36,
           35,
           34,
           37,
           36,
           35,
           34,
           33,
           34,
           38,
           35,
           38,
           33,
           33,
           36,
           34,
           41,
           31,
           42,
           39,
           39,
           39,
           48,
           44,
           49,
           43,
           46,
           41,
           40,
           32,
           30,
           41,
           48,
           49,
           40,
           43,
           45,
           49,
           41,
           45,
           40,
           44,
           41,
           47,
           45,
           42,
           46,
           45,
           47,
           46,
           46,
           48,
           39,
           47,
           30,
           49,
           40,
           44,
           49,
           42,
           41,
           11,
           50,
           55,
           50,
           1,
           1,
           1,
           1,
           1,
           1,
           1,
           1,
           5,
           4,
           6,
           1,
           1,
           29,
           29,
           1,
           1,
           1,
           1,
           1,
           1,
           1,
           1,
           31,
           32,
           31,
           31,
           30,
           31,
           32,
           1,
           1,
           1,
           1,
           1,
           1,
           29,
           29,
           1,
           33,
           38,
           37
          ],
          "coloraxis": "coloraxis",
          "symbol": "circle"
         },
         "mode": "markers",
         "name": "",
         "orientation": "v",
         "showlegend": false,
         "type": "scatter",
         "x": [
          0.010080462191786476,
          0.008980648035973248,
          2.7393333132053556e-05,
          0.013277957499304096,
          0.9998131549206909,
          0.5490269793586905,
          0.23594387472154918,
          0.9998131549206909,
          0.012250416001203024,
          0.012383246129290681,
          0.2612307845750504,
          0.9998131549206909,
          0.7319177220120222,
          0.9998131549206909,
          0.1068695265530793,
          0.016026178048411954,
          0.010656242528894806,
          0.9998131549206909,
          0.10521461306046366,
          0.6153679047266905,
          0.9998131549206909,
          0.9998131549206909,
          0.003710625264822498,
          0.006357825938226225,
          0.006668563073016112,
          0.0046066818244447924,
          0.9998131549206909,
          0.9998131549206909,
          0.9998131549206909,
          0.9998131549206909,
          0.9998131549206909,
          0.9998131549206909,
          0.9998131549206908,
          0.9998131549206909,
          0.9998171780343654,
          0.9998131549206909,
          0.9998131549206909,
          0.9998131549206909,
          0.9998131549206909,
          0.9998131549206909,
          0.9998131549206909,
          0.9998131549206909,
          0.9998131549206909,
          0.9998131549206909,
          0.011535491166035,
          0.010858420291636821,
          0.006796472597611136,
          0.01023590974005737,
          0.007907883795336313,
          0.007200510113762396,
          0.00929018790720831,
          0.009021670307786908,
          0.009833360191586676,
          0.008422219913034022,
          0.009586479216681076,
          0.012019902266585879,
          0.0067288168062338395,
          0.008499781463729728,
          0.010198925716102748,
          0.009773001262940497,
          0.010866614686087774,
          0.011585169053179922,
          0.007625374453251677,
          0.010673585800128381,
          0.008914657156449351,
          4.0072782924013664e-05,
          2.8940604889206365e-05,
          0.0031089778876833016,
          0.012369376050822287,
          0.008430118671234518,
          0.00673293592894247,
          0.00925645155809614,
          0.011131127353912617,
          0.009644893837097417,
          0.008877741017113158,
          0.009473619561158574,
          0.011336829935200519,
          0.009711372149958179,
          0.004312893578321363,
          0.15082184882433228,
          0.25892245538981884,
          0.015417407647930235,
          0.9998131549206909,
          0.0022204616315510584,
          0.9998131549206909,
          0.9998131549206909,
          0.9998131549206909,
          0.9998131549206909,
          0.9998131549206909,
          0.009507391427834438,
          0.007661432337451394,
          0.00889869771800506,
          0.012951509789669661,
          0.007654516207837435,
          0.012223925861219212,
          0.009186024740375913,
          0.011049622303211827,
          0.009391651958986343,
          0.010044668532896418,
          0.010694506362307562,
          0.04217620163968465,
          0.04289535863887936,
          0.007876296980956357,
          0.006311188948927445,
          0.008995594104334984,
          0.009851590554021983,
          0.009136112386314852,
          0.007425355029177618,
          5.2101632955853246e-05,
          0.9998131549206908,
          0.0022087971414027877,
          0.013377501270843278,
          0.007649918414941288,
          0.008878471762156715,
          0.008734457510261138,
          0.00780717948656838,
          0.00656227024151524,
          0.009090982884667384,
          0.006171503676058831,
          0.007975713266491454,
          0.011619199462834084,
          0.011784696342838002,
          0.010491783781949787,
          0.010443225572704027,
          0.012224727744574471,
          0.013181322604769207,
          0.010127346543927045,
          0.011899376152844792,
          0.9998131549206908,
          0.9998131549206909,
          0.9998131549206909,
          0.9998131549206909,
          0.9998131549206909,
          0.9998131549206909,
          0.9998131549206909,
          0.9998131549206909,
          0.9998131549206909,
          0.9998131549206909,
          0.009233302321176574,
          0.0056399531595906416,
          0.008065200946428075,
          0.008980545030281678,
          0.010779153060252518,
          0.010115556003947946,
          0.008698156722931937,
          1.922645531596608e-05,
          0.013933578296720673,
          0.011105218069869294,
          0.008192073827428061,
          0.008816022274835078,
          0.011471389629372568,
          0.011196040314203005,
          0.006911132813747804,
          0.01047024742377127,
          0.010431058792277868,
          0.022577045457318316,
          0.009460141435867677,
          0.007521017464462132,
          0.0056691388396568855,
          0.007267238261259343,
          0.007895969295579413,
          0.007733706566503346,
          0.006602670250182218,
          0.007850237285844728,
          0.010091547430392185,
          0.006917477296617945,
          0.0038350715877699362,
          0.010687020530752303,
          0.004937009148332399,
          0.9998131549206909,
          0.010785205798408875,
          0.009484043865527819,
          0.007857022021211869,
          0.010443050448770481,
          0.00834741430828027,
          0.00842957867103104,
          0.0081568694426063,
          0.9998131549206909,
          0.007752017080403823,
          0.0037667675914323387,
          0.0038948004670309377,
          0.00198131240848103,
          0.005109277674042502,
          0.0034837229616493342,
          0.005537955570566624,
          0.0037406476965903745,
          1.5050858039043679e-05,
          0.0011873696391636278,
          0.006901618330002588,
          0.004878543498192059,
          0.008184887912487953,
          0.0028951947089677853,
          0.9998131549206909,
          0.009833648078898546,
          0.008658531847901947,
          0.014741089057141185,
          0.009389244930472718,
          0.00840414007896243,
          0.00864466076866216,
          5.301592303668481e-05,
          9.52252394538899e-06,
          5.8737623928409674e-05,
          0.00023860360309944977,
          0.01533968261950389,
          0.00473114374962284,
          0.004261818055555532,
          0.012094722357156607,
          0.021389792504641972,
          6.582039270260664e-06,
          1.6562039016420874e-05,
          0.9998131549206909,
          0.9998131549206909,
          0.015396680865421487,
          0.020432332061980547,
          0.9998131549206909,
          0.007700970094083622,
          0.9998131549206909,
          0.9998131549206909,
          0.3416999984713782,
          0.03674652696411901,
          0.012069422484408726,
          0.014986517158354664,
          0.9998131549206909,
          4.539032728543837e-05,
          5.6067034192275026e-05,
          7.61112530487169e-05,
          0.9998131549206909,
          0.9998131549206909,
          0.3997385571380749,
          0.5645429682965286,
          0.21384006608114461,
          0.014271187554928644,
          0.9998131549206909,
          0.015945104760906863,
          -1.8222599428977823e-14,
          0.9998131549206909,
          0.9998131549206908,
          0.9998131549206909,
          0.0038086893071195773,
          0.9998131549206909,
          0.9998131549206909,
          0.0008329444694274196,
          0.001608983801430822,
          0.0007810242449964068,
          0.0017964536095430009,
          0.0035154938123560294,
          0.0012973087658691568,
          0.0002934080998100491,
          3.4963403784818663e-07,
          2.4599928552462315e-07,
          7.871840268405461e-07,
          4.900178660860317e-07,
          4.5793099290732635e-06,
          6.659806409980923e-06,
          0.004610574514633323,
          0.007923106186727523,
          0.007800998955746626,
          0.005788355221083301,
          0.0034673879700329903,
          0.006741055913427973,
          0.002500427649067207,
          0.004560687118948021,
          0.012128900471130393,
          0.015426062409878925,
          0.004412819804853684,
          0.002244272912198307,
          0.0086318402719409,
          0.003367219065629723,
          0.004676405660564356,
          0.003961382341868687,
          0.006203389998500626,
          0.0034316798716287136,
          0.9998131549206909,
          0.00613091250124582,
          0.9998131549206909,
          0.0039991962659576075,
          0.9998131549206909,
          0.0025988135358694766,
          0.003982732687539301,
          0.01555747085304879,
          0.016203372299521367,
          0.9998131549206909,
          0.9998131549206909,
          0.015232390379506335,
          0.009978895210338156,
          0.9998131549206909,
          0.9998131549206909,
          0.005630725206953804,
          0.9998131549206909,
          0.9998131549206909,
          0.9998131549206909,
          0.9998131549206909,
          0.9998131549206909,
          0.9998131549206909,
          0.9998131549206909,
          0.0044803097183871805,
          0.9998131549206909,
          0.0051527742594668835,
          0.016453438242579468,
          0.0014948385636785314,
          0.005206413383185214,
          0.0011603194990742107,
          0.9998131549206909,
          6.983284528540382e-05,
          0.0022277376108800363,
          0.9998131549206909,
          0.016409368698690193,
          0.9998131549206909,
          0.002126953818959198,
          0.9998131549206909,
          0.9998131549206909,
          0.9998131549206909,
          0.9998131549206909,
          0.9998131549206909,
          0.005207006537540796,
          0.0028951947089677853,
          0.007427376907742186,
          0.9998131549206909,
          0.9998131549206909,
          0.9998131549206909,
          0.009118320547474572,
          -3.0240118488109026e-14,
          0.9998131549206909,
          0.015769714620761193,
          0.9998131549206909,
          0.9998131549206909,
          0.015807108604819913,
          0.9998131549206909,
          0.9998131549206909,
          0.0009912581496232702,
          0.001296234687200067,
          0.0009467863438501421,
          0.0012133725707564476,
          0.002949421611298504,
          0.0012013066675539107,
          0.0006952440052223879,
          3.804813145820096e-07,
          1.4280601202567309e-05,
          4.2374535644760266e-07,
          1.4577960230621558e-05,
          6.046326662401457e-06,
          0.0067642199966798724,
          0.005854542696574492,
          0.007456261663963158,
          0.007361607423049402,
          0.002495119234838354,
          0.0007198508468569996,
          0.005939677131416739,
          0.006208455883434584,
          0.003057988125658856,
          0.0031575449327304276,
          0.003819022944956079,
          0.0020068042493820775,
          -1.8077714133011029e-13,
          0.015373218438264153,
          -1.2296008968998937e-15,
          0.9998131549206909,
          0.9998131549206909,
          0.9998131549206909,
          0.9998131549206909,
          0.9998131549206909,
          0.9998131549206909,
          0.9998131549206909,
          0.013570034324729231,
          0.9998131549206909,
          0.9998131549206909,
          0.9998131549206909,
          0.0031267172830446452,
          0.004553961695240536,
          0.001874600979338806,
          0.0013422519637649732,
          0.0015905142304802739,
          -1.7272242716774885e-13,
          0.01587067489090549,
          0.015466944850979124,
          0.015684914267169284,
          0.010271798224679838,
          0.9998131549206909,
          0.002576593846980845,
          0.9998131549206909,
          0.9998131549206908,
          0.9998131549206909,
          0.015417330454912826,
          0.00473653646000745,
          0.00987168901545877,
          0.0010138180478021929,
          0.0019713006624807747,
          0.0018261362804084865,
          0.00043249102133514385,
          0.003789066005777525,
          0.0033151904733982615,
          0.0003520497280586679,
          0.0031044460178330396,
          0.015811371390266935,
          0.01568002051175807,
          0.015503164967391181,
          0.015710997855875528,
          0.01576437244925019,
          0.015589607122748358,
          0.015397767924415615,
          0.016013749306602907,
          0.016224791686507478,
          0.9998131549206909,
          0.020489435565319777,
          0.010250397108728446,
          0.011542533221162747,
          0.012283197997539104,
          0.012093273127492227,
          0.00911595485176025,
          0.01907307763665614,
          0.006249189618762146,
          0.017993115256582277,
          0.9998131549206909,
          0.9998131549206909,
          0.010451285397112814,
          0.009494110993627446,
          0.007140944896038046,
          0.008081991474713918,
          0.00374469455123148,
          1.1617519859874521e-05,
          0.9998131549206909,
          0.9998131549206909,
          0.9998131549206909,
          0.9998131549206909,
          0.00968994631155065,
          0.009032573756789695,
          0.011752036393337783,
          0.010579550632101609,
          0.010912741795877482,
          0.011875706958459326,
          0.011799152597436227,
          0.008397270594076356,
          0.009618271790969314,
          0.010141131146527331,
          0.01015484479149944,
          0.009826460625419337,
          0.010950616831423163,
          0.011905056590601792,
          0.010888950861047261,
          0.009463114174197398,
          0.00858932901708529,
          0.010019926496761823,
          0.009038123912081515,
          0.010683961543512628,
          0.00986000219808702,
          0.011802566289910122,
          0.010580356813186394,
          0.009639432802909846,
          0.009399296005095339,
          0.9998131549206909,
          0.9998131549206909,
          0.004561902827668532,
          0.005932729225382429,
          0.004759467299363126,
          0.007946517629772073,
          0.008367591385084295,
          0.009712233535743272,
          0.006596168670004386,
          0.008975872082677422,
          0.007975829214614427,
          0.0074874447022685656,
          0.007368795914958496,
          0.007918743347380568,
          0.008563696348475612,
          0.008931126707146134,
          0.010938305711928867,
          0.9998131549206909,
          0.9998131549206909,
          0.9998131549206909,
          0.9998131549206909,
          0.9998131549206909,
          0.9998131549206908,
          0.011785957801834092,
          0.01031984386354186,
          0.006220958715354248,
          0.9998131549206909,
          0.9998131549206909,
          0.008653620158703912,
          0.009368243597072364,
          0.005769472965842303,
          0.007571520734742822,
          0.009724219574410999,
          0.0022349740593469985,
          0.0016257078412734985,
          0.0019842565441615264,
          0.010898159819608687,
          0.007403710676450945,
          0.005051757066308815,
          0.0028426689473393467,
          0.001932949331637033,
          0.9998131549206909,
          0.0033855077938624786,
          0.0021988543959389575,
          0.00258865568352287,
          0.9998131549206909,
          0.9998131549206909,
          0.00856476835198025,
          0.008842124619889308,
          0.5644806838074256,
          0.9998131549206909,
          0.9998131549206909,
          0.9998131549206908,
          0.9998131549206909,
          0.9998131549206909,
          2.6171096190087976e-13,
          2.1761407035269772e-13,
          0.3820015823395575,
          -3.7839311152789396e-16,
          0.017913284752647432,
          0.9998131549206909,
          0.9998131549206909,
          0.9998131549206909,
          0.9998131549206909,
          0.9998131549206909,
          0.9998131549206909,
          0.9998131549206909,
          0.9998131549206909,
          0.043376727958424906,
          0.9998131549206909,
          0.9998131549206909,
          0.9998131549206909,
          0.9998131549206909,
          0.9998131549206909,
          0.9998131549206908,
          0.9998131549206909,
          0.9998131549206909,
          0.9998131549206909,
          0.9998131549206909,
          0.9998131549206909,
          0.9998131549206909,
          0.9998131549206909,
          0.9998131549206909,
          0.9998131549206909,
          0.38664870427032255,
          0.9998131549206909,
          0.9998131549206909,
          0.9998131549206909,
          0.9998131549206909,
          0.9998131549206909,
          0.9998131549206909,
          0.9998131549206909,
          0.00409351816378751,
          0.008866210947003036,
          0.0011624191524686963,
          0.00405180133447286,
          0.001033628052790409,
          0.0032930089757464715,
          0.015451329814104877,
          0.01554448520331427,
          0.9998131549206909,
          0.9998131549206909,
          0.9998131549206909,
          0.9998131549206909,
          0.9998131549206909,
          0.009787573612123556,
          0.01533968261950389,
          0.006002983729492,
          0.004625526210095466,
          0.005776969520103914,
          0.9998131549206909,
          0.9998131549206909,
          0.9998131549206909,
          0.9998131549206909,
          0.9998131549206909,
          0.01533968261950389,
          0.9998131549206908,
          1.0012677799966783,
          0.9998131549206909,
          0.9998131549206909,
          0.9998131549206909,
          0.9998131549206909,
          0.9998131549206908,
          0.9998131549206909,
          0.9998131549206909,
          0.9998131549206909,
          0.9998131549206909,
          0.9998131549206909,
          0.9998131549206909,
          0.9998131549206909,
          0.9998131549206909,
          0.9998131549206909,
          0.9998131549206909,
          0.9998131549206909,
          0.9998131549206909,
          0.9998131549206909,
          0.9998131549206909,
          0.9998131549206909,
          0.9998131549206909,
          0.9998131549206909,
          0.9998131549206909,
          0.9998131549206908,
          0.9998131549206909,
          0.9998131549206909,
          0.9998131549206909,
          0.9998131549206909,
          0.9998131549206909,
          0.9998131549206909,
          0.9998131549206909,
          0.9998131549206908,
          0.9998131549206909,
          0.9998131549206909,
          0.9998131549206909,
          0.9998131549206909,
          0.9998131549206909,
          0.9998131549206909,
          0.9998131549206909,
          0.9998131549206909,
          0.9998131549206909,
          0.9998131549206909,
          0.9998131549206908,
          0.9998131549206909,
          0.9998131549206909,
          0.9998131549206909,
          0.9998131549206909,
          0.9998131549206909,
          0.9998131549206909,
          0.9998131549206909,
          0.9998131549206909,
          0.9998131549206909,
          0.9998131549206909,
          0.9998131549206909,
          0.9998131549206909,
          0.9998131549206909,
          0.9998131549206909,
          0.9998131549206909,
          0.9998131549206909,
          0.9998131549206909,
          0.9998131549206909,
          0.9998131549206909,
          0.9998131549206909,
          0.9998131549206909,
          0.9998131549206909,
          0.9998131549206909,
          0.9998131549206909,
          0.9998131549206909,
          0.9998131549206909,
          0.9998131549206909,
          0.9998131549206909,
          0.9998131549206909,
          0.9998131549206909,
          0.9998131549206909,
          0.9998131549206909,
          0.9998131549206909,
          0.9998131549206909,
          0.9998131549206909,
          0.9998131549206909,
          0.9998131549206909,
          0.9998438957676237,
          0.9998131549206909,
          0.9998131549206909,
          0.9998131549206909,
          0.9998131549206909,
          0.9998131549206909,
          0.004890960628113638,
          0.9998131549206909,
          0.9998131549206908,
          0.9998131549206909,
          0.9998131549206909,
          0.9998131549206909,
          0.9998131549206909,
          0.9998131549206909,
          0.9998131549206909,
          0.9998131549206909,
          0.9998131549206909,
          0.9998131549206909,
          0.9998131549206909,
          0.9998131549206909,
          0.01533968261950389,
          0.019296750177831817,
          0.9998131549206909,
          0.0043875178328865025,
          0.9998131549206909,
          0.9998131549206909,
          0.9998131549206909,
          0.010534524800083515,
          0.003422180739092869,
          0.9998131549206909,
          0.010157487701809817,
          0.009023972985750145,
          0.009052142834083392,
          0.00912973147013252,
          0.01447206265123818,
          0.006708230220391774,
          0.005872074377493667,
          0.008139507235079805,
          0.008679436140324449,
          0.009566146135828395,
          0.011065753796301528,
          0.014901441287674724,
          0.010426148715122829,
          0.01065108027477387,
          0.011880962826470491,
          0.010104361116121618,
          0.00443653033947238,
          0.0026653939888404924,
          0.0054845272945040725,
          0.003671425461526226,
          0.005773071450120274,
          0.0063570415645610705,
          0.00415617161061795,
          0.004884902244428869,
          0.005370686191457393,
          0.0025455070054783463,
          0.010350500119508808,
          0.01095687604725925,
          0.006740185356307091,
          0.008776528769573147,
          0.0004657990642171785,
          0.005680000014840456,
          0.001100128164874496,
          0.002090814533892196,
          0.002388922932532756,
          0.0022916760794825996,
          0.008785128545501657,
          0.0008938942224242411,
          0.00178192583866259,
          0.00030806694637476844,
          0.002632929993178973,
          0.0029886958454082343,
          0.0022217276421698166,
          0.001584187146071084,
          0.002114299963979603,
          0.011928804082979912,
          0.004333994753877413,
          0.010331510487668644,
          0.0006060058708041051,
          0.001271033024347941,
          0.004883924188206924,
          0.0012968480165385587,
          0.002374165830526371,
          0.0030745016887398,
          0.0011272237171123442,
          0.009319604683177005,
          4.464429886837837e-05,
          3.9020963412614967e-05,
          3.0009239812794514e-05,
          3.9447240374561723e-05,
          1.783862569418239e-05,
          3.436198343020182e-05,
          1.4586506201886606e-05,
          0.00018631449610888198,
          2.3520805717960678e-05,
          2.9259414325608595e-07,
          0.000651698966866962,
          3.564267391010712e-05,
          0.0003063631689567298,
          2.3261695326318915e-05,
          5.138728080069456e-05,
          7.120796552675034e-06,
          3.5765170537440297e-05,
          1.5009039911288626e-05,
          1.1831334510487304e-05,
          4.7202332513674696e-05,
          1.9904589994584913e-05,
          1.0417656425908074e-05,
          1.1523026923044296e-05,
          3.609044390920256e-05,
          0.00024023336867718464,
          5.2171329326154874e-05,
          4.1247304488407666e-05,
          5.790448761947188e-05,
          0.0006189212631448293,
          2.6828306042813733e-05,
          3.7748933389238714e-05,
          1.0987117380869508e-05,
          6.188771990416644e-05,
          8.825634706070172e-06,
          0.0002748847327160699,
          0.0013880083291582588,
          5.0366466459883643e-05,
          8.825634706070172e-06,
          6.125159000526409e-05,
          5.1812735109817885e-05,
          5.1067886293508e-05,
          1.737121028580976e-05,
          1.5734753955098202e-05,
          3.405481134026712e-06,
          2.7739188501289654e-05,
          2.1707141272014958e-05,
          0.00026054104597432644,
          5.458750939074029e-05,
          2.0220930487089283e-07,
          3.718310796634092e-05,
          3.880849416412781e-06,
          1.5730591316841212e-05,
          4.593091652555722e-07,
          4.213888470736968e-07,
          1.0912196099121751e-05,
          1.5137395972726672e-05,
          1.7745412980714154e-05,
          9.920431298737611e-06,
          1.1486037745689707e-05,
          1.1189858106995328e-05,
          4.3313881918408533e-07,
          2.6532810527541903e-05,
          1.891411315187897e-05,
          2.1334461628112515e-07,
          1.1096543667946835e-05,
          2.034591274318166e-05,
          1.3150610986061417e-06,
          4.0055953841644544e-07,
          8.318498909017657e-06,
          3.4687381682073325e-05,
          6.672232376749872e-07,
          3.6662772654121716e-07,
          1.6170514165934634e-06,
          1.0478402881970327e-05,
          4.486338088404087e-07,
          5.5506358283531685e-06,
          6.433677117591997e-07,
          5.603468120232581e-07,
          8.327649634298975e-06,
          2.094542532692432e-06,
          3.298392321302878e-06,
          1.4567442756624898e-05,
          6.971299984734822e-06,
          1.3652411881685375e-05,
          2.914995415244696e-06,
          4.1031133005203934e-06,
          2.500438429884498e-05,
          1.6590960166709164e-05,
          2.0779948715021876e-06,
          2.239927761879856e-06,
          3.5191866566757387e-05,
          2.7833022402500185e-06,
          1.4156219200019955e-05,
          0.00409351816378751,
          0.0038429699926699713,
          0.003730571249398787,
          0.00338564470802735,
          0.9998131549206909,
          0.9998131549206909,
          0.9998131549206909,
          0.9998131549206909,
          0.9998131549206909,
          0.9998131549206909,
          0.9998131549206909,
          0.9998131549206909,
          0.01028232892145501,
          0.012032777208678604,
          0.007540101105231004,
          0.9998131549206909,
          0.9998131549206909,
          0.01533968261950389,
          0.01645847941805501,
          0.9998131549206909,
          0.9998131549206909,
          0.9998131549206909,
          0.9998131549206908,
          0.9998131549206909,
          0.9998131549206909,
          0.9998131549206909,
          0.9998131549206909,
          7.183638185845982e-05,
          3.232791030029393e-05,
          5.4165407569143244e-05,
          4.2393131020536345e-05,
          2.2842135352613485e-05,
          3.656797999339331e-05,
          3.0976592502047414e-05,
          0.9998131549206909,
          0.9998131549206909,
          0.9998131549206909,
          0.9998131549206909,
          0.9998131549206909,
          0.9998131549206909,
          0.016376132775261006,
          0.01533968261950389,
          0.9998131549206909,
          4.029271565480591e-05,
          4.389572183012288e-05,
          1.7495685030908417e-05
         ],
         "xaxis": "x",
         "y": [
          1.544365649969632,
          1.5676426087545532,
          0.0002394179633013625,
          1.4843510850488029,
          -0.00745442023564644,
          -0.003998016979219698,
          0.10649721543754535,
          -0.00745442023564644,
          0.03245901739288839,
          0.030870823951520073,
          0.10876814427557245,
          -0.00745442023564644,
          0.10615355087997345,
          -0.00745442023564644,
          0.11718850318767887,
          0.10919676034070878,
          0.04049611377336714,
          -0.00745442023564644,
          -0.0006912619811741193,
          0.10404871621037512,
          -0.00745442023564644,
          -0.00745442023564644,
          0.010750887695605485,
          1.137072157623625,
          1.1095490560057737,
          0.7885359588749096,
          -0.00745442023564644,
          -0.00745442023564644,
          -0.00745442023564644,
          -0.00745442023564644,
          -0.00745442023564644,
          -0.00745442023564644,
          -0.007454420235646439,
          -0.00745442023564644,
          -0.007442810912443197,
          -0.00745442023564644,
          -0.00745442023564644,
          -0.00745442023564644,
          -0.00745442023564644,
          -0.00745442023564644,
          -0.00745442023564644,
          -0.00745442023564644,
          -0.00745442023564644,
          -0.00745442023564644,
          1.388057785989164,
          1.4305190066225588,
          1.203731469873577,
          1.4538738581885966,
          1.4144321076313662,
          1.286436509938414,
          1.4715173235103272,
          1.322091691186909,
          1.3886987231719083,
          1.2317922302875621,
          1.1398964495427064,
          1.4613044116902811,
          1.187438830919919,
          1.4971268921001908,
          1.3965999296119798,
          1.632211633320168,
          1.6368812897986251,
          1.510386901356197,
          1.3161405984612244,
          1.5081732768236,
          1.4129871978287545,
          0.00034627396858841083,
          0.0002285148389797027,
          0.021899895969742407,
          1.6171752286255245,
          1.2387771236301826,
          1.2065192943540424,
          1.525552602940928,
          1.6898131291225371,
          1.5277057609472258,
          1.4857241013921143,
          1.4160028654373162,
          1.51805712471745,
          1.413733702588637,
          0.7239649662419626,
          0.11006533895405736,
          0.11423664246952153,
          0.10794905353190778,
          -0.00745442023564644,
          7.70538705657702e-05,
          -0.00745442023564644,
          -0.00745442023564644,
          -0.00745442023564644,
          -0.00745442023564644,
          -0.00745442023564644,
          0.023619051366022922,
          0.01938735230538949,
          0.02179524198468803,
          0.030172937509387668,
          0.018931747642719775,
          0.02805369505807955,
          0.021194954907886136,
          0.027196965866544815,
          0.022471832676377687,
          0.02175228707615678,
          0.024675739975162262,
          0.11080596413640102,
          0.11197383189762555,
          1.3901721610290327,
          1.1264107611358374,
          1.345980757947693,
          1.5626074165667052,
          1.3917238871151376,
          1.3272393162862313,
          0.0004514767896807757,
          -0.007454420235646439,
          7.655458708757361e-05,
          0.03587045557972032,
          1.2509207836905953,
          1.426578885538291,
          1.5355798996787946,
          1.241324418827931,
          1.167983449721583,
          1.576452164821772,
          1.0743696766253992,
          1.3603996691883233,
          1.360511954355764,
          0.026406299430727292,
          0.02487889645876741,
          0.025244431356860414,
          0.029157439804759284,
          0.029828332366103435,
          0.025133869120952168,
          0.04144367433099833,
          -0.007454420235646439,
          -0.00745442023564644,
          -0.00745442023564644,
          -0.00745442023564644,
          -0.00745442023564644,
          -0.00745442023564644,
          -0.00745442023564644,
          -0.00745442023564644,
          -0.00745442023564644,
          -0.00745442023564644,
          1.2440527953838214,
          1.0072132667819027,
          1.2328610489811962,
          1.4525492604722052,
          1.5874777515421872,
          1.3015655815928449,
          1.419745087917499,
          0.00016619396384816282,
          1.5961054091402445,
          1.5656503986252581,
          1.360840774450345,
          1.3237148228404474,
          1.4746086452567615,
          1.4309067813414074,
          0.9985407446326996,
          1.508918594404512,
          1.3104575427032636,
          1.3997151823890313,
          1.554553018121413,
          1.3077839133434175,
          0.9811445458371746,
          1.1668983247746127,
          1.3790121460534255,
          1.3828865500086829,
          1.1746109121499675,
          1.2457980866330822,
          1.4372487722933582,
          1.164586270852807,
          0.683960773552854,
          0.9978377870042978,
          0.8115946734207516,
          -0.00745442023564644,
          1.438138372956466,
          1.0934582570320646,
          1.3034488230072279,
          1.3313696135320117,
          1.3659266133982306,
          1.260214784791139,
          1.299705770877395,
          -0.00745442023564644,
          1.3842877745252649,
          0.6732076669804069,
          0.6954277984974843,
          0.35681483744466225,
          0.9111865203397501,
          0.6222341187740266,
          0.9890150048351919,
          0.6655435340341503,
          0.00013234447066820746,
          0.007450919002402666,
          0.04079421718685193,
          0.02192269790521028,
          0.040881324870651,
          0.006589600314127167,
          -0.00745442023564644,
          0.023222012881513678,
          0.02050228734489936,
          0.042065249459679405,
          0.022816573644461227,
          0.020342436796075027,
          0.01801566700519351,
          0.00023346976469084053,
          3.173971658275017e-05,
          0.0003063505475166005,
          0.001387273534735077,
          0.10772476581622488,
          0.0247433152951658,
          0.023649385862597443,
          0.05889965051787375,
          0.13616023495784746,
          5.818675609053705e-05,
          0.0001461029492742065,
          -0.00745442023564644,
          -0.00745442023564644,
          0.10821973638872587,
          1.3048685477056652,
          -0.00745442023564644,
          0.019359416713297783,
          -0.00745442023564644,
          -0.00745442023564644,
          0.06089040187549418,
          0.11046548859328505,
          0.06514117094039172,
          0.9141776159923726,
          -0.00745442023564644,
          0.0002799252006559357,
          0.00028091446560952544,
          0.000362966162533608,
          -0.00745442023564644,
          -0.00745442023564644,
          0.10506688529994489,
          0.10998509160583675,
          0.01636700292081614,
          0.05336792461767235,
          -0.00745442023564644,
          0.11126940400341419,
          1.6949765504452663e-13,
          -0.00745442023564644,
          -0.007454420235646439,
          -0.00745442023564644,
          0.024874155332219455,
          -0.00745442023564644,
          -0.00745442023564644,
          0.006449690682336272,
          0.012284111673738711,
          0.006152517509545126,
          0.01358233595633239,
          0.0178438757553655,
          0.009194051137756757,
          0.0018901616335818409,
          3.894979121700563e-06,
          2.7424643166079606e-06,
          8.141082053090753e-06,
          5.357739688273436e-06,
          4.2336972587010226e-05,
          6.18192415188107e-05,
          0.023036596578123906,
          0.025218466009410342,
          0.05095581145151152,
          0.023948226912709793,
          0.019546827478889053,
          0.028103536558098146,
          0.01700646428470528,
          0.026935824786854693,
          0.04685863520738921,
          0.07118174405039215,
          0.024497459710437684,
          0.011460366480451317,
          0.04739127336046513,
          0.022750737840934444,
          0.028268985497369746,
          0.026087262270507165,
          0.03905199951327271,
          0.018198504030885486,
          -0.00745442023564644,
          0.021956754395868312,
          -0.00745442023564644,
          0.020001262293715936,
          -0.00745442023564644,
          0.018160584410834922,
          0.028198699725055013,
          0.10946762761680175,
          0.10947233779159177,
          -0.00745442023564644,
          -0.00745442023564644,
          0.10720533579881276,
          0.06998476139830177,
          -0.00745442023564644,
          -0.00745442023564644,
          0.023160049119501494,
          -0.00745442023564644,
          -0.00745442023564644,
          -0.00745442023564644,
          -0.00745442023564644,
          -0.00745442023564644,
          -0.00745442023564644,
          -0.00745442023564644,
          0.01894618079242876,
          -0.00745442023564644,
          0.021707530357271236,
          0.09748044895031571,
          0.00824077611781749,
          0.03130822983649654,
          0.006827547337022349,
          -0.00745442023564644,
          0.0005453455372588675,
          0.015966182868809107,
          -0.00745442023564644,
          0.11535304232373836,
          -0.00745442023564644,
          0.014481795597123785,
          -0.00745442023564644,
          -0.00745442023564644,
          -0.00745442023564644,
          -0.00745442023564644,
          -0.00745442023564644,
          0.9298987934234999,
          0.006589600314127167,
          0.01616995153651497,
          -0.00745442023564644,
          -0.00745442023564644,
          -0.00745442023564644,
          0.0644800558586973,
          2.7929673205103896e-13,
          -0.00745442023564644,
          0.11080032752325061,
          -0.00745442023564644,
          -0.00745442023564644,
          0.10973983170027342,
          -0.00745442023564644,
          -0.00745442023564644,
          0.007771394146222212,
          0.010041959853743832,
          0.0073869929984798945,
          0.009384622137105397,
          0.017880973982648325,
          0.008203723363619726,
          0.004244111299480968,
          4.174241464016054e-06,
          0.00012700214061114924,
          4.654512952320163e-06,
          0.0001291051347132137,
          5.516884535251216e-05,
          0.03420504463762146,
          0.02535461843332029,
          0.032144305501481577,
          0.025064856426783265,
          0.013989892336667815,
          0.004458348034876516,
          0.0324809876879579,
          0.018406073623852163,
          0.02100087486854958,
          0.0187659676036749,
          0.018888583296625135,
          0.0145020287141504,
          1.6113375670918733e-14,
          0.107985194859916,
          2.3011668912748883e-18,
          -0.00745442023564644,
          -0.00745442023564644,
          -0.00745442023564644,
          -0.00745442023564644,
          -0.00745442023564644,
          -0.00745442023564644,
          -0.00745442023564644,
          0.09552667836019556,
          -0.00745442023564644,
          -0.00745442023564644,
          -0.00745442023564644,
          0.01850714273788675,
          0.02342541353444533,
          0.007749587415705108,
          0.009483012523777323,
          0.011830965260340286,
          1.5395427407618584e-14,
          0.11159658786411125,
          0.10838224327457213,
          0.10955677690832209,
          0.06436580891136894,
          -0.00745442023564644,
          7.368908974964217e-05,
          -0.00745442023564644,
          -0.007454420235646439,
          -0.00745442023564644,
          0.10839961149058724,
          0.025467037437725312,
          0.0694488428462463,
          0.0075346487785422234,
          0.01372972131891617,
          0.012860436448406376,
          0.0028304004844891028,
          0.015635288165102953,
          0.01694651789323231,
          0.0027294623228235264,
          0.02165738698985619,
          0.11104153395035608,
          0.10890786307696852,
          0.10899903049707953,
          0.1104272715338577,
          0.11064505331278936,
          0.10951312817363817,
          0.10817130363963592,
          0.11245650250127483,
          0.11090878696822239,
          -0.00745442023564644,
          1.0082430372458366,
          1.4034834434788133,
          1.2763767811792313,
          1.1435184384379837,
          1.7014272344329038,
          1.2857373481858358,
          0.6443276213926452,
          0.9591115013491697,
          1.1442427795845496,
          -0.00745442023564644,
          -0.00745442023564644,
          0.023447794228832666,
          0.022728968341446935,
          0.017718132020914358,
          0.017786820519101836,
          0.00575475182539436,
          8.257679411882342e-05,
          -0.00745442023564644,
          -0.00745442023564644,
          -0.00745442023564644,
          -0.00745442023564644,
          0.023302368296639106,
          0.021894821877110802,
          0.027162279686479076,
          0.025156611363424716,
          0.02511986750553311,
          0.027907741136948824,
          0.02774720831344839,
          0.021491644459305383,
          0.023108713003798916,
          0.02301751373553187,
          0.025177867256362174,
          0.025252299262364695,
          0.028276361252215214,
          0.02682451106870112,
          0.026975924164800304,
          0.022598433205454422,
          0.020715323030283388,
          0.025338489305061076,
          0.022159142900495095,
          0.02593546964186487,
          0.022853306172381405,
          0.02628071039746934,
          0.023448142150880123,
          0.022676992196893078,
          0.021118185270380185,
          -0.00745442023564644,
          -0.00745442023564644,
          0.032086065720458586,
          0.013838132305143722,
          0.008328130709036194,
          1.4099084117331158,
          1.3412598382572956,
          1.2217739529231249,
          1.1013610955723405,
          1.5176615071145847,
          1.3389075332439944,
          1.3220389706755793,
          1.2185304384193885,
          1.4147061267737433,
          1.4703238719502318,
          1.4382574938919228,
          1.761540322293097,
          -0.00745442023564644,
          -0.00745442023564644,
          -0.00745442023564644,
          -0.00745442023564644,
          -0.00745442023564644,
          -0.007454420235646439,
          0.025905438426972547,
          0.023269530013653873,
          0.01386245530796176,
          -0.00745442023564644,
          -0.00745442023564644,
          1.3805803288591623,
          0.022540174540983064,
          0.015151421824145809,
          0.01709791595842286,
          0.0232361240107164,
          0.014824953738878023,
          0.01140132790370309,
          0.011769417817158921,
          1.4844855818640914,
          0.05282679494063446,
          0.02295710237154416,
          0.014850825087814047,
          0.013120220417180506,
          -0.00745442023564644,
          0.024632426780815377,
          0.014046045230236073,
          0.01712017158954577,
          -0.00745442023564644,
          -0.00745442023564644,
          1.43717319464271,
          1.1613902571393937,
          0.022025530121767178,
          -0.00745442023564644,
          -0.00745442023564644,
          -0.007454420235646439,
          -0.00745442023564644,
          -0.00745442023564644,
          3.4753839601697125e-15,
          2.8897569316065208e-15,
          0.023375190340332735,
          -1.2650041730494817e-14,
          -0.00013422262769014628,
          -0.00745442023564644,
          -0.00745442023564644,
          -0.00745442023564644,
          -0.00745442023564644,
          -0.00745442023564644,
          -0.00745442023564644,
          -0.00745442023564644,
          -0.00745442023564644,
          -0.0003239096031143889,
          -0.00745442023564644,
          -0.00745442023564644,
          -0.00745442023564644,
          -0.00745442023564644,
          -0.00745442023564644,
          -0.007454420235646439,
          -0.00745442023564644,
          -0.00745442023564644,
          -0.00745442023564644,
          -0.00745442023564644,
          -0.00745442023564644,
          -0.00745442023564644,
          -0.00745442023564644,
          -0.00745442023564644,
          -0.00745442023564644,
          0.02338674222275866,
          -0.00745442023564644,
          -0.00745442023564644,
          -0.00745442023564644,
          -0.00745442023564644,
          -0.00745442023564644,
          -0.00745442023564644,
          -0.00745442023564644,
          0.01181248635929957,
          0.018292649252786328,
          0.008653335725154233,
          0.022280694456339435,
          0.007776580049788897,
          0.01506288706394713,
          0.10853209761776492,
          0.10939340402198515,
          -0.00745442023564644,
          -0.00745442023564644,
          -0.00745442023564644,
          -0.00745442023564644,
          -0.00745442023564644,
          0.061909378179662,
          0.10772476581622488,
          0.019760709179910747,
          0.026181520656017185,
          0.010153714381444716,
          -0.00745442023564644,
          -0.00745442023564644,
          -0.00745442023564644,
          -0.00745442023564644,
          -0.00745442023564644,
          0.10772476581622488,
          -0.007454420235646439,
          0.0027608592814093672,
          -0.00745442023564644,
          -0.00745442023564644,
          -0.00745442023564644,
          -0.00745442023564644,
          -0.007454420235646439,
          -0.00745442023564644,
          -0.00745442023564644,
          -0.00745442023564644,
          -0.00745442023564644,
          -0.00745442023564644,
          -0.00745442023564644,
          -0.00745442023564644,
          -0.00745442023564644,
          -0.00745442023564644,
          -0.00745442023564644,
          -0.00745442023564644,
          -0.00745442023564644,
          -0.00745442023564644,
          -0.00745442023564644,
          -0.00745442023564644,
          -0.00745442023564644,
          -0.00745442023564644,
          -0.00745442023564644,
          -0.007454420235646439,
          -0.00745442023564644,
          -0.00745442023564644,
          -0.00745442023564644,
          -0.00745442023564644,
          -0.00745442023564644,
          -0.00745442023564644,
          -0.00745442023564644,
          -0.007454420235646439,
          -0.00745442023564644,
          -0.00745442023564644,
          -0.00745442023564644,
          -0.00745442023564644,
          -0.00745442023564644,
          -0.00745442023564644,
          -0.00745442023564644,
          -0.00745442023564644,
          -0.00745442023564644,
          -0.00745442023564644,
          -0.007454420235646439,
          -0.00745442023564644,
          -0.00745442023564644,
          -0.00745442023564644,
          -0.00745442023564644,
          -0.00745442023564644,
          -0.00745442023564644,
          -0.00745442023564644,
          -0.00745442023564644,
          -0.00745442023564644,
          -0.00745442023564644,
          -0.00745442023564644,
          -0.00745442023564644,
          -0.00745442023564644,
          -0.00745442023564644,
          -0.00745442023564644,
          -0.00745442023564644,
          -0.00745442023564644,
          -0.00745442023564644,
          -0.00745442023564644,
          -0.00745442023564644,
          -0.00745442023564644,
          -0.00745442023564644,
          -0.00745442023564644,
          -0.00745442023564644,
          -0.00745442023564644,
          -0.00745442023564644,
          -0.00745442023564644,
          -0.00745442023564644,
          -0.00745442023564644,
          -0.00745442023564644,
          -0.00745442023564644,
          -0.00745442023564644,
          -0.00745442023564644,
          -0.00745442023564644,
          -0.00745442023564644,
          -0.00745442023564644,
          -0.00745442023564644,
          -0.007238538941425547,
          -0.00745442023564644,
          -0.00745442023564644,
          -0.00745442023564644,
          -0.00745442023564644,
          -0.00745442023564644,
          0.013955076527385535,
          -0.00745442023564644,
          -0.007454420235646439,
          -0.00745442023564644,
          -0.00745442023564644,
          -0.00745442023564644,
          -0.00745442023564644,
          -0.00745442023564644,
          -0.00745442023564644,
          -0.00745442023564644,
          -0.00745442023564644,
          -0.00745442023564644,
          -0.00745442023564644,
          -0.00745442023564644,
          0.10772476581622488,
          0.11914350263021446,
          -0.00745442023564644,
          0.008997854788364765,
          -0.00745442023564644,
          -0.00745442023564644,
          -0.00745442023564644,
          0.04400007349878394,
          0.013136355370289654,
          -0.00745442023564644,
          1.4154063254148892,
          1.4147242098014154,
          1.3671268373696137,
          1.6336588574883772,
          1.6066982154413147,
          1.0954014012803752,
          1.0549791699139064,
          1.1523061463881081,
          1.3286452345249258,
          0.024988822031170206,
          0.025988680439924805,
          0.0605814336283027,
          0.028072289381123747,
          0.024576824442542465,
          0.027441932366792526,
          0.021685662818391627,
          0.02231849353903731,
          0.01586809278725434,
          0.015601751112618321,
          0.013886239141853555,
          0.024782272393737512,
          0.025213184696471942,
          0.021974873284118415,
          0.01746559378794945,
          0.02678077993530629,
          0.01513402499809922,
          0.02467029292926001,
          0.02539501498383331,
          0.013451287810177709,
          0.022566696775667323,
          0.0015805392335352826,
          0.018034832455847905,
          0.007785803984493713,
          0.013668947230095483,
          0.014754957115309466,
          0.016130182812571735,
          0.04089490995305924,
          0.005600490270277286,
          0.012057144290433048,
          0.0024380985364919096,
          0.011475564194493986,
          0.013725560974386266,
          0.01507233147054943,
          0.010732616713067347,
          0.01156954450678996,
          0.04077790571543311,
          0.013788326333360586,
          1.7133300769902278,
          0.0041658120663402584,
          0.00843484875915674,
          0.02167729563714705,
          0.009409621515867092,
          0.010818056476974109,
          0.0186897738224039,
          0.007825184644461844,
          1.5820507749531922,
          0.0003838845539286482,
          0.0003243153866640495,
          0.00025869957704776443,
          0.0003423596460376035,
          0.00014817168860516117,
          0.000287953732482874,
          0.00012140685099696454,
          0.001206413177455874,
          0.00019953044069008618,
          2.634570049834784e-06,
          0.0037428677073687838,
          0.0003024954328300467,
          0.0017410140577445777,
          0.00020199914163172167,
          0.00042858717739819647,
          6.255485084799412e-05,
          0.00029646381447541556,
          0.00013346360807220897,
          0.00010545656123282676,
          0.00038843534443289016,
          0.00017181145633022733,
          9.132785301682294e-05,
          9.472263381091451e-05,
          0.0003063600323237711,
          0.0013398415223207795,
          0.00024075423844419097,
          0.00019265407023730239,
          0.0002842713591380092,
          0.003815173646693267,
          0.000191977520188602,
          0.0001966453110240518,
          7.753095913109997e-05,
          0.00032482476873195096,
          7.064168982812839e-05,
          0.0014977996254987372,
          0.00787157000571485,
          0.00022023752240487004,
          7.064168982812839e-05,
          0.0003590634493757794,
          0.00025133819550098436,
          0.0003103984068341196,
          0.0001242525595179729,
          0.00010584494934400805,
          2.4060944767758614e-05,
          0.00013193055337034823,
          8.930671542498048e-05,
          0.0014134313200772311,
          0.00032014448012945493,
          2.220508061305187e-06,
          0.00032052963512619877,
          3.7629279421075025e-05,
          0.0001332210113682856,
          5.038153830373145e-06,
          4.641479205688204e-06,
          9.768311229813651e-05,
          0.00013473778382258096,
          0.0001570585094126369,
          8.676394741609703e-05,
          0.00010224852525553686,
          0.00010115750684347211,
          4.796913091897544e-06,
          0.0002266571660304442,
          0.00016058371807744452,
          2.3764208139748263e-06,
          9.971125436420789e-05,
          0.00017966036572244657,
          1.2305796591133805e-05,
          4.459085544530106e-06,
          7.545292237945745e-05,
          0.00030599559436014697,
          7.376368578213502e-06,
          4.053293730280857e-06,
          1.563535825293706e-05,
          9.321627747340532e-05,
          4.950729791266176e-06,
          5.05100635676414e-05,
          7.096215441056832e-06,
          6.06129062688689e-06,
          7.292060670679877e-05,
          1.9695225860950213e-05,
          2.989385825380144e-05,
          0.00012862162501504397,
          6.136146179828045e-05,
          0.00012169106790148078,
          2.6973672962921263e-05,
          3.687636971608836e-05,
          0.0002135180773511509,
          0.0001462250905026444,
          1.9280145464316426e-05,
          2.1726180814958246e-05,
          0.00031036840737551325,
          2.6110460843342266e-05,
          0.00012405218158404802,
          0.01181248635929957,
          0.005783077979103894,
          0.011001500235279137,
          0.004702111814916971,
          -0.00745442023564644,
          -0.00745442023564644,
          -0.00745442023564644,
          -0.00745442023564644,
          -0.00745442023564644,
          -0.00745442023564644,
          -0.00745442023564644,
          -0.00745442023564644,
          1.5681815005483721,
          1.2028634655140853,
          1.3212727005926244,
          -0.00745442023564644,
          -0.00745442023564644,
          0.10772476581622488,
          0.11059064892231668,
          -0.00745442023564644,
          -0.00745442023564644,
          -0.00745442023564644,
          -0.007454420235646439,
          -0.00745442023564644,
          -0.00745442023564644,
          -0.00745442023564644,
          -0.00745442023564644,
          0.0005595823844458173,
          0.00028233956063961687,
          0.00043532062256354325,
          0.0003700022679668904,
          0.00019236912280322073,
          0.00031440675591232946,
          0.000266791998640431,
          -0.00745442023564644,
          -0.00745442023564644,
          -0.00745442023564644,
          -0.00745442023564644,
          -0.00745442023564644,
          -0.00745442023564644,
          0.1104553076478772,
          0.10772476581622488,
          -0.00745442023564644,
          0.00019016930026473873,
          0.00022798478005293268,
          0.00011967918007111709
         ],
         "yaxis": "y"
        }
       ],
       "layout": {
        "coloraxis": {
         "colorbar": {
          "title": {
           "text": "Cluster"
          }
         },
         "colorscale": [
          [
           0,
           "#0d0887"
          ],
          [
           0.1111111111111111,
           "#46039f"
          ],
          [
           0.2222222222222222,
           "#7201a8"
          ],
          [
           0.3333333333333333,
           "#9c179e"
          ],
          [
           0.4444444444444444,
           "#bd3786"
          ],
          [
           0.5555555555555556,
           "#d8576b"
          ],
          [
           0.6666666666666666,
           "#ed7953"
          ],
          [
           0.7777777777777778,
           "#fb9f3a"
          ],
          [
           0.8888888888888888,
           "#fdca26"
          ],
          [
           1,
           "#f0f921"
          ]
         ]
        },
        "legend": {
         "tracegroupgap": 0
        },
        "template": {
         "data": {
          "bar": [
           {
            "error_x": {
             "color": "#2a3f5f"
            },
            "error_y": {
             "color": "#2a3f5f"
            },
            "marker": {
             "line": {
              "color": "#E5ECF6",
              "width": 0.5
             },
             "pattern": {
              "fillmode": "overlay",
              "size": 10,
              "solidity": 0.2
             }
            },
            "type": "bar"
           }
          ],
          "barpolar": [
           {
            "marker": {
             "line": {
              "color": "#E5ECF6",
              "width": 0.5
             },
             "pattern": {
              "fillmode": "overlay",
              "size": 10,
              "solidity": 0.2
             }
            },
            "type": "barpolar"
           }
          ],
          "carpet": [
           {
            "aaxis": {
             "endlinecolor": "#2a3f5f",
             "gridcolor": "white",
             "linecolor": "white",
             "minorgridcolor": "white",
             "startlinecolor": "#2a3f5f"
            },
            "baxis": {
             "endlinecolor": "#2a3f5f",
             "gridcolor": "white",
             "linecolor": "white",
             "minorgridcolor": "white",
             "startlinecolor": "#2a3f5f"
            },
            "type": "carpet"
           }
          ],
          "choropleth": [
           {
            "colorbar": {
             "outlinewidth": 0,
             "ticks": ""
            },
            "type": "choropleth"
           }
          ],
          "contour": [
           {
            "colorbar": {
             "outlinewidth": 0,
             "ticks": ""
            },
            "colorscale": [
             [
              0,
              "#0d0887"
             ],
             [
              0.1111111111111111,
              "#46039f"
             ],
             [
              0.2222222222222222,
              "#7201a8"
             ],
             [
              0.3333333333333333,
              "#9c179e"
             ],
             [
              0.4444444444444444,
              "#bd3786"
             ],
             [
              0.5555555555555556,
              "#d8576b"
             ],
             [
              0.6666666666666666,
              "#ed7953"
             ],
             [
              0.7777777777777778,
              "#fb9f3a"
             ],
             [
              0.8888888888888888,
              "#fdca26"
             ],
             [
              1,
              "#f0f921"
             ]
            ],
            "type": "contour"
           }
          ],
          "contourcarpet": [
           {
            "colorbar": {
             "outlinewidth": 0,
             "ticks": ""
            },
            "type": "contourcarpet"
           }
          ],
          "heatmap": [
           {
            "colorbar": {
             "outlinewidth": 0,
             "ticks": ""
            },
            "colorscale": [
             [
              0,
              "#0d0887"
             ],
             [
              0.1111111111111111,
              "#46039f"
             ],
             [
              0.2222222222222222,
              "#7201a8"
             ],
             [
              0.3333333333333333,
              "#9c179e"
             ],
             [
              0.4444444444444444,
              "#bd3786"
             ],
             [
              0.5555555555555556,
              "#d8576b"
             ],
             [
              0.6666666666666666,
              "#ed7953"
             ],
             [
              0.7777777777777778,
              "#fb9f3a"
             ],
             [
              0.8888888888888888,
              "#fdca26"
             ],
             [
              1,
              "#f0f921"
             ]
            ],
            "type": "heatmap"
           }
          ],
          "heatmapgl": [
           {
            "colorbar": {
             "outlinewidth": 0,
             "ticks": ""
            },
            "colorscale": [
             [
              0,
              "#0d0887"
             ],
             [
              0.1111111111111111,
              "#46039f"
             ],
             [
              0.2222222222222222,
              "#7201a8"
             ],
             [
              0.3333333333333333,
              "#9c179e"
             ],
             [
              0.4444444444444444,
              "#bd3786"
             ],
             [
              0.5555555555555556,
              "#d8576b"
             ],
             [
              0.6666666666666666,
              "#ed7953"
             ],
             [
              0.7777777777777778,
              "#fb9f3a"
             ],
             [
              0.8888888888888888,
              "#fdca26"
             ],
             [
              1,
              "#f0f921"
             ]
            ],
            "type": "heatmapgl"
           }
          ],
          "histogram": [
           {
            "marker": {
             "pattern": {
              "fillmode": "overlay",
              "size": 10,
              "solidity": 0.2
             }
            },
            "type": "histogram"
           }
          ],
          "histogram2d": [
           {
            "colorbar": {
             "outlinewidth": 0,
             "ticks": ""
            },
            "colorscale": [
             [
              0,
              "#0d0887"
             ],
             [
              0.1111111111111111,
              "#46039f"
             ],
             [
              0.2222222222222222,
              "#7201a8"
             ],
             [
              0.3333333333333333,
              "#9c179e"
             ],
             [
              0.4444444444444444,
              "#bd3786"
             ],
             [
              0.5555555555555556,
              "#d8576b"
             ],
             [
              0.6666666666666666,
              "#ed7953"
             ],
             [
              0.7777777777777778,
              "#fb9f3a"
             ],
             [
              0.8888888888888888,
              "#fdca26"
             ],
             [
              1,
              "#f0f921"
             ]
            ],
            "type": "histogram2d"
           }
          ],
          "histogram2dcontour": [
           {
            "colorbar": {
             "outlinewidth": 0,
             "ticks": ""
            },
            "colorscale": [
             [
              0,
              "#0d0887"
             ],
             [
              0.1111111111111111,
              "#46039f"
             ],
             [
              0.2222222222222222,
              "#7201a8"
             ],
             [
              0.3333333333333333,
              "#9c179e"
             ],
             [
              0.4444444444444444,
              "#bd3786"
             ],
             [
              0.5555555555555556,
              "#d8576b"
             ],
             [
              0.6666666666666666,
              "#ed7953"
             ],
             [
              0.7777777777777778,
              "#fb9f3a"
             ],
             [
              0.8888888888888888,
              "#fdca26"
             ],
             [
              1,
              "#f0f921"
             ]
            ],
            "type": "histogram2dcontour"
           }
          ],
          "mesh3d": [
           {
            "colorbar": {
             "outlinewidth": 0,
             "ticks": ""
            },
            "type": "mesh3d"
           }
          ],
          "parcoords": [
           {
            "line": {
             "colorbar": {
              "outlinewidth": 0,
              "ticks": ""
             }
            },
            "type": "parcoords"
           }
          ],
          "pie": [
           {
            "automargin": true,
            "type": "pie"
           }
          ],
          "scatter": [
           {
            "fillpattern": {
             "fillmode": "overlay",
             "size": 10,
             "solidity": 0.2
            },
            "type": "scatter"
           }
          ],
          "scatter3d": [
           {
            "line": {
             "colorbar": {
              "outlinewidth": 0,
              "ticks": ""
             }
            },
            "marker": {
             "colorbar": {
              "outlinewidth": 0,
              "ticks": ""
             }
            },
            "type": "scatter3d"
           }
          ],
          "scattercarpet": [
           {
            "marker": {
             "colorbar": {
              "outlinewidth": 0,
              "ticks": ""
             }
            },
            "type": "scattercarpet"
           }
          ],
          "scattergeo": [
           {
            "marker": {
             "colorbar": {
              "outlinewidth": 0,
              "ticks": ""
             }
            },
            "type": "scattergeo"
           }
          ],
          "scattergl": [
           {
            "marker": {
             "colorbar": {
              "outlinewidth": 0,
              "ticks": ""
             }
            },
            "type": "scattergl"
           }
          ],
          "scattermapbox": [
           {
            "marker": {
             "colorbar": {
              "outlinewidth": 0,
              "ticks": ""
             }
            },
            "type": "scattermapbox"
           }
          ],
          "scatterpolar": [
           {
            "marker": {
             "colorbar": {
              "outlinewidth": 0,
              "ticks": ""
             }
            },
            "type": "scatterpolar"
           }
          ],
          "scatterpolargl": [
           {
            "marker": {
             "colorbar": {
              "outlinewidth": 0,
              "ticks": ""
             }
            },
            "type": "scatterpolargl"
           }
          ],
          "scatterternary": [
           {
            "marker": {
             "colorbar": {
              "outlinewidth": 0,
              "ticks": ""
             }
            },
            "type": "scatterternary"
           }
          ],
          "surface": [
           {
            "colorbar": {
             "outlinewidth": 0,
             "ticks": ""
            },
            "colorscale": [
             [
              0,
              "#0d0887"
             ],
             [
              0.1111111111111111,
              "#46039f"
             ],
             [
              0.2222222222222222,
              "#7201a8"
             ],
             [
              0.3333333333333333,
              "#9c179e"
             ],
             [
              0.4444444444444444,
              "#bd3786"
             ],
             [
              0.5555555555555556,
              "#d8576b"
             ],
             [
              0.6666666666666666,
              "#ed7953"
             ],
             [
              0.7777777777777778,
              "#fb9f3a"
             ],
             [
              0.8888888888888888,
              "#fdca26"
             ],
             [
              1,
              "#f0f921"
             ]
            ],
            "type": "surface"
           }
          ],
          "table": [
           {
            "cells": {
             "fill": {
              "color": "#EBF0F8"
             },
             "line": {
              "color": "white"
             }
            },
            "header": {
             "fill": {
              "color": "#C8D4E3"
             },
             "line": {
              "color": "white"
             }
            },
            "type": "table"
           }
          ]
         },
         "layout": {
          "annotationdefaults": {
           "arrowcolor": "#2a3f5f",
           "arrowhead": 0,
           "arrowwidth": 1
          },
          "autotypenumbers": "strict",
          "coloraxis": {
           "colorbar": {
            "outlinewidth": 0,
            "ticks": ""
           }
          },
          "colorscale": {
           "diverging": [
            [
             0,
             "#8e0152"
            ],
            [
             0.1,
             "#c51b7d"
            ],
            [
             0.2,
             "#de77ae"
            ],
            [
             0.3,
             "#f1b6da"
            ],
            [
             0.4,
             "#fde0ef"
            ],
            [
             0.5,
             "#f7f7f7"
            ],
            [
             0.6,
             "#e6f5d0"
            ],
            [
             0.7,
             "#b8e186"
            ],
            [
             0.8,
             "#7fbc41"
            ],
            [
             0.9,
             "#4d9221"
            ],
            [
             1,
             "#276419"
            ]
           ],
           "sequential": [
            [
             0,
             "#0d0887"
            ],
            [
             0.1111111111111111,
             "#46039f"
            ],
            [
             0.2222222222222222,
             "#7201a8"
            ],
            [
             0.3333333333333333,
             "#9c179e"
            ],
            [
             0.4444444444444444,
             "#bd3786"
            ],
            [
             0.5555555555555556,
             "#d8576b"
            ],
            [
             0.6666666666666666,
             "#ed7953"
            ],
            [
             0.7777777777777778,
             "#fb9f3a"
            ],
            [
             0.8888888888888888,
             "#fdca26"
            ],
            [
             1,
             "#f0f921"
            ]
           ],
           "sequentialminus": [
            [
             0,
             "#0d0887"
            ],
            [
             0.1111111111111111,
             "#46039f"
            ],
            [
             0.2222222222222222,
             "#7201a8"
            ],
            [
             0.3333333333333333,
             "#9c179e"
            ],
            [
             0.4444444444444444,
             "#bd3786"
            ],
            [
             0.5555555555555556,
             "#d8576b"
            ],
            [
             0.6666666666666666,
             "#ed7953"
            ],
            [
             0.7777777777777778,
             "#fb9f3a"
            ],
            [
             0.8888888888888888,
             "#fdca26"
            ],
            [
             1,
             "#f0f921"
            ]
           ]
          },
          "colorway": [
           "#636efa",
           "#EF553B",
           "#00cc96",
           "#ab63fa",
           "#FFA15A",
           "#19d3f3",
           "#FF6692",
           "#B6E880",
           "#FF97FF",
           "#FECB52"
          ],
          "font": {
           "color": "#2a3f5f"
          },
          "geo": {
           "bgcolor": "white",
           "lakecolor": "white",
           "landcolor": "#E5ECF6",
           "showlakes": true,
           "showland": true,
           "subunitcolor": "white"
          },
          "hoverlabel": {
           "align": "left"
          },
          "hovermode": "closest",
          "mapbox": {
           "style": "light"
          },
          "paper_bgcolor": "white",
          "plot_bgcolor": "#E5ECF6",
          "polar": {
           "angularaxis": {
            "gridcolor": "white",
            "linecolor": "white",
            "ticks": ""
           },
           "bgcolor": "#E5ECF6",
           "radialaxis": {
            "gridcolor": "white",
            "linecolor": "white",
            "ticks": ""
           }
          },
          "scene": {
           "xaxis": {
            "backgroundcolor": "#E5ECF6",
            "gridcolor": "white",
            "gridwidth": 2,
            "linecolor": "white",
            "showbackground": true,
            "ticks": "",
            "zerolinecolor": "white"
           },
           "yaxis": {
            "backgroundcolor": "#E5ECF6",
            "gridcolor": "white",
            "gridwidth": 2,
            "linecolor": "white",
            "showbackground": true,
            "ticks": "",
            "zerolinecolor": "white"
           },
           "zaxis": {
            "backgroundcolor": "#E5ECF6",
            "gridcolor": "white",
            "gridwidth": 2,
            "linecolor": "white",
            "showbackground": true,
            "ticks": "",
            "zerolinecolor": "white"
           }
          },
          "shapedefaults": {
           "line": {
            "color": "#2a3f5f"
           }
          },
          "ternary": {
           "aaxis": {
            "gridcolor": "white",
            "linecolor": "white",
            "ticks": ""
           },
           "baxis": {
            "gridcolor": "white",
            "linecolor": "white",
            "ticks": ""
           },
           "bgcolor": "#E5ECF6",
           "caxis": {
            "gridcolor": "white",
            "linecolor": "white",
            "ticks": ""
           }
          },
          "title": {
           "x": 0.05
          },
          "xaxis": {
           "automargin": true,
           "gridcolor": "white",
           "linecolor": "white",
           "ticks": "",
           "title": {
            "standoff": 15
           },
           "zerolinecolor": "white",
           "zerolinewidth": 2
          },
          "yaxis": {
           "automargin": true,
           "gridcolor": "white",
           "linecolor": "white",
           "ticks": "",
           "title": {
            "standoff": 15
           },
           "zerolinecolor": "white",
           "zerolinewidth": 2
          }
         }
        },
        "title": {
         "text": "PCA Scatter Plot"
        },
        "xaxis": {
         "anchor": "y",
         "domain": [
          0,
          1
         ],
         "title": {
          "text": "PC1 (14.34% Variance Explained)"
         }
        },
        "yaxis": {
         "anchor": "x",
         "domain": [
          0,
          1
         ],
         "title": {
          "text": "PC2 (15.13% Variance Explained)"
         }
        }
       }
      }
     },
     "metadata": {},
     "output_type": "display_data"
    }
   ],
   "source": [
    "# Get the percentage variance explained by each principal component\n",
    "explained_var_ratio = pca.explained_variance_ratio_\n",
    "\n",
    "# Create a scatter plot with Plotly\n",
    "fig = px.scatter(concat_df, x='PC1', y='PC2', color='Cluster', title='PCA Scatter Plot')\n",
    "fig.update_layout(\n",
    "    xaxis_title=f'PC1 ({explained_var_ratio[0]*100:.2f}% Variance Explained)',\n",
    "    yaxis_title=f'PC2 ({explained_var_ratio[1]*100:.2f}% Variance Explained)'\n",
    ")"
   ]
  },
  {
   "cell_type": "markdown",
   "metadata": {},
   "source": [
    "### Comparison of the methods\n",
    "\n",
    "PCA **preserves the variance in the data**, whereas t-SNE **preserves the relationships between data points in a lower-dimensional space**, making it quite a good algorithm for visualizing complex high-dimensional data. In short, t-SNE is my go to in visualization in lower dimensional space whereas PCA is more useful as a preprocessing step/dimensionality reduction algorithm."
   ]
  },
  {
   "cell_type": "markdown",
   "metadata": {},
   "source": [
    "### Analysis of the results"
   ]
  },
  {
   "cell_type": "code",
   "execution_count": null,
   "metadata": {},
   "outputs": [],
   "source": [
    "for catalog in grouped_data[\"catalog_id\"]:\n",
    "    top_10 = pivot_combined[catalog].sum(axis=1).sort_values(ascending=False).head(10)\n",
    "    top_10 /= top_10.sum()\n",
    "    \n",
    "    # Create a bar chart\n",
    "    fig = go.Figure([go.Bar(x=top_10.index, y=top_10.values)])\n",
    "    fig.update_layout(title=f\"Top 10 for Catalog {catalog}\",\n",
    "                      xaxis_title=\"Index\",\n",
    "                      yaxis_title=\"Sum\",\n",
    "                      )\n",
    "    fig"
   ]
  }
 ],
 "metadata": {
  "kernelspec": {
   "display_name": "Python 3",
   "language": "python",
   "name": "python3"
  },
  "language_info": {
   "codemirror_mode": {
    "name": "ipython",
    "version": 3
   },
   "file_extension": ".py",
   "mimetype": "text/x-python",
   "name": "python",
   "nbconvert_exporter": "python",
   "pygments_lexer": "ipython3",
   "version": "3.10.6"
  }
 },
 "nbformat": 4,
 "nbformat_minor": 2
}