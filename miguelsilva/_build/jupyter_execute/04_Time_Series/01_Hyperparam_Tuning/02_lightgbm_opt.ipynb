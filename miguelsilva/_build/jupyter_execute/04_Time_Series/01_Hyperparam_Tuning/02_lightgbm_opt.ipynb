{
 "cells": [
  {
   "cell_type": "markdown",
   "metadata": {},
   "source": [
    "# 03: LightGBM hyperparam optimization"
   ]
  },
  {
   "cell_type": "code",
   "execution_count": 1,
   "metadata": {},
   "outputs": [
    {
     "ename": "ModuleNotFoundError",
     "evalue": "No module named 'utils'",
     "output_type": "error",
     "traceback": [
      "\u001b[1;31m---------------------------------------------------------------------------\u001b[0m",
      "\u001b[1;31mModuleNotFoundError\u001b[0m                       Traceback (most recent call last)",
      "Cell \u001b[1;32mIn[1], line 1\u001b[0m\n\u001b[1;32m----> 1\u001b[0m \u001b[38;5;28;01mfrom\u001b[39;00m \u001b[38;5;21;01mutils\u001b[39;00m\u001b[38;5;21;01m.\u001b[39;00m\u001b[38;5;21;01mdatabase\u001b[39;00m \u001b[38;5;28;01mimport\u001b[39;00m \u001b[38;5;241m*\u001b[39m \n\u001b[0;32m      2\u001b[0m \u001b[38;5;28;01mfrom\u001b[39;00m \u001b[38;5;21;01mutils\u001b[39;00m\u001b[38;5;21;01m.\u001b[39;00m\u001b[38;5;21;01mutils\u001b[39;00m \u001b[38;5;28;01mimport\u001b[39;00m \u001b[38;5;241m*\u001b[39m\n\u001b[0;32m      3\u001b[0m \u001b[38;5;28;01mfrom\u001b[39;00m \u001b[38;5;21;01mutils\u001b[39;00m\u001b[38;5;21;01m.\u001b[39;00m\u001b[38;5;21;01mpreprocessing\u001b[39;00m \u001b[38;5;28;01mimport\u001b[39;00m \u001b[38;5;241m*\u001b[39m\n",
      "\u001b[1;31mModuleNotFoundError\u001b[0m: No module named 'utils'"
     ]
    }
   ],
   "source": [
    "from utils.database import * \n",
    "from utils.utils import *\n",
    "from utils.preprocessing import *\n",
    "from utils.plotting import *\n",
    "from utils.metrics import *\n",
    "import numpy as np\n",
    "import pandas as pd\n",
    "import matplotlib.pyplot as plt\n",
    "import lightgbm as lgb\n",
    "from sklearn.model_selection import cross_val_score\n",
    "from sklearn.model_selection import RepeatedKFold\n",
    "import optuna\n",
    "from optuna.samplers import TPESampler\n",
    "\n",
    "# make training set \n",
    "train_index = 550\n",
    "STEPS = 28\n",
    "\n",
    "agg_levels = {\n",
    "    'level_1': None,\n",
    "}\n",
    "\n",
    "daily_data = fetch_target()\n",
    "daily_data = pivot_data(daily_data, \"ettdeb\")\n",
    "train_agg = aggregation(daily_data, \n",
    "                        agg_levels=agg_levels).T\n",
    "train_agg.plot(kind = \"line\")\n",
    "train_agg = train_agg[\"Total\"]"
   ]
  },
  {
   "cell_type": "markdown",
   "metadata": {},
   "source": [
    "## Build test set"
   ]
  },
  {
   "cell_type": "code",
   "execution_count": 9,
   "metadata": {},
   "outputs": [],
   "source": [
    "### CREATE X,Y ####\n",
    "def create_xy(series, window_size, prediction_horizon, shuffle = False):\n",
    "    x = []\n",
    "    y = []\n",
    "    for i in range(0, len(series)):\n",
    "        if len(series[(i + window_size):(i + window_size + prediction_horizon)]) < prediction_horizon:\n",
    "            break\n",
    "        x.append(series[i:(i + window_size)])\n",
    "        y.append(series[(i + window_size):(i + window_size + prediction_horizon)])\n",
    "    x = np.array(x)\n",
    "    y = np.array(y)\n",
    "    return x,y\n",
    "\n",
    "### HYPERPARAMETERS ###\n",
    "window_size = 180\n",
    "prediction_horizon = 1\n",
    "\n",
    "### TRAIN VAL SPLIT ### (include shuffling later)\n",
    "test_size = 28\n",
    "split_time = len(train_agg) - test_size\n",
    "\n",
    "train_series = train_agg[:split_time]\n",
    "test_series = train_agg[split_time - window_size:]\n",
    "\n",
    "train_x, train_y = create_xy(train_series, window_size, prediction_horizon)\n",
    "test_x, test_y = create_xy(test_series, window_size, prediction_horizon)\n",
    "\n",
    "train_y = train_y.flatten()\n",
    "test_y = test_y.flatten()"
   ]
  },
  {
   "cell_type": "markdown",
   "metadata": {},
   "source": [
    "## TPE Sampler\n",
    "\n",
    "TPE is particularly effective in high-dimensional search spaces and tends to converge to good solutions quickly. It efficiently balances exploration and exploitation by focusing the search on promising regions of the hyperparameter space while also exploring other regions to ensure thorough exploration.\n",
    "\n",
    "Non greedy pursuit algorithm which selects the candidate with highest expected improvement as the next set of hyperparams.\n",
    "\n",
    "Supports pruning and categorical variables. **(Complexity $Od^3$)**"
   ]
  },
  {
   "cell_type": "code",
   "execution_count": 12,
   "metadata": {},
   "outputs": [
    {
     "name": "stderr",
     "output_type": "stream",
     "text": [
      "[I 2024-03-17 22:41:23,623] A new study created in memory with name: no-name-d417b379-6958-483c-a5a7-a659f4863cd8\n",
      "[I 2024-03-17 22:41:51,301] Trial 0 finished with value: -398.3047325132685 and parameters: {'boosting_type': 'dart', 'max_depth': 8}. Best is trial 0 with value: -398.3047325132685.\n",
      "[I 2024-03-17 22:42:09,898] Trial 1 finished with value: -458.6925693335741 and parameters: {'boosting_type': 'gbdt', 'max_depth': 7}. Best is trial 0 with value: -398.3047325132685.\n",
      "[I 2024-03-17 22:42:27,672] Trial 2 finished with value: -458.7494176415478 and parameters: {'boosting_type': 'gbdt', 'max_depth': 6}. Best is trial 0 with value: -398.3047325132685.\n",
      "[I 2024-03-17 22:42:33,903] Trial 3 finished with value: -427.9445487163431 and parameters: {'boosting_type': 'goss', 'max_depth': 3}. Best is trial 0 with value: -398.3047325132685.\n",
      "[I 2024-03-17 22:42:54,215] Trial 4 finished with value: -458.7494176415478 and parameters: {'boosting_type': 'gbdt', 'max_depth': 6}. Best is trial 0 with value: -398.3047325132685.\n",
      "[I 2024-03-17 22:43:18,875] Trial 5 finished with value: -398.3047325132685 and parameters: {'boosting_type': 'dart', 'max_depth': 7}. Best is trial 0 with value: -398.3047325132685.\n",
      "[I 2024-03-17 22:43:28,193] Trial 6 finished with value: -427.7743193159043 and parameters: {'boosting_type': 'goss', 'max_depth': 10}. Best is trial 0 with value: -398.3047325132685.\n",
      "[I 2024-03-17 22:43:35,501] Trial 7 finished with value: -427.9445487163431 and parameters: {'boosting_type': 'goss', 'max_depth': 3}. Best is trial 0 with value: -398.3047325132685.\n",
      "[I 2024-03-17 22:44:09,153] Trial 8 finished with value: -398.3047325132685 and parameters: {'boosting_type': 'dart', 'max_depth': 8}. Best is trial 0 with value: -398.3047325132685.\n",
      "[I 2024-03-17 22:44:16,169] Trial 9 finished with value: -427.6077451364319 and parameters: {'boosting_type': 'goss', 'max_depth': 4}. Best is trial 0 with value: -398.3047325132685.\n"
     ]
    },
    {
     "name": "stdout",
     "output_type": "stream",
     "text": [
      "Number of finished trials:  10\n",
      "Best trial:\n",
      "  Value:  -398.3047325132685\n",
      "  Params: \n",
      "    boosting_type: dart\n",
      "    max_depth: 8\n",
      "CPU times: total: 797 ms\n",
      "Wall time: 2min 52s\n"
     ]
    }
   ],
   "source": [
    "%%time\n",
    "def objective(trial):\n",
    "    boosting_type = trial.suggest_categorical('boosting_type', ['gbdt', 'dart', 'goss'])\n",
    "    max_depth = trial.suggest_int('max_depth', 1, 10)\n",
    "    num_leaves = 2 ** max_depth\n",
    "    \n",
    "    params = {\n",
    "        'n_estimators': 1000,\n",
    "        'learning_rate': 0.01,\n",
    "        'max_depth': max_depth,\n",
    "        'num_leaves': num_leaves,\n",
    "        'boosting_type': boosting_type,\n",
    "    }\n",
    "\n",
    "    cv = RepeatedKFold(n_splits=10, n_repeats=3, random_state=1)\n",
    "    scores = cross_val_score(lgb.LGBMRegressor(**params), train_x, train_y, scoring='neg_mean_absolute_error', cv=cv, n_jobs=-1)\n",
    "    \n",
    "    return np.mean(scores)\n",
    "\n",
    "study = optuna.create_study(direction='maximize', sampler = TPESampler())\n",
    "study.optimize(objective, n_trials=10)\n",
    "\n",
    "print(\"Number of finished trials: \", len(study.trials))\n",
    "print(\"Best trial:\")\n",
    "trial = study.best_trial\n",
    "print(\"  Value: \", trial.value)\n",
    "print(\"  Params: \")\n",
    "for key, value in trial.params.items():\n",
    "    print(\"    {}: {}\".format(key, value))"
   ]
  },
  {
   "cell_type": "markdown",
   "metadata": {},
   "source": [
    "## Trial pruning"
   ]
  },
  {
   "cell_type": "code",
   "execution_count": 13,
   "metadata": {},
   "outputs": [
    {
     "name": "stderr",
     "output_type": "stream",
     "text": [
      "[I 2024-03-17 22:44:16,260] A new study created in memory with name: no-name-7eb92b35-e1d7-41e8-90d9-52fc0fa5147f\n",
      "[I 2024-03-17 22:44:22,540] Trial 0 finished with value: -427.65250993952793 and parameters: {'boosting_type': 'goss', 'max_depth': 2}. Best is trial 0 with value: -427.65250993952793.\n",
      "[I 2024-03-17 22:44:40,757] Trial 1 finished with value: -396.3675586026542 and parameters: {'boosting_type': 'dart', 'max_depth': 2}. Best is trial 1 with value: -396.3675586026542.\n",
      "[I 2024-03-17 22:45:04,019] Trial 2 finished with value: -458.6925693335741 and parameters: {'boosting_type': 'gbdt', 'max_depth': 9}. Best is trial 1 with value: -396.3675586026542.\n",
      "[I 2024-03-17 22:45:24,753] Trial 3 finished with value: -458.7494176415478 and parameters: {'boosting_type': 'gbdt', 'max_depth': 6}. Best is trial 1 with value: -396.3675586026542.\n",
      "[I 2024-03-17 22:45:34,199] Trial 4 finished with value: -427.7743193159043 and parameters: {'boosting_type': 'goss', 'max_depth': 9}. Best is trial 1 with value: -396.3675586026542.\n",
      "[I 2024-03-17 22:45:53,463] Trial 5 finished with value: -396.3675586026542 and parameters: {'boosting_type': 'dart', 'max_depth': 2}. Best is trial 1 with value: -396.3675586026542.\n",
      "[I 2024-03-17 22:46:30,273] Trial 6 finished with value: -398.3047325132685 and parameters: {'boosting_type': 'dart', 'max_depth': 10}. Best is trial 1 with value: -396.3675586026542.\n",
      "[I 2024-03-17 22:46:50,040] Trial 7 finished with value: -458.16243464474974 and parameters: {'boosting_type': 'gbdt', 'max_depth': 5}. Best is trial 1 with value: -396.3675586026542.\n",
      "[I 2024-03-17 22:47:08,896] Trial 8 finished with value: -455.1555276606795 and parameters: {'boosting_type': 'gbdt', 'max_depth': 4}. Best is trial 1 with value: -396.3675586026542.\n",
      "[I 2024-03-17 22:47:19,302] Trial 9 finished with value: -427.7743193159043 and parameters: {'boosting_type': 'goss', 'max_depth': 7}. Best is trial 1 with value: -396.3675586026542.\n"
     ]
    },
    {
     "name": "stdout",
     "output_type": "stream",
     "text": [
      "Number of finished trials:  10\n",
      "Best trial:\n",
      "  Value:  -396.3675586026542\n",
      "  Params: \n",
      "    boosting_type: dart\n",
      "    max_depth: 2\n",
      "CPU times: total: 781 ms\n",
      "Wall time: 3min 3s\n"
     ]
    }
   ],
   "source": [
    "%%time\n",
    "def objective(trial):\n",
    "    #boosting_type = trial.suggest_categorical('boosting_type', ['gbdt', 'dart', 'goss'])\n",
    "    max_depth = trial.suggest_int('max_depth', 1, 10)\n",
    "    num_leaves = 2 ** max_depth\n",
    "    \n",
    "    params = {\n",
    "        'n_estimators': 1000,\n",
    "        'learning_rate': 0.01,\n",
    "        'max_depth': max_depth,\n",
    "        'num_leaves': num_leaves,\n",
    "        'boosting_type': 'goss',\n",
    "    }\n",
    "\n",
    "    cv = RepeatedKFold(n_splits=10, n_repeats=3, random_state=1)\n",
    "    scores = cross_val_score(lgb.LGBMRegressor(**params), train_x, train_y, scoring='neg_mean_absolute_error', cv=cv, n_jobs=-1)\n",
    "    # Handle pruning based on the intermediate value.\n",
    "    if trial.should_prune():\n",
    "        # trial prunning \n",
    "        raise optuna.TrialPruned()\n",
    "\n",
    "    return np.mean(scores)\n",
    "\n",
    "study = optuna.create_study(direction='maximize', sampler = TPESampler())\n",
    "study.optimize(objective, n_trials=10)\n",
    "\n",
    "print(\"Number of finished trials: \", len(study.trials))\n",
    "print(\"Best trial:\")\n",
    "trial = study.best_trial\n",
    "print(\"  Value: \", trial.value)\n",
    "print(\"  Params: \")\n",
    "for key, value in trial.params.items():\n",
    "    print(\"    {}: {}\".format(key, value))"
   ]
  },
  {
   "cell_type": "markdown",
   "metadata": {},
   "source": [
    "##"
   ]
  }
 ],
 "metadata": {
  "kernelspec": {
   "display_name": "Python 3",
   "language": "python",
   "name": "python3"
  },
  "language_info": {
   "codemirror_mode": {
    "name": "ipython",
    "version": 3
   },
   "file_extension": ".py",
   "mimetype": "text/x-python",
   "name": "python",
   "nbconvert_exporter": "python",
   "pygments_lexer": "ipython3",
   "version": "3.10.6"
  }
 },
 "nbformat": 4,
 "nbformat_minor": 2
}