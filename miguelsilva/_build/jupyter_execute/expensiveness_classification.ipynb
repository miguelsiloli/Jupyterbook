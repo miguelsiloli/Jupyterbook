{
 "cells": [
  {
   "cell_type": "markdown",
   "metadata": {},
   "source": [
    "# Expensiveness classification (binary classification)\n",
    "\n",
    "The problem scope defines a product as expensive if the product price is above the percentile 85. We predict 1 (True) if product is expensive, 0 (False) if not.\n",
    "\n",
    "$Price_p > Percentile(80)$\n",
    "\n",
    "Naturally, this creates an imbalanced issue on the dataset, since there will be 85% of the data classified as 0."
   ]
  },
  {
   "cell_type": "code",
   "execution_count": 1,
   "metadata": {},
   "outputs": [
    {
     "data": {
      "text/html": [
       "<div>\n",
       "<style scoped>\n",
       "    .dataframe tbody tr th:only-of-type {\n",
       "        vertical-align: middle;\n",
       "    }\n",
       "\n",
       "    .dataframe tbody tr th {\n",
       "        vertical-align: top;\n",
       "    }\n",
       "\n",
       "    .dataframe thead th {\n",
       "        text-align: right;\n",
       "    }\n",
       "</style>\n",
       "<table border=\"1\" class=\"dataframe\">\n",
       "  <thead>\n",
       "    <tr style=\"text-align: right;\">\n",
       "      <th></th>\n",
       "      <th>catalog_id</th>\n",
       "      <th>price_numeric</th>\n",
       "      <th>size_title</th>\n",
       "      <th>brand_title</th>\n",
       "      <th>country</th>\n",
       "      <th>color1</th>\n",
       "      <th>status</th>\n",
       "    </tr>\n",
       "  </thead>\n",
       "  <tbody>\n",
       "    <tr>\n",
       "      <th>0</th>\n",
       "      <td>264</td>\n",
       "      <td>17</td>\n",
       "      <td>M</td>\n",
       "      <td>Uniqlo</td>\n",
       "      <td>França</td>\n",
       "      <td>Cinzento</td>\n",
       "      <td>Muito bom</td>\n",
       "    </tr>\n",
       "    <tr>\n",
       "      <th>1</th>\n",
       "      <td>1204</td>\n",
       "      <td>50</td>\n",
       "      <td>14 anos / 164 cm</td>\n",
       "      <td>Emporio Armani</td>\n",
       "      <td>Italie</td>\n",
       "      <td>Preto</td>\n",
       "      <td>Muito bom</td>\n",
       "    </tr>\n",
       "    <tr>\n",
       "      <th>2</th>\n",
       "      <td>1663</td>\n",
       "      <td>25</td>\n",
       "      <td>12 anos / 152 cm</td>\n",
       "      <td>Fred Perry</td>\n",
       "      <td>Italie</td>\n",
       "      <td>Cinzento</td>\n",
       "      <td>Muito bom</td>\n",
       "    </tr>\n",
       "    <tr>\n",
       "      <th>3</th>\n",
       "      <td>267</td>\n",
       "      <td>25</td>\n",
       "      <td>S</td>\n",
       "      <td>Thrasher</td>\n",
       "      <td>Italie</td>\n",
       "      <td>Cinzento</td>\n",
       "      <td>Bom</td>\n",
       "    </tr>\n",
       "    <tr>\n",
       "      <th>4</th>\n",
       "      <td>1846</td>\n",
       "      <td>10</td>\n",
       "      <td>XS / 34 / 6</td>\n",
       "      <td>Zara</td>\n",
       "      <td>Italie</td>\n",
       "      <td>Preto</td>\n",
       "      <td>Muito bom</td>\n",
       "    </tr>\n",
       "    <tr>\n",
       "      <th>5</th>\n",
       "      <td>1041</td>\n",
       "      <td>6</td>\n",
       "      <td>S / 36 / 8</td>\n",
       "      <td>Zara Trafaluc</td>\n",
       "      <td>Italie</td>\n",
       "      <td>Bordeaux</td>\n",
       "      <td>Muito bom</td>\n",
       "    </tr>\n",
       "    <tr>\n",
       "      <th>6</th>\n",
       "      <td>1041</td>\n",
       "      <td>5</td>\n",
       "      <td>S / 36 / 8</td>\n",
       "      <td>Zara</td>\n",
       "      <td>Italie</td>\n",
       "      <td>Branco</td>\n",
       "      <td>Muito bom</td>\n",
       "    </tr>\n",
       "    <tr>\n",
       "      <th>7</th>\n",
       "      <td>221</td>\n",
       "      <td>5</td>\n",
       "      <td>S / 36 / 8</td>\n",
       "      <td>Bershka</td>\n",
       "      <td>Italie</td>\n",
       "      <td>Branco</td>\n",
       "      <td>Muito bom</td>\n",
       "    </tr>\n",
       "    <tr>\n",
       "      <th>8</th>\n",
       "      <td>1065</td>\n",
       "      <td>15</td>\n",
       "      <td>XS / 34 / 6</td>\n",
       "      <td>Molly Bracken</td>\n",
       "      <td>Italie</td>\n",
       "      <td>Branco</td>\n",
       "      <td>Muito bom</td>\n",
       "    </tr>\n",
       "    <tr>\n",
       "      <th>9</th>\n",
       "      <td>1065</td>\n",
       "      <td>4</td>\n",
       "      <td>XS / 34 / 6</td>\n",
       "      <td>H&amp;M Divided</td>\n",
       "      <td>Italie</td>\n",
       "      <td>Preto</td>\n",
       "      <td>Muito bom</td>\n",
       "    </tr>\n",
       "  </tbody>\n",
       "</table>\n",
       "</div>"
      ],
      "text/plain": [
       "   catalog_id  price_numeric        size_title     brand_title country    color1     status\n",
       "0         264             17                 M          Uniqlo  França  Cinzento  Muito bom\n",
       "1        1204             50  14 anos / 164 cm  Emporio Armani  Italie     Preto  Muito bom\n",
       "2        1663             25  12 anos / 152 cm      Fred Perry  Italie  Cinzento  Muito bom\n",
       "3         267             25                 S        Thrasher  Italie  Cinzento        Bom\n",
       "4        1846             10       XS / 34 / 6            Zara  Italie     Preto  Muito bom\n",
       "5        1041              6        S / 36 / 8   Zara Trafaluc  Italie  Bordeaux  Muito bom\n",
       "6        1041              5        S / 36 / 8            Zara  Italie    Branco  Muito bom\n",
       "7         221              5        S / 36 / 8         Bershka  Italie    Branco  Muito bom\n",
       "8        1065             15       XS / 34 / 6   Molly Bracken  Italie    Branco  Muito bom\n",
       "9        1065              4       XS / 34 / 6     H&M Divided  Italie     Preto  Muito bom"
      ]
     },
     "execution_count": 1,
     "metadata": {},
     "output_type": "execute_result"
    }
   ],
   "source": [
    "import pandas as pd\n",
    "from sqlalchemy import create_engine\n",
    "from sklearn.preprocessing import OrdinalEncoder, OneHotEncoder\n",
    "from sklearn.linear_model import LogisticRegression\n",
    "#import joblib\n",
    "\n",
    "from sklearn.model_selection import cross_validate\n",
    "from sklearn.model_selection import train_test_split, cross_val_predict\n",
    "from sklearn.metrics import ConfusionMatrixDisplay, classification_report\n",
    "from sklearn.metrics import make_scorer, RocCurveDisplay\n",
    "import json\n",
    "\n",
    "import os\n",
    "from skopt import BayesSearchCV\n",
    "from skopt.space import Real\n",
    "\n",
    "#from imblearn.metrics import specificity_score\n",
    "import matplotlib.pyplot as plt\n",
    "import numpy as np \n",
    "\n",
    "def load_credentials(path = \"aws_rds_credentials.json\"):\n",
    "     with open(path, 'r') as file:\n",
    "          config = json.load(file)\n",
    "\n",
    "     # set up credentials\n",
    "     for key in config.keys():\n",
    "          os.environ[key] = config[key]\n",
    "\n",
    "     return\n",
    "\n",
    "time_interval = 90 #days\n",
    "\n",
    "load_credentials()\n",
    "\n",
    "aws_rds_url = f\"postgresql://{os.environ['user']}:{os.environ['password']}@{os.environ['host']}:{os.environ['port']}/{os.environ['database']}?sslmode=require\"\n",
    "\n",
    "engine = create_engine(aws_rds_url)\n",
    "sql_query = f\"\"\"SELECT catalog_id, price_numeric, size_title, brand_title, country, color1, status\n",
    "               FROM public.tracking_staging \n",
    "               WHERE date >= CURRENT_DATE - INTERVAL '{time_interval} days'\n",
    "               LIMIT 10000\n",
    "               \"\"\"\n",
    "data = pd.read_sql(sql_query, engine)\n",
    "data.head(10)"
   ]
  },
  {
   "cell_type": "markdown",
   "metadata": {},
   "source": [
    "## The dataset\n",
    "\n",
    "| Field        | Description                                            |\n",
    "|--------------|--------------------------------------------------------|\n",
    "| catalog_id   | Unique identifier for items in the catalog or database.|\n",
    "| price_numeric| Price of each item stored in numerical format.         |\n",
    "| size_title   | Information about the size or dimensions of the items. |\n",
    "| brand_title  | Brand or manufacturer of each item.                    |\n",
    "| status  | Qaulity status of the item.                    |\n",
    "| color  | Color of the item.                    |\n",
    "| color  | Country origin of the seller.                   |\n",
    "\n",
    "Price numeric doesn't account any discounts from the seller side nor additional fees incurred from the buyer side."
   ]
  },
  {
   "cell_type": "code",
   "execution_count": 2,
   "metadata": {},
   "outputs": [
    {
     "name": "stdout",
     "output_type": "stream",
     "text": [
      "<class 'pandas.core.frame.DataFrame'>\n",
      "RangeIndex: 10000 entries, 0 to 9999\n",
      "Data columns (total 7 columns):\n",
      " #   Column         Non-Null Count  Dtype \n",
      "---  ------         --------------  ----- \n",
      " 0   catalog_id     10000 non-null  int64 \n",
      " 1   price_numeric  10000 non-null  int64 \n",
      " 2   size_title     10000 non-null  object\n",
      " 3   brand_title    10000 non-null  object\n",
      " 4   country        10000 non-null  object\n",
      " 5   color1         8695 non-null   object\n",
      " 6   status         10000 non-null  object\n",
      "dtypes: int64(2), object(5)\n",
      "memory usage: 547.0+ KB\n"
     ]
    }
   ],
   "source": [
    "data.info()"
   ]
  },
  {
   "cell_type": "code",
   "execution_count": 3,
   "metadata": {},
   "outputs": [],
   "source": [
    "# filling color \n",
    "data[\"color1\"] = data[\"color1\"].fillna(\"no_color\")"
   ]
  },
  {
   "cell_type": "markdown",
   "metadata": {},
   "source": [
    "## Preprocessing\n",
    "\n",
    "- remove outliers\n",
    "- define target variable and labels\n",
    "- label encode labels\n",
    "\n",
    "The first assumption of this model is that some sellers misprice their items. For that reason, we are considering some items are price under or above their fair value. Removing such samples should improve the model performance in real data.\n",
    "\n",
    "### One Class SVM for novelty detection\n",
    "\n",
    "One-Class SVMs learn a representation of the \"normal\" data distribution and classify instances outside this representation as anomalies. This characteristic makes them particularly suitable for scenarios where anomalies are rare or poorly represented in the training data. We employ the radial basis function (RBF) kernel due to its ability to capture complex relationships in nonlinear data."
   ]
  },
  {
   "cell_type": "code",
   "execution_count": 4,
   "metadata": {},
   "outputs": [],
   "source": [
    "from sklearn import svm\n",
    "\n",
    "clf = svm.OneClassSVM(nu=0.1, kernel=\"rbf\", gamma=0.1)\n",
    "clf.fit(data[\"price_numeric\"].values.reshape(-1, 1))\n",
    "y_pred_train = clf.predict(data[\"price_numeric\"].values.reshape(-1, 1))\n",
    "data[\"svm\"] = y_pred_train\n",
    "data = data[data[\"svm\"] == 1]"
   ]
  },
  {
   "cell_type": "markdown",
   "metadata": {},
   "source": [
    "## Target variable"
   ]
  },
  {
   "cell_type": "code",
   "execution_count": 5,
   "metadata": {},
   "outputs": [],
   "source": [
    "threshold = 0.80\n",
    "data[\"target\"] = data[\"price_numeric\"].apply(lambda x: 1 if x > data[\"price_numeric\"].quantile(threshold) else 0)"
   ]
  },
  {
   "cell_type": "markdown",
   "metadata": {},
   "source": [
    "## Dealing with class imbalance\n",
    "\n",
    "The method used to deal with class imbalance is through undersampling because we have more than enough data to train the model, otherwise we might have to choose oversampling.\n",
    "\n",
    "This approach aims to balance the class distribution by randomly selecting a subset of instances from the majority class, equalizing the number of instances between the majority and minority classes. Undersampling can be an effective strategy when the dataset is sufficiently large and removing instances from the majority class does not significantly impact the representativeness of the data."
   ]
  },
  {
   "cell_type": "code",
   "execution_count": 6,
   "metadata": {},
   "outputs": [
    {
     "data": {
      "text/html": [
       "<div>\n",
       "<style scoped>\n",
       "    .dataframe tbody tr th:only-of-type {\n",
       "        vertical-align: middle;\n",
       "    }\n",
       "\n",
       "    .dataframe tbody tr th {\n",
       "        vertical-align: top;\n",
       "    }\n",
       "\n",
       "    .dataframe thead th {\n",
       "        text-align: right;\n",
       "    }\n",
       "</style>\n",
       "<table border=\"1\" class=\"dataframe\">\n",
       "  <thead>\n",
       "    <tr style=\"text-align: right;\">\n",
       "      <th></th>\n",
       "      <th>size_title</th>\n",
       "      <th>brand_title</th>\n",
       "      <th>country</th>\n",
       "      <th>color1</th>\n",
       "      <th>status</th>\n",
       "    </tr>\n",
       "  </thead>\n",
       "  <tbody>\n",
       "    <tr>\n",
       "      <th>count</th>\n",
       "      <td>2830</td>\n",
       "      <td>2830</td>\n",
       "      <td>2830</td>\n",
       "      <td>2830</td>\n",
       "      <td>2830</td>\n",
       "    </tr>\n",
       "    <tr>\n",
       "      <th>unique</th>\n",
       "      <td>123</td>\n",
       "      <td>907</td>\n",
       "      <td>28</td>\n",
       "      <td>29</td>\n",
       "      <td>5</td>\n",
       "    </tr>\n",
       "    <tr>\n",
       "      <th>top</th>\n",
       "      <td></td>\n",
       "      <td></td>\n",
       "      <td>France</td>\n",
       "      <td>Preto</td>\n",
       "      <td>Muito bom</td>\n",
       "    </tr>\n",
       "    <tr>\n",
       "      <th>freq</th>\n",
       "      <td>567</td>\n",
       "      <td>450</td>\n",
       "      <td>1301</td>\n",
       "      <td>681</td>\n",
       "      <td>1577</td>\n",
       "    </tr>\n",
       "  </tbody>\n",
       "</table>\n",
       "</div>"
      ],
      "text/plain": [
       "       size_title brand_title country color1     status\n",
       "count        2830        2830    2830   2830       2830\n",
       "unique        123         907      28     29          5\n",
       "top                            France  Preto  Muito bom\n",
       "freq          567         450    1301    681       1577"
      ]
     },
     "execution_count": 6,
     "metadata": {},
     "output_type": "execute_result"
    }
   ],
   "source": [
    "# data balancing\n",
    "def stratified_sampling(group):\n",
    "    return group.sample(min(len(group), target_sample_size), replace=False)\n",
    "\n",
    "# Calculate the target sample size (assuming equal sizes for both classes)\n",
    "target_sample_size = data['target'].value_counts().min()\n",
    "\n",
    "# Apply the stratified sampling using groupby and apply\n",
    "data = data.groupby('target', group_keys=False).apply(stratified_sampling)\n",
    "data.describe(include=object)"
   ]
  },
  {
   "cell_type": "markdown",
   "metadata": {},
   "source": [
    "## Encoding categorical features\n",
    "\n",
    "The choice of encoding of the feature space is:\n",
    "- Ordinal Encoding for status because it's a feature with a natural ranking. Suitable for ordinal categorical variables where there is a clear order or ranking among the categories.\n",
    "- OneHot Encoding for catalog_id, size_title and brand_title into a sparse binary matrix. Creates a binary (0/1) indicator variable for each category in the original variable. It prevents the model from assuming an ordinal relationship between categories."
   ]
  },
  {
   "cell_type": "code",
   "execution_count": 7,
   "metadata": {},
   "outputs": [
    {
     "data": {
      "text/plain": [
       "1584"
      ]
     },
     "execution_count": 7,
     "metadata": {},
     "output_type": "execute_result"
    }
   ],
   "source": [
    "# data transformation prior to training\n",
    "ordinal_encoder = OrdinalEncoder(categories=[[\"Satisfatório\", \"Bom\", \"Muito bom\", \"Novo sem etiquetas\", \"Novo com etiquetas\"]])\n",
    "status = pd.DataFrame(ordinal_encoder\n",
    "                        .fit_transform(data[['status']])\n",
    "                        ).add_prefix(\"status_\")\n",
    "                        \n",
    "status_decoded = ordinal_encoder.get_feature_names_out(input_features= [\"status\"])\n",
    "\n",
    "catalog_onehot_encoder = OneHotEncoder(sparse_output=False)\n",
    "catalog_id = pd.DataFrame(catalog_onehot_encoder\n",
    "                            .fit_transform(data[['catalog_id']])\n",
    "                            ).add_prefix(\"catalog_id_\")\n",
    "\n",
    "catalog_id_decoded = catalog_onehot_encoder.get_feature_names_out(input_features= [\"catalog_id\"])\n",
    "\n",
    "size_onehot_encoder = OneHotEncoder(sparse_output=False)\n",
    "size_title = pd.DataFrame(size_onehot_encoder\n",
    "                            .fit_transform(data[['size_title']])\n",
    "                            ).add_prefix(\"size_title_\")\n",
    "\n",
    "size_decoded = size_onehot_encoder.get_feature_names_out(input_features= [\"size_title\"])\n",
    "\n",
    "brand_onehot_encoder = OneHotEncoder(sparse_output=False)\n",
    "brand_title = pd.DataFrame(brand_onehot_encoder\n",
    "                            .fit_transform(data[['brand_title']])\n",
    "                            ).add_prefix(\"brand_title_\")\n",
    "\n",
    "brand_decoded = brand_onehot_encoder.get_feature_names_out(input_features= [\"brand_title\"])\n",
    "\n",
    "color1_onehot_encoder = OneHotEncoder(sparse_output=False)\n",
    "color1 = pd.DataFrame(color1_onehot_encoder\n",
    "                            .fit_transform(data[['color1']])\n",
    "                            ).add_prefix(\"color1_\")\n",
    "\n",
    "color1_decoded = color1_onehot_encoder.get_feature_names_out(input_features= [\"color1\"])\n",
    "\n",
    "labels = pd.concat([size_title, status, brand_title, catalog_id, color1], axis=1, ignore_index=False)\n",
    "cols = size_decoded.tolist() + status_decoded.tolist() + brand_decoded.tolist() + color1_decoded.tolist()\n",
    "\n",
    "model_params = pd.DataFrame([labels.columns, cols]).T\n",
    "model_params.columns = [\"Labels\", \"Decoded\"]\n",
    "len(model_params)"
   ]
  },
  {
   "cell_type": "markdown",
   "metadata": {},
   "source": [
    "## Model training\n",
    "\n",
    "Training a logistic regression model with hyperparameter tuning using BayesSearchCV. The saga solver is around n_iters*f(n)**n_features and accepts both \"l1\", \"l2\" regularization. The training was done by using the training set to find the optimal \"C\" param and then cross_validation on the training data to optimize the feature weights hyperparams. The classifier is a simple logit regression taking the feature space described above as input vector.\n",
    "\n",
    "### Logistic regression\n",
    "\n",
    "Logistic regression is a popular statistical method used for binary classification tasks, where the goal is to predict the probability that an instance belongs to a particular class.\n",
    "\n",
    "$\\sigma(z) = \\frac{1}{1 + e^{-z}}$\n",
    "\n",
    "and \n",
    "\n",
    "$z = w_0 + w_1x_1 + w_2x_2 + \\ldots + w_nx_n$\n",
    "\n",
    "The decision boundary is p=0.5p=0.5 (standard).\n",
    "\n",
    "### Bayes Optimization\n",
    "A balance between exploration and exploitation\n",
    "\n",
    "Bayesian optimization employs a probabilistic surrogate model to approximate the objective function. Gaussian processes (GP) are commonly used as surrogate models due to their ability to capture uncertainty and model complex functions. It's popular to find (local) in expensive-to-evaluate functions using heurisitics based on bayes theorem.\n",
    "\n",
    "#### Acquisition function\n",
    "\n",
    "The acquisition function guides the search process by balancing exploration (sampling from uncertain regions) and exploitation (sampling from regions likely to contain the optimum). Common acquisition functions include:\n",
    "\n",
    "- Expected Improvement (EI): Measures the expected improvement over the current best value.\n",
    "- Upper Confidence Bound (UCB): Balances exploration and exploitation using confidence intervals.\n",
    "- Probability of Improvement (PI): Measures the probability of improvement over the current best value."
   ]
  },
  {
   "cell_type": "code",
   "execution_count": 8,
   "metadata": {},
   "outputs": [],
   "source": [
    "X_train, X_test, y_train, y_test = train_test_split(labels, data[\"target\"], random_state=42)\n",
    "\n",
    "# complexity nf(n)**n_features\n",
    "lr = LogisticRegression(max_iter=1000, \n",
    "                        solver = 'saga')\n",
    "\n",
    "# parameter space\n",
    "parameters = {'C': Real(1e-1, 1e+1, \n",
    "                        prior='log-uniform')}\n",
    "\n",
    "# Specify scoring metrics\n",
    "# main scoring param has to be defined as \"score\" since scikit is fetching \"mean_test_score\"\n",
    "scoring = {\n",
    "        \"score\" : \"roc_auc\",\n",
    "        \"recall\" : \"recall\",\n",
    "        \"accuracy\" : \"accuracy\",\n",
    "}\n",
    "\n",
    "# Perform hyperparameter tuning with BayesSearchCV over 10 folds with AUC as refit metric.\n",
    "gs_lr = BayesSearchCV(lr, \n",
    "                      parameters, \n",
    "                      cv=10, \n",
    "                      scoring=scoring, \n",
    "                      refit=\"score\", \n",
    "                      n_iter=10, \n",
    "                      return_train_score=True)\n",
    "\n",
    "# We need to fit the BayesSearchCV object to the train data in order to make predictions with the best model later\n",
    "gs_lr.fit(X_train, y_train)"
   ]
  },
  {
   "cell_type": "markdown",
   "metadata": {},
   "source": [
    "### Cross validation\n",
    "\n",
    "The basic idea behind cross-validation is to partition the dataset into multiple subsets, called folds, and iteratively train and evaluate the model on different combinations of these folds. It's basically a bootstrapping of model errors on chunks of the dataset.\n",
    "\n",
    "\n",
    "We take the average results as a better and more consistent estimation of model performance. By averaging performance metrics over multiple folds, cross-validation provides a more reliable estimate of how well the model generalizes to new, unseen data. In alternative, we can identify the one that achieves the best average performance across multiple folds and chose it as the leading model.\n",
    "Lastly, which is not the case here, cross validation helps to assess the stability of model performance and learning across different subsets of the data"
   ]
  },
  {
   "cell_type": "code",
   "execution_count": null,
   "metadata": {},
   "outputs": [],
   "source": [
    "# Run nested cross-validation over 10 folds\n",
    "lr_scores = cross_validate(gs_lr,\n",
    "                        X_test, \n",
    "                        y_test, \n",
    "                        cv=10, \n",
    "                        n_jobs= 1, \n",
    "                        verbose=0,\n",
    "                        return_train_score=True, \n",
    "                        scoring=scoring)\n",
    "\n",
    "lr_scores"
   ]
  },
  {
   "cell_type": "code",
   "execution_count": null,
   "metadata": {},
   "outputs": [],
   "source": [
    "# Make cross-validated predictions \n",
    "lr_preds = cross_val_predict(lr, X_test, y_test, cv=10, n_jobs=-1)"
   ]
  },
  {
   "cell_type": "code",
   "execution_count": null,
   "metadata": {},
   "outputs": [
    {
     "name": "stdout",
     "output_type": "stream",
     "text": [
      "fit_time         : 34.92\n",
      "score_time       : 0.02\n",
      "test_score       : 0.73\n",
      "train_score      : 0.96\n",
      "test_recall      : 0.66\n",
      "train_recall     : 0.90\n",
      "test_accuracy    : 0.68\n",
      "train_accuracy   : 0.90\n",
      "Best model: LogisticRegression(C=1.817975922826725, max_iter=1000, solver='saga')\n",
      "1319\n"
     ]
    }
   ],
   "source": [
    "for score in lr_scores:\n",
    "        print(f\"{score:<17}: {np.mean(lr_scores[score]):.2f}\")\n",
    "\n",
    "best_lr_model = gs_lr.best_estimator_\n",
    "print(f\"Best model: {best_lr_model}\")\n",
    "#print(len(best_lr_model.coef_[0]))"
   ]
  },
  {
   "cell_type": "code",
   "execution_count": null,
   "metadata": {},
   "outputs": [
    {
     "data": {
      "image/png": "[encoded data removed]",
      "text/plain": [
       "<Figure size 400x1000 with 2 Axes>"
      ]
     },
     "metadata": {},
     "output_type": "display_data"
    },
    {
     "data": {
      "image/png": "[encoded data removed]",
      "text/plain": [
       "<Figure size 500x400 with 1 Axes>"
      ]
     },
     "metadata": {},
     "output_type": "display_data"
    }
   ],
   "source": [
    "f, axs = plt.subplots(1, 1, figsize=(4, 10))\n",
    "disp = ConfusionMatrixDisplay.from_predictions(y_test, lr_preds,\n",
    "                                        display_labels=['Not expensive', 'Expensive'],\n",
    "                                        normalize=None,\n",
    "                                        ax=axs)"
   ]
  },
  {
   "cell_type": "code",
   "execution_count": null,
   "metadata": {},
   "outputs": [
    {
     "data": {
      "image/png": "[encoded data removed]",
      "text/plain": [
       "<Figure size 500x400 with 1 Axes>"
      ]
     },
     "metadata": {},
     "output_type": "display_data"
    }
   ],
   "source": [
    "f, axs = plt.subplots(1, 1, figsize=(5, 4))\n",
    "roc = RocCurveDisplay.from_estimator(gs_lr.best_estimator_, X_test, y_test, \n",
    "                               name=\"Logistic Regression\",\n",
    "                               ax=axs)"
   ]
  }
 ],
 "metadata": {
  "kernelspec": {
   "display_name": "Python 3",
   "language": "python",
   "name": "python3"
  },
  "language_info": {
   "codemirror_mode": {
    "name": "ipython",
    "version": 3
   },
   "file_extension": ".py",
   "mimetype": "text/x-python",
   "name": "python",
   "nbconvert_exporter": "python",
   "pygments_lexer": "ipython3",
   "version": "3.10.6"
  }
 },
 "nbformat": 4,
 "nbformat_minor": 2
}